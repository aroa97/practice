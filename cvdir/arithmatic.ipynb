{
 "cells": [
  {
   "cell_type": "code",
   "execution_count": 1,
   "metadata": {},
   "outputs": [],
   "source": [
    "import cv2\n",
    "import numpy as np"
   ]
  },
  {
   "cell_type": "code",
   "execution_count": 2,
   "metadata": {},
   "outputs": [],
   "source": [
    "# ---① 연산에 사용할 배열 생성\n",
    "a = np.uint8([[200, 50]]) \n",
    "b = np.uint8([[100, 100]])"
   ]
  },
  {
   "cell_type": "code",
   "execution_count": 3,
   "metadata": {},
   "outputs": [],
   "source": [
    "#---② NumPy 배열 직접 연산\n",
    "add1 = a + b\n",
    "sub1 = a - b\n",
    "mult1 = a * 2\n",
    "div1 = a / 3\n"
   ]
  },
  {
   "cell_type": "code",
   "execution_count": 4,
   "metadata": {},
   "outputs": [],
   "source": [
    "# ---③ OpenCV API를 이용한 연산\n",
    "add2 = cv2.add(a, b)\n",
    "sub2 = cv2.subtract(a, b)\n",
    "mult2 = cv2.multiply(a , 2)\n",
    "div2 = cv2.divide(a, 3)"
   ]
  },
  {
   "cell_type": "code",
   "execution_count": 5,
   "metadata": {},
   "outputs": [
    {
     "name": "stdout",
     "output_type": "stream",
     "text": [
      "[[ 44 150]] [[255 150]]\n",
      "[[100 206]] [[100   0]]\n",
      "[[144 100]] [[255 100]]\n",
      "[[66.66666667 16.66666667]] [[67 17]]\n"
     ]
    }
   ],
   "source": [
    "#---④ 각 연산 결과 출력\n",
    "print(add1, add2)\n",
    "print(sub1, sub2)\n",
    "print(mult1, mult2)\n",
    "print(div1, div2)"
   ]
  },
  {
   "cell_type": "code",
   "execution_count": null,
   "metadata": {},
   "outputs": [],
   "source": []
  }
 ],
 "metadata": {
  "kernelspec": {
   "display_name": "cv",
   "language": "python",
   "name": "python3"
  },
  "language_info": {
   "codemirror_mode": {
    "name": "ipython",
    "version": 3
   },
   "file_extension": ".py",
   "mimetype": "text/x-python",
   "name": "python",
   "nbconvert_exporter": "python",
   "pygments_lexer": "ipython3",
   "version": "3.9.16"
  }
 },
 "nbformat": 4,
 "nbformat_minor": 2
}
