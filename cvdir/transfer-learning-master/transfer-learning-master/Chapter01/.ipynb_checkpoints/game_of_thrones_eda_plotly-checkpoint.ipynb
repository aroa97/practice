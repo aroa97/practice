{
 "cells": [
  {
   "cell_type": "markdown",
   "metadata": {},
   "source": [
    "<h1 align=\"center\">Exploratory Analysis : Game of Thrones</h1> \n",
    "![Game of Thrones](https://upload.wikimedia.org/wikipedia/en/d/d8/Game_of_Thrones_title_card.jpg)\n",
    "\n",
    "One of the most popular television series of all time, Game of Thrones is a fantasy drama set in fictional continents of Westeros and Essos filled with multiple plots and a huge number of characters all battling for the Iron Throne! It is an adaptation of _Song of Ice and Fire_ novel series by **George R. R. Martin**.\n",
    "\n",
    "Being a popular series, it has caught the attention of many, and Data Scientists aren't to be excluded. This notebook presents **Exploratory Data Analysis (EDA)** on the _Kaggle_ dataset enhanced by _Myles O'Neill_ (more details: [click here](https://www.kaggle.com/mylesoneill/game-of-thrones)). This dataset is based on a combination of multiple datasets collected and contributed by multiple people. We utilize the ```battles.csv``` in this notebook. The original battles data was presented by _Chris Albon_, more details are on [github](https://github.com/chrisalbon/war_of_the_five_kings_dataset)\n",
    "\n",
    "---\n",
    "The image was taken from Game of Thrones, or from websites created and owned by HBO, the copyright of which is held by HBO. All trademarks and registered trademarks present in the image are proprietary to HBO, the inclusion of which implies no affiliation with the Game of Thrones. The use of such images is believed to fall under the fair dealing clause of copyright law."
   ]
  },
  {
   "cell_type": "markdown",
   "metadata": {},
   "source": [
    "## Import required packages"
   ]
  },
  {
   "cell_type": "code",
   "execution_count": 1,
   "metadata": {},
   "outputs": [
    {
     "name": "stderr",
     "output_type": "stream",
     "text": [
      "IOPub data rate exceeded.\n",
      "The notebook server will temporarily stop sending output\n",
      "to the client in order to avoid crashing it.\n",
      "To change this limit, set the config variable\n",
      "`--NotebookApp.iopub_data_rate_limit`.\n"
     ]
    }
   ],
   "source": [
    "import cufflinks as cf\n",
    "\n",
    "import pandas as pd\n",
    "from collections import Counter\n",
    "\n",
    "# pandas display data frames as tables\n",
    "from IPython.display import display, HTML"
   ]
  },
  {
   "cell_type": "markdown",
   "metadata": {},
   "source": [
    "### Set Configurations"
   ]
  },
  {
   "cell_type": "code",
   "execution_count": 2,
   "metadata": {
    "collapsed": true
   },
   "outputs": [],
   "source": [
    "cf.set_config_file(theme='white')"
   ]
  },
  {
   "cell_type": "code",
   "execution_count": 3,
   "metadata": {},
   "outputs": [
    {
     "data": {
      "text/html": [
       "<script>requirejs.config({paths: { 'plotly': ['https://cdn.plot.ly/plotly-latest.min']},});if(!window.Plotly) {{require(['plotly'],function(plotly) {window.Plotly=plotly;});}}</script>"
      ],
      "text/vnd.plotly.v1+html": [
       "<script>requirejs.config({paths: { 'plotly': ['https://cdn.plot.ly/plotly-latest.min']},});if(!window.Plotly) {{require(['plotly'],function(plotly) {window.Plotly=plotly;});}}</script>"
      ]
     },
     "metadata": {},
     "output_type": "display_data"
    }
   ],
   "source": [
    "from plotly.offline import init_notebook_mode, iplot\n",
    "init_notebook_mode(connected=True)"
   ]
  },
  {
   "cell_type": "markdown",
   "metadata": {},
   "source": [
    "## Load Dataset\n",
    "\n",
    "In this step we load the ```battles.csv``` for analysis"
   ]
  },
  {
   "cell_type": "code",
   "execution_count": 4,
   "metadata": {
    "collapsed": true
   },
   "outputs": [],
   "source": [
    "# load dataset using cufflinks wrapper for later usage with plot.ly plots\n",
    "battles_df = cf.pd.read_csv('battles.csv')"
   ]
  },
  {
   "cell_type": "code",
   "execution_count": 5,
   "metadata": {},
   "outputs": [
    {
     "data": {
      "text/html": [
       "<div>\n",
       "<style>\n",
       "    .dataframe thead tr:only-child th {\n",
       "        text-align: right;\n",
       "    }\n",
       "\n",
       "    .dataframe thead th {\n",
       "        text-align: left;\n",
       "    }\n",
       "\n",
       "    .dataframe tbody tr th {\n",
       "        vertical-align: top;\n",
       "    }\n",
       "</style>\n",
       "<table border=\"1\" class=\"dataframe\">\n",
       "  <thead>\n",
       "    <tr style=\"text-align: right;\">\n",
       "      <th></th>\n",
       "      <th>name</th>\n",
       "      <th>year</th>\n",
       "      <th>battle_number</th>\n",
       "      <th>attacker_king</th>\n",
       "      <th>defender_king</th>\n",
       "      <th>attacker_1</th>\n",
       "      <th>attacker_2</th>\n",
       "      <th>attacker_3</th>\n",
       "      <th>attacker_4</th>\n",
       "      <th>defender_1</th>\n",
       "      <th>...</th>\n",
       "      <th>major_death</th>\n",
       "      <th>major_capture</th>\n",
       "      <th>attacker_size</th>\n",
       "      <th>defender_size</th>\n",
       "      <th>attacker_commander</th>\n",
       "      <th>defender_commander</th>\n",
       "      <th>summer</th>\n",
       "      <th>location</th>\n",
       "      <th>region</th>\n",
       "      <th>note</th>\n",
       "    </tr>\n",
       "  </thead>\n",
       "  <tbody>\n",
       "    <tr>\n",
       "      <th>0</th>\n",
       "      <td>Battle of the Golden Tooth</td>\n",
       "      <td>298</td>\n",
       "      <td>1</td>\n",
       "      <td>Joffrey/Tommen Baratheon</td>\n",
       "      <td>Robb Stark</td>\n",
       "      <td>Lannister</td>\n",
       "      <td>NaN</td>\n",
       "      <td>NaN</td>\n",
       "      <td>NaN</td>\n",
       "      <td>Tully</td>\n",
       "      <td>...</td>\n",
       "      <td>1.0</td>\n",
       "      <td>0.0</td>\n",
       "      <td>15000.0</td>\n",
       "      <td>4000.0</td>\n",
       "      <td>Jaime Lannister</td>\n",
       "      <td>Clement Piper, Vance</td>\n",
       "      <td>1.0</td>\n",
       "      <td>Golden Tooth</td>\n",
       "      <td>The Westerlands</td>\n",
       "      <td>NaN</td>\n",
       "    </tr>\n",
       "    <tr>\n",
       "      <th>1</th>\n",
       "      <td>Battle at the Mummer's Ford</td>\n",
       "      <td>298</td>\n",
       "      <td>2</td>\n",
       "      <td>Joffrey/Tommen Baratheon</td>\n",
       "      <td>Robb Stark</td>\n",
       "      <td>Lannister</td>\n",
       "      <td>NaN</td>\n",
       "      <td>NaN</td>\n",
       "      <td>NaN</td>\n",
       "      <td>Baratheon</td>\n",
       "      <td>...</td>\n",
       "      <td>1.0</td>\n",
       "      <td>0.0</td>\n",
       "      <td>NaN</td>\n",
       "      <td>120.0</td>\n",
       "      <td>Gregor Clegane</td>\n",
       "      <td>Beric Dondarrion</td>\n",
       "      <td>1.0</td>\n",
       "      <td>Mummer's Ford</td>\n",
       "      <td>The Riverlands</td>\n",
       "      <td>NaN</td>\n",
       "    </tr>\n",
       "    <tr>\n",
       "      <th>2</th>\n",
       "      <td>Battle of Riverrun</td>\n",
       "      <td>298</td>\n",
       "      <td>3</td>\n",
       "      <td>Joffrey/Tommen Baratheon</td>\n",
       "      <td>Robb Stark</td>\n",
       "      <td>Lannister</td>\n",
       "      <td>NaN</td>\n",
       "      <td>NaN</td>\n",
       "      <td>NaN</td>\n",
       "      <td>Tully</td>\n",
       "      <td>...</td>\n",
       "      <td>0.0</td>\n",
       "      <td>1.0</td>\n",
       "      <td>15000.0</td>\n",
       "      <td>10000.0</td>\n",
       "      <td>Jaime Lannister, Andros Brax</td>\n",
       "      <td>Edmure Tully, Tytos Blackwood</td>\n",
       "      <td>1.0</td>\n",
       "      <td>Riverrun</td>\n",
       "      <td>The Riverlands</td>\n",
       "      <td>NaN</td>\n",
       "    </tr>\n",
       "    <tr>\n",
       "      <th>3</th>\n",
       "      <td>Battle of the Green Fork</td>\n",
       "      <td>298</td>\n",
       "      <td>4</td>\n",
       "      <td>Robb Stark</td>\n",
       "      <td>Joffrey/Tommen Baratheon</td>\n",
       "      <td>Stark</td>\n",
       "      <td>NaN</td>\n",
       "      <td>NaN</td>\n",
       "      <td>NaN</td>\n",
       "      <td>Lannister</td>\n",
       "      <td>...</td>\n",
       "      <td>1.0</td>\n",
       "      <td>1.0</td>\n",
       "      <td>18000.0</td>\n",
       "      <td>20000.0</td>\n",
       "      <td>Roose Bolton, Wylis Manderly, Medger Cerwyn, H...</td>\n",
       "      <td>Tywin Lannister, Gregor Clegane, Kevan Lannist...</td>\n",
       "      <td>1.0</td>\n",
       "      <td>Green Fork</td>\n",
       "      <td>The Riverlands</td>\n",
       "      <td>NaN</td>\n",
       "    </tr>\n",
       "    <tr>\n",
       "      <th>4</th>\n",
       "      <td>Battle of the Whispering Wood</td>\n",
       "      <td>298</td>\n",
       "      <td>5</td>\n",
       "      <td>Robb Stark</td>\n",
       "      <td>Joffrey/Tommen Baratheon</td>\n",
       "      <td>Stark</td>\n",
       "      <td>Tully</td>\n",
       "      <td>NaN</td>\n",
       "      <td>NaN</td>\n",
       "      <td>Lannister</td>\n",
       "      <td>...</td>\n",
       "      <td>1.0</td>\n",
       "      <td>1.0</td>\n",
       "      <td>1875.0</td>\n",
       "      <td>6000.0</td>\n",
       "      <td>Robb Stark, Brynden Tully</td>\n",
       "      <td>Jaime Lannister</td>\n",
       "      <td>1.0</td>\n",
       "      <td>Whispering Wood</td>\n",
       "      <td>The Riverlands</td>\n",
       "      <td>NaN</td>\n",
       "    </tr>\n",
       "  </tbody>\n",
       "</table>\n",
       "<p>5 rows × 25 columns</p>\n",
       "</div>"
      ],
      "text/plain": [
       "                            name  year  battle_number  \\\n",
       "0     Battle of the Golden Tooth   298              1   \n",
       "1    Battle at the Mummer's Ford   298              2   \n",
       "2             Battle of Riverrun   298              3   \n",
       "3       Battle of the Green Fork   298              4   \n",
       "4  Battle of the Whispering Wood   298              5   \n",
       "\n",
       "              attacker_king             defender_king attacker_1 attacker_2  \\\n",
       "0  Joffrey/Tommen Baratheon                Robb Stark  Lannister        NaN   \n",
       "1  Joffrey/Tommen Baratheon                Robb Stark  Lannister        NaN   \n",
       "2  Joffrey/Tommen Baratheon                Robb Stark  Lannister        NaN   \n",
       "3                Robb Stark  Joffrey/Tommen Baratheon      Stark        NaN   \n",
       "4                Robb Stark  Joffrey/Tommen Baratheon      Stark      Tully   \n",
       "\n",
       "  attacker_3 attacker_4 defender_1 ...  major_death  major_capture  \\\n",
       "0        NaN        NaN      Tully ...          1.0            0.0   \n",
       "1        NaN        NaN  Baratheon ...          1.0            0.0   \n",
       "2        NaN        NaN      Tully ...          0.0            1.0   \n",
       "3        NaN        NaN  Lannister ...          1.0            1.0   \n",
       "4        NaN        NaN  Lannister ...          1.0            1.0   \n",
       "\n",
       "   attacker_size defender_size  \\\n",
       "0        15000.0        4000.0   \n",
       "1            NaN         120.0   \n",
       "2        15000.0       10000.0   \n",
       "3        18000.0       20000.0   \n",
       "4         1875.0        6000.0   \n",
       "\n",
       "                                  attacker_commander  \\\n",
       "0                                    Jaime Lannister   \n",
       "1                                     Gregor Clegane   \n",
       "2                       Jaime Lannister, Andros Brax   \n",
       "3  Roose Bolton, Wylis Manderly, Medger Cerwyn, H...   \n",
       "4                          Robb Stark, Brynden Tully   \n",
       "\n",
       "                                  defender_commander  summer         location  \\\n",
       "0                               Clement Piper, Vance     1.0     Golden Tooth   \n",
       "1                                   Beric Dondarrion     1.0    Mummer's Ford   \n",
       "2                      Edmure Tully, Tytos Blackwood     1.0         Riverrun   \n",
       "3  Tywin Lannister, Gregor Clegane, Kevan Lannist...     1.0       Green Fork   \n",
       "4                                    Jaime Lannister     1.0  Whispering Wood   \n",
       "\n",
       "            region note  \n",
       "0  The Westerlands  NaN  \n",
       "1   The Riverlands  NaN  \n",
       "2   The Riverlands  NaN  \n",
       "3   The Riverlands  NaN  \n",
       "4   The Riverlands  NaN  \n",
       "\n",
       "[5 rows x 25 columns]"
      ]
     },
     "metadata": {},
     "output_type": "display_data"
    }
   ],
   "source": [
    "# Display sample rows\n",
    "display(battles_df.head())"
   ]
  },
  {
   "cell_type": "markdown",
   "metadata": {},
   "source": [
    "## Explore raw properties"
   ]
  },
  {
   "cell_type": "code",
   "execution_count": 6,
   "metadata": {},
   "outputs": [
    {
     "name": "stdout",
     "output_type": "stream",
     "text": [
      "Number of attributes available in the dataset = 25\n"
     ]
    }
   ],
   "source": [
    "print(\"Number of attributes available in the dataset = {}\".format(battles_df.shape[1]))"
   ]
  },
  {
   "cell_type": "code",
   "execution_count": 7,
   "metadata": {},
   "outputs": [
    {
     "data": {
      "text/plain": [
       "name                   object\n",
       "year                    int64\n",
       "battle_number           int64\n",
       "attacker_king          object\n",
       "defender_king          object\n",
       "attacker_1             object\n",
       "attacker_2             object\n",
       "attacker_3             object\n",
       "attacker_4             object\n",
       "defender_1             object\n",
       "defender_2             object\n",
       "defender_3            float64\n",
       "defender_4            float64\n",
       "attacker_outcome       object\n",
       "battle_type            object\n",
       "major_death           float64\n",
       "major_capture         float64\n",
       "attacker_size         float64\n",
       "defender_size         float64\n",
       "attacker_commander     object\n",
       "defender_commander     object\n",
       "summer                float64\n",
       "location               object\n",
       "region                 object\n",
       "note                   object\n",
       "dtype: object"
      ]
     },
     "execution_count": 7,
     "metadata": {},
     "output_type": "execute_result"
    }
   ],
   "source": [
    "# View available columns and their data types\n",
    "battles_df.dtypes"
   ]
  },
  {
   "cell_type": "markdown",
   "metadata": {},
   "source": [
    "<h3 align=\"center\">Battles for the Iron Throne</h3> \n",
    "![Throne](https://res.cloudinary.com/beamly/image/upload/s--FJg3Gevq--/c_fill,g_face,q_70,w_479/f_jpg/v1/tvbuzz/sites/7/2015/02/GameofThronesIronThrone.jpg)"
   ]
  },
  {
   "cell_type": "code",
   "execution_count": 8,
   "metadata": {},
   "outputs": [
    {
     "data": {
      "text/html": [
       "<div>\n",
       "<style>\n",
       "    .dataframe thead tr:only-child th {\n",
       "        text-align: right;\n",
       "    }\n",
       "\n",
       "    .dataframe thead th {\n",
       "        text-align: left;\n",
       "    }\n",
       "\n",
       "    .dataframe tbody tr th {\n",
       "        vertical-align: top;\n",
       "    }\n",
       "</style>\n",
       "<table border=\"1\" class=\"dataframe\">\n",
       "  <thead>\n",
       "    <tr style=\"text-align: right;\">\n",
       "      <th></th>\n",
       "      <th>year</th>\n",
       "      <th>battle_number</th>\n",
       "      <th>defender_3</th>\n",
       "      <th>defender_4</th>\n",
       "      <th>major_death</th>\n",
       "      <th>major_capture</th>\n",
       "      <th>attacker_size</th>\n",
       "      <th>defender_size</th>\n",
       "      <th>summer</th>\n",
       "    </tr>\n",
       "  </thead>\n",
       "  <tbody>\n",
       "    <tr>\n",
       "      <th>count</th>\n",
       "      <td>38.000000</td>\n",
       "      <td>38.000000</td>\n",
       "      <td>0.0</td>\n",
       "      <td>0.0</td>\n",
       "      <td>37.000000</td>\n",
       "      <td>37.000000</td>\n",
       "      <td>24.000000</td>\n",
       "      <td>19.000000</td>\n",
       "      <td>37.000000</td>\n",
       "    </tr>\n",
       "    <tr>\n",
       "      <th>mean</th>\n",
       "      <td>299.105263</td>\n",
       "      <td>19.500000</td>\n",
       "      <td>NaN</td>\n",
       "      <td>NaN</td>\n",
       "      <td>0.351351</td>\n",
       "      <td>0.297297</td>\n",
       "      <td>9942.541667</td>\n",
       "      <td>6428.157895</td>\n",
       "      <td>0.702703</td>\n",
       "    </tr>\n",
       "    <tr>\n",
       "      <th>std</th>\n",
       "      <td>0.689280</td>\n",
       "      <td>11.113055</td>\n",
       "      <td>NaN</td>\n",
       "      <td>NaN</td>\n",
       "      <td>0.483978</td>\n",
       "      <td>0.463373</td>\n",
       "      <td>20283.092065</td>\n",
       "      <td>6225.182106</td>\n",
       "      <td>0.463373</td>\n",
       "    </tr>\n",
       "    <tr>\n",
       "      <th>min</th>\n",
       "      <td>298.000000</td>\n",
       "      <td>1.000000</td>\n",
       "      <td>NaN</td>\n",
       "      <td>NaN</td>\n",
       "      <td>0.000000</td>\n",
       "      <td>0.000000</td>\n",
       "      <td>20.000000</td>\n",
       "      <td>100.000000</td>\n",
       "      <td>0.000000</td>\n",
       "    </tr>\n",
       "    <tr>\n",
       "      <th>25%</th>\n",
       "      <td>299.000000</td>\n",
       "      <td>10.250000</td>\n",
       "      <td>NaN</td>\n",
       "      <td>NaN</td>\n",
       "      <td>0.000000</td>\n",
       "      <td>0.000000</td>\n",
       "      <td>1375.000000</td>\n",
       "      <td>1070.000000</td>\n",
       "      <td>0.000000</td>\n",
       "    </tr>\n",
       "    <tr>\n",
       "      <th>50%</th>\n",
       "      <td>299.000000</td>\n",
       "      <td>19.500000</td>\n",
       "      <td>NaN</td>\n",
       "      <td>NaN</td>\n",
       "      <td>0.000000</td>\n",
       "      <td>0.000000</td>\n",
       "      <td>4000.000000</td>\n",
       "      <td>6000.000000</td>\n",
       "      <td>1.000000</td>\n",
       "    </tr>\n",
       "    <tr>\n",
       "      <th>75%</th>\n",
       "      <td>300.000000</td>\n",
       "      <td>28.750000</td>\n",
       "      <td>NaN</td>\n",
       "      <td>NaN</td>\n",
       "      <td>1.000000</td>\n",
       "      <td>1.000000</td>\n",
       "      <td>8250.000000</td>\n",
       "      <td>10000.000000</td>\n",
       "      <td>1.000000</td>\n",
       "    </tr>\n",
       "    <tr>\n",
       "      <th>max</th>\n",
       "      <td>300.000000</td>\n",
       "      <td>38.000000</td>\n",
       "      <td>NaN</td>\n",
       "      <td>NaN</td>\n",
       "      <td>1.000000</td>\n",
       "      <td>1.000000</td>\n",
       "      <td>100000.000000</td>\n",
       "      <td>20000.000000</td>\n",
       "      <td>1.000000</td>\n",
       "    </tr>\n",
       "  </tbody>\n",
       "</table>\n",
       "</div>"
      ],
      "text/plain": [
       "             year  battle_number  defender_3  defender_4  major_death  \\\n",
       "count   38.000000      38.000000         0.0         0.0    37.000000   \n",
       "mean   299.105263      19.500000         NaN         NaN     0.351351   \n",
       "std      0.689280      11.113055         NaN         NaN     0.483978   \n",
       "min    298.000000       1.000000         NaN         NaN     0.000000   \n",
       "25%    299.000000      10.250000         NaN         NaN     0.000000   \n",
       "50%    299.000000      19.500000         NaN         NaN     0.000000   \n",
       "75%    300.000000      28.750000         NaN         NaN     1.000000   \n",
       "max    300.000000      38.000000         NaN         NaN     1.000000   \n",
       "\n",
       "       major_capture  attacker_size  defender_size     summer  \n",
       "count      37.000000      24.000000      19.000000  37.000000  \n",
       "mean        0.297297    9942.541667    6428.157895   0.702703  \n",
       "std         0.463373   20283.092065    6225.182106   0.463373  \n",
       "min         0.000000      20.000000     100.000000   0.000000  \n",
       "25%         0.000000    1375.000000    1070.000000   0.000000  \n",
       "50%         0.000000    4000.000000    6000.000000   1.000000  \n",
       "75%         1.000000    8250.000000   10000.000000   1.000000  \n",
       "max         1.000000  100000.000000   20000.000000   1.000000  "
      ]
     },
     "execution_count": 8,
     "metadata": {},
     "output_type": "execute_result"
    }
   ],
   "source": [
    "# Analyze properties of numerical columns\n",
    "battles_df.describe()"
   ]
  },
  {
   "cell_type": "markdown",
   "metadata": {},
   "source": [
    "---"
   ]
  },
  {
   "cell_type": "markdown",
   "metadata": {},
   "source": [
    "## Number of Battles Fought\n",
    "This data is till **season 5** only"
   ]
  },
  {
   "cell_type": "code",
   "execution_count": 9,
   "metadata": {},
   "outputs": [
    {
     "name": "stdout",
     "output_type": "stream",
     "text": [
      "Number of battles fought=38\n"
     ]
    }
   ],
   "source": [
    "print(\"Number of battles fought={}\".format(battles_df.shape[0]))"
   ]
  },
  {
   "cell_type": "markdown",
   "metadata": {},
   "source": [
    "## Battle Distribution Across Years\n",
    "The plot below shows that maximum bloodshed happened in the year 299 with a total of 20 battles fought!"
   ]
  },
  {
   "cell_type": "code",
   "execution_count": 10,
   "metadata": {},
   "outputs": [
    {
     "data": {
      "application/vnd.plotly.v1+json": {
       "data": [
        {
         "marker": {
          "color": "rgba(255, 153, 51, 0.6)",
          "line": {
           "color": "rgba(255, 153, 51, 1.0)",
           "width": 1
          }
         },
         "name": "year",
         "orientation": "h",
         "text": "",
         "type": "bar",
         "x": [
          20,
          11,
          7
         ],
         "y": [
          299,
          300,
          298
         ]
        }
       ],
       "layout": {
        "legend": {
         "bgcolor": "#FFFFFF",
         "font": {
          "color": "#4D5663"
         }
        },
        "paper_bgcolor": "#FFFFFF",
        "plot_bgcolor": "#FFFFFF",
        "title": "Battle Distribution over Years",
        "titlefont": {
         "color": "#4D5663"
        },
        "xaxis1": {
         "gridcolor": "#E1E5ED",
         "showgrid": true,
         "showline": true,
         "tickfont": {
          "color": "#4D5663"
         },
         "title": "Number of Battles",
         "titlefont": {
          "color": "#4D5663"
         },
         "zerolinecolor": "#E1E5ED"
        },
        "yaxis1": {
         "gridcolor": "#E1E5ED",
         "showgrid": true,
         "showline": true,
         "tickfont": {
          "color": "#4D5663"
         },
         "title": "Year",
         "titlefont": {
          "color": "#4D5663"
         },
         "zerolinecolor": "#E1E5ED"
        }
       }
      },
      "text/html": [
       "<div id=\"bf56a862-c227-432c-ac79-c8f2266d594d\" style=\"height: 525px; width: 100%;\" class=\"plotly-graph-div\"></div><script type=\"text/javascript\">require([\"plotly\"], function(Plotly) { window.PLOTLYENV=window.PLOTLYENV || {};window.PLOTLYENV.BASE_URL=\"https://plot.ly\";Plotly.newPlot(\"bf56a862-c227-432c-ac79-c8f2266d594d\", [{\"x\": [20, 11, 7], \"name\": \"year\", \"y\": [299, 300, 298], \"orientation\": \"h\", \"marker\": {\"color\": \"rgba(255, 153, 51, 0.6)\", \"line\": {\"width\": 1, \"color\": \"rgba(255, 153, 51, 1.0)\"}}, \"type\": \"bar\", \"text\": \"\"}], {\"title\": \"Battle Distribution over Years\", \"paper_bgcolor\": \"#FFFFFF\", \"titlefont\": {\"color\": \"#4D5663\"}, \"xaxis1\": {\"tickfont\": {\"color\": \"#4D5663\"}, \"title\": \"Number of Battles\", \"titlefont\": {\"color\": \"#4D5663\"}, \"showline\": true, \"showgrid\": true, \"zerolinecolor\": \"#E1E5ED\", \"gridcolor\": \"#E1E5ED\"}, \"legend\": {\"font\": {\"color\": \"#4D5663\"}, \"bgcolor\": \"#FFFFFF\"}, \"yaxis1\": {\"tickfont\": {\"color\": \"#4D5663\"}, \"title\": \"Year\", \"titlefont\": {\"color\": \"#4D5663\"}, \"showline\": true, \"showgrid\": true, \"zerolinecolor\": \"#E1E5ED\", \"gridcolor\": \"#E1E5ED\"}, \"plot_bgcolor\": \"#FFFFFF\"}, {\"showLink\": true, \"linkText\": \"Export to plot.ly\"})});</script>"
      ],
      "text/vnd.plotly.v1+html": [
       "<div id=\"bf56a862-c227-432c-ac79-c8f2266d594d\" style=\"height: 525px; width: 100%;\" class=\"plotly-graph-div\"></div><script type=\"text/javascript\">require([\"plotly\"], function(Plotly) { window.PLOTLYENV=window.PLOTLYENV || {};window.PLOTLYENV.BASE_URL=\"https://plot.ly\";Plotly.newPlot(\"bf56a862-c227-432c-ac79-c8f2266d594d\", [{\"x\": [20, 11, 7], \"name\": \"year\", \"y\": [299, 300, 298], \"orientation\": \"h\", \"marker\": {\"color\": \"rgba(255, 153, 51, 0.6)\", \"line\": {\"width\": 1, \"color\": \"rgba(255, 153, 51, 1.0)\"}}, \"type\": \"bar\", \"text\": \"\"}], {\"title\": \"Battle Distribution over Years\", \"paper_bgcolor\": \"#FFFFFF\", \"titlefont\": {\"color\": \"#4D5663\"}, \"xaxis1\": {\"tickfont\": {\"color\": \"#4D5663\"}, \"title\": \"Number of Battles\", \"titlefont\": {\"color\": \"#4D5663\"}, \"showline\": true, \"showgrid\": true, \"zerolinecolor\": \"#E1E5ED\", \"gridcolor\": \"#E1E5ED\"}, \"legend\": {\"font\": {\"color\": \"#4D5663\"}, \"bgcolor\": \"#FFFFFF\"}, \"yaxis1\": {\"tickfont\": {\"color\": \"#4D5663\"}, \"title\": \"Year\", \"titlefont\": {\"color\": \"#4D5663\"}, \"showline\": true, \"showgrid\": true, \"zerolinecolor\": \"#E1E5ED\", \"gridcolor\": \"#E1E5ED\"}, \"plot_bgcolor\": \"#FFFFFF\"}, {\"showLink\": true, \"linkText\": \"Export to plot.ly\"})});</script>"
      ]
     },
     "metadata": {},
     "output_type": "display_data"
    }
   ],
   "source": [
    "battles_df.year.value_counts().iplot(kind='barh',\n",
    "                                    xTitle='Number of Battles',\n",
    "                                    yTitle='Year',\n",
    "                                    title='Battle Distribution over Years',\n",
    "                                    showline=True)"
   ]
  },
  {
   "cell_type": "markdown",
   "metadata": {},
   "source": [
    "## Which Regions saw most Battles?\n",
    "<img src=\"https://racefortheironthrone.files.wordpress.com/2016/11/riverlands-political-map.jpg?w=580&h=781\" alt=\"RiverLands\" style=\"width: 200px;\" align=\"left\"/> **Riverland**s seem to be the favorite battle ground followed by the famous **The North**. Interestingly, till season 5, there was only 1 battle beyond the wall. Spoiler Alert: Winter is Coming!"
   ]
  },
  {
   "cell_type": "code",
   "execution_count": 11,
   "metadata": {},
   "outputs": [
    {
     "data": {
      "application/vnd.plotly.v1+json": {
       "data": [
        {
         "marker": {
          "color": "rgba(255, 153, 51, 0.6)",
          "line": {
           "color": "rgba(255, 153, 51, 1.0)",
           "width": 1
          }
         },
         "name": "region",
         "orientation": "v",
         "text": "",
         "type": "bar",
         "x": [
          "The Riverlands",
          "The North",
          "The Stormlands",
          "The Westerlands",
          "The Crownlands",
          "The Reach",
          "Beyond the Wall"
         ],
         "y": [
          17,
          10,
          3,
          3,
          2,
          2,
          1
         ]
        }
       ],
       "layout": {
        "legend": {
         "bgcolor": "#FFFFFF",
         "font": {
          "color": "#4D5663"
         }
        },
        "paper_bgcolor": "#FFFFFF",
        "plot_bgcolor": "#FFFFFF",
        "title": "Battles by Regions",
        "titlefont": {
         "color": "#4D5663"
        },
        "xaxis1": {
         "gridcolor": "#E1E5ED",
         "showgrid": true,
         "showline": true,
         "tickfont": {
          "color": "#4D5663"
         },
         "title": "Regions",
         "titlefont": {
          "color": "#4D5663"
         },
         "zerolinecolor": "#E1E5ED"
        },
        "yaxis1": {
         "gridcolor": "#E1E5ED",
         "showgrid": true,
         "showline": true,
         "tickfont": {
          "color": "#4D5663"
         },
         "title": "Number of Battles",
         "titlefont": {
          "color": "#4D5663"
         },
         "zerolinecolor": "#E1E5ED"
        }
       }
      },
      "text/html": [
       "<div id=\"719547b7-bec6-4298-acb5-354c0f4ac8c0\" style=\"height: 525px; width: 100%;\" class=\"plotly-graph-div\"></div><script type=\"text/javascript\">require([\"plotly\"], function(Plotly) { window.PLOTLYENV=window.PLOTLYENV || {};window.PLOTLYENV.BASE_URL=\"https://plot.ly\";Plotly.newPlot(\"719547b7-bec6-4298-acb5-354c0f4ac8c0\", [{\"x\": [\"The Riverlands\", \"The North\", \"The Stormlands\", \"The Westerlands\", \"The Crownlands\", \"The Reach\", \"Beyond the Wall\"], \"name\": \"region\", \"y\": [17, 10, 3, 3, 2, 2, 1], \"orientation\": \"v\", \"marker\": {\"color\": \"rgba(255, 153, 51, 0.6)\", \"line\": {\"width\": 1, \"color\": \"rgba(255, 153, 51, 1.0)\"}}, \"type\": \"bar\", \"text\": \"\"}], {\"title\": \"Battles by Regions\", \"paper_bgcolor\": \"#FFFFFF\", \"titlefont\": {\"color\": \"#4D5663\"}, \"xaxis1\": {\"tickfont\": {\"color\": \"#4D5663\"}, \"title\": \"Regions\", \"titlefont\": {\"color\": \"#4D5663\"}, \"showline\": true, \"showgrid\": true, \"zerolinecolor\": \"#E1E5ED\", \"gridcolor\": \"#E1E5ED\"}, \"legend\": {\"font\": {\"color\": \"#4D5663\"}, \"bgcolor\": \"#FFFFFF\"}, \"yaxis1\": {\"tickfont\": {\"color\": \"#4D5663\"}, \"title\": \"Number of Battles\", \"titlefont\": {\"color\": \"#4D5663\"}, \"showline\": true, \"showgrid\": true, \"zerolinecolor\": \"#E1E5ED\", \"gridcolor\": \"#E1E5ED\"}, \"plot_bgcolor\": \"#FFFFFF\"}, {\"showLink\": true, \"linkText\": \"Export to plot.ly\"})});</script>"
      ],
      "text/vnd.plotly.v1+html": [
       "<div id=\"719547b7-bec6-4298-acb5-354c0f4ac8c0\" style=\"height: 525px; width: 100%;\" class=\"plotly-graph-div\"></div><script type=\"text/javascript\">require([\"plotly\"], function(Plotly) { window.PLOTLYENV=window.PLOTLYENV || {};window.PLOTLYENV.BASE_URL=\"https://plot.ly\";Plotly.newPlot(\"719547b7-bec6-4298-acb5-354c0f4ac8c0\", [{\"x\": [\"The Riverlands\", \"The North\", \"The Stormlands\", \"The Westerlands\", \"The Crownlands\", \"The Reach\", \"Beyond the Wall\"], \"name\": \"region\", \"y\": [17, 10, 3, 3, 2, 2, 1], \"orientation\": \"v\", \"marker\": {\"color\": \"rgba(255, 153, 51, 0.6)\", \"line\": {\"width\": 1, \"color\": \"rgba(255, 153, 51, 1.0)\"}}, \"type\": \"bar\", \"text\": \"\"}], {\"title\": \"Battles by Regions\", \"paper_bgcolor\": \"#FFFFFF\", \"titlefont\": {\"color\": \"#4D5663\"}, \"xaxis1\": {\"tickfont\": {\"color\": \"#4D5663\"}, \"title\": \"Regions\", \"titlefont\": {\"color\": \"#4D5663\"}, \"showline\": true, \"showgrid\": true, \"zerolinecolor\": \"#E1E5ED\", \"gridcolor\": \"#E1E5ED\"}, \"legend\": {\"font\": {\"color\": \"#4D5663\"}, \"bgcolor\": \"#FFFFFF\"}, \"yaxis1\": {\"tickfont\": {\"color\": \"#4D5663\"}, \"title\": \"Number of Battles\", \"titlefont\": {\"color\": \"#4D5663\"}, \"showline\": true, \"showgrid\": true, \"zerolinecolor\": \"#E1E5ED\", \"gridcolor\": \"#E1E5ED\"}, \"plot_bgcolor\": \"#FFFFFF\"}, {\"showLink\": true, \"linkText\": \"Export to plot.ly\"})});</script>"
      ]
     },
     "metadata": {},
     "output_type": "display_data"
    }
   ],
   "source": [
    "battles_df.region.value_counts().iplot(kind='bar',\n",
    "                                    xTitle='Regions',\n",
    "                                    yTitle='Number of Battles',\n",
    "                                    title='Battles by Regions',\n",
    "                                    showline=True)"
   ]
  },
  {
   "cell_type": "markdown",
   "metadata": {},
   "source": [
    "### Death or Capture of Main Characters by Region"
   ]
  },
  {
   "cell_type": "markdown",
   "metadata": {},
   "source": [
    "No prizes for guessing that Riverlands have seen some of the main characters being killed or captured. Though _The Reach_ has seen 2 battles, none of the major characters seemed to have fallen there."
   ]
  },
  {
   "cell_type": "code",
   "execution_count": 12,
   "metadata": {},
   "outputs": [
    {
     "data": {
      "application/vnd.plotly.v1+json": {
       "data": [
        {
         "marker": {
          "color": "rgba(255, 153, 51, 0.6)",
          "line": {
           "color": "rgba(255, 153, 51, 1.0)",
           "width": 1
          }
         },
         "name": "major_capture",
         "orientation": "v",
         "text": "",
         "type": "bar",
         "x": [
          "Beyond the Wall",
          "The Crownlands",
          "The North",
          "The Reach",
          "The Riverlands",
          "The Stormlands",
          "The Westerlands"
         ],
         "y": [
          1,
          1,
          2,
          0,
          6,
          0,
          1
         ]
        },
        {
         "marker": {
          "color": "rgba(55, 128, 191, 0.6)",
          "line": {
           "color": "rgba(55, 128, 191, 1.0)",
           "width": 1
          }
         },
         "name": "major_death",
         "orientation": "v",
         "text": "",
         "type": "bar",
         "x": [
          "Beyond the Wall",
          "The Crownlands",
          "The North",
          "The Reach",
          "The Riverlands",
          "The Stormlands",
          "The Westerlands"
         ],
         "y": [
          1,
          2,
          1,
          0,
          6,
          1,
          2
         ]
        }
       ],
       "layout": {
        "legend": {
         "bgcolor": "#FFFFFF",
         "font": {
          "color": "#4D5663"
         }
        },
        "paper_bgcolor": "#FFFFFF",
        "plot_bgcolor": "#FFFFFF",
        "titlefont": {
         "color": "#4D5663"
        },
        "xaxis1": {
         "gridcolor": "#E1E5ED",
         "showgrid": true,
         "tickfont": {
          "color": "#4D5663"
         },
         "title": "",
         "titlefont": {
          "color": "#4D5663"
         },
         "zerolinecolor": "#E1E5ED"
        },
        "yaxis1": {
         "gridcolor": "#E1E5ED",
         "showgrid": true,
         "tickfont": {
          "color": "#4D5663"
         },
         "title": "",
         "titlefont": {
          "color": "#4D5663"
         },
         "zerolinecolor": "#E1E5ED"
        }
       }
      },
      "text/html": [
       "<div id=\"f25575cf-7abb-4f4f-90a7-9876517f0b3d\" style=\"height: 525px; width: 100%;\" class=\"plotly-graph-div\"></div><script type=\"text/javascript\">require([\"plotly\"], function(Plotly) { window.PLOTLYENV=window.PLOTLYENV || {};window.PLOTLYENV.BASE_URL=\"https://plot.ly\";Plotly.newPlot(\"f25575cf-7abb-4f4f-90a7-9876517f0b3d\", [{\"x\": [\"Beyond the Wall\", \"The Crownlands\", \"The North\", \"The Reach\", \"The Riverlands\", \"The Stormlands\", \"The Westerlands\"], \"name\": \"major_capture\", \"y\": [1.0, 1.0, 2.0, 0.0, 6.0, 0.0, 1.0], \"orientation\": \"v\", \"marker\": {\"color\": \"rgba(255, 153, 51, 0.6)\", \"line\": {\"width\": 1, \"color\": \"rgba(255, 153, 51, 1.0)\"}}, \"type\": \"bar\", \"text\": \"\"}, {\"x\": [\"Beyond the Wall\", \"The Crownlands\", \"The North\", \"The Reach\", \"The Riverlands\", \"The Stormlands\", \"The Westerlands\"], \"name\": \"major_death\", \"y\": [1.0, 2.0, 1.0, 0.0, 6.0, 1.0, 2.0], \"orientation\": \"v\", \"marker\": {\"color\": \"rgba(55, 128, 191, 0.6)\", \"line\": {\"width\": 1, \"color\": \"rgba(55, 128, 191, 1.0)\"}}, \"type\": \"bar\", \"text\": \"\"}], {\"paper_bgcolor\": \"#FFFFFF\", \"titlefont\": {\"color\": \"#4D5663\"}, \"xaxis1\": {\"title\": \"\", \"zerolinecolor\": \"#E1E5ED\", \"tickfont\": {\"color\": \"#4D5663\"}, \"showgrid\": true, \"titlefont\": {\"color\": \"#4D5663\"}, \"gridcolor\": \"#E1E5ED\"}, \"legend\": {\"font\": {\"color\": \"#4D5663\"}, \"bgcolor\": \"#FFFFFF\"}, \"yaxis1\": {\"title\": \"\", \"zerolinecolor\": \"#E1E5ED\", \"tickfont\": {\"color\": \"#4D5663\"}, \"showgrid\": true, \"titlefont\": {\"color\": \"#4D5663\"}, \"gridcolor\": \"#E1E5ED\"}, \"plot_bgcolor\": \"#FFFFFF\"}, {\"showLink\": true, \"linkText\": \"Export to plot.ly\"})});</script>"
      ],
      "text/vnd.plotly.v1+html": [
       "<div id=\"f25575cf-7abb-4f4f-90a7-9876517f0b3d\" style=\"height: 525px; width: 100%;\" class=\"plotly-graph-div\"></div><script type=\"text/javascript\">require([\"plotly\"], function(Plotly) { window.PLOTLYENV=window.PLOTLYENV || {};window.PLOTLYENV.BASE_URL=\"https://plot.ly\";Plotly.newPlot(\"f25575cf-7abb-4f4f-90a7-9876517f0b3d\", [{\"x\": [\"Beyond the Wall\", \"The Crownlands\", \"The North\", \"The Reach\", \"The Riverlands\", \"The Stormlands\", \"The Westerlands\"], \"name\": \"major_capture\", \"y\": [1.0, 1.0, 2.0, 0.0, 6.0, 0.0, 1.0], \"orientation\": \"v\", \"marker\": {\"color\": \"rgba(255, 153, 51, 0.6)\", \"line\": {\"width\": 1, \"color\": \"rgba(255, 153, 51, 1.0)\"}}, \"type\": \"bar\", \"text\": \"\"}, {\"x\": [\"Beyond the Wall\", \"The Crownlands\", \"The North\", \"The Reach\", \"The Riverlands\", \"The Stormlands\", \"The Westerlands\"], \"name\": \"major_death\", \"y\": [1.0, 2.0, 1.0, 0.0, 6.0, 1.0, 2.0], \"orientation\": \"v\", \"marker\": {\"color\": \"rgba(55, 128, 191, 0.6)\", \"line\": {\"width\": 1, \"color\": \"rgba(55, 128, 191, 1.0)\"}}, \"type\": \"bar\", \"text\": \"\"}], {\"paper_bgcolor\": \"#FFFFFF\", \"titlefont\": {\"color\": \"#4D5663\"}, \"xaxis1\": {\"title\": \"\", \"zerolinecolor\": \"#E1E5ED\", \"tickfont\": {\"color\": \"#4D5663\"}, \"showgrid\": true, \"titlefont\": {\"color\": \"#4D5663\"}, \"gridcolor\": \"#E1E5ED\"}, \"legend\": {\"font\": {\"color\": \"#4D5663\"}, \"bgcolor\": \"#FFFFFF\"}, \"yaxis1\": {\"title\": \"\", \"zerolinecolor\": \"#E1E5ED\", \"tickfont\": {\"color\": \"#4D5663\"}, \"showgrid\": true, \"titlefont\": {\"color\": \"#4D5663\"}, \"gridcolor\": \"#E1E5ED\"}, \"plot_bgcolor\": \"#FFFFFF\"}, {\"showLink\": true, \"linkText\": \"Export to plot.ly\"})});</script>"
      ]
     },
     "metadata": {},
     "output_type": "display_data"
    }
   ],
   "source": [
    "battles_df.groupby('region').agg({'major_death':'sum',\n",
    "                                  'major_capture':'sum'}).iplot(kind='bar')"
   ]
  },
  {
   "cell_type": "markdown",
   "metadata": {},
   "source": [
    "## Who Attacked the most?\n",
    "The Baratheon boys love attacking as they lead the pack with 38% while Rob Stark has been the attacker in close second with 27.8% of the battles.\n",
    "\n",
    "<img src=\"http://vignette3.wikia.nocookie.net/gameofthrones/images/4/4c/JoffreyBaratheon-Profile.PNG/revision/latest?cb=20160626094917\" alt=\"joffrey\" style=\"width: 200px;\" align=\"left\"/>  <img src=\"https://meninblazers.com/.image/t_share/MTMwMDE5NTU4NTI5NDk1MDEw/tumblr_mkzsdafejy1r2xls3o1_400.png\" alt=\"robb\" style=\"width: 200px; height: 200px\" align=\"right\"/>"
   ]
  },
  {
   "cell_type": "code",
   "execution_count": 13,
   "metadata": {},
   "outputs": [
    {
     "data": {
      "application/vnd.plotly.v1+json": {
       "data": [
        {
         "labels": [
          "Joffrey/Tommen Baratheon",
          "Robb Stark",
          "Balon/Euron Greyjoy",
          "Stannis Baratheon"
         ],
         "marker": {
          "colors": [
           "rgba(255, 153, 51, 1.0)",
           "rgba(55, 128, 191, 1.0)",
           "rgba(50, 171, 96, 1.0)",
           "rgba(128, 0, 128, 1.0)"
          ]
         },
         "name": "",
         "type": "pie",
         "values": [
          14,
          10,
          7,
          5
         ]
        }
       ],
       "layout": {
        "legend": {
         "bgcolor": "#FFFFFF",
         "font": {
          "color": "#4D5663"
         }
        },
        "paper_bgcolor": "#FFFFFF",
        "plot_bgcolor": "#FFFFFF",
        "titlefont": {
         "color": "#4D5663"
        }
       }
      },
      "text/html": [
       "<div id=\"3d12ce83-ec37-4ba2-bdea-b67318869303\" style=\"height: 525px; width: 100%;\" class=\"plotly-graph-div\"></div><script type=\"text/javascript\">require([\"plotly\"], function(Plotly) { window.PLOTLYENV=window.PLOTLYENV || {};window.PLOTLYENV.BASE_URL=\"https://plot.ly\";Plotly.newPlot(\"3d12ce83-ec37-4ba2-bdea-b67318869303\", [{\"values\": [14, 10, 7, 5], \"name\": \"\", \"type\": \"pie\", \"labels\": [\"Joffrey/Tommen Baratheon\", \"Robb Stark\", \"Balon/Euron Greyjoy\", \"Stannis Baratheon\"], \"marker\": {\"colors\": [\"rgba(255, 153, 51, 1.0)\", \"rgba(55, 128, 191, 1.0)\", \"rgba(50, 171, 96, 1.0)\", \"rgba(128, 0, 128, 1.0)\"]}}], {\"paper_bgcolor\": \"#FFFFFF\", \"titlefont\": {\"color\": \"#4D5663\"}, \"legend\": {\"font\": {\"color\": \"#4D5663\"}, \"bgcolor\": \"#FFFFFF\"}, \"plot_bgcolor\": \"#FFFFFF\"}, {\"showLink\": true, \"linkText\": \"Export to plot.ly\"})});</script>"
      ],
      "text/vnd.plotly.v1+html": [
       "<div id=\"3d12ce83-ec37-4ba2-bdea-b67318869303\" style=\"height: 525px; width: 100%;\" class=\"plotly-graph-div\"></div><script type=\"text/javascript\">require([\"plotly\"], function(Plotly) { window.PLOTLYENV=window.PLOTLYENV || {};window.PLOTLYENV.BASE_URL=\"https://plot.ly\";Plotly.newPlot(\"3d12ce83-ec37-4ba2-bdea-b67318869303\", [{\"values\": [14, 10, 7, 5], \"name\": \"\", \"type\": \"pie\", \"labels\": [\"Joffrey/Tommen Baratheon\", \"Robb Stark\", \"Balon/Euron Greyjoy\", \"Stannis Baratheon\"], \"marker\": {\"colors\": [\"rgba(255, 153, 51, 1.0)\", \"rgba(55, 128, 191, 1.0)\", \"rgba(50, 171, 96, 1.0)\", \"rgba(128, 0, 128, 1.0)\"]}}], {\"paper_bgcolor\": \"#FFFFFF\", \"titlefont\": {\"color\": \"#4D5663\"}, \"legend\": {\"font\": {\"color\": \"#4D5663\"}, \"bgcolor\": \"#FFFFFF\"}, \"plot_bgcolor\": \"#FFFFFF\"}, {\"showLink\": true, \"linkText\": \"Export to plot.ly\"})});</script>"
      ]
     },
     "metadata": {},
     "output_type": "display_data"
    }
   ],
   "source": [
    "king_attacked = battles_df.attacker_king.value_counts().reset_index()\n",
    "king_attacked.rename(columns={'index':'king','attacker_king':'battle_count'},inplace=True)\n",
    "king_attacked.iplot(kind='pie',labels='king',values='battle_count')"
   ]
  },
  {
   "cell_type": "markdown",
   "metadata": {},
   "source": [
    "## Who Defended the most?\n",
    "Rob Stark and Baratheon boys are again on the top of the pack. Looks like they have been on either sides of the war lot many times."
   ]
  },
  {
   "cell_type": "code",
   "execution_count": 14,
   "metadata": {},
   "outputs": [
    {
     "data": {
      "application/vnd.plotly.v1+json": {
       "data": [
        {
         "labels": [
          "Robb Stark",
          "Joffrey/Tommen Baratheon",
          "Balon/Euron Greyjoy",
          "Stannis Baratheon",
          "Mance Rayder",
          "Renly Baratheon"
         ],
         "marker": {
          "colors": [
           "rgba(255, 153, 51, 1.0)",
           "rgba(55, 128, 191, 1.0)",
           "rgba(50, 171, 96, 1.0)",
           "rgba(128, 0, 128, 1.0)",
           "rgba(219, 64, 82, 1.0)",
           "rgba(0, 128, 128, 1.0)"
          ]
         },
         "name": "",
         "type": "pie",
         "values": [
          14,
          13,
          4,
          2,
          1,
          1
         ]
        }
       ],
       "layout": {
        "legend": {
         "bgcolor": "#FFFFFF",
         "font": {
          "color": "#4D5663"
         }
        },
        "paper_bgcolor": "#FFFFFF",
        "plot_bgcolor": "#FFFFFF",
        "titlefont": {
         "color": "#4D5663"
        }
       }
      },
      "text/html": [
       "<div id=\"6068c145-172a-4b3e-b9f2-4ea1f8607dd7\" style=\"height: 525px; width: 100%;\" class=\"plotly-graph-div\"></div><script type=\"text/javascript\">require([\"plotly\"], function(Plotly) { window.PLOTLYENV=window.PLOTLYENV || {};window.PLOTLYENV.BASE_URL=\"https://plot.ly\";Plotly.newPlot(\"6068c145-172a-4b3e-b9f2-4ea1f8607dd7\", [{\"values\": [14, 13, 4, 2, 1, 1], \"name\": \"\", \"type\": \"pie\", \"labels\": [\"Robb Stark\", \"Joffrey/Tommen Baratheon\", \"Balon/Euron Greyjoy\", \"Stannis Baratheon\", \"Mance Rayder\", \"Renly Baratheon\"], \"marker\": {\"colors\": [\"rgba(255, 153, 51, 1.0)\", \"rgba(55, 128, 191, 1.0)\", \"rgba(50, 171, 96, 1.0)\", \"rgba(128, 0, 128, 1.0)\", \"rgba(219, 64, 82, 1.0)\", \"rgba(0, 128, 128, 1.0)\"]}}], {\"paper_bgcolor\": \"#FFFFFF\", \"titlefont\": {\"color\": \"#4D5663\"}, \"legend\": {\"font\": {\"color\": \"#4D5663\"}, \"bgcolor\": \"#FFFFFF\"}, \"plot_bgcolor\": \"#FFFFFF\"}, {\"showLink\": true, \"linkText\": \"Export to plot.ly\"})});</script>"
      ],
      "text/vnd.plotly.v1+html": [
       "<div id=\"6068c145-172a-4b3e-b9f2-4ea1f8607dd7\" style=\"height: 525px; width: 100%;\" class=\"plotly-graph-div\"></div><script type=\"text/javascript\">require([\"plotly\"], function(Plotly) { window.PLOTLYENV=window.PLOTLYENV || {};window.PLOTLYENV.BASE_URL=\"https://plot.ly\";Plotly.newPlot(\"6068c145-172a-4b3e-b9f2-4ea1f8607dd7\", [{\"values\": [14, 13, 4, 2, 1, 1], \"name\": \"\", \"type\": \"pie\", \"labels\": [\"Robb Stark\", \"Joffrey/Tommen Baratheon\", \"Balon/Euron Greyjoy\", \"Stannis Baratheon\", \"Mance Rayder\", \"Renly Baratheon\"], \"marker\": {\"colors\": [\"rgba(255, 153, 51, 1.0)\", \"rgba(55, 128, 191, 1.0)\", \"rgba(50, 171, 96, 1.0)\", \"rgba(128, 0, 128, 1.0)\", \"rgba(219, 64, 82, 1.0)\", \"rgba(0, 128, 128, 1.0)\"]}}], {\"paper_bgcolor\": \"#FFFFFF\", \"titlefont\": {\"color\": \"#4D5663\"}, \"legend\": {\"font\": {\"color\": \"#4D5663\"}, \"bgcolor\": \"#FFFFFF\"}, \"plot_bgcolor\": \"#FFFFFF\"}, {\"showLink\": true, \"linkText\": \"Export to plot.ly\"})});</script>"
      ]
     },
     "metadata": {},
     "output_type": "display_data"
    }
   ],
   "source": [
    "king_defended = battles_df.defender_king.value_counts().reset_index()\n",
    "king_defended.rename(columns={'index':'king','defender_king':'battle_count'},inplace=True)\n",
    "king_defended.iplot(kind='pie',labels='king',values='battle_count')"
   ]
  },
  {
   "cell_type": "markdown",
   "metadata": {},
   "source": [
    "## Battle Style Distribution\n",
    "Plenty of battles all across, yet the men of Westeros and Essos are men of honor. \n",
    "This is visible in the distribution which shows **pitched battle** as the most common style of battle."
   ]
  },
  {
   "cell_type": "code",
   "execution_count": 15,
   "metadata": {},
   "outputs": [
    {
     "data": {
      "application/vnd.plotly.v1+json": {
       "data": [
        {
         "marker": {
          "color": "rgba(255, 153, 51, 0.6)",
          "line": {
           "color": "rgba(255, 153, 51, 1.0)",
           "width": 1
          }
         },
         "name": "battle_type",
         "orientation": "h",
         "text": "",
         "type": "bar",
         "x": [
          14,
          11,
          10,
          2
         ],
         "y": [
          "pitched battle",
          "siege",
          "ambush",
          "razing"
         ]
        }
       ],
       "layout": {
        "legend": {
         "bgcolor": "#FFFFFF",
         "font": {
          "color": "#4D5663"
         }
        },
        "paper_bgcolor": "#FFFFFF",
        "plot_bgcolor": "#FFFFFF",
        "titlefont": {
         "color": "#4D5663"
        },
        "xaxis1": {
         "gridcolor": "#E1E5ED",
         "showgrid": true,
         "tickfont": {
          "color": "#4D5663"
         },
         "title": "",
         "titlefont": {
          "color": "#4D5663"
         },
         "zerolinecolor": "#E1E5ED"
        },
        "yaxis1": {
         "gridcolor": "#E1E5ED",
         "showgrid": true,
         "tickfont": {
          "color": "#4D5663"
         },
         "title": "",
         "titlefont": {
          "color": "#4D5663"
         },
         "zerolinecolor": "#E1E5ED"
        }
       }
      },
      "text/html": [
       "<div id=\"de49554f-5176-4d9a-8bee-10176323396f\" style=\"height: 525px; width: 100%;\" class=\"plotly-graph-div\"></div><script type=\"text/javascript\">require([\"plotly\"], function(Plotly) { window.PLOTLYENV=window.PLOTLYENV || {};window.PLOTLYENV.BASE_URL=\"https://plot.ly\";Plotly.newPlot(\"de49554f-5176-4d9a-8bee-10176323396f\", [{\"x\": [14, 11, 10, 2], \"name\": \"battle_type\", \"y\": [\"pitched battle\", \"siege\", \"ambush\", \"razing\"], \"orientation\": \"h\", \"marker\": {\"color\": \"rgba(255, 153, 51, 0.6)\", \"line\": {\"width\": 1, \"color\": \"rgba(255, 153, 51, 1.0)\"}}, \"type\": \"bar\", \"text\": \"\"}], {\"paper_bgcolor\": \"#FFFFFF\", \"titlefont\": {\"color\": \"#4D5663\"}, \"xaxis1\": {\"title\": \"\", \"zerolinecolor\": \"#E1E5ED\", \"tickfont\": {\"color\": \"#4D5663\"}, \"showgrid\": true, \"titlefont\": {\"color\": \"#4D5663\"}, \"gridcolor\": \"#E1E5ED\"}, \"legend\": {\"font\": {\"color\": \"#4D5663\"}, \"bgcolor\": \"#FFFFFF\"}, \"yaxis1\": {\"title\": \"\", \"zerolinecolor\": \"#E1E5ED\", \"tickfont\": {\"color\": \"#4D5663\"}, \"showgrid\": true, \"titlefont\": {\"color\": \"#4D5663\"}, \"gridcolor\": \"#E1E5ED\"}, \"plot_bgcolor\": \"#FFFFFF\"}, {\"showLink\": true, \"linkText\": \"Export to plot.ly\"})});</script>"
      ],
      "text/vnd.plotly.v1+html": [
       "<div id=\"de49554f-5176-4d9a-8bee-10176323396f\" style=\"height: 525px; width: 100%;\" class=\"plotly-graph-div\"></div><script type=\"text/javascript\">require([\"plotly\"], function(Plotly) { window.PLOTLYENV=window.PLOTLYENV || {};window.PLOTLYENV.BASE_URL=\"https://plot.ly\";Plotly.newPlot(\"de49554f-5176-4d9a-8bee-10176323396f\", [{\"x\": [14, 11, 10, 2], \"name\": \"battle_type\", \"y\": [\"pitched battle\", \"siege\", \"ambush\", \"razing\"], \"orientation\": \"h\", \"marker\": {\"color\": \"rgba(255, 153, 51, 0.6)\", \"line\": {\"width\": 1, \"color\": \"rgba(255, 153, 51, 1.0)\"}}, \"type\": \"bar\", \"text\": \"\"}], {\"paper_bgcolor\": \"#FFFFFF\", \"titlefont\": {\"color\": \"#4D5663\"}, \"xaxis1\": {\"title\": \"\", \"zerolinecolor\": \"#E1E5ED\", \"tickfont\": {\"color\": \"#4D5663\"}, \"showgrid\": true, \"titlefont\": {\"color\": \"#4D5663\"}, \"gridcolor\": \"#E1E5ED\"}, \"legend\": {\"font\": {\"color\": \"#4D5663\"}, \"bgcolor\": \"#FFFFFF\"}, \"yaxis1\": {\"title\": \"\", \"zerolinecolor\": \"#E1E5ED\", \"tickfont\": {\"color\": \"#4D5663\"}, \"showgrid\": true, \"titlefont\": {\"color\": \"#4D5663\"}, \"gridcolor\": \"#E1E5ED\"}, \"plot_bgcolor\": \"#FFFFFF\"}, {\"showLink\": true, \"linkText\": \"Export to plot.ly\"})});</script>"
      ]
     },
     "metadata": {},
     "output_type": "display_data"
    }
   ],
   "source": [
    "battles_df.battle_type.value_counts().iplot(kind='barh')"
   ]
  },
  {
   "cell_type": "markdown",
   "metadata": {},
   "source": [
    "## Attack or Defend?\n",
    "Defending your place in Westeros isn't easy, this is clearly visible from the fact that 32 out of 37 battles were won by attackers"
   ]
  },
  {
   "cell_type": "code",
   "execution_count": 16,
   "metadata": {},
   "outputs": [
    {
     "data": {
      "application/vnd.plotly.v1+json": {
       "data": [
        {
         "marker": {
          "color": "rgba(255, 153, 51, 0.6)",
          "line": {
           "color": "rgba(255, 153, 51, 1.0)",
           "width": 1
          }
         },
         "name": "attacker_outcome",
         "orientation": "h",
         "text": "",
         "type": "bar",
         "x": [
          32,
          5
         ],
         "y": [
          "win",
          "loss"
         ]
        }
       ],
       "layout": {
        "legend": {
         "bgcolor": "#FFFFFF",
         "font": {
          "color": "#4D5663"
         }
        },
        "paper_bgcolor": "#FFFFFF",
        "plot_bgcolor": "#FFFFFF",
        "titlefont": {
         "color": "#4D5663"
        },
        "xaxis1": {
         "gridcolor": "#E1E5ED",
         "showgrid": true,
         "tickfont": {
          "color": "#4D5663"
         },
         "title": "",
         "titlefont": {
          "color": "#4D5663"
         },
         "zerolinecolor": "#E1E5ED"
        },
        "yaxis1": {
         "gridcolor": "#E1E5ED",
         "showgrid": true,
         "tickfont": {
          "color": "#4D5663"
         },
         "title": "",
         "titlefont": {
          "color": "#4D5663"
         },
         "zerolinecolor": "#E1E5ED"
        }
       }
      },
      "text/html": [
       "<div id=\"a8c78229-14c0-4427-903c-e0504c6d2d28\" style=\"height: 525px; width: 100%;\" class=\"plotly-graph-div\"></div><script type=\"text/javascript\">require([\"plotly\"], function(Plotly) { window.PLOTLYENV=window.PLOTLYENV || {};window.PLOTLYENV.BASE_URL=\"https://plot.ly\";Plotly.newPlot(\"a8c78229-14c0-4427-903c-e0504c6d2d28\", [{\"x\": [32, 5], \"name\": \"attacker_outcome\", \"y\": [\"win\", \"loss\"], \"orientation\": \"h\", \"marker\": {\"color\": \"rgba(255, 153, 51, 0.6)\", \"line\": {\"width\": 1, \"color\": \"rgba(255, 153, 51, 1.0)\"}}, \"type\": \"bar\", \"text\": \"\"}], {\"paper_bgcolor\": \"#FFFFFF\", \"titlefont\": {\"color\": \"#4D5663\"}, \"xaxis1\": {\"title\": \"\", \"zerolinecolor\": \"#E1E5ED\", \"tickfont\": {\"color\": \"#4D5663\"}, \"showgrid\": true, \"titlefont\": {\"color\": \"#4D5663\"}, \"gridcolor\": \"#E1E5ED\"}, \"legend\": {\"font\": {\"color\": \"#4D5663\"}, \"bgcolor\": \"#FFFFFF\"}, \"yaxis1\": {\"title\": \"\", \"zerolinecolor\": \"#E1E5ED\", \"tickfont\": {\"color\": \"#4D5663\"}, \"showgrid\": true, \"titlefont\": {\"color\": \"#4D5663\"}, \"gridcolor\": \"#E1E5ED\"}, \"plot_bgcolor\": \"#FFFFFF\"}, {\"showLink\": true, \"linkText\": \"Export to plot.ly\"})});</script>"
      ],
      "text/vnd.plotly.v1+html": [
       "<div id=\"a8c78229-14c0-4427-903c-e0504c6d2d28\" style=\"height: 525px; width: 100%;\" class=\"plotly-graph-div\"></div><script type=\"text/javascript\">require([\"plotly\"], function(Plotly) { window.PLOTLYENV=window.PLOTLYENV || {};window.PLOTLYENV.BASE_URL=\"https://plot.ly\";Plotly.newPlot(\"a8c78229-14c0-4427-903c-e0504c6d2d28\", [{\"x\": [32, 5], \"name\": \"attacker_outcome\", \"y\": [\"win\", \"loss\"], \"orientation\": \"h\", \"marker\": {\"color\": \"rgba(255, 153, 51, 0.6)\", \"line\": {\"width\": 1, \"color\": \"rgba(255, 153, 51, 1.0)\"}}, \"type\": \"bar\", \"text\": \"\"}], {\"paper_bgcolor\": \"#FFFFFF\", \"titlefont\": {\"color\": \"#4D5663\"}, \"xaxis1\": {\"title\": \"\", \"zerolinecolor\": \"#E1E5ED\", \"tickfont\": {\"color\": \"#4D5663\"}, \"showgrid\": true, \"titlefont\": {\"color\": \"#4D5663\"}, \"gridcolor\": \"#E1E5ED\"}, \"legend\": {\"font\": {\"color\": \"#4D5663\"}, \"bgcolor\": \"#FFFFFF\"}, \"yaxis1\": {\"title\": \"\", \"zerolinecolor\": \"#E1E5ED\", \"tickfont\": {\"color\": \"#4D5663\"}, \"showgrid\": true, \"titlefont\": {\"color\": \"#4D5663\"}, \"gridcolor\": \"#E1E5ED\"}, \"plot_bgcolor\": \"#FFFFFF\"}, {\"showLink\": true, \"linkText\": \"Export to plot.ly\"})});</script>"
      ]
     },
     "metadata": {},
     "output_type": "display_data"
    }
   ],
   "source": [
    "battles_df.attacker_outcome.value_counts().iplot(kind='barh')"
   ]
  },
  {
   "cell_type": "markdown",
   "metadata": {},
   "source": [
    "## Winners\n",
    "Who remembers losers? (except if you love the Starks)\n",
    "The following plot helps us understand who won how many battles and how, by attacking or defending."
   ]
  },
  {
   "cell_type": "code",
   "execution_count": 17,
   "metadata": {},
   "outputs": [
    {
     "data": {
      "application/vnd.plotly.v1+json": {
       "data": [
        {
         "marker": {
          "color": "rgba(255, 153, 51, 0.6)",
          "line": {
           "color": "rgba(255, 153, 51, 1.0)",
           "width": 1
          }
         },
         "name": "attack_wins",
         "orientation": "v",
         "text": "",
         "type": "bar",
         "x": [
          "Joffrey/Tommen Baratheon",
          "Robb Stark",
          "Balon/Euron Greyjoy",
          "Stannis Baratheon",
          "Mance Rayder"
         ],
         "y": [
          13,
          8,
          7,
          2,
          0
         ]
        },
        {
         "marker": {
          "color": "rgba(55, 128, 191, 0.6)",
          "line": {
           "color": "rgba(55, 128, 191, 1.0)",
           "width": 1
          }
         },
         "name": "defend_wins",
         "orientation": "v",
         "text": "",
         "type": "bar",
         "x": [
          "Joffrey/Tommen Baratheon",
          "Robb Stark",
          "Balon/Euron Greyjoy",
          "Stannis Baratheon",
          "Mance Rayder"
         ],
         "y": [
          3,
          1,
          0,
          0,
          1
         ]
        }
       ],
       "layout": {
        "barmode": "stack",
        "legend": {
         "bgcolor": "#FFFFFF",
         "font": {
          "color": "#4D5663"
         },
         "traceorder": "normal"
        },
        "paper_bgcolor": "#FFFFFF",
        "plot_bgcolor": "#FFFFFF",
        "title": "Wins per King",
        "titlefont": {
         "color": "#4D5663"
        },
        "xaxis1": {
         "gridcolor": "#E1E5ED",
         "showgrid": true,
         "showline": true,
         "tickfont": {
          "color": "#4D5663"
         },
         "title": "King",
         "titlefont": {
          "color": "#4D5663"
         },
         "zerolinecolor": "#E1E5ED"
        },
        "yaxis1": {
         "gridcolor": "#E1E5ED",
         "showgrid": true,
         "showline": true,
         "tickfont": {
          "color": "#4D5663"
         },
         "title": "Number of Wins",
         "titlefont": {
          "color": "#4D5663"
         },
         "zerolinecolor": "#E1E5ED"
        }
       }
      },
      "text/html": [
       "<div id=\"44998593-ee9c-449d-a1f6-f30fd3c10beb\" style=\"height: 525px; width: 100%;\" class=\"plotly-graph-div\"></div><script type=\"text/javascript\">require([\"plotly\"], function(Plotly) { window.PLOTLYENV=window.PLOTLYENV || {};window.PLOTLYENV.BASE_URL=\"https://plot.ly\";Plotly.newPlot(\"44998593-ee9c-449d-a1f6-f30fd3c10beb\", [{\"x\": [\"Joffrey/Tommen Baratheon\", \"Robb Stark\", \"Balon/Euron Greyjoy\", \"Stannis Baratheon\", \"Mance Rayder\"], \"name\": \"attack_wins\", \"y\": [13.0, 8.0, 7.0, 2.0, 0.0], \"orientation\": \"v\", \"marker\": {\"color\": \"rgba(255, 153, 51, 0.6)\", \"line\": {\"width\": 1, \"color\": \"rgba(255, 153, 51, 1.0)\"}}, \"type\": \"bar\", \"text\": \"\"}, {\"x\": [\"Joffrey/Tommen Baratheon\", \"Robb Stark\", \"Balon/Euron Greyjoy\", \"Stannis Baratheon\", \"Mance Rayder\"], \"name\": \"defend_wins\", \"y\": [3.0, 1.0, 0.0, 0.0, 1.0], \"orientation\": \"v\", \"marker\": {\"color\": \"rgba(55, 128, 191, 0.6)\", \"line\": {\"width\": 1, \"color\": \"rgba(55, 128, 191, 1.0)\"}}, \"type\": \"bar\", \"text\": \"\"}], {\"title\": \"Wins per King\", \"paper_bgcolor\": \"#FFFFFF\", \"titlefont\": {\"color\": \"#4D5663\"}, \"xaxis1\": {\"tickfont\": {\"color\": \"#4D5663\"}, \"title\": \"King\", \"titlefont\": {\"color\": \"#4D5663\"}, \"showline\": true, \"showgrid\": true, \"zerolinecolor\": \"#E1E5ED\", \"gridcolor\": \"#E1E5ED\"}, \"barmode\": \"stack\", \"legend\": {\"font\": {\"color\": \"#4D5663\"}, \"traceorder\": \"normal\", \"bgcolor\": \"#FFFFFF\"}, \"yaxis1\": {\"tickfont\": {\"color\": \"#4D5663\"}, \"title\": \"Number of Wins\", \"titlefont\": {\"color\": \"#4D5663\"}, \"showline\": true, \"showgrid\": true, \"zerolinecolor\": \"#E1E5ED\", \"gridcolor\": \"#E1E5ED\"}, \"plot_bgcolor\": \"#FFFFFF\"}, {\"showLink\": true, \"linkText\": \"Export to plot.ly\"})});</script>"
      ],
      "text/vnd.plotly.v1+html": [
       "<div id=\"44998593-ee9c-449d-a1f6-f30fd3c10beb\" style=\"height: 525px; width: 100%;\" class=\"plotly-graph-div\"></div><script type=\"text/javascript\">require([\"plotly\"], function(Plotly) { window.PLOTLYENV=window.PLOTLYENV || {};window.PLOTLYENV.BASE_URL=\"https://plot.ly\";Plotly.newPlot(\"44998593-ee9c-449d-a1f6-f30fd3c10beb\", [{\"x\": [\"Joffrey/Tommen Baratheon\", \"Robb Stark\", \"Balon/Euron Greyjoy\", \"Stannis Baratheon\", \"Mance Rayder\"], \"name\": \"attack_wins\", \"y\": [13.0, 8.0, 7.0, 2.0, 0.0], \"orientation\": \"v\", \"marker\": {\"color\": \"rgba(255, 153, 51, 0.6)\", \"line\": {\"width\": 1, \"color\": \"rgba(255, 153, 51, 1.0)\"}}, \"type\": \"bar\", \"text\": \"\"}, {\"x\": [\"Joffrey/Tommen Baratheon\", \"Robb Stark\", \"Balon/Euron Greyjoy\", \"Stannis Baratheon\", \"Mance Rayder\"], \"name\": \"defend_wins\", \"y\": [3.0, 1.0, 0.0, 0.0, 1.0], \"orientation\": \"v\", \"marker\": {\"color\": \"rgba(55, 128, 191, 0.6)\", \"line\": {\"width\": 1, \"color\": \"rgba(55, 128, 191, 1.0)\"}}, \"type\": \"bar\", \"text\": \"\"}], {\"title\": \"Wins per King\", \"paper_bgcolor\": \"#FFFFFF\", \"titlefont\": {\"color\": \"#4D5663\"}, \"xaxis1\": {\"tickfont\": {\"color\": \"#4D5663\"}, \"title\": \"King\", \"titlefont\": {\"color\": \"#4D5663\"}, \"showline\": true, \"showgrid\": true, \"zerolinecolor\": \"#E1E5ED\", \"gridcolor\": \"#E1E5ED\"}, \"barmode\": \"stack\", \"legend\": {\"font\": {\"color\": \"#4D5663\"}, \"traceorder\": \"normal\", \"bgcolor\": \"#FFFFFF\"}, \"yaxis1\": {\"tickfont\": {\"color\": \"#4D5663\"}, \"title\": \"Number of Wins\", \"titlefont\": {\"color\": \"#4D5663\"}, \"showline\": true, \"showgrid\": true, \"zerolinecolor\": \"#E1E5ED\", \"gridcolor\": \"#E1E5ED\"}, \"plot_bgcolor\": \"#FFFFFF\"}, {\"showLink\": true, \"linkText\": \"Export to plot.ly\"})});</script>"
      ]
     },
     "metadata": {},
     "output_type": "display_data"
    }
   ],
   "source": [
    "attack_winners = battles_df[battles_df.attacker_outcome=='win']['attacker_king'].value_counts().reset_index()\n",
    "attack_winners.rename(columns={'index':'king','attacker_king':'attack_wins'},inplace=True)\n",
    "\n",
    "defend_winners = battles_df[battles_df.attacker_outcome=='loss']['defender_king'].value_counts().reset_index()\n",
    "defend_winners.rename(columns={'index':'king','defender_king':'defend_wins'},inplace=True)\n",
    "\n",
    "winner_df = pd.merge(attack_winners,defend_winners,how='outer',on='king')\n",
    "winner_df.fillna(0,inplace=True)\n",
    "winner_df['total_wins'] = winner_df.apply(lambda row: row['attack_wins']+row['defend_wins'],axis=1)\n",
    "winner_df[['king','attack_wins','defend_wins']].set_index('king').iplot(kind='bar',barmode='stack',\n",
    "                                                                        xTitle='King',\n",
    "                                                                        yTitle='Number of Wins',\n",
    "                                                                        title='Wins per King',\n",
    "                                                                        showline=True)"
   ]
  },
  {
   "cell_type": "markdown",
   "metadata": {},
   "source": [
    "## Battle Commanders\n",
    "A battle requires as much brains as muscle power. \n",
    "The following is a distribution of the number of commanders involved on attacking and defending sides."
   ]
  },
  {
   "cell_type": "code",
   "execution_count": 18,
   "metadata": {
    "collapsed": true
   },
   "outputs": [],
   "source": [
    "battles_df['attack_commander_count'] = battles_df.dropna(subset=['attacker_commander']).apply(lambda row: len(row['attacker_commander'].split()),axis=1)\n",
    "battles_df['defend_commander_count'] = battles_df.dropna(subset=['defender_commander']).apply(lambda row: len(row['defender_commander'].split()),axis=1)"
   ]
  },
  {
   "cell_type": "code",
   "execution_count": 19,
   "metadata": {},
   "outputs": [
    {
     "data": {
      "application/vnd.plotly.v1+json": {
       "data": [
        {
         "boxpoints": "suspectedoutliers",
         "line": {
          "width": 1.3
         },
         "marker": {
          "color": "rgba(255, 153, 51, 1.0)"
         },
         "name": "attack_commander_count",
         "type": "box",
         "y": [
          2,
          2,
          4,
          10,
          4,
          6,
          2,
          2,
          2,
          2,
          4,
          2,
          2,
          4,
          4,
          4,
          12,
          6,
          7,
          12,
          2,
          4,
          null,
          2,
          2,
          6,
          2,
          9,
          2,
          1,
          4,
          4,
          4,
          4,
          4,
          6,
          4,
          2
         ]
        },
        {
         "boxpoints": "suspectedoutliers",
         "line": {
          "width": 1.3
         },
         "marker": {
          "color": "rgba(55, 128, 191, 1.0)"
         },
         "name": "defend_commander_count",
         "type": "box",
         "y": [
          3,
          2,
          4,
          8,
          2,
          5,
          2,
          null,
          null,
          null,
          2,
          2,
          null,
          6,
          6,
          10,
          6,
          2,
          2,
          14,
          null,
          4,
          null,
          4,
          2,
          2,
          2,
          8,
          null,
          null,
          2,
          null,
          null,
          2,
          2,
          2,
          2,
          2
         ]
        }
       ],
       "layout": {
        "legend": {
         "bgcolor": "#FFFFFF",
         "font": {
          "color": "#4D5663"
         }
        },
        "paper_bgcolor": "#FFFFFF",
        "plot_bgcolor": "#FFFFFF",
        "titlefont": {
         "color": "#4D5663"
        },
        "xaxis1": {
         "gridcolor": "#E1E5ED",
         "showgrid": true,
         "tickfont": {
          "color": "#4D5663"
         },
         "title": "",
         "titlefont": {
          "color": "#4D5663"
         },
         "zerolinecolor": "#E1E5ED"
        },
        "yaxis1": {
         "gridcolor": "#E1E5ED",
         "showgrid": true,
         "tickfont": {
          "color": "#4D5663"
         },
         "title": "",
         "titlefont": {
          "color": "#4D5663"
         },
         "zerolinecolor": "#E1E5ED"
        }
       }
      },
      "text/html": [
       "<div id=\"c08c2e3f-a9f8-469b-90ca-647054ee3a16\" style=\"height: 525px; width: 100%;\" class=\"plotly-graph-div\"></div><script type=\"text/javascript\">require([\"plotly\"], function(Plotly) { window.PLOTLYENV=window.PLOTLYENV || {};window.PLOTLYENV.BASE_URL=\"https://plot.ly\";Plotly.newPlot(\"c08c2e3f-a9f8-469b-90ca-647054ee3a16\", [{\"name\": \"attack_commander_count\", \"y\": [2.0, 2.0, 4.0, 10.0, 4.0, 6.0, 2.0, 2.0, 2.0, 2.0, 4.0, 2.0, 2.0, 4.0, 4.0, 4.0, 12.0, 6.0, 7.0, 12.0, 2.0, 4.0, null, 2.0, 2.0, 6.0, 2.0, 9.0, 2.0, 1.0, 4.0, 4.0, 4.0, 4.0, 4.0, 6.0, 4.0, 2.0], \"line\": {\"width\": 1.3}, \"boxpoints\": \"suspectedoutliers\", \"type\": \"box\", \"marker\": {\"color\": \"rgba(255, 153, 51, 1.0)\"}}, {\"name\": \"defend_commander_count\", \"y\": [3.0, 2.0, 4.0, 8.0, 2.0, 5.0, 2.0, null, null, null, 2.0, 2.0, null, 6.0, 6.0, 10.0, 6.0, 2.0, 2.0, 14.0, null, 4.0, null, 4.0, 2.0, 2.0, 2.0, 8.0, null, null, 2.0, null, null, 2.0, 2.0, 2.0, 2.0, 2.0], \"line\": {\"width\": 1.3}, \"boxpoints\": \"suspectedoutliers\", \"type\": \"box\", \"marker\": {\"color\": \"rgba(55, 128, 191, 1.0)\"}}], {\"paper_bgcolor\": \"#FFFFFF\", \"titlefont\": {\"color\": \"#4D5663\"}, \"xaxis1\": {\"title\": \"\", \"zerolinecolor\": \"#E1E5ED\", \"tickfont\": {\"color\": \"#4D5663\"}, \"showgrid\": true, \"titlefont\": {\"color\": \"#4D5663\"}, \"gridcolor\": \"#E1E5ED\"}, \"legend\": {\"font\": {\"color\": \"#4D5663\"}, \"bgcolor\": \"#FFFFFF\"}, \"yaxis1\": {\"title\": \"\", \"zerolinecolor\": \"#E1E5ED\", \"tickfont\": {\"color\": \"#4D5663\"}, \"showgrid\": true, \"titlefont\": {\"color\": \"#4D5663\"}, \"gridcolor\": \"#E1E5ED\"}, \"plot_bgcolor\": \"#FFFFFF\"}, {\"showLink\": true, \"linkText\": \"Export to plot.ly\"})});</script>"
      ],
      "text/vnd.plotly.v1+html": [
       "<div id=\"c08c2e3f-a9f8-469b-90ca-647054ee3a16\" style=\"height: 525px; width: 100%;\" class=\"plotly-graph-div\"></div><script type=\"text/javascript\">require([\"plotly\"], function(Plotly) { window.PLOTLYENV=window.PLOTLYENV || {};window.PLOTLYENV.BASE_URL=\"https://plot.ly\";Plotly.newPlot(\"c08c2e3f-a9f8-469b-90ca-647054ee3a16\", [{\"name\": \"attack_commander_count\", \"y\": [2.0, 2.0, 4.0, 10.0, 4.0, 6.0, 2.0, 2.0, 2.0, 2.0, 4.0, 2.0, 2.0, 4.0, 4.0, 4.0, 12.0, 6.0, 7.0, 12.0, 2.0, 4.0, null, 2.0, 2.0, 6.0, 2.0, 9.0, 2.0, 1.0, 4.0, 4.0, 4.0, 4.0, 4.0, 6.0, 4.0, 2.0], \"line\": {\"width\": 1.3}, \"boxpoints\": \"suspectedoutliers\", \"type\": \"box\", \"marker\": {\"color\": \"rgba(255, 153, 51, 1.0)\"}}, {\"name\": \"defend_commander_count\", \"y\": [3.0, 2.0, 4.0, 8.0, 2.0, 5.0, 2.0, null, null, null, 2.0, 2.0, null, 6.0, 6.0, 10.0, 6.0, 2.0, 2.0, 14.0, null, 4.0, null, 4.0, 2.0, 2.0, 2.0, 8.0, null, null, 2.0, null, null, 2.0, 2.0, 2.0, 2.0, 2.0], \"line\": {\"width\": 1.3}, \"boxpoints\": \"suspectedoutliers\", \"type\": \"box\", \"marker\": {\"color\": \"rgba(55, 128, 191, 1.0)\"}}], {\"paper_bgcolor\": \"#FFFFFF\", \"titlefont\": {\"color\": \"#4D5663\"}, \"xaxis1\": {\"title\": \"\", \"zerolinecolor\": \"#E1E5ED\", \"tickfont\": {\"color\": \"#4D5663\"}, \"showgrid\": true, \"titlefont\": {\"color\": \"#4D5663\"}, \"gridcolor\": \"#E1E5ED\"}, \"legend\": {\"font\": {\"color\": \"#4D5663\"}, \"bgcolor\": \"#FFFFFF\"}, \"yaxis1\": {\"title\": \"\", \"zerolinecolor\": \"#E1E5ED\", \"tickfont\": {\"color\": \"#4D5663\"}, \"showgrid\": true, \"titlefont\": {\"color\": \"#4D5663\"}, \"gridcolor\": \"#E1E5ED\"}, \"plot_bgcolor\": \"#FFFFFF\"}, {\"showLink\": true, \"linkText\": \"Export to plot.ly\"})});</script>"
      ]
     },
     "metadata": {},
     "output_type": "display_data"
    }
   ],
   "source": [
    "battles_df[['attack_commander_count',\n",
    "            'defend_commander_count']].iplot(kind='box',boxpoints='suspectedoutliers')"
   ]
  },
  {
   "cell_type": "markdown",
   "metadata": {},
   "source": [
    "## How many houses fought in a battle?\n",
    "Were the battles evenly balanced? The plots tell the whole story.\n",
    "\n",
    "<img src=\"https://c1.staticflickr.com/4/3893/14834104277_54d309b4ca_b.jpg\" style=\"height: 200px;\"/>"
   ]
  },
  {
   "cell_type": "code",
   "execution_count": 20,
   "metadata": {
    "collapsed": true
   },
   "outputs": [],
   "source": [
    "battles_df['attacker_house_count'] = (4 - battles_df[['attacker_1', \n",
    "                                                'attacker_2', \n",
    "                                                'attacker_3', \n",
    "                                                'attacker_4']].isnull().sum(axis = 1))\n",
    "\n",
    "battles_df['defender_house_count'] = (4 - battles_df[['defender_1',\n",
    "                                                'defender_2', \n",
    "                                                'defender_3', \n",
    "                                                'defender_4']].isnull().sum(axis = 1))\n",
    "\n",
    "battles_df['total_involved_count'] = battles_df.apply(lambda row: row['attacker_house_count']+row['defender_house_count'],\n",
    "                                                      axis=1)\n",
    "battles_df['bubble_text'] = battles_df.apply(lambda row: '{} had {} house(s) attacking {} house(s) '.format(row['name'],\n",
    "                                                                                                            row['attacker_house_count'],\n",
    "                                                                                                            row['defender_house_count']),\n",
    "                                             axis=1)"
   ]
  },
  {
   "cell_type": "markdown",
   "metadata": {},
   "source": [
    "## Unbalanced Battles\n",
    "Most battles so far have seen more houses forming alliances while attacking. \n",
    "There are only a few friends when you are under attack!"
   ]
  },
  {
   "cell_type": "code",
   "execution_count": 21,
   "metadata": {},
   "outputs": [
    {
     "data": {
      "application/vnd.plotly.v1+json": {
       "data": [
        {
         "marker": {
          "color": "rgba(255, 153, 51, 0.6)",
          "line": {
           "color": "rgba(255, 153, 51, 1.0)",
           "width": 1
          }
         },
         "name": "attacker_house_count",
         "orientation": "v",
         "text": "",
         "type": "bar",
         "x": [
          "Battle of the Whispering Wood",
          "Battle of the Camps",
          "Sack of Winterfell",
          "Battle of Oxcross",
          "The Red Wedding",
          "Battle of Castle Black",
          "Sack of Saltpans",
          "Retaking of Deepwood Motte",
          "Siege of Riverrun",
          "Siege of Raventree",
          "Siege of Winterfell"
         ],
         "y": [
          2,
          2,
          2,
          2,
          2,
          3,
          1,
          4,
          2,
          2,
          4
         ]
        },
        {
         "marker": {
          "color": "rgba(55, 128, 191, 0.6)",
          "line": {
           "color": "rgba(55, 128, 191, 1.0)",
           "width": 1
          }
         },
         "name": "defender_house_count",
         "orientation": "v",
         "text": "",
         "type": "bar",
         "x": [
          "Battle of the Whispering Wood",
          "Battle of the Camps",
          "Sack of Winterfell",
          "Battle of Oxcross",
          "The Red Wedding",
          "Battle of Castle Black",
          "Sack of Saltpans",
          "Retaking of Deepwood Motte",
          "Siege of Riverrun",
          "Siege of Raventree",
          "Siege of Winterfell"
         ],
         "y": [
          1,
          1,
          1,
          1,
          1,
          2,
          0,
          1,
          1,
          1,
          2
         ]
        }
       ],
       "layout": {
        "legend": {
         "bgcolor": "#FFFFFF",
         "font": {
          "color": "#4D5663"
         }
        },
        "paper_bgcolor": "#FFFFFF",
        "plot_bgcolor": "#FFFFFF",
        "titlefont": {
         "color": "#4D5663"
        },
        "xaxis1": {
         "gridcolor": "#E1E5ED",
         "showgrid": true,
         "tickangle": -25,
         "tickfont": {
          "color": "#4D5663"
         },
         "title": "",
         "titlefont": {
          "color": "#4D5663"
         },
         "zerolinecolor": "#E1E5ED"
        },
        "yaxis1": {
         "gridcolor": "#E1E5ED",
         "showgrid": true,
         "tickangle": -25,
         "tickfont": {
          "color": "#4D5663"
         },
         "title": "",
         "titlefont": {
          "color": "#4D5663"
         },
         "zerolinecolor": "#E1E5ED"
        }
       }
      },
      "text/html": [
       "<div id=\"f9d52821-1060-4290-8e44-28703572847e\" style=\"height: 525px; width: 100%;\" class=\"plotly-graph-div\"></div><script type=\"text/javascript\">require([\"plotly\"], function(Plotly) { window.PLOTLYENV=window.PLOTLYENV || {};window.PLOTLYENV.BASE_URL=\"https://plot.ly\";Plotly.newPlot(\"f9d52821-1060-4290-8e44-28703572847e\", [{\"x\": [\"Battle of the Whispering Wood\", \"Battle of the Camps\", \"Sack of Winterfell\", \"Battle of Oxcross\", \"The Red Wedding\", \"Battle of Castle Black\", \"Sack of Saltpans\", \"Retaking of Deepwood Motte\", \"Siege of Riverrun\", \"Siege of Raventree\", \"Siege of Winterfell\"], \"name\": \"attacker_house_count\", \"y\": [2, 2, 2, 2, 2, 3, 1, 4, 2, 2, 4], \"orientation\": \"v\", \"marker\": {\"color\": \"rgba(255, 153, 51, 0.6)\", \"line\": {\"width\": 1, \"color\": \"rgba(255, 153, 51, 1.0)\"}}, \"type\": \"bar\", \"text\": \"\"}, {\"x\": [\"Battle of the Whispering Wood\", \"Battle of the Camps\", \"Sack of Winterfell\", \"Battle of Oxcross\", \"The Red Wedding\", \"Battle of Castle Black\", \"Sack of Saltpans\", \"Retaking of Deepwood Motte\", \"Siege of Riverrun\", \"Siege of Raventree\", \"Siege of Winterfell\"], \"name\": \"defender_house_count\", \"y\": [1, 1, 1, 1, 1, 2, 0, 1, 1, 1, 2], \"orientation\": \"v\", \"marker\": {\"color\": \"rgba(55, 128, 191, 0.6)\", \"line\": {\"width\": 1, \"color\": \"rgba(55, 128, 191, 1.0)\"}}, \"type\": \"bar\", \"text\": \"\"}], {\"paper_bgcolor\": \"#FFFFFF\", \"titlefont\": {\"color\": \"#4D5663\"}, \"xaxis1\": {\"title\": \"\", \"tickangle\": -25, \"titlefont\": {\"color\": \"#4D5663\"}, \"tickfont\": {\"color\": \"#4D5663\"}, \"showgrid\": true, \"zerolinecolor\": \"#E1E5ED\", \"gridcolor\": \"#E1E5ED\"}, \"legend\": {\"font\": {\"color\": \"#4D5663\"}, \"bgcolor\": \"#FFFFFF\"}, \"yaxis1\": {\"title\": \"\", \"tickangle\": -25, \"titlefont\": {\"color\": \"#4D5663\"}, \"tickfont\": {\"color\": \"#4D5663\"}, \"showgrid\": true, \"zerolinecolor\": \"#E1E5ED\", \"gridcolor\": \"#E1E5ED\"}, \"plot_bgcolor\": \"#FFFFFF\"}, {\"showLink\": true, \"linkText\": \"Export to plot.ly\"})});</script>"
      ],
      "text/vnd.plotly.v1+html": [
       "<div id=\"f9d52821-1060-4290-8e44-28703572847e\" style=\"height: 525px; width: 100%;\" class=\"plotly-graph-div\"></div><script type=\"text/javascript\">require([\"plotly\"], function(Plotly) { window.PLOTLYENV=window.PLOTLYENV || {};window.PLOTLYENV.BASE_URL=\"https://plot.ly\";Plotly.newPlot(\"f9d52821-1060-4290-8e44-28703572847e\", [{\"x\": [\"Battle of the Whispering Wood\", \"Battle of the Camps\", \"Sack of Winterfell\", \"Battle of Oxcross\", \"The Red Wedding\", \"Battle of Castle Black\", \"Sack of Saltpans\", \"Retaking of Deepwood Motte\", \"Siege of Riverrun\", \"Siege of Raventree\", \"Siege of Winterfell\"], \"name\": \"attacker_house_count\", \"y\": [2, 2, 2, 2, 2, 3, 1, 4, 2, 2, 4], \"orientation\": \"v\", \"marker\": {\"color\": \"rgba(255, 153, 51, 0.6)\", \"line\": {\"width\": 1, \"color\": \"rgba(255, 153, 51, 1.0)\"}}, \"type\": \"bar\", \"text\": \"\"}, {\"x\": [\"Battle of the Whispering Wood\", \"Battle of the Camps\", \"Sack of Winterfell\", \"Battle of Oxcross\", \"The Red Wedding\", \"Battle of Castle Black\", \"Sack of Saltpans\", \"Retaking of Deepwood Motte\", \"Siege of Riverrun\", \"Siege of Raventree\", \"Siege of Winterfell\"], \"name\": \"defender_house_count\", \"y\": [1, 1, 1, 1, 1, 2, 0, 1, 1, 1, 2], \"orientation\": \"v\", \"marker\": {\"color\": \"rgba(55, 128, 191, 0.6)\", \"line\": {\"width\": 1, \"color\": \"rgba(55, 128, 191, 1.0)\"}}, \"type\": \"bar\", \"text\": \"\"}], {\"paper_bgcolor\": \"#FFFFFF\", \"titlefont\": {\"color\": \"#4D5663\"}, \"xaxis1\": {\"title\": \"\", \"tickangle\": -25, \"titlefont\": {\"color\": \"#4D5663\"}, \"tickfont\": {\"color\": \"#4D5663\"}, \"showgrid\": true, \"zerolinecolor\": \"#E1E5ED\", \"gridcolor\": \"#E1E5ED\"}, \"legend\": {\"font\": {\"color\": \"#4D5663\"}, \"bgcolor\": \"#FFFFFF\"}, \"yaxis1\": {\"title\": \"\", \"tickangle\": -25, \"titlefont\": {\"color\": \"#4D5663\"}, \"tickfont\": {\"color\": \"#4D5663\"}, \"showgrid\": true, \"zerolinecolor\": \"#E1E5ED\", \"gridcolor\": \"#E1E5ED\"}, \"plot_bgcolor\": \"#FFFFFF\"}, {\"showLink\": true, \"linkText\": \"Export to plot.ly\"})});</script>"
      ]
     },
     "metadata": {},
     "output_type": "display_data"
    }
   ],
   "source": [
    "house_balance = battles_df[battles_df.attacker_house_count != battles_df.defender_house_count][['name',\n",
    "                                                                                'attacker_house_count',\n",
    "                                                                                'defender_house_count']].set_index('name')\n",
    "house_balance.iplot(kind='bar',tickangle=-25)"
   ]
  },
  {
   "cell_type": "markdown",
   "metadata": {},
   "source": [
    "## Battles and The size of Armies\n",
    "Attackers don't take any chances, they come in huge numbers, keep your eyes open"
   ]
  },
  {
   "cell_type": "code",
   "execution_count": 22,
   "metadata": {
    "scrolled": false
   },
   "outputs": [
    {
     "data": {
      "application/vnd.plotly.v1+json": {
       "data": [
        {
         "marker": {
          "color": [
           "rgb(255, 153, 51)",
           "rgb(255, 153, 51)",
           "rgb(255, 153, 51)",
           "rgb(255, 153, 51)",
           "rgb(255, 153, 51)",
           "rgb(255, 153, 51)",
           "rgb(255, 153, 51)",
           "rgb(255, 153, 51)",
           "rgb(255, 153, 51)",
           "rgb(255, 153, 51)",
           "rgb(255, 153, 51)",
           "rgb(255, 153, 51)",
           "rgb(255, 153, 51)",
           "rgb(255, 153, 51)",
           "rgb(255, 153, 51)",
           "rgb(255, 153, 51)"
          ],
          "line": {
           "width": 1.3
          },
          "size": [
           12,
           12,
           12,
           37,
           37,
           12,
           37,
           37,
           12,
           12,
           12,
           12,
           37,
           87,
           87,
           112
          ],
          "symbol": "dot"
         },
         "mode": "markers",
         "text": [
          "Battle of the Golden Tooth had 1 house(s) attacking 1 house(s) ",
          "Battle of Riverrun had 1 house(s) attacking 1 house(s) ",
          "Battle of the Green Fork had 1 house(s) attacking 1 house(s) ",
          "Battle of the Whispering Wood had 2 house(s) attacking 1 house(s) ",
          "Battle of the Camps had 2 house(s) attacking 1 house(s) ",
          "Battle of Torrhen's Square had 1 house(s) attacking 1 house(s) ",
          "Sack of Winterfell had 2 house(s) attacking 1 house(s) ",
          "Battle of Oxcross had 2 house(s) attacking 1 house(s) ",
          "Siege of Storm's End had 1 house(s) attacking 1 house(s) ",
          "Battle of the Fords had 1 house(s) attacking 1 house(s) ",
          "Sack of Harrenhal had 1 house(s) attacking 1 house(s) ",
          "Battle of the Blackwater had 1 house(s) attacking 1 house(s) ",
          "The Red Wedding had 2 house(s) attacking 1 house(s) ",
          "Battle of Castle Black had 3 house(s) attacking 2 house(s) ",
          "Retaking of Deepwood Motte had 4 house(s) attacking 1 house(s) ",
          "Siege of Winterfell had 4 house(s) attacking 2 house(s) "
         ],
         "type": "scatter",
         "x": [
          4000,
          10000,
          20000,
          6000,
          12625,
          900,
          2000,
          10000,
          20000,
          10000,
          100,
          7250,
          3500,
          1240,
          200,
          8000
         ],
         "y": [
          15000,
          15000,
          18000,
          1875,
          6000,
          244,
          618,
          6000,
          5000,
          20000,
          100,
          21000,
          3500,
          100000,
          4500,
          5000
         ]
        }
       ],
       "layout": {
        "legend": {
         "bgcolor": "#FFFFFF",
         "font": {
          "color": "#4D5663"
         }
        },
        "paper_bgcolor": "#FFFFFF",
        "plot_bgcolor": "#FFFFFF",
        "titlefont": {
         "color": "#4D5663"
        },
        "xaxis1": {
         "gridcolor": "#E1E5ED",
         "showgrid": true,
         "tickfont": {
          "color": "#4D5663"
         },
         "title": "Defender Size",
         "titlefont": {
          "color": "#4D5663"
         },
         "zerolinecolor": "#E1E5ED"
        },
        "yaxis1": {
         "gridcolor": "#E1E5ED",
         "showgrid": true,
         "tickfont": {
          "color": "#4D5663"
         },
         "title": "Attacker Size",
         "titlefont": {
          "color": "#4D5663"
         },
         "zerolinecolor": "#E1E5ED"
        }
       }
      },
      "text/html": [
       "<div id=\"7c4af85c-9012-4a69-a7db-35a0420bff88\" style=\"height: 525px; width: 100%;\" class=\"plotly-graph-div\"></div><script type=\"text/javascript\">require([\"plotly\"], function(Plotly) { window.PLOTLYENV=window.PLOTLYENV || {};window.PLOTLYENV.BASE_URL=\"https://plot.ly\";Plotly.newPlot(\"7c4af85c-9012-4a69-a7db-35a0420bff88\", [{\"x\": [4000.0, 10000.0, 20000.0, 6000.0, 12625.0, 900.0, 2000.0, 10000.0, 20000.0, 10000.0, 100.0, 7250.0, 3500.0, 1240.0, 200.0, 8000.0], \"y\": [15000.0, 15000.0, 18000.0, 1875.0, 6000.0, 244.0, 618.0, 6000.0, 5000.0, 20000.0, 100.0, 21000.0, 3500.0, 100000.0, 4500.0, 5000.0], \"type\": \"scatter\", \"text\": [\"Battle of the Golden Tooth had 1 house(s) attacking 1 house(s) \", \"Battle of Riverrun had 1 house(s) attacking 1 house(s) \", \"Battle of the Green Fork had 1 house(s) attacking 1 house(s) \", \"Battle of the Whispering Wood had 2 house(s) attacking 1 house(s) \", \"Battle of the Camps had 2 house(s) attacking 1 house(s) \", \"Battle of Torrhen's Square had 1 house(s) attacking 1 house(s) \", \"Sack of Winterfell had 2 house(s) attacking 1 house(s) \", \"Battle of Oxcross had 2 house(s) attacking 1 house(s) \", \"Siege of Storm's End had 1 house(s) attacking 1 house(s) \", \"Battle of the Fords had 1 house(s) attacking 1 house(s) \", \"Sack of Harrenhal had 1 house(s) attacking 1 house(s) \", \"Battle of the Blackwater had 1 house(s) attacking 1 house(s) \", \"The Red Wedding had 2 house(s) attacking 1 house(s) \", \"Battle of Castle Black had 3 house(s) attacking 2 house(s) \", \"Retaking of Deepwood Motte had 4 house(s) attacking 1 house(s) \", \"Siege of Winterfell had 4 house(s) attacking 2 house(s) \"], \"mode\": \"markers\", \"marker\": {\"size\": [12, 12, 12, 37, 37, 12, 37, 37, 12, 12, 12, 12, 37, 87, 87, 112], \"line\": {\"width\": 1.3}, \"symbol\": \"dot\", \"color\": [\"rgb(255, 153, 51)\", \"rgb(255, 153, 51)\", \"rgb(255, 153, 51)\", \"rgb(255, 153, 51)\", \"rgb(255, 153, 51)\", \"rgb(255, 153, 51)\", \"rgb(255, 153, 51)\", \"rgb(255, 153, 51)\", \"rgb(255, 153, 51)\", \"rgb(255, 153, 51)\", \"rgb(255, 153, 51)\", \"rgb(255, 153, 51)\", \"rgb(255, 153, 51)\", \"rgb(255, 153, 51)\", \"rgb(255, 153, 51)\", \"rgb(255, 153, 51)\"]}}], {\"paper_bgcolor\": \"#FFFFFF\", \"titlefont\": {\"color\": \"#4D5663\"}, \"xaxis1\": {\"title\": \"Defender Size\", \"zerolinecolor\": \"#E1E5ED\", \"tickfont\": {\"color\": \"#4D5663\"}, \"showgrid\": true, \"titlefont\": {\"color\": \"#4D5663\"}, \"gridcolor\": \"#E1E5ED\"}, \"legend\": {\"font\": {\"color\": \"#4D5663\"}, \"bgcolor\": \"#FFFFFF\"}, \"yaxis1\": {\"title\": \"Attacker Size\", \"zerolinecolor\": \"#E1E5ED\", \"tickfont\": {\"color\": \"#4D5663\"}, \"showgrid\": true, \"titlefont\": {\"color\": \"#4D5663\"}, \"gridcolor\": \"#E1E5ED\"}, \"plot_bgcolor\": \"#FFFFFF\"}, {\"showLink\": true, \"linkText\": \"Export to plot.ly\"})});</script>"
      ],
      "text/vnd.plotly.v1+html": [
       "<div id=\"7c4af85c-9012-4a69-a7db-35a0420bff88\" style=\"height: 525px; width: 100%;\" class=\"plotly-graph-div\"></div><script type=\"text/javascript\">require([\"plotly\"], function(Plotly) { window.PLOTLYENV=window.PLOTLYENV || {};window.PLOTLYENV.BASE_URL=\"https://plot.ly\";Plotly.newPlot(\"7c4af85c-9012-4a69-a7db-35a0420bff88\", [{\"x\": [4000.0, 10000.0, 20000.0, 6000.0, 12625.0, 900.0, 2000.0, 10000.0, 20000.0, 10000.0, 100.0, 7250.0, 3500.0, 1240.0, 200.0, 8000.0], \"y\": [15000.0, 15000.0, 18000.0, 1875.0, 6000.0, 244.0, 618.0, 6000.0, 5000.0, 20000.0, 100.0, 21000.0, 3500.0, 100000.0, 4500.0, 5000.0], \"type\": \"scatter\", \"text\": [\"Battle of the Golden Tooth had 1 house(s) attacking 1 house(s) \", \"Battle of Riverrun had 1 house(s) attacking 1 house(s) \", \"Battle of the Green Fork had 1 house(s) attacking 1 house(s) \", \"Battle of the Whispering Wood had 2 house(s) attacking 1 house(s) \", \"Battle of the Camps had 2 house(s) attacking 1 house(s) \", \"Battle of Torrhen's Square had 1 house(s) attacking 1 house(s) \", \"Sack of Winterfell had 2 house(s) attacking 1 house(s) \", \"Battle of Oxcross had 2 house(s) attacking 1 house(s) \", \"Siege of Storm's End had 1 house(s) attacking 1 house(s) \", \"Battle of the Fords had 1 house(s) attacking 1 house(s) \", \"Sack of Harrenhal had 1 house(s) attacking 1 house(s) \", \"Battle of the Blackwater had 1 house(s) attacking 1 house(s) \", \"The Red Wedding had 2 house(s) attacking 1 house(s) \", \"Battle of Castle Black had 3 house(s) attacking 2 house(s) \", \"Retaking of Deepwood Motte had 4 house(s) attacking 1 house(s) \", \"Siege of Winterfell had 4 house(s) attacking 2 house(s) \"], \"mode\": \"markers\", \"marker\": {\"size\": [12, 12, 12, 37, 37, 12, 37, 37, 12, 12, 12, 12, 37, 87, 87, 112], \"line\": {\"width\": 1.3}, \"symbol\": \"dot\", \"color\": [\"rgb(255, 153, 51)\", \"rgb(255, 153, 51)\", \"rgb(255, 153, 51)\", \"rgb(255, 153, 51)\", \"rgb(255, 153, 51)\", \"rgb(255, 153, 51)\", \"rgb(255, 153, 51)\", \"rgb(255, 153, 51)\", \"rgb(255, 153, 51)\", \"rgb(255, 153, 51)\", \"rgb(255, 153, 51)\", \"rgb(255, 153, 51)\", \"rgb(255, 153, 51)\", \"rgb(255, 153, 51)\", \"rgb(255, 153, 51)\", \"rgb(255, 153, 51)\"]}}], {\"paper_bgcolor\": \"#FFFFFF\", \"titlefont\": {\"color\": \"#4D5663\"}, \"xaxis1\": {\"title\": \"Defender Size\", \"zerolinecolor\": \"#E1E5ED\", \"tickfont\": {\"color\": \"#4D5663\"}, \"showgrid\": true, \"titlefont\": {\"color\": \"#4D5663\"}, \"gridcolor\": \"#E1E5ED\"}, \"legend\": {\"font\": {\"color\": \"#4D5663\"}, \"bgcolor\": \"#FFFFFF\"}, \"yaxis1\": {\"title\": \"Attacker Size\", \"zerolinecolor\": \"#E1E5ED\", \"tickfont\": {\"color\": \"#4D5663\"}, \"showgrid\": true, \"titlefont\": {\"color\": \"#4D5663\"}, \"gridcolor\": \"#E1E5ED\"}, \"plot_bgcolor\": \"#FFFFFF\"}, {\"showLink\": true, \"linkText\": \"Export to plot.ly\"})});</script>"
      ]
     },
     "metadata": {},
     "output_type": "display_data"
    }
   ],
   "source": [
    "battles_df.dropna(subset=['total_involved_count',\n",
    "                          'attacker_size',\n",
    "                          'defender_size',\n",
    "                         'bubble_text']).iplot(kind='bubble', \n",
    "                                                  x='defender_size',\n",
    "                                                  y='attacker_size',\n",
    "                                                  size='total_involved_count',\n",
    "                                                  text='bubble_text',\n",
    "                                                  #color='red',\n",
    "                                                  xTitle='Defender Size', \n",
    "                                                  yTitle='Attacker Size')"
   ]
  },
  {
   "cell_type": "markdown",
   "metadata": {},
   "source": [
    "## Archenemies?\n",
    "The Stark-Baratheon friendship has taken a complete U-turn with a total of 19 battles and counting. Indeed there is no one to be trusted in this land."
   ]
  },
  {
   "cell_type": "code",
   "execution_count": 23,
   "metadata": {
    "collapsed": true
   },
   "outputs": [],
   "source": [
    "temp_df = battles_df.dropna(subset = [\"attacker_king\", \n",
    "                                      \"defender_king\"])[[\n",
    "                                                    \"attacker_king\", \n",
    "                                                    \"defender_king\"\n",
    "                                                        ]]\n",
    "\n",
    "archenemy_df = pd.DataFrame(list(Counter([tuple(set(king_pair)) \n",
    "                                          for king_pair in temp_df.values \n",
    "                                          if len(set(king_pair))>1]).items()),\n",
    "                              columns=['king_pair','battle_count'])\n",
    "\n",
    "archenemy_df['versus_text'] = archenemy_df.apply(lambda row:\n",
    "                                                 '{} Vs {}'.format(\n",
    "                                                     row['king_pair'][0], \n",
    "                                                     row['king_pair'][1]),\n",
    "                                                 axis=1)\n",
    "archenemy_df.sort_values('battle_count',\n",
    "                         inplace=True,\n",
    "                         ascending=False)"
   ]
  },
  {
   "cell_type": "code",
   "execution_count": 24,
   "metadata": {},
   "outputs": [
    {
     "data": {
      "application/vnd.plotly.v1+json": {
       "data": [
        {
         "marker": {
          "color": "rgba(255, 153, 51, 0.6)",
          "line": {
           "color": "rgba(255, 153, 51, 1.0)",
           "width": 1
          }
         },
         "name": "battle_count",
         "orientation": "v",
         "text": "",
         "type": "bar",
         "x": [
          "Joffrey/Tommen Baratheon Vs Robb Stark",
          "Balon/Euron Greyjoy Vs Robb Stark",
          "Stannis Baratheon Vs Joffrey/Tommen Baratheon",
          "Balon/Euron Greyjoy Vs Joffrey/Tommen Baratheon",
          "Stannis Baratheon Vs Mance Rayder",
          "Stannis Baratheon Vs Renly Baratheon",
          "Stannis Baratheon Vs Balon/Euron Greyjoy"
         ],
         "y": [
          19,
          5,
          4,
          3,
          1,
          1,
          1
         ]
        }
       ],
       "layout": {
        "legend": {
         "bgcolor": "#FFFFFF",
         "font": {
          "color": "#4D5663"
         }
        },
        "paper_bgcolor": "#FFFFFF",
        "plot_bgcolor": "#FFFFFF",
        "titlefont": {
         "color": "#4D5663"
        },
        "xaxis1": {
         "gridcolor": "#E1E5ED",
         "showgrid": true,
         "tickfont": {
          "color": "#4D5663"
         },
         "title": "",
         "titlefont": {
          "color": "#4D5663"
         },
         "zerolinecolor": "#E1E5ED"
        },
        "yaxis1": {
         "gridcolor": "#E1E5ED",
         "showgrid": true,
         "tickfont": {
          "color": "#4D5663"
         },
         "title": "",
         "titlefont": {
          "color": "#4D5663"
         },
         "zerolinecolor": "#E1E5ED"
        }
       }
      },
      "text/html": [
       "<div id=\"9007760e-2d3f-4d47-ae4a-8841cc78e577\" style=\"height: 525px; width: 100%;\" class=\"plotly-graph-div\"></div><script type=\"text/javascript\">require([\"plotly\"], function(Plotly) { window.PLOTLYENV=window.PLOTLYENV || {};window.PLOTLYENV.BASE_URL=\"https://plot.ly\";Plotly.newPlot(\"9007760e-2d3f-4d47-ae4a-8841cc78e577\", [{\"x\": [\"Joffrey/Tommen Baratheon Vs Robb Stark\", \"Balon/Euron Greyjoy Vs Robb Stark\", \"Stannis Baratheon Vs Joffrey/Tommen Baratheon\", \"Balon/Euron Greyjoy Vs Joffrey/Tommen Baratheon\", \"Stannis Baratheon Vs Mance Rayder\", \"Stannis Baratheon Vs Renly Baratheon\", \"Stannis Baratheon Vs Balon/Euron Greyjoy\"], \"name\": \"battle_count\", \"y\": [19, 5, 4, 3, 1, 1, 1], \"orientation\": \"v\", \"marker\": {\"color\": \"rgba(255, 153, 51, 0.6)\", \"line\": {\"width\": 1, \"color\": \"rgba(255, 153, 51, 1.0)\"}}, \"type\": \"bar\", \"text\": \"\"}], {\"paper_bgcolor\": \"#FFFFFF\", \"titlefont\": {\"color\": \"#4D5663\"}, \"xaxis1\": {\"title\": \"\", \"zerolinecolor\": \"#E1E5ED\", \"tickfont\": {\"color\": \"#4D5663\"}, \"showgrid\": true, \"titlefont\": {\"color\": \"#4D5663\"}, \"gridcolor\": \"#E1E5ED\"}, \"legend\": {\"font\": {\"color\": \"#4D5663\"}, \"bgcolor\": \"#FFFFFF\"}, \"yaxis1\": {\"title\": \"\", \"zerolinecolor\": \"#E1E5ED\", \"tickfont\": {\"color\": \"#4D5663\"}, \"showgrid\": true, \"titlefont\": {\"color\": \"#4D5663\"}, \"gridcolor\": \"#E1E5ED\"}, \"plot_bgcolor\": \"#FFFFFF\"}, {\"showLink\": true, \"linkText\": \"Export to plot.ly\"})});</script>"
      ],
      "text/vnd.plotly.v1+html": [
       "<div id=\"9007760e-2d3f-4d47-ae4a-8841cc78e577\" style=\"height: 525px; width: 100%;\" class=\"plotly-graph-div\"></div><script type=\"text/javascript\">require([\"plotly\"], function(Plotly) { window.PLOTLYENV=window.PLOTLYENV || {};window.PLOTLYENV.BASE_URL=\"https://plot.ly\";Plotly.newPlot(\"9007760e-2d3f-4d47-ae4a-8841cc78e577\", [{\"x\": [\"Joffrey/Tommen Baratheon Vs Robb Stark\", \"Balon/Euron Greyjoy Vs Robb Stark\", \"Stannis Baratheon Vs Joffrey/Tommen Baratheon\", \"Balon/Euron Greyjoy Vs Joffrey/Tommen Baratheon\", \"Stannis Baratheon Vs Mance Rayder\", \"Stannis Baratheon Vs Renly Baratheon\", \"Stannis Baratheon Vs Balon/Euron Greyjoy\"], \"name\": \"battle_count\", \"y\": [19, 5, 4, 3, 1, 1, 1], \"orientation\": \"v\", \"marker\": {\"color\": \"rgba(255, 153, 51, 0.6)\", \"line\": {\"width\": 1, \"color\": \"rgba(255, 153, 51, 1.0)\"}}, \"type\": \"bar\", \"text\": \"\"}], {\"paper_bgcolor\": \"#FFFFFF\", \"titlefont\": {\"color\": \"#4D5663\"}, \"xaxis1\": {\"title\": \"\", \"zerolinecolor\": \"#E1E5ED\", \"tickfont\": {\"color\": \"#4D5663\"}, \"showgrid\": true, \"titlefont\": {\"color\": \"#4D5663\"}, \"gridcolor\": \"#E1E5ED\"}, \"legend\": {\"font\": {\"color\": \"#4D5663\"}, \"bgcolor\": \"#FFFFFF\"}, \"yaxis1\": {\"title\": \"\", \"zerolinecolor\": \"#E1E5ED\", \"tickfont\": {\"color\": \"#4D5663\"}, \"showgrid\": true, \"titlefont\": {\"color\": \"#4D5663\"}, \"gridcolor\": \"#E1E5ED\"}, \"plot_bgcolor\": \"#FFFFFF\"}, {\"showLink\": true, \"linkText\": \"Export to plot.ly\"})});</script>"
      ]
     },
     "metadata": {},
     "output_type": "display_data"
    }
   ],
   "source": [
    "archenemy_df[['versus_text',\n",
    "              'battle_count']].set_index('versus_text').iplot(\n",
    "                                                            kind='bar')"
   ]
  },
  {
   "cell_type": "markdown",
   "metadata": {},
   "source": [
    "---\n",
    "Note: A lot more exploration is possible with the remaining attributes and their different combinations. This is just tip of the iceberg"
   ]
  }
 ],
 "metadata": {
  "anaconda-cloud": {},
  "kernelspec": {
   "display_name": "Python 3",
   "language": "python",
   "name": "python3"
  },
  "language_info": {
   "codemirror_mode": {
    "name": "ipython",
    "version": 3
   },
   "file_extension": ".py",
   "mimetype": "text/x-python",
   "name": "python",
   "nbconvert_exporter": "python",
   "pygments_lexer": "ipython3",
   "version": "3.5.3"
  }
 },
 "nbformat": 4,
 "nbformat_minor": 2
}
