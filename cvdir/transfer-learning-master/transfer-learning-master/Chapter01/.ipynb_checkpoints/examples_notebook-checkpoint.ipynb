{
 "cells": [
  {
   "cell_type": "code",
   "execution_count": 1,
   "metadata": {},
   "outputs": [
    {
     "name": "stderr",
     "output_type": "stream",
     "text": [
      "C:\\Anaconda2\\envs\\python3\\lib\\site-packages\\statsmodels\\compat\\pandas.py:56: FutureWarning: The pandas.core.datetools module is deprecated and will be removed in a future version. Please use the pandas.tseries module instead.\n",
      "  from pandas.core import datetools\n",
      "IOPub data rate exceeded.\n",
      "The notebook server will temporarily stop sending output\n",
      "to the client in order to avoid crashing it.\n",
      "To change this limit, set the config variable\n",
      "`--NotebookApp.iopub_data_rate_limit`.\n"
     ]
    }
   ],
   "source": [
    "import statsmodels.api as sm\n",
    "import cufflinks as cf\n",
    "\n",
    "import numpy as np\n",
    "import pandas as pd\n",
    "from collections import Counter\n",
    "\n",
    "# pandas display data frames as tables\n",
    "from IPython.display import display, HTML\n",
    "\n",
    "import plotly.plotly as py\n",
    "import plotly.graph_objs as go\n",
    "import plotly.figure_factory as ff\n",
    "\n",
    "from sklearn.linear_model import Ridge\n",
    "from sklearn.preprocessing import PolynomialFeatures\n",
    "from sklearn.pipeline import make_pipeline"
   ]
  },
  {
   "cell_type": "code",
   "execution_count": 2,
   "metadata": {
    "collapsed": true
   },
   "outputs": [],
   "source": [
    "cf.set_config_file(theme='white')"
   ]
  },
  {
   "cell_type": "code",
   "execution_count": 3,
   "metadata": {},
   "outputs": [
    {
     "data": {
      "text/html": [
       "<script>requirejs.config({paths: { 'plotly': ['https://cdn.plot.ly/plotly-latest.min']},});if(!window.Plotly) {{require(['plotly'],function(plotly) {window.Plotly=plotly;});}}</script>"
      ],
      "text/vnd.plotly.v1+html": [
       "<script>requirejs.config({paths: { 'plotly': ['https://cdn.plot.ly/plotly-latest.min']},});if(!window.Plotly) {{require(['plotly'],function(plotly) {window.Plotly=plotly;});}}</script>"
      ]
     },
     "metadata": {},
     "output_type": "display_data"
    }
   ],
   "source": [
    "from plotly.offline import download_plotlyjs, init_notebook_mode, plot, iplot\n",
    "init_notebook_mode(connected=True)"
   ]
  },
  {
   "cell_type": "code",
   "execution_count": 4,
   "metadata": {},
   "outputs": [
    {
     "data": {
      "text/html": [
       "<div>\n",
       "<style>\n",
       "    .dataframe thead tr:only-child th {\n",
       "        text-align: right;\n",
       "    }\n",
       "\n",
       "    .dataframe thead th {\n",
       "        text-align: left;\n",
       "    }\n",
       "\n",
       "    .dataframe tbody tr th {\n",
       "        vertical-align: top;\n",
       "    }\n",
       "</style>\n",
       "<table border=\"1\" class=\"dataframe\">\n",
       "  <thead>\n",
       "    <tr style=\"text-align: right;\">\n",
       "      <th></th>\n",
       "      <th>speed</th>\n",
       "      <th>dist</th>\n",
       "    </tr>\n",
       "  </thead>\n",
       "  <tbody>\n",
       "    <tr>\n",
       "      <th>0</th>\n",
       "      <td>4</td>\n",
       "      <td>2</td>\n",
       "    </tr>\n",
       "    <tr>\n",
       "      <th>1</th>\n",
       "      <td>4</td>\n",
       "      <td>10</td>\n",
       "    </tr>\n",
       "    <tr>\n",
       "      <th>2</th>\n",
       "      <td>7</td>\n",
       "      <td>4</td>\n",
       "    </tr>\n",
       "    <tr>\n",
       "      <th>3</th>\n",
       "      <td>7</td>\n",
       "      <td>22</td>\n",
       "    </tr>\n",
       "    <tr>\n",
       "      <th>4</th>\n",
       "      <td>8</td>\n",
       "      <td>16</td>\n",
       "    </tr>\n",
       "  </tbody>\n",
       "</table>\n",
       "</div>"
      ],
      "text/plain": [
       "   speed  dist\n",
       "0      4     2\n",
       "1      4    10\n",
       "2      7     4\n",
       "3      7    22\n",
       "4      8    16"
      ]
     },
     "execution_count": 4,
     "metadata": {},
     "output_type": "execute_result"
    }
   ],
   "source": [
    "cars = sm.datasets.get_rdataset(\"cars\")\n",
    "cars.data.head()"
   ]
  },
  {
   "cell_type": "code",
   "execution_count": 5,
   "metadata": {},
   "outputs": [
    {
     "data": {
      "text/plain": [
       "Pipeline(steps=[('polynomialfeatures', PolynomialFeatures(degree=2, include_bias=True, interaction_only=False)), ('ridge', Ridge(alpha=1.0, copy_X=True, fit_intercept=True, max_iter=None,\n",
       "   normalize=False, random_state=None, solver='auto', tol=0.001))])"
      ]
     },
     "execution_count": 5,
     "metadata": {},
     "output_type": "execute_result"
    }
   ],
   "source": [
    "x = cars.data['speed'].iloc[:20].values.reshape(-1,1)\n",
    "y = cars.data['dist'].iloc[:20].values.reshape(-1,1)\n",
    "\n",
    "degree1_model = make_pipeline(PolynomialFeatures(1), Ridge())\n",
    "degree1_model.fit(x, y)\n",
    "\n",
    "degree2_model = make_pipeline(PolynomialFeatures(2), Ridge())\n",
    "degree2_model.fit(x, y)"
   ]
  },
  {
   "cell_type": "code",
   "execution_count": 6,
   "metadata": {},
   "outputs": [],
   "source": [
    "y1_pred = degree1_model.predict(cars.data.speed.values.reshape(-1,1))\n",
    "y2_pred = degree2_model.predict(cars.data.speed.values.reshape(-1,1))"
   ]
  },
  {
   "cell_type": "code",
   "execution_count": 7,
   "metadata": {},
   "outputs": [],
   "source": [
    "cars.data['linear_fit'] = y1_pred\n",
    "cars.data['polynomial_fit'] = y2_pred"
   ]
  },
  {
   "cell_type": "code",
   "execution_count": 8,
   "metadata": {},
   "outputs": [],
   "source": [
    "scatter_fig = cars.data.iloc[:20].iplot(kind='scatter',mode='markers',\n",
    "                                        x='speed',y='dist',showline=True,color='blue',\n",
    "                                        xTitle='speed',yTitle='stopping distance',\n",
    "                                        title='Linear Regression',\n",
    "                                        asFigure=True)"
   ]
  },
  {
   "cell_type": "code",
   "execution_count": 9,
   "metadata": {},
   "outputs": [],
   "source": [
    "scatter_fig.data.append(cars.data.iplot(kind='scatter',x='speed',\n",
    "                                        y='linear_fit',mode='lines',color='red',width=2,\n",
    "                                        showline=True,asFigure=True)['data'][0])"
   ]
  },
  {
   "cell_type": "code",
   "execution_count": 10,
   "metadata": {},
   "outputs": [
    {
     "data": {
      "application/vnd.plotly.v1+json": {
       "data": [
        {
         "line": {
          "color": "rgba(55, 128, 191, 1.0)",
          "dash": "solid",
          "width": 1.3
         },
         "marker": {
          "size": 12,
          "symbol": "dot"
         },
         "mode": "markers",
         "name": "dist",
         "text": "",
         "type": "scatter",
         "x": [
          4,
          4,
          7,
          7,
          8,
          9,
          10,
          10,
          10,
          11,
          11,
          12,
          12,
          12,
          12,
          13,
          13,
          13,
          13,
          14
         ],
         "y": [
          2,
          10,
          4,
          22,
          16,
          10,
          18,
          26,
          34,
          17,
          28,
          14,
          20,
          24,
          28,
          26,
          34,
          34,
          46,
          26
         ]
        },
        {
         "line": {
          "color": "rgba(219, 64, 82, 1.0)",
          "dash": "solid",
          "width": 2
         },
         "mode": "lines",
         "name": "linear_fit",
         "text": "",
         "type": "scatter",
         "x": [
          4,
          4,
          7,
          7,
          8,
          9,
          10,
          10,
          10,
          11,
          11,
          12,
          12,
          12,
          12,
          13,
          13,
          13,
          13,
          14,
          14,
          14,
          14,
          15,
          15,
          15,
          16,
          16,
          17,
          17,
          17,
          18,
          18,
          18,
          18,
          19,
          19,
          19,
          20,
          20,
          20,
          20,
          20,
          22,
          23,
          24,
          24,
          24,
          24,
          25
         ],
         "y": [
          5.2864946889226125,
          5.2864946889226125,
          13.284977238239758,
          13.284977238239758,
          15.95113808801214,
          18.617298937784522,
          21.283459787556904,
          21.283459787556904,
          21.283459787556904,
          23.949620637329286,
          23.949620637329286,
          26.615781487101668,
          26.615781487101668,
          26.615781487101668,
          26.615781487101668,
          29.28194233687405,
          29.28194233687405,
          29.28194233687405,
          29.28194233687405,
          31.94810318664643,
          31.94810318664643,
          31.94810318664643,
          31.94810318664643,
          34.61426403641882,
          34.61426403641882,
          34.61426403641882,
          37.2804248861912,
          37.2804248861912,
          39.94658573596358,
          39.94658573596358,
          39.94658573596358,
          42.61274658573596,
          42.61274658573596,
          42.61274658573596,
          42.61274658573596,
          45.278907435508344,
          45.278907435508344,
          45.278907435508344,
          47.945068285280726,
          47.945068285280726,
          47.945068285280726,
          47.945068285280726,
          47.945068285280726,
          53.27738998482549,
          55.94355083459787,
          58.609711684370254,
          58.609711684370254,
          58.609711684370254,
          58.609711684370254,
          61.275872534142636
         ]
        }
       ],
       "layout": {
        "legend": {
         "bgcolor": "#FFFFFF",
         "font": {
          "color": "#4D5663"
         }
        },
        "paper_bgcolor": "#FFFFFF",
        "plot_bgcolor": "#FFFFFF",
        "title": "Linear Regression",
        "titlefont": {
         "color": "#4D5663"
        },
        "xaxis1": {
         "gridcolor": "#E1E5ED",
         "showgrid": true,
         "showline": true,
         "tickfont": {
          "color": "#4D5663"
         },
         "title": "speed",
         "titlefont": {
          "color": "#4D5663"
         },
         "zerolinecolor": "#E1E5ED"
        },
        "yaxis1": {
         "gridcolor": "#E1E5ED",
         "showgrid": true,
         "showline": true,
         "tickfont": {
          "color": "#4D5663"
         },
         "title": "stopping distance",
         "titlefont": {
          "color": "#4D5663"
         },
         "zerolinecolor": "#E1E5ED"
        }
       }
      },
      "text/html": [
       "<div id=\"5b7ae36e-0d75-4515-8058-7a47f18c0954\" style=\"height: 525px; width: 100%;\" class=\"plotly-graph-div\"></div><script type=\"text/javascript\">require([\"plotly\"], function(Plotly) { window.PLOTLYENV=window.PLOTLYENV || {};window.PLOTLYENV.BASE_URL=\"https://plot.ly\";Plotly.newPlot(\"5b7ae36e-0d75-4515-8058-7a47f18c0954\", [{\"type\": \"scatter\", \"text\": \"\", \"name\": \"dist\", \"line\": {\"dash\": \"solid\", \"color\": \"rgba(55, 128, 191, 1.0)\", \"width\": 1.3}, \"x\": [4, 4, 7, 7, 8, 9, 10, 10, 10, 11, 11, 12, 12, 12, 12, 13, 13, 13, 13, 14], \"mode\": \"markers\", \"marker\": {\"symbol\": \"dot\", \"size\": 12}, \"y\": [2, 10, 4, 22, 16, 10, 18, 26, 34, 17, 28, 14, 20, 24, 28, 26, 34, 34, 46, 26]}, {\"type\": \"scatter\", \"text\": \"\", \"name\": \"linear_fit\", \"line\": {\"dash\": \"solid\", \"color\": \"rgba(219, 64, 82, 1.0)\", \"width\": 2}, \"x\": [4, 4, 7, 7, 8, 9, 10, 10, 10, 11, 11, 12, 12, 12, 12, 13, 13, 13, 13, 14, 14, 14, 14, 15, 15, 15, 16, 16, 17, 17, 17, 18, 18, 18, 18, 19, 19, 19, 20, 20, 20, 20, 20, 22, 23, 24, 24, 24, 24, 25], \"mode\": \"lines\", \"y\": [5.2864946889226125, 5.2864946889226125, 13.284977238239758, 13.284977238239758, 15.95113808801214, 18.617298937784522, 21.283459787556904, 21.283459787556904, 21.283459787556904, 23.949620637329286, 23.949620637329286, 26.615781487101668, 26.615781487101668, 26.615781487101668, 26.615781487101668, 29.28194233687405, 29.28194233687405, 29.28194233687405, 29.28194233687405, 31.94810318664643, 31.94810318664643, 31.94810318664643, 31.94810318664643, 34.61426403641882, 34.61426403641882, 34.61426403641882, 37.2804248861912, 37.2804248861912, 39.94658573596358, 39.94658573596358, 39.94658573596358, 42.61274658573596, 42.61274658573596, 42.61274658573596, 42.61274658573596, 45.278907435508344, 45.278907435508344, 45.278907435508344, 47.945068285280726, 47.945068285280726, 47.945068285280726, 47.945068285280726, 47.945068285280726, 53.27738998482549, 55.94355083459787, 58.609711684370254, 58.609711684370254, 58.609711684370254, 58.609711684370254, 61.275872534142636]}], {\"paper_bgcolor\": \"#FFFFFF\", \"legend\": {\"bgcolor\": \"#FFFFFF\", \"font\": {\"color\": \"#4D5663\"}}, \"titlefont\": {\"color\": \"#4D5663\"}, \"yaxis1\": {\"showline\": true, \"zerolinecolor\": \"#E1E5ED\", \"titlefont\": {\"color\": \"#4D5663\"}, \"gridcolor\": \"#E1E5ED\", \"tickfont\": {\"color\": \"#4D5663\"}, \"showgrid\": true, \"title\": \"stopping distance\"}, \"xaxis1\": {\"showline\": true, \"zerolinecolor\": \"#E1E5ED\", \"titlefont\": {\"color\": \"#4D5663\"}, \"gridcolor\": \"#E1E5ED\", \"tickfont\": {\"color\": \"#4D5663\"}, \"showgrid\": true, \"title\": \"speed\"}, \"title\": \"Linear Regression\", \"plot_bgcolor\": \"#FFFFFF\"}, {\"linkText\": \"Export to plot.ly\", \"showLink\": true})});</script>"
      ],
      "text/vnd.plotly.v1+html": [
       "<div id=\"5b7ae36e-0d75-4515-8058-7a47f18c0954\" style=\"height: 525px; width: 100%;\" class=\"plotly-graph-div\"></div><script type=\"text/javascript\">require([\"plotly\"], function(Plotly) { window.PLOTLYENV=window.PLOTLYENV || {};window.PLOTLYENV.BASE_URL=\"https://plot.ly\";Plotly.newPlot(\"5b7ae36e-0d75-4515-8058-7a47f18c0954\", [{\"type\": \"scatter\", \"text\": \"\", \"name\": \"dist\", \"line\": {\"dash\": \"solid\", \"color\": \"rgba(55, 128, 191, 1.0)\", \"width\": 1.3}, \"x\": [4, 4, 7, 7, 8, 9, 10, 10, 10, 11, 11, 12, 12, 12, 12, 13, 13, 13, 13, 14], \"mode\": \"markers\", \"marker\": {\"symbol\": \"dot\", \"size\": 12}, \"y\": [2, 10, 4, 22, 16, 10, 18, 26, 34, 17, 28, 14, 20, 24, 28, 26, 34, 34, 46, 26]}, {\"type\": \"scatter\", \"text\": \"\", \"name\": \"linear_fit\", \"line\": {\"dash\": \"solid\", \"color\": \"rgba(219, 64, 82, 1.0)\", \"width\": 2}, \"x\": [4, 4, 7, 7, 8, 9, 10, 10, 10, 11, 11, 12, 12, 12, 12, 13, 13, 13, 13, 14, 14, 14, 14, 15, 15, 15, 16, 16, 17, 17, 17, 18, 18, 18, 18, 19, 19, 19, 20, 20, 20, 20, 20, 22, 23, 24, 24, 24, 24, 25], \"mode\": \"lines\", \"y\": [5.2864946889226125, 5.2864946889226125, 13.284977238239758, 13.284977238239758, 15.95113808801214, 18.617298937784522, 21.283459787556904, 21.283459787556904, 21.283459787556904, 23.949620637329286, 23.949620637329286, 26.615781487101668, 26.615781487101668, 26.615781487101668, 26.615781487101668, 29.28194233687405, 29.28194233687405, 29.28194233687405, 29.28194233687405, 31.94810318664643, 31.94810318664643, 31.94810318664643, 31.94810318664643, 34.61426403641882, 34.61426403641882, 34.61426403641882, 37.2804248861912, 37.2804248861912, 39.94658573596358, 39.94658573596358, 39.94658573596358, 42.61274658573596, 42.61274658573596, 42.61274658573596, 42.61274658573596, 45.278907435508344, 45.278907435508344, 45.278907435508344, 47.945068285280726, 47.945068285280726, 47.945068285280726, 47.945068285280726, 47.945068285280726, 53.27738998482549, 55.94355083459787, 58.609711684370254, 58.609711684370254, 58.609711684370254, 58.609711684370254, 61.275872534142636]}], {\"paper_bgcolor\": \"#FFFFFF\", \"legend\": {\"bgcolor\": \"#FFFFFF\", \"font\": {\"color\": \"#4D5663\"}}, \"titlefont\": {\"color\": \"#4D5663\"}, \"yaxis1\": {\"showline\": true, \"zerolinecolor\": \"#E1E5ED\", \"titlefont\": {\"color\": \"#4D5663\"}, \"gridcolor\": \"#E1E5ED\", \"tickfont\": {\"color\": \"#4D5663\"}, \"showgrid\": true, \"title\": \"stopping distance\"}, \"xaxis1\": {\"showline\": true, \"zerolinecolor\": \"#E1E5ED\", \"titlefont\": {\"color\": \"#4D5663\"}, \"gridcolor\": \"#E1E5ED\", \"tickfont\": {\"color\": \"#4D5663\"}, \"showgrid\": true, \"title\": \"speed\"}, \"title\": \"Linear Regression\", \"plot_bgcolor\": \"#FFFFFF\"}, {\"linkText\": \"Export to plot.ly\", \"showLink\": true})});</script>"
      ]
     },
     "metadata": {},
     "output_type": "display_data"
    }
   ],
   "source": [
    "iplot(scatter_fig)"
   ]
  },
  {
   "cell_type": "code",
   "execution_count": 11,
   "metadata": {},
   "outputs": [],
   "source": [
    "scatter_fig.data.pop(1)\n",
    "scatter_fig.layout.title='Polynomial Regression'\n",
    "scatter_fig['data'].append(cars.data.iplot(kind='scatter',x='speed',\n",
    "                                           y='polynomial_fit',mode='lines',color='green',width=2,\n",
    "                                           showline=True,asFigure=True)['data'][0])"
   ]
  },
  {
   "cell_type": "code",
   "execution_count": 12,
   "metadata": {},
   "outputs": [
    {
     "data": {
      "application/vnd.plotly.v1+json": {
       "data": [
        {
         "line": {
          "color": "rgba(55, 128, 191, 1.0)",
          "dash": "solid",
          "width": 1.3
         },
         "marker": {
          "size": 12,
          "symbol": "dot"
         },
         "mode": "markers",
         "name": "dist",
         "text": "",
         "type": "scatter",
         "x": [
          4,
          4,
          7,
          7,
          8,
          9,
          10,
          10,
          10,
          11,
          11,
          12,
          12,
          12,
          12,
          13,
          13,
          13,
          13,
          14
         ],
         "y": [
          2,
          10,
          4,
          22,
          16,
          10,
          18,
          26,
          34,
          17,
          28,
          14,
          20,
          24,
          28,
          26,
          34,
          34,
          46,
          26
         ]
        },
        {
         "line": {
          "color": "rgba(0, 128, 0, 1.0)",
          "dash": "solid",
          "width": 2
         },
         "mode": "lines",
         "name": "polynomial_fit",
         "text": "",
         "type": "scatter",
         "x": [
          4,
          4,
          7,
          7,
          8,
          9,
          10,
          10,
          10,
          11,
          11,
          12,
          12,
          12,
          12,
          13,
          13,
          13,
          13,
          14,
          14,
          14,
          14,
          15,
          15,
          15,
          16,
          16,
          17,
          17,
          17,
          18,
          18,
          18,
          18,
          19,
          19,
          19,
          20,
          20,
          20,
          20,
          20,
          22,
          23,
          24,
          24,
          24,
          24,
          25
         ],
         "y": [
          6.275436631102822,
          6.275436631102822,
          12.863813106112024,
          12.863813106112024,
          15.333451446337737,
          17.939846210841438,
          20.68299739962313,
          20.68299739962313,
          20.68299739962313,
          23.562905012682805,
          23.562905012682805,
          26.57956905002047,
          26.57956905002047,
          26.57956905002047,
          26.57956905002047,
          29.732989511636127,
          29.732989511636127,
          29.732989511636127,
          29.732989511636127,
          33.02316639752978,
          33.02316639752978,
          33.02316639752978,
          33.02316639752978,
          36.45009970770141,
          36.45009970770141,
          36.45009970770141,
          40.01378944215102,
          40.01378944215102,
          43.71423560087864,
          43.71423560087864,
          43.71423560087864,
          47.551438183884244,
          47.551438183884244,
          47.551438183884244,
          47.551438183884244,
          51.525397191167826,
          51.525397191167826,
          51.525397191167826,
          55.6361126227294,
          55.6361126227294,
          55.6361126227294,
          55.6361126227294,
          55.6361126227294,
          64.26781275868652,
          68.78879746308206,
          73.4465385917556,
          73.4465385917556,
          73.4465385917556,
          73.4465385917556,
          78.24103614470712
         ]
        }
       ],
       "layout": {
        "legend": {
         "bgcolor": "#FFFFFF",
         "font": {
          "color": "#4D5663"
         }
        },
        "paper_bgcolor": "#FFFFFF",
        "plot_bgcolor": "#FFFFFF",
        "title": "Polynomial Regression",
        "titlefont": {
         "color": "#4D5663"
        },
        "xaxis1": {
         "gridcolor": "#E1E5ED",
         "showgrid": true,
         "showline": true,
         "tickfont": {
          "color": "#4D5663"
         },
         "title": "speed",
         "titlefont": {
          "color": "#4D5663"
         },
         "zerolinecolor": "#E1E5ED"
        },
        "yaxis1": {
         "gridcolor": "#E1E5ED",
         "showgrid": true,
         "showline": true,
         "tickfont": {
          "color": "#4D5663"
         },
         "title": "stopping distance",
         "titlefont": {
          "color": "#4D5663"
         },
         "zerolinecolor": "#E1E5ED"
        }
       }
      },
      "text/html": [
       "<div id=\"552756c3-1fde-4c7f-b966-c6ca45e59faa\" style=\"height: 525px; width: 100%;\" class=\"plotly-graph-div\"></div><script type=\"text/javascript\">require([\"plotly\"], function(Plotly) { window.PLOTLYENV=window.PLOTLYENV || {};window.PLOTLYENV.BASE_URL=\"https://plot.ly\";Plotly.newPlot(\"552756c3-1fde-4c7f-b966-c6ca45e59faa\", [{\"type\": \"scatter\", \"text\": \"\", \"name\": \"dist\", \"line\": {\"dash\": \"solid\", \"color\": \"rgba(55, 128, 191, 1.0)\", \"width\": 1.3}, \"x\": [4, 4, 7, 7, 8, 9, 10, 10, 10, 11, 11, 12, 12, 12, 12, 13, 13, 13, 13, 14], \"mode\": \"markers\", \"marker\": {\"symbol\": \"dot\", \"size\": 12}, \"y\": [2, 10, 4, 22, 16, 10, 18, 26, 34, 17, 28, 14, 20, 24, 28, 26, 34, 34, 46, 26]}, {\"type\": \"scatter\", \"text\": \"\", \"name\": \"polynomial_fit\", \"line\": {\"dash\": \"solid\", \"color\": \"rgba(0, 128, 0, 1.0)\", \"width\": 2}, \"x\": [4, 4, 7, 7, 8, 9, 10, 10, 10, 11, 11, 12, 12, 12, 12, 13, 13, 13, 13, 14, 14, 14, 14, 15, 15, 15, 16, 16, 17, 17, 17, 18, 18, 18, 18, 19, 19, 19, 20, 20, 20, 20, 20, 22, 23, 24, 24, 24, 24, 25], \"mode\": \"lines\", \"y\": [6.275436631102822, 6.275436631102822, 12.863813106112024, 12.863813106112024, 15.333451446337737, 17.939846210841438, 20.68299739962313, 20.68299739962313, 20.68299739962313, 23.562905012682805, 23.562905012682805, 26.57956905002047, 26.57956905002047, 26.57956905002047, 26.57956905002047, 29.732989511636127, 29.732989511636127, 29.732989511636127, 29.732989511636127, 33.02316639752978, 33.02316639752978, 33.02316639752978, 33.02316639752978, 36.45009970770141, 36.45009970770141, 36.45009970770141, 40.01378944215102, 40.01378944215102, 43.71423560087864, 43.71423560087864, 43.71423560087864, 47.551438183884244, 47.551438183884244, 47.551438183884244, 47.551438183884244, 51.525397191167826, 51.525397191167826, 51.525397191167826, 55.6361126227294, 55.6361126227294, 55.6361126227294, 55.6361126227294, 55.6361126227294, 64.26781275868652, 68.78879746308206, 73.4465385917556, 73.4465385917556, 73.4465385917556, 73.4465385917556, 78.24103614470712]}], {\"paper_bgcolor\": \"#FFFFFF\", \"legend\": {\"bgcolor\": \"#FFFFFF\", \"font\": {\"color\": \"#4D5663\"}}, \"titlefont\": {\"color\": \"#4D5663\"}, \"yaxis1\": {\"showline\": true, \"zerolinecolor\": \"#E1E5ED\", \"titlefont\": {\"color\": \"#4D5663\"}, \"gridcolor\": \"#E1E5ED\", \"tickfont\": {\"color\": \"#4D5663\"}, \"showgrid\": true, \"title\": \"stopping distance\"}, \"xaxis1\": {\"showline\": true, \"zerolinecolor\": \"#E1E5ED\", \"titlefont\": {\"color\": \"#4D5663\"}, \"gridcolor\": \"#E1E5ED\", \"tickfont\": {\"color\": \"#4D5663\"}, \"showgrid\": true, \"title\": \"speed\"}, \"title\": \"Polynomial Regression\", \"plot_bgcolor\": \"#FFFFFF\"}, {\"linkText\": \"Export to plot.ly\", \"showLink\": true})});</script>"
      ],
      "text/vnd.plotly.v1+html": [
       "<div id=\"552756c3-1fde-4c7f-b966-c6ca45e59faa\" style=\"height: 525px; width: 100%;\" class=\"plotly-graph-div\"></div><script type=\"text/javascript\">require([\"plotly\"], function(Plotly) { window.PLOTLYENV=window.PLOTLYENV || {};window.PLOTLYENV.BASE_URL=\"https://plot.ly\";Plotly.newPlot(\"552756c3-1fde-4c7f-b966-c6ca45e59faa\", [{\"type\": \"scatter\", \"text\": \"\", \"name\": \"dist\", \"line\": {\"dash\": \"solid\", \"color\": \"rgba(55, 128, 191, 1.0)\", \"width\": 1.3}, \"x\": [4, 4, 7, 7, 8, 9, 10, 10, 10, 11, 11, 12, 12, 12, 12, 13, 13, 13, 13, 14], \"mode\": \"markers\", \"marker\": {\"symbol\": \"dot\", \"size\": 12}, \"y\": [2, 10, 4, 22, 16, 10, 18, 26, 34, 17, 28, 14, 20, 24, 28, 26, 34, 34, 46, 26]}, {\"type\": \"scatter\", \"text\": \"\", \"name\": \"polynomial_fit\", \"line\": {\"dash\": \"solid\", \"color\": \"rgba(0, 128, 0, 1.0)\", \"width\": 2}, \"x\": [4, 4, 7, 7, 8, 9, 10, 10, 10, 11, 11, 12, 12, 12, 12, 13, 13, 13, 13, 14, 14, 14, 14, 15, 15, 15, 16, 16, 17, 17, 17, 18, 18, 18, 18, 19, 19, 19, 20, 20, 20, 20, 20, 22, 23, 24, 24, 24, 24, 25], \"mode\": \"lines\", \"y\": [6.275436631102822, 6.275436631102822, 12.863813106112024, 12.863813106112024, 15.333451446337737, 17.939846210841438, 20.68299739962313, 20.68299739962313, 20.68299739962313, 23.562905012682805, 23.562905012682805, 26.57956905002047, 26.57956905002047, 26.57956905002047, 26.57956905002047, 29.732989511636127, 29.732989511636127, 29.732989511636127, 29.732989511636127, 33.02316639752978, 33.02316639752978, 33.02316639752978, 33.02316639752978, 36.45009970770141, 36.45009970770141, 36.45009970770141, 40.01378944215102, 40.01378944215102, 43.71423560087864, 43.71423560087864, 43.71423560087864, 47.551438183884244, 47.551438183884244, 47.551438183884244, 47.551438183884244, 51.525397191167826, 51.525397191167826, 51.525397191167826, 55.6361126227294, 55.6361126227294, 55.6361126227294, 55.6361126227294, 55.6361126227294, 64.26781275868652, 68.78879746308206, 73.4465385917556, 73.4465385917556, 73.4465385917556, 73.4465385917556, 78.24103614470712]}], {\"paper_bgcolor\": \"#FFFFFF\", \"legend\": {\"bgcolor\": \"#FFFFFF\", \"font\": {\"color\": \"#4D5663\"}}, \"titlefont\": {\"color\": \"#4D5663\"}, \"yaxis1\": {\"showline\": true, \"zerolinecolor\": \"#E1E5ED\", \"titlefont\": {\"color\": \"#4D5663\"}, \"gridcolor\": \"#E1E5ED\", \"tickfont\": {\"color\": \"#4D5663\"}, \"showgrid\": true, \"title\": \"stopping distance\"}, \"xaxis1\": {\"showline\": true, \"zerolinecolor\": \"#E1E5ED\", \"titlefont\": {\"color\": \"#4D5663\"}, \"gridcolor\": \"#E1E5ED\", \"tickfont\": {\"color\": \"#4D5663\"}, \"showgrid\": true, \"title\": \"speed\"}, \"title\": \"Polynomial Regression\", \"plot_bgcolor\": \"#FFFFFF\"}, {\"linkText\": \"Export to plot.ly\", \"showLink\": true})});</script>"
      ]
     },
     "metadata": {},
     "output_type": "display_data"
    }
   ],
   "source": [
    "iplot(scatter_fig)"
   ]
  },
  {
   "cell_type": "code",
   "execution_count": 13,
   "metadata": {},
   "outputs": [
    {
     "name": "stderr",
     "output_type": "stream",
     "text": [
      "2018-01-16 23:51:26,632 INFO Downloading 20news dataset. This may take a few minutes.\n",
      "2018-01-16 23:51:26,634 WARNING Downloading dataset from http://people.csail.mit.edu/jrennie/20Newsgroups/20news-bydate.tar.gz (14 MB)\n"
     ]
    },
    {
     "name": "stdout",
     "output_type": "stream",
     "text": [
      "Automatically created module for IPython interactive environment\n",
      "Usage: ipykernel_launcher.py [options]\n",
      "\n",
      "Options:\n",
      "  -h, --help            show this help message and exit\n",
      "  --lsa=N_COMPONENTS    Preprocess documents with latent semantic analysis.\n",
      "  --no-minibatch        Use ordinary k-means algorithm (in batch mode).\n",
      "  --no-idf              Disable Inverse Document Frequency feature weighting.\n",
      "  --use-hashing         Use a hashing feature vectorizer\n",
      "  --n-features=N_FEATURES\n",
      "                        Maximum number of features (dimensions) to extract\n",
      "                        from text.\n",
      "  --verbose             Print progress reports inside k-means algorithm.\n",
      "Loading 20 newsgroups dataset for categories:\n",
      "['alt.atheism', 'talk.religion.misc', 'comp.graphics', 'sci.space']\n"
     ]
    },
    {
     "name": "stderr",
     "output_type": "stream",
     "text": [
      "2018-01-16 23:51:31,549 INFO Decompressing C:\\Users\\RAGHAV\\scikit_learn_data\\20news_home\\20news-bydate.tar.gz\n"
     ]
    },
    {
     "name": "stdout",
     "output_type": "stream",
     "text": [
      "3387 documents\n",
      "4 categories\n",
      "\n",
      "Extracting features from the training dataset using a sparse vectorizer\n",
      "done in 1.271606s\n",
      "n_samples: 3387, n_features: 10000\n",
      "\n",
      "Clustering sparse data with MiniBatchKMeans(batch_size=1000, compute_labels=True, init='k-means++',\n",
      "        init_size=1000, max_iter=100, max_no_improvement=10, n_clusters=4,\n",
      "        n_init=1, random_state=None, reassignment_ratio=0.01, tol=0.0,\n",
      "        verbose=False)\n",
      "done in 0.162s\n",
      "\n",
      "Homogeneity: 0.333\n",
      "Completeness: 0.403\n",
      "V-measure: 0.365\n",
      "Adjusted Rand-Index: 0.324\n",
      "Silhouette Coefficient: 0.006\n",
      "\n",
      "Top terms per cluster:\n",
      "Cluster 0: com people don koresh article islam just think did know\n",
      "Cluster 1: god sandvik kent jesus com apple newton people christian keith\n",
      "Cluster 2: sgi livesey morality objective com uiuc solntze wpd jon keith\n",
      "Cluster 3: space graphics com university nasa posting host nntp henry access\n"
     ]
    }
   ],
   "source": [
    "from __future__ import print_function\n",
    "\n",
    "from sklearn.datasets import fetch_20newsgroups\n",
    "from sklearn.decomposition import TruncatedSVD\n",
    "from sklearn.feature_extraction.text import TfidfVectorizer\n",
    "from sklearn.feature_extraction.text import HashingVectorizer\n",
    "from sklearn.feature_extraction.text import TfidfTransformer\n",
    "from sklearn.pipeline import make_pipeline\n",
    "from sklearn.preprocessing import Normalizer\n",
    "from sklearn import metrics\n",
    "\n",
    "from sklearn.cluster import KMeans, MiniBatchKMeans\n",
    "\n",
    "import logging\n",
    "from optparse import OptionParser\n",
    "import sys\n",
    "from time import time\n",
    "\n",
    "import numpy as np\n",
    "\n",
    "\n",
    "# Display progress logs on stdout\n",
    "logging.basicConfig(level=logging.INFO,\n",
    "                    format='%(asctime)s %(levelname)s %(message)s')\n",
    "\n",
    "# parse commandline arguments\n",
    "op = OptionParser()\n",
    "op.add_option(\"--lsa\",\n",
    "              dest=\"n_components\", type=\"int\",\n",
    "              help=\"Preprocess documents with latent semantic analysis.\")\n",
    "op.add_option(\"--no-minibatch\",\n",
    "              action=\"store_false\", dest=\"minibatch\", default=True,\n",
    "              help=\"Use ordinary k-means algorithm (in batch mode).\")\n",
    "op.add_option(\"--no-idf\",\n",
    "              action=\"store_false\", dest=\"use_idf\", default=True,\n",
    "              help=\"Disable Inverse Document Frequency feature weighting.\")\n",
    "op.add_option(\"--use-hashing\",\n",
    "              action=\"store_true\", default=False,\n",
    "              help=\"Use a hashing feature vectorizer\")\n",
    "op.add_option(\"--n-features\", type=int, default=10000,\n",
    "              help=\"Maximum number of features (dimensions)\"\n",
    "                   \" to extract from text.\")\n",
    "op.add_option(\"--verbose\",\n",
    "              action=\"store_true\", dest=\"verbose\", default=False,\n",
    "              help=\"Print progress reports inside k-means algorithm.\")\n",
    "\n",
    "print(__doc__)\n",
    "op.print_help()\n",
    "\n",
    "\n",
    "def is_interactive():\n",
    "    return not hasattr(sys.modules['__main__'], '__file__')\n",
    "\n",
    "# work-around for Jupyter notebook and IPython console\n",
    "argv = [] if is_interactive() else sys.argv[1:]\n",
    "(opts, args) = op.parse_args(argv)\n",
    "if len(args) > 0:\n",
    "    op.error(\"this script takes no arguments.\")\n",
    "    sys.exit(1)\n",
    "\n",
    "\n",
    "# #############################################################################\n",
    "# Load some categories from the training set\n",
    "categories = [\n",
    "    'alt.atheism',\n",
    "    'talk.religion.misc',\n",
    "    'comp.graphics',\n",
    "    'sci.space',\n",
    "]\n",
    "# Uncomment the following to do the analysis on all the categories\n",
    "# categories = None\n",
    "\n",
    "print(\"Loading 20 newsgroups dataset for categories:\")\n",
    "print(categories)\n",
    "\n",
    "dataset = fetch_20newsgroups(subset='all', categories=categories,\n",
    "                             shuffle=True, random_state=42)\n",
    "\n",
    "print(\"%d documents\" % len(dataset.data))\n",
    "print(\"%d categories\" % len(dataset.target_names))\n",
    "print()\n",
    "\n",
    "labels = dataset.target\n",
    "true_k = np.unique(labels).shape[0]\n",
    "\n",
    "print(\"Extracting features from the training dataset using a sparse vectorizer\")\n",
    "t0 = time()\n",
    "if opts.use_hashing:\n",
    "    if opts.use_idf:\n",
    "        # Perform an IDF normalization on the output of HashingVectorizer\n",
    "        hasher = HashingVectorizer(n_features=opts.n_features,\n",
    "                                   stop_words='english', alternate_sign=False,\n",
    "                                   norm=None, binary=False)\n",
    "        vectorizer = make_pipeline(hasher, TfidfTransformer())\n",
    "    else:\n",
    "        vectorizer = HashingVectorizer(n_features=opts.n_features,\n",
    "                                       stop_words='english',\n",
    "                                       alternate_sign=False, norm='l2',\n",
    "                                       binary=False)\n",
    "else:\n",
    "    vectorizer = TfidfVectorizer(max_df=0.5, max_features=opts.n_features,\n",
    "                                 min_df=2, stop_words='english',\n",
    "                                 use_idf=opts.use_idf)\n",
    "X = vectorizer.fit_transform(dataset.data)\n",
    "\n",
    "print(\"done in %fs\" % (time() - t0))\n",
    "print(\"n_samples: %d, n_features: %d\" % X.shape)\n",
    "print()\n",
    "\n",
    "if opts.n_components:\n",
    "    print(\"Performing dimensionality reduction using LSA\")\n",
    "    t0 = time()\n",
    "    # Vectorizer results are normalized, which makes KMeans behave as\n",
    "    # spherical k-means for better results. Since LSA/SVD results are\n",
    "    # not normalized, we have to redo the normalization.\n",
    "    svd = TruncatedSVD(opts.n_components)\n",
    "    normalizer = Normalizer(copy=False)\n",
    "    lsa = make_pipeline(svd, normalizer)\n",
    "\n",
    "    X = lsa.fit_transform(X)\n",
    "\n",
    "    print(\"done in %fs\" % (time() - t0))\n",
    "\n",
    "    explained_variance = svd.explained_variance_ratio_.sum()\n",
    "    print(\"Explained variance of the SVD step: {}%\".format(\n",
    "        int(explained_variance * 100)))\n",
    "\n",
    "    print()\n",
    "\n",
    "\n",
    "# #############################################################################\n",
    "# Do the actual clustering\n",
    "\n",
    "if opts.minibatch:\n",
    "    km = MiniBatchKMeans(n_clusters=true_k, init='k-means++', n_init=1,\n",
    "                         init_size=1000, batch_size=1000, verbose=opts.verbose)\n",
    "else:\n",
    "    km = KMeans(n_clusters=true_k, init='k-means++', max_iter=100, n_init=1,\n",
    "                verbose=opts.verbose)\n",
    "\n",
    "print(\"Clustering sparse data with %s\" % km)\n",
    "t0 = time()\n",
    "km.fit(X)\n",
    "print(\"done in %0.3fs\" % (time() - t0))\n",
    "print()\n",
    "\n",
    "print(\"Homogeneity: %0.3f\" % metrics.homogeneity_score(labels, km.labels_))\n",
    "print(\"Completeness: %0.3f\" % metrics.completeness_score(labels, km.labels_))\n",
    "print(\"V-measure: %0.3f\" % metrics.v_measure_score(labels, km.labels_))\n",
    "print(\"Adjusted Rand-Index: %.3f\"\n",
    "      % metrics.adjusted_rand_score(labels, km.labels_))\n",
    "print(\"Silhouette Coefficient: %0.3f\"\n",
    "      % metrics.silhouette_score(X, km.labels_, sample_size=1000))\n",
    "\n",
    "print()\n",
    "\n",
    "\n",
    "if not opts.use_hashing:\n",
    "    print(\"Top terms per cluster:\")\n",
    "\n",
    "    if opts.n_components:\n",
    "        original_space_centroids = svd.inverse_transform(km.cluster_centers_)\n",
    "        order_centroids = original_space_centroids.argsort()[:, ::-1]\n",
    "    else:\n",
    "        order_centroids = km.cluster_centers_.argsort()[:, ::-1]\n",
    "\n",
    "    terms = vectorizer.get_feature_names()\n",
    "    for i in range(true_k):\n",
    "        print(\"Cluster %d:\" % i, end='')\n",
    "        for ind in order_centroids[i, :10]:\n",
    "            print(' %s' % terms[ind], end='')\n",
    "        print()"
   ]
  },
  {
   "cell_type": "code",
   "execution_count": null,
   "metadata": {
    "collapsed": true
   },
   "outputs": [],
   "source": []
  }
 ],
 "metadata": {
  "kernelspec": {
   "display_name": "Python 3",
   "language": "python",
   "name": "python3"
  },
  "language_info": {
   "codemirror_mode": {
    "name": "ipython",
    "version": 3
   },
   "file_extension": ".py",
   "mimetype": "text/x-python",
   "name": "python",
   "nbconvert_exporter": "python",
   "pygments_lexer": "ipython3",
   "version": "3.5.3"
  }
 },
 "nbformat": 4,
 "nbformat_minor": 2
}
