{
 "cells": [
  {
   "cell_type": "markdown",
   "metadata": {},
   "source": [
    "# 모델링"
   ]
  },
  {
   "cell_type": "code",
   "execution_count": 2,
   "metadata": {},
   "outputs": [],
   "source": [
    "from sklearn.externals import joblib\n",
    "import keras\n",
    "from keras import models\n",
    "from keras import layers\n",
    "import model_evaluation_utils as meu\n",
    "import matplotlib.pyplot as plt\n",
    "\n",
    "%matplotlib inline"
   ]
  },
  {
   "cell_type": "markdown",
   "metadata": {},
   "source": [
    "_이전에 추출한 특성을 가져옵니다. VGG모델에서 얻은 2048 1차원 벡터입니다.._"
   ]
  },
  {
   "cell_type": "code",
   "execution_count": 3,
   "metadata": {},
   "outputs": [
    {
     "data": {
      "text/plain": [
       "((18300, 2048), (6100, 2048), (6100, 2048))"
      ]
     },
     "execution_count": 3,
     "metadata": {},
     "output_type": "execute_result"
    }
   ],
   "source": [
    "train_features = joblib.load('train_tl_features.pkl')\n",
    "train_labels = joblib.load('train_labels.pkl')\n",
    "validation_features = joblib.load('validate_tl_features.pkl')\n",
    "validation_labels = joblib.load('validate_labels.pkl')\n",
    "test_features = joblib.load('test_tl_features.pkl')\n",
    "test_labels = joblib.load('test_labels.pkl')\n",
    "\n",
    "train_features.shape, validation_features.shape, test_features.shape"
   ]
  },
  {
   "cell_type": "code",
   "execution_count": 4,
   "metadata": {},
   "outputs": [
    {
     "data": {
      "text/plain": [
       "((18300,), (6100,), (6100,))"
      ]
     },
     "execution_count": 4,
     "metadata": {},
     "output_type": "execute_result"
    }
   ],
   "source": [
    "train_labels.shape, validation_labels.shape, test_labels.shape"
   ]
  },
  {
   "cell_type": "markdown",
   "metadata": {},
   "source": [
    "_딥러닝 모델에 넣기 위해 라벨을 원-핫 인코딩으로 변환을 합니다._"
   ]
  },
  {
   "cell_type": "code",
   "execution_count": 5,
   "metadata": {},
   "outputs": [],
   "source": [
    "from keras.utils import to_categorical\n",
    "\n",
    "train_labels_ohe = to_categorical(train_labels)\n",
    "validation_labels_ohe = to_categorical(validation_labels)\n",
    "test_labels_ohe = to_categorical(test_labels)"
   ]
  },
  {
   "cell_type": "code",
   "execution_count": 6,
   "metadata": {},
   "outputs": [
    {
     "data": {
      "text/plain": [
       "((18300, 10), (6100, 10), (6100, 10))"
      ]
     },
     "execution_count": 6,
     "metadata": {},
     "output_type": "execute_result"
    }
   ],
   "source": [
    "train_labels_ohe.shape, validation_labels_ohe.shape, test_labels_ohe.shape"
   ]
  },
  {
   "cell_type": "markdown",
   "metadata": {},
   "source": [
    "_sequential 모델을 생성합니다._"
   ]
  },
  {
   "cell_type": "code",
   "execution_count": 7,
   "metadata": {},
   "outputs": [
    {
     "name": "stdout",
     "output_type": "stream",
     "text": [
      "Model: \"sequential_1\"\n",
      "_________________________________________________________________\n",
      "Layer (type)                 Output Shape              Param #   \n",
      "=================================================================\n",
      "dense_1 (Dense)              (None, 1024)              2098176   \n",
      "_________________________________________________________________\n",
      "dropout_1 (Dropout)          (None, 1024)              0         \n",
      "_________________________________________________________________\n",
      "dense_2 (Dense)              (None, 1024)              1049600   \n",
      "_________________________________________________________________\n",
      "dropout_2 (Dropout)          (None, 1024)              0         \n",
      "_________________________________________________________________\n",
      "dense_3 (Dense)              (None, 512)               524800    \n",
      "_________________________________________________________________\n",
      "dropout_3 (Dropout)          (None, 512)               0         \n",
      "_________________________________________________________________\n",
      "dense_4 (Dense)              (None, 512)               262656    \n",
      "_________________________________________________________________\n",
      "dropout_4 (Dropout)          (None, 512)               0         \n",
      "_________________________________________________________________\n",
      "dense_5 (Dense)              (None, 10)                5130      \n",
      "=================================================================\n",
      "Total params: 3,940,362\n",
      "Trainable params: 3,940,362\n",
      "Non-trainable params: 0\n",
      "_________________________________________________________________\n"
     ]
    }
   ],
   "source": [
    "model = models.Sequential()\n",
    "model.add(layers.Dense(1024, activation='relu', input_shape=(train_features.shape[1],)))\n",
    "model.add(layers.Dropout(0.4))\n",
    "model.add(layers.Dense(1024, activation='relu'))\n",
    "model.add(layers.Dropout(0.4))\n",
    "model.add(layers.Dense(512, activation='relu'))\n",
    "model.add(layers.Dropout(0.5))\n",
    "model.add(layers.Dense(512, activation='relu'))\n",
    "model.add(layers.Dropout(0.5))\n",
    "model.add(layers.Dense(train_labels_ohe.shape[1], activation='softmax'))\n",
    "model.compile(loss='categorical_crossentropy', optimizer='adam',                 \n",
    "                      metrics=['accuracy'])\n",
    "\n",
    "model.summary()"
   ]
  },
  {
   "cell_type": "markdown",
   "metadata": {},
   "source": [
    "_배치사이즈 128에 에포크 50으로 학습을 시작합니다._"
   ]
  },
  {
   "cell_type": "code",
   "execution_count": 8,
   "metadata": {},
   "outputs": [
    {
     "name": "stdout",
     "output_type": "stream",
     "text": [
      "Train on 18300 samples, validate on 6100 samples\n",
      "Epoch 1/50\n",
      "18300/18300 [==============================] - 10s 547us/step - loss: 2.3430 - accuracy: 0.4010 - val_loss: 1.0612 - val_accuracy: 0.6507\n",
      "Epoch 2/50\n",
      "18300/18300 [==============================] - 9s 497us/step - loss: 1.1698 - accuracy: 0.6034 - val_loss: 0.8237 - val_accuracy: 0.7331\n",
      "Epoch 3/50\n",
      "18300/18300 [==============================] - 8s 463us/step - loss: 0.9572 - accuracy: 0.6871 - val_loss: 0.7279 - val_accuracy: 0.7713\n",
      "Epoch 4/50\n",
      "18300/18300 [==============================] - 9s 465us/step - loss: 0.8289 - accuracy: 0.7298 - val_loss: 0.6828 - val_accuracy: 0.7946\n",
      "Epoch 5/50\n",
      "18300/18300 [==============================] - 9s 470us/step - loss: 0.7680 - accuracy: 0.7553 - val_loss: 0.6422 - val_accuracy: 0.8049\n",
      "Epoch 6/50\n",
      "18300/18300 [==============================] - 9s 469us/step - loss: 0.6895 - accuracy: 0.7764 - val_loss: 0.5944 - val_accuracy: 0.8175\n",
      "Epoch 7/50\n",
      "18300/18300 [==============================] - 9s 472us/step - loss: 0.6624 - accuracy: 0.7884 - val_loss: 0.5693 - val_accuracy: 0.8238\n",
      "Epoch 8/50\n",
      "18300/18300 [==============================] - 9s 480us/step - loss: 0.6107 - accuracy: 0.8063 - val_loss: 0.5610 - val_accuracy: 0.8293\n",
      "Epoch 9/50\n",
      "18300/18300 [==============================] - 9s 473us/step - loss: 0.5679 - accuracy: 0.8200 - val_loss: 0.5154 - val_accuracy: 0.8375\n",
      "Epoch 10/50\n",
      "18300/18300 [==============================] - 9s 474us/step - loss: 0.5299 - accuracy: 0.8314 - val_loss: 0.5348 - val_accuracy: 0.8305\n",
      "Epoch 11/50\n",
      "18300/18300 [==============================] - 9s 474us/step - loss: 0.5073 - accuracy: 0.8387 - val_loss: 0.4922 - val_accuracy: 0.8497\n",
      "Epoch 12/50\n",
      "18300/18300 [==============================] - 9s 483us/step - loss: 0.4879 - accuracy: 0.8478 - val_loss: 0.4790 - val_accuracy: 0.8533\n",
      "Epoch 13/50\n",
      "18300/18300 [==============================] - 9s 485us/step - loss: 0.4756 - accuracy: 0.8510 - val_loss: 0.4959 - val_accuracy: 0.8472\n",
      "Epoch 14/50\n",
      "18300/18300 [==============================] - 9s 480us/step - loss: 0.4491 - accuracy: 0.8557 - val_loss: 0.5152 - val_accuracy: 0.8421\n",
      "Epoch 15/50\n",
      "18300/18300 [==============================] - 9s 481us/step - loss: 0.4304 - accuracy: 0.8600 - val_loss: 0.4889 - val_accuracy: 0.8521\n",
      "Epoch 16/50\n",
      "18300/18300 [==============================] - 9s 486us/step - loss: 0.4128 - accuracy: 0.8675 - val_loss: 0.4663 - val_accuracy: 0.8530\n",
      "Epoch 17/50\n",
      "18300/18300 [==============================] - 9s 480us/step - loss: 0.4124 - accuracy: 0.8699 - val_loss: 0.4720 - val_accuracy: 0.8589\n",
      "Epoch 18/50\n",
      "18300/18300 [==============================] - 9s 479us/step - loss: 0.3985 - accuracy: 0.8758 - val_loss: 0.4456 - val_accuracy: 0.8626\n",
      "Epoch 19/50\n",
      "18300/18300 [==============================] - 9s 486us/step - loss: 0.3886 - accuracy: 0.8786 - val_loss: 0.4528 - val_accuracy: 0.8611\n",
      "Epoch 20/50\n",
      "18300/18300 [==============================] - 9s 484us/step - loss: 0.3679 - accuracy: 0.8816 - val_loss: 0.4323 - val_accuracy: 0.8702\n",
      "Epoch 21/50\n",
      "18300/18300 [==============================] - 9s 481us/step - loss: 0.3723 - accuracy: 0.8859 - val_loss: 0.4432 - val_accuracy: 0.8641\n",
      "Epoch 22/50\n",
      "18300/18300 [==============================] - 9s 483us/step - loss: 0.3633 - accuracy: 0.8866 - val_loss: 0.4381 - val_accuracy: 0.8662\n",
      "Epoch 23/50\n",
      "18300/18300 [==============================] - 9s 483us/step - loss: 0.3548 - accuracy: 0.8903 - val_loss: 0.4484 - val_accuracy: 0.8646\n",
      "Epoch 24/50\n",
      "18300/18300 [==============================] - 9s 481us/step - loss: 0.3399 - accuracy: 0.8955 - val_loss: 0.4450 - val_accuracy: 0.8685\n",
      "Epoch 25/50\n",
      "18300/18300 [==============================] - 9s 484us/step - loss: 0.3364 - accuracy: 0.8966 - val_loss: 0.4462 - val_accuracy: 0.8684\n",
      "Epoch 26/50\n",
      "18300/18300 [==============================] - 9s 490us/step - loss: 0.3172 - accuracy: 0.9007 - val_loss: 0.4540 - val_accuracy: 0.8702\n",
      "Epoch 27/50\n",
      "18300/18300 [==============================] - 9s 484us/step - loss: 0.3208 - accuracy: 0.9011 - val_loss: 0.4712 - val_accuracy: 0.8648\n",
      "Epoch 28/50\n",
      "18300/18300 [==============================] - 9s 484us/step - loss: 0.3112 - accuracy: 0.9052 - val_loss: 0.4374 - val_accuracy: 0.8703\n",
      "Epoch 29/50\n",
      "18300/18300 [==============================] - 9s 485us/step - loss: 0.2961 - accuracy: 0.9095 - val_loss: 0.4514 - val_accuracy: 0.8679\n",
      "Epoch 30/50\n",
      "18300/18300 [==============================] - 9s 483us/step - loss: 0.2939 - accuracy: 0.9072 - val_loss: 0.4517 - val_accuracy: 0.8721\n",
      "Epoch 31/50\n",
      "18300/18300 [==============================] - 9s 482us/step - loss: 0.3019 - accuracy: 0.9086 - val_loss: 0.4462 - val_accuracy: 0.8675\n",
      "Epoch 32/50\n",
      "18300/18300 [==============================] - 9s 484us/step - loss: 0.3097 - accuracy: 0.9055 - val_loss: 0.4265 - val_accuracy: 0.8772\n",
      "Epoch 33/50\n",
      "18300/18300 [==============================] - 9s 486us/step - loss: 0.2904 - accuracy: 0.9090 - val_loss: 0.4462 - val_accuracy: 0.8797\n",
      "Epoch 34/50\n",
      "18300/18300 [==============================] - 9s 486us/step - loss: 0.2921 - accuracy: 0.9113 - val_loss: 0.4496 - val_accuracy: 0.8759\n",
      "Epoch 35/50\n",
      "18300/18300 [==============================] - 9s 489us/step - loss: 0.2999 - accuracy: 0.9120 - val_loss: 0.4647 - val_accuracy: 0.8725\n",
      "Epoch 36/50\n",
      "18300/18300 [==============================] - 9s 490us/step - loss: 0.2868 - accuracy: 0.9139 - val_loss: 0.4465 - val_accuracy: 0.8708\n",
      "Epoch 37/50\n",
      "18300/18300 [==============================] - 9s 495us/step - loss: 0.2861 - accuracy: 0.9151 - val_loss: 0.4609 - val_accuracy: 0.8748\n",
      "Epoch 38/50\n",
      "18300/18300 [==============================] - 9s 491us/step - loss: 0.2790 - accuracy: 0.9166 - val_loss: 0.4808 - val_accuracy: 0.8695\n",
      "Epoch 39/50\n",
      "18300/18300 [==============================] - 9s 503us/step - loss: 0.2748 - accuracy: 0.9197 - val_loss: 0.4569 - val_accuracy: 0.8785\n",
      "Epoch 40/50\n",
      "18300/18300 [==============================] - 9s 487us/step - loss: 0.2672 - accuracy: 0.9216 - val_loss: 0.4510 - val_accuracy: 0.8767\n",
      "Epoch 41/50\n",
      "18300/18300 [==============================] - 9s 488us/step - loss: 0.2588 - accuracy: 0.9225 - val_loss: 0.4734 - val_accuracy: 0.8764\n",
      "Epoch 42/50\n",
      "18300/18300 [==============================] - 9s 492us/step - loss: 0.2491 - accuracy: 0.9261 - val_loss: 0.4885 - val_accuracy: 0.8726\n",
      "Epoch 43/50\n",
      "18300/18300 [==============================] - 9s 490us/step - loss: 0.2671 - accuracy: 0.9237 - val_loss: 0.4876 - val_accuracy: 0.8690\n",
      "Epoch 44/50\n",
      "18300/18300 [==============================] - 9s 488us/step - loss: 0.2621 - accuracy: 0.9229 - val_loss: 0.4822 - val_accuracy: 0.8775\n",
      "Epoch 45/50\n",
      "18300/18300 [==============================] - 9s 488us/step - loss: 0.2558 - accuracy: 0.9244 - val_loss: 0.4716 - val_accuracy: 0.8716\n",
      "Epoch 46/50\n",
      "18300/18300 [==============================] - 9s 490us/step - loss: 0.2546 - accuracy: 0.9264 - val_loss: 0.4719 - val_accuracy: 0.8828\n",
      "Epoch 47/50\n",
      "18300/18300 [==============================] - 9s 489us/step - loss: 0.2518 - accuracy: 0.9261 - val_loss: 0.4539 - val_accuracy: 0.8815\n",
      "Epoch 48/50\n",
      "18300/18300 [==============================] - 9s 493us/step - loss: 0.2417 - accuracy: 0.9283 - val_loss: 0.4863 - val_accuracy: 0.8821\n",
      "Epoch 49/50\n",
      "18300/18300 [==============================] - 9s 497us/step - loss: 0.2335 - accuracy: 0.9334 - val_loss: 0.5273 - val_accuracy: 0.8702\n",
      "Epoch 50/50\n",
      "18300/18300 [==============================] - 9s 491us/step - loss: 0.2496 - accuracy: 0.9294 - val_loss: 0.4685 - val_accuracy: 0.8787\n"
     ]
    }
   ],
   "source": [
    "history = model.fit(train_features,\n",
    "                    train_labels_ohe,\n",
    "                    epochs=50,\n",
    "                    batch_size=128,\n",
    "                    validation_data=(validation_features, validation_labels_ohe), \n",
    "                    shuffle=True,\n",
    "                    verbose=1)"
   ]
  },
  {
   "cell_type": "markdown",
   "metadata": {},
   "source": [
    "_분류기 성능 평가 : 테스트 데이터로 예측값을 만듭니다._"
   ]
  },
  {
   "cell_type": "code",
   "execution_count": 10,
   "metadata": {},
   "outputs": [],
   "source": [
    "predictions = model.predict_classes(test_features)"
   ]
  },
  {
   "cell_type": "code",
   "execution_count": 11,
   "metadata": {},
   "outputs": [
    {
     "data": {
      "image/png": "[encoded data removed]",
      "text/plain": [
       "<Figure size 864x288 with 2 Axes>"
      ]
     },
     "metadata": {
      "needs_background": "light"
     },
     "output_type": "display_data"
    }
   ],
   "source": [
    "f, (ax1, ax2) = plt.subplots(1, 2, figsize=(12, 4))\n",
    "t = f.suptitle('Deep Neural Net Performance', fontsize=12)\n",
    "f.subplots_adjust(top=0.85, wspace=0.2)\n",
    "\n",
    "epochs = list(range(1,51))\n",
    "ax1.plot(epochs, history.history['accuracy'], label='Train Accuracy')\n",
    "ax1.plot(epochs, history.history['val_accuracy'], label='Validation Accuracy')\n",
    "ax1.set_ylabel('Accuracy Value')\n",
    "ax1.set_xlabel('Epoch')\n",
    "ax1.set_title('Accuracy')\n",
    "l1 = ax1.legend(loc=\"best\")\n",
    "\n",
    "ax2.plot(epochs, history.history['loss'], label='Train Loss')\n",
    "ax2.plot(epochs, history.history['val_loss'], label='Validation Loss')\n",
    "ax2.set_ylabel('Loss Value')\n",
    "ax2.set_xlabel('Epoch')\n",
    "ax2.set_title('Loss')\n",
    "l2 = ax2.legend(loc=\"best\")"
   ]
  },
  {
   "cell_type": "markdown",
   "metadata": {},
   "source": [
    "_모델 데이터의 성을을 평가하기 위해 데이터를 변경합니다._"
   ]
  },
  {
   "cell_type": "code",
   "execution_count": 12,
   "metadata": {},
   "outputs": [],
   "source": [
    "class_map = {'0' : 'air_conditioner', '1' : 'car_horn', '2' : 'children_playing', '3' : 'dog_bark', '4' : 'drilling', \n",
    "             '5' : 'engine_idling', '6' : 'gun_shot', '7' : 'jackhammer', '8' : 'siren', '9' : 'street_music'}\n",
    "\n",
    "test_labels_categories = [class_map[str(label)] for label in test_labels]\n",
    "prediction_labels_categories = [class_map[str(label)] for label in predictions]\n",
    "category_names = list(class_map.values())"
   ]
  },
  {
   "cell_type": "markdown",
   "metadata": {},
   "source": [
    "_사이킷런의 metrics를 사용하여 성능을 평가합니다._"
   ]
  },
  {
   "cell_type": "code",
   "execution_count": 13,
   "metadata": {},
   "outputs": [
    {
     "name": "stdout",
     "output_type": "stream",
     "text": [
      "Accuracy: 0.8757\n",
      "Precision: 0.877\n",
      "Recall: 0.8757\n",
      "F1 Score: 0.8758\n"
     ]
    }
   ],
   "source": [
    "meu.get_metrics(true_labels=test_labels_categories, \n",
    "                predicted_labels=prediction_labels_categories)"
   ]
  },
  {
   "cell_type": "markdown",
   "metadata": {},
   "source": [
    "_카테고리별로 확인을 할 수 있습니다._"
   ]
  },
  {
   "cell_type": "code",
   "execution_count": 14,
   "metadata": {
    "scrolled": true
   },
   "outputs": [
    {
     "name": "stdout",
     "output_type": "stream",
     "text": [
      "                  precision    recall  f1-score   support\n",
      "\n",
      " air_conditioner       0.88      0.95      0.91       783\n",
      "        car_horn       0.88      0.84      0.86       190\n",
      "children_playing       0.78      0.82      0.80       845\n",
      "        dog_bark       0.88      0.80      0.83       598\n",
      "        drilling       0.92      0.89      0.90       683\n",
      "   engine_idling       0.93      0.92      0.92       733\n",
      "        gun_shot       0.91      0.97      0.94        60\n",
      "      jackhammer       0.92      0.95      0.93       663\n",
      "           siren       0.94      0.91      0.92       757\n",
      "    street_music       0.80      0.79      0.79       788\n",
      "\n",
      "        accuracy                           0.88      6100\n",
      "       macro avg       0.88      0.88      0.88      6100\n",
      "    weighted avg       0.88      0.88      0.88      6100\n",
      "\n"
     ]
    }
   ],
   "source": [
    "meu.display_classification_report(true_labels=test_labels_categories, \n",
    "                                  predicted_labels=prediction_labels_categories, \n",
    "                                  classes=category_names)"
   ]
  },
  {
   "cell_type": "code",
   "execution_count": 17,
   "metadata": {},
   "outputs": [
    {
     "name": "stderr",
     "output_type": "stream",
     "text": [
      "/Users/maguire1815/Documents/saturday_speech/hands-on-transfer-learning-with-python-chapter-8/model_evaluation_utils.py:76: FutureWarning: the 'labels' keyword is deprecated, use 'codes' instead\n",
      "  columns=pd.MultiIndex(levels=[['Predicted:'], classes],\n",
      "/Users/maguire1815/Documents/saturday_speech/hands-on-transfer-learning-with-python-chapter-8/model_evaluation_utils.py:78: FutureWarning: the 'labels' keyword is deprecated, use 'codes' instead\n",
      "  index=pd.MultiIndex(levels=[['Actual:'], classes],\n"
     ]
    },
    {
     "data": {
      "text/html": [
       "<style  type=\"text/css\" >\n",
       "</style><table id=\"T_a9c6a1b6_f452_11e9_93b6_8c85903daa13\" ><thead>    <tr>        <th class=\"blank\" ></th>        <th class=\"blank level0\" ></th>        <th class=\"col_heading level0 col0\" colspan=10>Predicted:</th>    </tr>    <tr>        <th class=\"blank\" ></th>        <th class=\"blank level1\" ></th>        <th class=\"col_heading level1 col0\" >air_conditioner</th>        <th class=\"col_heading level1 col1\" >car_horn</th>        <th class=\"col_heading level1 col2\" >children_playing</th>        <th class=\"col_heading level1 col3\" >dog_bark</th>        <th class=\"col_heading level1 col4\" >drilling</th>        <th class=\"col_heading level1 col5\" >engine_idling</th>        <th class=\"col_heading level1 col6\" >gun_shot</th>        <th class=\"col_heading level1 col7\" >jackhammer</th>        <th class=\"col_heading level1 col8\" >siren</th>        <th class=\"col_heading level1 col9\" >street_music</th>    </tr></thead><tbody>\n",
       "                <tr>\n",
       "                        <th id=\"T_a9c6a1b6_f452_11e9_93b6_8c85903daa13level0_row0\" class=\"row_heading level0 row0\" rowspan=10>Actual:</th>\n",
       "                        <th id=\"T_a9c6a1b6_f452_11e9_93b6_8c85903daa13level1_row0\" class=\"row_heading level1 row0\" >air_conditioner</th>\n",
       "                        <td id=\"T_a9c6a1b6_f452_11e9_93b6_8c85903daa13row0_col0\" class=\"data row0 col0\" >741</td>\n",
       "                        <td id=\"T_a9c6a1b6_f452_11e9_93b6_8c85903daa13row0_col1\" class=\"data row0 col1\" >0</td>\n",
       "                        <td id=\"T_a9c6a1b6_f452_11e9_93b6_8c85903daa13row0_col2\" class=\"data row0 col2\" >5</td>\n",
       "                        <td id=\"T_a9c6a1b6_f452_11e9_93b6_8c85903daa13row0_col3\" class=\"data row0 col3\" >1</td>\n",
       "                        <td id=\"T_a9c6a1b6_f452_11e9_93b6_8c85903daa13row0_col4\" class=\"data row0 col4\" >4</td>\n",
       "                        <td id=\"T_a9c6a1b6_f452_11e9_93b6_8c85903daa13row0_col5\" class=\"data row0 col5\" >7</td>\n",
       "                        <td id=\"T_a9c6a1b6_f452_11e9_93b6_8c85903daa13row0_col6\" class=\"data row0 col6\" >1</td>\n",
       "                        <td id=\"T_a9c6a1b6_f452_11e9_93b6_8c85903daa13row0_col7\" class=\"data row0 col7\" >7</td>\n",
       "                        <td id=\"T_a9c6a1b6_f452_11e9_93b6_8c85903daa13row0_col8\" class=\"data row0 col8\" >2</td>\n",
       "                        <td id=\"T_a9c6a1b6_f452_11e9_93b6_8c85903daa13row0_col9\" class=\"data row0 col9\" >15</td>\n",
       "            </tr>\n",
       "            <tr>\n",
       "                                <th id=\"T_a9c6a1b6_f452_11e9_93b6_8c85903daa13level1_row1\" class=\"row_heading level1 row1\" >car_horn</th>\n",
       "                        <td id=\"T_a9c6a1b6_f452_11e9_93b6_8c85903daa13row1_col0\" class=\"data row1 col0\" >4</td>\n",
       "                        <td id=\"T_a9c6a1b6_f452_11e9_93b6_8c85903daa13row1_col1\" class=\"data row1 col1\" >159</td>\n",
       "                        <td id=\"T_a9c6a1b6_f452_11e9_93b6_8c85903daa13row1_col2\" class=\"data row1 col2\" >5</td>\n",
       "                        <td id=\"T_a9c6a1b6_f452_11e9_93b6_8c85903daa13row1_col3\" class=\"data row1 col3\" >1</td>\n",
       "                        <td id=\"T_a9c6a1b6_f452_11e9_93b6_8c85903daa13row1_col4\" class=\"data row1 col4\" >3</td>\n",
       "                        <td id=\"T_a9c6a1b6_f452_11e9_93b6_8c85903daa13row1_col5\" class=\"data row1 col5\" >2</td>\n",
       "                        <td id=\"T_a9c6a1b6_f452_11e9_93b6_8c85903daa13row1_col6\" class=\"data row1 col6\" >0</td>\n",
       "                        <td id=\"T_a9c6a1b6_f452_11e9_93b6_8c85903daa13row1_col7\" class=\"data row1 col7\" >2</td>\n",
       "                        <td id=\"T_a9c6a1b6_f452_11e9_93b6_8c85903daa13row1_col8\" class=\"data row1 col8\" >0</td>\n",
       "                        <td id=\"T_a9c6a1b6_f452_11e9_93b6_8c85903daa13row1_col9\" class=\"data row1 col9\" >14</td>\n",
       "            </tr>\n",
       "            <tr>\n",
       "                                <th id=\"T_a9c6a1b6_f452_11e9_93b6_8c85903daa13level1_row2\" class=\"row_heading level1 row2\" >children_playing</th>\n",
       "                        <td id=\"T_a9c6a1b6_f452_11e9_93b6_8c85903daa13row2_col0\" class=\"data row2 col0\" >15</td>\n",
       "                        <td id=\"T_a9c6a1b6_f452_11e9_93b6_8c85903daa13row2_col1\" class=\"data row2 col1\" >0</td>\n",
       "                        <td id=\"T_a9c6a1b6_f452_11e9_93b6_8c85903daa13row2_col2\" class=\"data row2 col2\" >696</td>\n",
       "                        <td id=\"T_a9c6a1b6_f452_11e9_93b6_8c85903daa13row2_col3\" class=\"data row2 col3\" >33</td>\n",
       "                        <td id=\"T_a9c6a1b6_f452_11e9_93b6_8c85903daa13row2_col4\" class=\"data row2 col4\" >4</td>\n",
       "                        <td id=\"T_a9c6a1b6_f452_11e9_93b6_8c85903daa13row2_col5\" class=\"data row2 col5\" >16</td>\n",
       "                        <td id=\"T_a9c6a1b6_f452_11e9_93b6_8c85903daa13row2_col6\" class=\"data row2 col6\" >1</td>\n",
       "                        <td id=\"T_a9c6a1b6_f452_11e9_93b6_8c85903daa13row2_col7\" class=\"data row2 col7\" >2</td>\n",
       "                        <td id=\"T_a9c6a1b6_f452_11e9_93b6_8c85903daa13row2_col8\" class=\"data row2 col8\" >9</td>\n",
       "                        <td id=\"T_a9c6a1b6_f452_11e9_93b6_8c85903daa13row2_col9\" class=\"data row2 col9\" >69</td>\n",
       "            </tr>\n",
       "            <tr>\n",
       "                                <th id=\"T_a9c6a1b6_f452_11e9_93b6_8c85903daa13level1_row3\" class=\"row_heading level1 row3\" >dog_bark</th>\n",
       "                        <td id=\"T_a9c6a1b6_f452_11e9_93b6_8c85903daa13row3_col0\" class=\"data row3 col0\" >16</td>\n",
       "                        <td id=\"T_a9c6a1b6_f452_11e9_93b6_8c85903daa13row3_col1\" class=\"data row3 col1\" >0</td>\n",
       "                        <td id=\"T_a9c6a1b6_f452_11e9_93b6_8c85903daa13row3_col2\" class=\"data row3 col2\" >53</td>\n",
       "                        <td id=\"T_a9c6a1b6_f452_11e9_93b6_8c85903daa13row3_col3\" class=\"data row3 col3\" >476</td>\n",
       "                        <td id=\"T_a9c6a1b6_f452_11e9_93b6_8c85903daa13row3_col4\" class=\"data row3 col4\" >6</td>\n",
       "                        <td id=\"T_a9c6a1b6_f452_11e9_93b6_8c85903daa13row3_col5\" class=\"data row3 col5\" >8</td>\n",
       "                        <td id=\"T_a9c6a1b6_f452_11e9_93b6_8c85903daa13row3_col6\" class=\"data row3 col6\" >1</td>\n",
       "                        <td id=\"T_a9c6a1b6_f452_11e9_93b6_8c85903daa13row3_col7\" class=\"data row3 col7\" >0</td>\n",
       "                        <td id=\"T_a9c6a1b6_f452_11e9_93b6_8c85903daa13row3_col8\" class=\"data row3 col8\" >13</td>\n",
       "                        <td id=\"T_a9c6a1b6_f452_11e9_93b6_8c85903daa13row3_col9\" class=\"data row3 col9\" >25</td>\n",
       "            </tr>\n",
       "            <tr>\n",
       "                                <th id=\"T_a9c6a1b6_f452_11e9_93b6_8c85903daa13level1_row4\" class=\"row_heading level1 row4\" >drilling</th>\n",
       "                        <td id=\"T_a9c6a1b6_f452_11e9_93b6_8c85903daa13row4_col0\" class=\"data row4 col0\" >14</td>\n",
       "                        <td id=\"T_a9c6a1b6_f452_11e9_93b6_8c85903daa13row4_col1\" class=\"data row4 col1\" >6</td>\n",
       "                        <td id=\"T_a9c6a1b6_f452_11e9_93b6_8c85903daa13row4_col2\" class=\"data row4 col2\" >11</td>\n",
       "                        <td id=\"T_a9c6a1b6_f452_11e9_93b6_8c85903daa13row4_col3\" class=\"data row4 col3\" >5</td>\n",
       "                        <td id=\"T_a9c6a1b6_f452_11e9_93b6_8c85903daa13row4_col4\" class=\"data row4 col4\" >605</td>\n",
       "                        <td id=\"T_a9c6a1b6_f452_11e9_93b6_8c85903daa13row4_col5\" class=\"data row4 col5\" >0</td>\n",
       "                        <td id=\"T_a9c6a1b6_f452_11e9_93b6_8c85903daa13row4_col6\" class=\"data row4 col6\" >2</td>\n",
       "                        <td id=\"T_a9c6a1b6_f452_11e9_93b6_8c85903daa13row4_col7\" class=\"data row4 col7\" >24</td>\n",
       "                        <td id=\"T_a9c6a1b6_f452_11e9_93b6_8c85903daa13row4_col8\" class=\"data row4 col8\" >4</td>\n",
       "                        <td id=\"T_a9c6a1b6_f452_11e9_93b6_8c85903daa13row4_col9\" class=\"data row4 col9\" >12</td>\n",
       "            </tr>\n",
       "            <tr>\n",
       "                                <th id=\"T_a9c6a1b6_f452_11e9_93b6_8c85903daa13level1_row5\" class=\"row_heading level1 row5\" >engine_idling</th>\n",
       "                        <td id=\"T_a9c6a1b6_f452_11e9_93b6_8c85903daa13row5_col0\" class=\"data row5 col0\" >22</td>\n",
       "                        <td id=\"T_a9c6a1b6_f452_11e9_93b6_8c85903daa13row5_col1\" class=\"data row5 col1\" >1</td>\n",
       "                        <td id=\"T_a9c6a1b6_f452_11e9_93b6_8c85903daa13row5_col2\" class=\"data row5 col2\" >9</td>\n",
       "                        <td id=\"T_a9c6a1b6_f452_11e9_93b6_8c85903daa13row5_col3\" class=\"data row5 col3\" >5</td>\n",
       "                        <td id=\"T_a9c6a1b6_f452_11e9_93b6_8c85903daa13row5_col4\" class=\"data row5 col4\" >3</td>\n",
       "                        <td id=\"T_a9c6a1b6_f452_11e9_93b6_8c85903daa13row5_col5\" class=\"data row5 col5\" >672</td>\n",
       "                        <td id=\"T_a9c6a1b6_f452_11e9_93b6_8c85903daa13row5_col6\" class=\"data row5 col6\" >0</td>\n",
       "                        <td id=\"T_a9c6a1b6_f452_11e9_93b6_8c85903daa13row5_col7\" class=\"data row5 col7\" >14</td>\n",
       "                        <td id=\"T_a9c6a1b6_f452_11e9_93b6_8c85903daa13row5_col8\" class=\"data row5 col8\" >0</td>\n",
       "                        <td id=\"T_a9c6a1b6_f452_11e9_93b6_8c85903daa13row5_col9\" class=\"data row5 col9\" >7</td>\n",
       "            </tr>\n",
       "            <tr>\n",
       "                                <th id=\"T_a9c6a1b6_f452_11e9_93b6_8c85903daa13level1_row6\" class=\"row_heading level1 row6\" >gun_shot</th>\n",
       "                        <td id=\"T_a9c6a1b6_f452_11e9_93b6_8c85903daa13row6_col0\" class=\"data row6 col0\" >0</td>\n",
       "                        <td id=\"T_a9c6a1b6_f452_11e9_93b6_8c85903daa13row6_col1\" class=\"data row6 col1\" >0</td>\n",
       "                        <td id=\"T_a9c6a1b6_f452_11e9_93b6_8c85903daa13row6_col2\" class=\"data row6 col2\" >1</td>\n",
       "                        <td id=\"T_a9c6a1b6_f452_11e9_93b6_8c85903daa13row6_col3\" class=\"data row6 col3\" >0</td>\n",
       "                        <td id=\"T_a9c6a1b6_f452_11e9_93b6_8c85903daa13row6_col4\" class=\"data row6 col4\" >0</td>\n",
       "                        <td id=\"T_a9c6a1b6_f452_11e9_93b6_8c85903daa13row6_col5\" class=\"data row6 col5\" >0</td>\n",
       "                        <td id=\"T_a9c6a1b6_f452_11e9_93b6_8c85903daa13row6_col6\" class=\"data row6 col6\" >58</td>\n",
       "                        <td id=\"T_a9c6a1b6_f452_11e9_93b6_8c85903daa13row6_col7\" class=\"data row6 col7\" >0</td>\n",
       "                        <td id=\"T_a9c6a1b6_f452_11e9_93b6_8c85903daa13row6_col8\" class=\"data row6 col8\" >1</td>\n",
       "                        <td id=\"T_a9c6a1b6_f452_11e9_93b6_8c85903daa13row6_col9\" class=\"data row6 col9\" >0</td>\n",
       "            </tr>\n",
       "            <tr>\n",
       "                                <th id=\"T_a9c6a1b6_f452_11e9_93b6_8c85903daa13level1_row7\" class=\"row_heading level1 row7\" >jackhammer</th>\n",
       "                        <td id=\"T_a9c6a1b6_f452_11e9_93b6_8c85903daa13row7_col0\" class=\"data row7 col0\" >6</td>\n",
       "                        <td id=\"T_a9c6a1b6_f452_11e9_93b6_8c85903daa13row7_col1\" class=\"data row7 col1\" >1</td>\n",
       "                        <td id=\"T_a9c6a1b6_f452_11e9_93b6_8c85903daa13row7_col2\" class=\"data row7 col2\" >0</td>\n",
       "                        <td id=\"T_a9c6a1b6_f452_11e9_93b6_8c85903daa13row7_col3\" class=\"data row7 col3\" >0</td>\n",
       "                        <td id=\"T_a9c6a1b6_f452_11e9_93b6_8c85903daa13row7_col4\" class=\"data row7 col4\" >16</td>\n",
       "                        <td id=\"T_a9c6a1b6_f452_11e9_93b6_8c85903daa13row7_col5\" class=\"data row7 col5\" >7</td>\n",
       "                        <td id=\"T_a9c6a1b6_f452_11e9_93b6_8c85903daa13row7_col6\" class=\"data row7 col6\" >0</td>\n",
       "                        <td id=\"T_a9c6a1b6_f452_11e9_93b6_8c85903daa13row7_col7\" class=\"data row7 col7\" >627</td>\n",
       "                        <td id=\"T_a9c6a1b6_f452_11e9_93b6_8c85903daa13row7_col8\" class=\"data row7 col8\" >1</td>\n",
       "                        <td id=\"T_a9c6a1b6_f452_11e9_93b6_8c85903daa13row7_col9\" class=\"data row7 col9\" >5</td>\n",
       "            </tr>\n",
       "            <tr>\n",
       "                                <th id=\"T_a9c6a1b6_f452_11e9_93b6_8c85903daa13level1_row8\" class=\"row_heading level1 row8\" >siren</th>\n",
       "                        <td id=\"T_a9c6a1b6_f452_11e9_93b6_8c85903daa13row8_col0\" class=\"data row8 col0\" >8</td>\n",
       "                        <td id=\"T_a9c6a1b6_f452_11e9_93b6_8c85903daa13row8_col1\" class=\"data row8 col1\" >3</td>\n",
       "                        <td id=\"T_a9c6a1b6_f452_11e9_93b6_8c85903daa13row8_col2\" class=\"data row8 col2\" >31</td>\n",
       "                        <td id=\"T_a9c6a1b6_f452_11e9_93b6_8c85903daa13row8_col3\" class=\"data row8 col3\" >5</td>\n",
       "                        <td id=\"T_a9c6a1b6_f452_11e9_93b6_8c85903daa13row8_col4\" class=\"data row8 col4\" >4</td>\n",
       "                        <td id=\"T_a9c6a1b6_f452_11e9_93b6_8c85903daa13row8_col5\" class=\"data row8 col5\" >5</td>\n",
       "                        <td id=\"T_a9c6a1b6_f452_11e9_93b6_8c85903daa13row8_col6\" class=\"data row8 col6\" >1</td>\n",
       "                        <td id=\"T_a9c6a1b6_f452_11e9_93b6_8c85903daa13row8_col7\" class=\"data row8 col7\" >0</td>\n",
       "                        <td id=\"T_a9c6a1b6_f452_11e9_93b6_8c85903daa13row8_col8\" class=\"data row8 col8\" >687</td>\n",
       "                        <td id=\"T_a9c6a1b6_f452_11e9_93b6_8c85903daa13row8_col9\" class=\"data row8 col9\" >13</td>\n",
       "            </tr>\n",
       "            <tr>\n",
       "                                <th id=\"T_a9c6a1b6_f452_11e9_93b6_8c85903daa13level1_row9\" class=\"row_heading level1 row9\" >street_music</th>\n",
       "                        <td id=\"T_a9c6a1b6_f452_11e9_93b6_8c85903daa13row9_col0\" class=\"data row9 col0\" >20</td>\n",
       "                        <td id=\"T_a9c6a1b6_f452_11e9_93b6_8c85903daa13row9_col1\" class=\"data row9 col1\" >11</td>\n",
       "                        <td id=\"T_a9c6a1b6_f452_11e9_93b6_8c85903daa13row9_col2\" class=\"data row9 col2\" >86</td>\n",
       "                        <td id=\"T_a9c6a1b6_f452_11e9_93b6_8c85903daa13row9_col3\" class=\"data row9 col3\" >18</td>\n",
       "                        <td id=\"T_a9c6a1b6_f452_11e9_93b6_8c85903daa13row9_col4\" class=\"data row9 col4\" >10</td>\n",
       "                        <td id=\"T_a9c6a1b6_f452_11e9_93b6_8c85903daa13row9_col5\" class=\"data row9 col5\" >7</td>\n",
       "                        <td id=\"T_a9c6a1b6_f452_11e9_93b6_8c85903daa13row9_col6\" class=\"data row9 col6\" >0</td>\n",
       "                        <td id=\"T_a9c6a1b6_f452_11e9_93b6_8c85903daa13row9_col7\" class=\"data row9 col7\" >3</td>\n",
       "                        <td id=\"T_a9c6a1b6_f452_11e9_93b6_8c85903daa13row9_col8\" class=\"data row9 col8\" >12</td>\n",
       "                        <td id=\"T_a9c6a1b6_f452_11e9_93b6_8c85903daa13row9_col9\" class=\"data row9 col9\" >621</td>\n",
       "            </tr>\n",
       "    </tbody></table>"
      ],
      "text/plain": [
       "<pandas.io.formats.style.Styler at 0x1a4175d320>"
      ]
     },
     "execution_count": 17,
     "metadata": {},
     "output_type": "execute_result"
    }
   ],
   "source": [
    "meu.display_confusion_matrix_pretty(true_labels=test_labels_categories, \n",
    "                                    predicted_labels=prediction_labels_categories, \n",
    "                                    classes=category_names)"
   ]
  },
  {
   "cell_type": "markdown",
   "metadata": {},
   "source": [
    "_모델을 저장합니다._"
   ]
  },
  {
   "cell_type": "code",
   "execution_count": 18,
   "metadata": {},
   "outputs": [],
   "source": [
    "model.save('sound_classification_model.h5') "
   ]
  }
 ],
 "metadata": {
  "anaconda-cloud": {},
  "kernelspec": {
   "display_name": "Python 3",
   "language": "python",
   "name": "python3"
  },
  "language_info": {
   "codemirror_mode": {
    "name": "ipython",
    "version": 3
   },
   "file_extension": ".py",
   "mimetype": "text/x-python",
   "name": "python",
   "nbconvert_exporter": "python",
   "pygments_lexer": "ipython3",
   "version": "3.6.8"
  }
 },
 "nbformat": 4,
 "nbformat_minor": 2
}
