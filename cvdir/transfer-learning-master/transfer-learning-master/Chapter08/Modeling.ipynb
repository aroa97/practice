{
 "cells": [
  {
   "cell_type": "code",
   "execution_count": 1,
   "metadata": {},
   "outputs": [],
   "source": [
    "%matplotlib inline"
   ]
  },
  {
   "cell_type": "code",
   "execution_count": 2,
   "metadata": {},
   "outputs": [],
   "source": [
    "from sklearn.externals import joblib\n",
    "import tensorflow.keras\n",
    "from tensorflow.keras import models\n",
    "from tensorflow.keras import layers\n",
    "import model_evaluation_utils as meu\n",
    "import matplotlib.pyplot as plt"
   ]
  },
  {
   "cell_type": "code",
   "execution_count": 3,
   "metadata": {},
   "outputs": [
    {
     "data": {
      "text/plain": [
       "((18300, 2048), (6100, 2048), (6100, 2048))"
      ]
     },
     "execution_count": 3,
     "metadata": {},
     "output_type": "execute_result"
    }
   ],
   "source": [
    "train_features = joblib.load('train_tl_features.pkl')\n",
    "train_labels = joblib.load('train_labels.pkl')\n",
    "validation_features = joblib.load('validate_tl_features.pkl')\n",
    "validation_labels = joblib.load('validate_labels.pkl')\n",
    "test_features = joblib.load('test_tl_features.pkl')\n",
    "test_labels = joblib.load('test_labels.pkl')\n",
    "\n",
    "train_features.shape, validation_features.shape, test_features.shape"
   ]
  },
  {
   "cell_type": "code",
   "execution_count": 4,
   "metadata": {},
   "outputs": [
    {
     "data": {
      "text/plain": [
       "((18300,), (6100,), (6100,))"
      ]
     },
     "execution_count": 4,
     "metadata": {},
     "output_type": "execute_result"
    }
   ],
   "source": [
    "train_labels.shape, validation_labels.shape, test_labels.shape"
   ]
  },
  {
   "cell_type": "code",
   "execution_count": 6,
   "metadata": {},
   "outputs": [],
   "source": [
    "from tensorflow.keras.utils import to_categorical\n",
    "\n",
    "train_labels_ohe = to_categorical(train_labels)\n",
    "validation_labels_ohe = to_categorical(validation_labels)\n",
    "test_labels_ohe = to_categorical(test_labels)"
   ]
  },
  {
   "cell_type": "code",
   "execution_count": 7,
   "metadata": {},
   "outputs": [
    {
     "data": {
      "text/plain": [
       "((18300, 10), (6100, 10), (6100, 10))"
      ]
     },
     "execution_count": 7,
     "metadata": {},
     "output_type": "execute_result"
    }
   ],
   "source": [
    "train_labels_ohe.shape, validation_labels_ohe.shape, test_labels_ohe.shape"
   ]
  },
  {
   "cell_type": "code",
   "execution_count": 8,
   "metadata": {},
   "outputs": [
    {
     "name": "stdout",
     "output_type": "stream",
     "text": [
      "WARNING:tensorflow:From /home/dyanos/anaconda3/lib/python3.7/site-packages/tensorflow/python/ops/resource_variable_ops.py:435: colocate_with (from tensorflow.python.framework.ops) is deprecated and will be removed in a future version.\n",
      "Instructions for updating:\n",
      "Colocations handled automatically by placer.\n",
      "WARNING:tensorflow:From /home/dyanos/anaconda3/lib/python3.7/site-packages/tensorflow/python/keras/layers/core.py:143: calling dropout (from tensorflow.python.ops.nn_ops) with keep_prob is deprecated and will be removed in a future version.\n",
      "Instructions for updating:\n",
      "Please use `rate` instead of `keep_prob`. Rate should be set to `rate = 1 - keep_prob`.\n",
      "_________________________________________________________________\n",
      "Layer (type)                 Output Shape              Param #   \n",
      "=================================================================\n",
      "dense (Dense)                (None, 1024)              2098176   \n",
      "_________________________________________________________________\n",
      "dropout (Dropout)            (None, 1024)              0         \n",
      "_________________________________________________________________\n",
      "dense_1 (Dense)              (None, 1024)              1049600   \n",
      "_________________________________________________________________\n",
      "dropout_1 (Dropout)          (None, 1024)              0         \n",
      "_________________________________________________________________\n",
      "dense_2 (Dense)              (None, 512)               524800    \n",
      "_________________________________________________________________\n",
      "dropout_2 (Dropout)          (None, 512)               0         \n",
      "_________________________________________________________________\n",
      "dense_3 (Dense)              (None, 512)               262656    \n",
      "_________________________________________________________________\n",
      "dropout_3 (Dropout)          (None, 512)               0         \n",
      "_________________________________________________________________\n",
      "dense_4 (Dense)              (None, 10)                5130      \n",
      "=================================================================\n",
      "Total params: 3,940,362\n",
      "Trainable params: 3,940,362\n",
      "Non-trainable params: 0\n",
      "_________________________________________________________________\n"
     ]
    }
   ],
   "source": [
    "model = models.Sequential()\n",
    "model.add(layers.Dense(1024, activation='relu', input_shape=(train_features.shape[1],)))\n",
    "model.add(layers.Dropout(0.4))\n",
    "model.add(layers.Dense(1024, activation='relu'))\n",
    "model.add(layers.Dropout(0.4))\n",
    "model.add(layers.Dense(512, activation='relu'))\n",
    "model.add(layers.Dropout(0.5))\n",
    "model.add(layers.Dense(512, activation='relu'))\n",
    "model.add(layers.Dropout(0.5))\n",
    "model.add(layers.Dense(train_labels_ohe.shape[1], activation='softmax'))\n",
    "model.compile(loss='categorical_crossentropy', optimizer='adam',                 \n",
    "                      metrics=['accuracy'])\n",
    "\n",
    "model.summary()"
   ]
  },
  {
   "cell_type": "code",
   "execution_count": 9,
   "metadata": {},
   "outputs": [
    {
     "name": "stdout",
     "output_type": "stream",
     "text": [
      "Train on 18300 samples, validate on 6100 samples\n",
      "WARNING:tensorflow:From /home/dyanos/anaconda3/lib/python3.7/site-packages/tensorflow/python/ops/math_ops.py:3066: to_int32 (from tensorflow.python.ops.math_ops) is deprecated and will be removed in a future version.\n",
      "Instructions for updating:\n",
      "Use tf.cast instead.\n",
      "Epoch 1/50\n",
      "18300/18300 [==============================] - 1s 68us/sample - loss: 1.4205 - acc: 0.4919 - val_loss: 0.9334 - val_acc: 0.7002\n",
      "Epoch 2/50\n",
      "18300/18300 [==============================] - 1s 30us/sample - loss: 0.9431 - acc: 0.6843 - val_loss: 0.7346 - val_acc: 0.7659\n",
      "Epoch 3/50\n",
      "18300/18300 [==============================] - 1s 30us/sample - loss: 0.7988 - acc: 0.7390 - val_loss: 0.6525 - val_acc: 0.7931\n",
      "Epoch 4/50\n",
      "18300/18300 [==============================] - 1s 30us/sample - loss: 0.7199 - acc: 0.7678 - val_loss: 0.5994 - val_acc: 0.8061\n",
      "Epoch 5/50\n",
      "18300/18300 [==============================] - 1s 30us/sample - loss: 0.6572 - acc: 0.7879 - val_loss: 0.5725 - val_acc: 0.8185\n",
      "Epoch 6/50\n",
      "18300/18300 [==============================] - 1s 30us/sample - loss: 0.6199 - acc: 0.7975 - val_loss: 0.5187 - val_acc: 0.8349\n",
      "Epoch 7/50\n",
      "18300/18300 [==============================] - 1s 30us/sample - loss: 0.5865 - acc: 0.8108 - val_loss: 0.5430 - val_acc: 0.8287\n",
      "Epoch 8/50\n",
      "18300/18300 [==============================] - 1s 30us/sample - loss: 0.5692 - acc: 0.8172 - val_loss: 0.5091 - val_acc: 0.8364\n",
      "Epoch 9/50\n",
      "18300/18300 [==============================] - 1s 29us/sample - loss: 0.5475 - acc: 0.8230 - val_loss: 0.4936 - val_acc: 0.8380\n",
      "Epoch 10/50\n",
      "18300/18300 [==============================] - 1s 29us/sample - loss: 0.5178 - acc: 0.8302 - val_loss: 0.4741 - val_acc: 0.8480\n",
      "Epoch 11/50\n",
      "18300/18300 [==============================] - 1s 29us/sample - loss: 0.5048 - acc: 0.8367 - val_loss: 0.4630 - val_acc: 0.8515\n",
      "Epoch 12/50\n",
      "18300/18300 [==============================] - 1s 30us/sample - loss: 0.4849 - acc: 0.8420 - val_loss: 0.4785 - val_acc: 0.8459\n",
      "Epoch 13/50\n",
      "18300/18300 [==============================] - 1s 30us/sample - loss: 0.4605 - acc: 0.8488 - val_loss: 0.4569 - val_acc: 0.8495\n",
      "Epoch 14/50\n",
      "18300/18300 [==============================] - 1s 30us/sample - loss: 0.4614 - acc: 0.8488 - val_loss: 0.4465 - val_acc: 0.8625\n",
      "Epoch 15/50\n",
      "18300/18300 [==============================] - 1s 29us/sample - loss: 0.4367 - acc: 0.8572 - val_loss: 0.4283 - val_acc: 0.8657\n",
      "Epoch 16/50\n",
      "18300/18300 [==============================] - 1s 30us/sample - loss: 0.4250 - acc: 0.8584 - val_loss: 0.4418 - val_acc: 0.8572\n",
      "Epoch 17/50\n",
      "18300/18300 [==============================] - 1s 29us/sample - loss: 0.4268 - acc: 0.8579 - val_loss: 0.4616 - val_acc: 0.8533\n",
      "Epoch 18/50\n",
      "18300/18300 [==============================] - 1s 29us/sample - loss: 0.4148 - acc: 0.8650 - val_loss: 0.4302 - val_acc: 0.8564\n",
      "Epoch 19/50\n",
      "18300/18300 [==============================] - 1s 29us/sample - loss: 0.4072 - acc: 0.8660 - val_loss: 0.4153 - val_acc: 0.8630\n",
      "Epoch 20/50\n",
      "18300/18300 [==============================] - 1s 30us/sample - loss: 0.3932 - acc: 0.8716 - val_loss: 0.4325 - val_acc: 0.8592\n",
      "Epoch 21/50\n",
      "18300/18300 [==============================] - 1s 30us/sample - loss: 0.3902 - acc: 0.8707 - val_loss: 0.4281 - val_acc: 0.8610\n",
      "Epoch 22/50\n",
      "18300/18300 [==============================] - 1s 29us/sample - loss: 0.3882 - acc: 0.8740 - val_loss: 0.4172 - val_acc: 0.8695\n",
      "Epoch 23/50\n",
      "18300/18300 [==============================] - 1s 29us/sample - loss: 0.3736 - acc: 0.8772 - val_loss: 0.4086 - val_acc: 0.8695\n",
      "Epoch 24/50\n",
      "18300/18300 [==============================] - 1s 30us/sample - loss: 0.3652 - acc: 0.8793 - val_loss: 0.4101 - val_acc: 0.8679\n",
      "Epoch 25/50\n",
      "18300/18300 [==============================] - 1s 30us/sample - loss: 0.3486 - acc: 0.8854 - val_loss: 0.4201 - val_acc: 0.8669\n",
      "Epoch 26/50\n",
      "18300/18300 [==============================] - 1s 30us/sample - loss: 0.3498 - acc: 0.8852 - val_loss: 0.3963 - val_acc: 0.8785\n",
      "Epoch 27/50\n",
      "18300/18300 [==============================] - 1s 30us/sample - loss: 0.3293 - acc: 0.8905 - val_loss: 0.3988 - val_acc: 0.8762\n",
      "Epoch 28/50\n",
      "18300/18300 [==============================] - 1s 30us/sample - loss: 0.3202 - acc: 0.8926 - val_loss: 0.4044 - val_acc: 0.8769\n",
      "Epoch 29/50\n",
      "18300/18300 [==============================] - 1s 30us/sample - loss: 0.3202 - acc: 0.8923 - val_loss: 0.3965 - val_acc: 0.8752\n",
      "Epoch 30/50\n",
      "18300/18300 [==============================] - 1s 30us/sample - loss: 0.3294 - acc: 0.8909 - val_loss: 0.3827 - val_acc: 0.8800\n",
      "Epoch 31/50\n",
      "18300/18300 [==============================] - 1s 30us/sample - loss: 0.3253 - acc: 0.8922 - val_loss: 0.4107 - val_acc: 0.8752\n",
      "Epoch 32/50\n",
      "18300/18300 [==============================] - 1s 30us/sample - loss: 0.3171 - acc: 0.8939 - val_loss: 0.3912 - val_acc: 0.8766\n",
      "Epoch 33/50\n",
      "18300/18300 [==============================] - 1s 29us/sample - loss: 0.3253 - acc: 0.8917 - val_loss: 0.4120 - val_acc: 0.8720\n",
      "Epoch 34/50\n",
      "18300/18300 [==============================] - 1s 29us/sample - loss: 0.3270 - acc: 0.8913 - val_loss: 0.3965 - val_acc: 0.8730\n",
      "Epoch 35/50\n",
      "18300/18300 [==============================] - 1s 29us/sample - loss: 0.3053 - acc: 0.9009 - val_loss: 0.4109 - val_acc: 0.8713\n",
      "Epoch 36/50\n",
      "18300/18300 [==============================] - 1s 29us/sample - loss: 0.3055 - acc: 0.8984 - val_loss: 0.4050 - val_acc: 0.8759\n",
      "Epoch 37/50\n",
      "18300/18300 [==============================] - 1s 29us/sample - loss: 0.3038 - acc: 0.8997 - val_loss: 0.3932 - val_acc: 0.8826\n",
      "Epoch 38/50\n",
      "18300/18300 [==============================] - 1s 29us/sample - loss: 0.2935 - acc: 0.9025 - val_loss: 0.4026 - val_acc: 0.8733\n",
      "Epoch 39/50\n",
      "18300/18300 [==============================] - 1s 30us/sample - loss: 0.2941 - acc: 0.9037 - val_loss: 0.4059 - val_acc: 0.8762\n",
      "Epoch 40/50\n",
      "18300/18300 [==============================] - 1s 29us/sample - loss: 0.2913 - acc: 0.9042 - val_loss: 0.3891 - val_acc: 0.8802\n",
      "Epoch 41/50\n",
      "18300/18300 [==============================] - 1s 30us/sample - loss: 0.2795 - acc: 0.9077 - val_loss: 0.4082 - val_acc: 0.8793\n",
      "Epoch 42/50\n",
      "18300/18300 [==============================] - 1s 30us/sample - loss: 0.2874 - acc: 0.9052 - val_loss: 0.4011 - val_acc: 0.8805\n",
      "Epoch 43/50\n",
      "18300/18300 [==============================] - 1s 30us/sample - loss: 0.2892 - acc: 0.9033 - val_loss: 0.3814 - val_acc: 0.8856\n",
      "Epoch 44/50\n",
      "18300/18300 [==============================] - 1s 30us/sample - loss: 0.2695 - acc: 0.9125 - val_loss: 0.4068 - val_acc: 0.8800\n",
      "Epoch 45/50\n",
      "18300/18300 [==============================] - 1s 30us/sample - loss: 0.2774 - acc: 0.9108 - val_loss: 0.3772 - val_acc: 0.8859\n",
      "Epoch 46/50\n",
      "18300/18300 [==============================] - 1s 29us/sample - loss: 0.2588 - acc: 0.9142 - val_loss: 0.3953 - val_acc: 0.8830\n",
      "Epoch 47/50\n",
      "18300/18300 [==============================] - 1s 29us/sample - loss: 0.2597 - acc: 0.9154 - val_loss: 0.3790 - val_acc: 0.8872\n",
      "Epoch 48/50\n",
      "18300/18300 [==============================] - 1s 30us/sample - loss: 0.2576 - acc: 0.9148 - val_loss: 0.3879 - val_acc: 0.8856\n",
      "Epoch 49/50\n",
      "18300/18300 [==============================] - 1s 30us/sample - loss: 0.2558 - acc: 0.9185 - val_loss: 0.4089 - val_acc: 0.8844\n",
      "Epoch 50/50\n",
      "18300/18300 [==============================] - 1s 30us/sample - loss: 0.2438 - acc: 0.9191 - val_loss: 0.4034 - val_acc: 0.8882\n"
     ]
    }
   ],
   "source": [
    "history = model.fit(train_features,\n",
    "                    train_labels_ohe,\n",
    "                    epochs=50,\n",
    "                    batch_size=128,\n",
    "                    validation_data=(validation_features, validation_labels_ohe), \n",
    "                    shuffle=True,\n",
    "                    verbose=1)"
   ]
  },
  {
   "cell_type": "code",
   "execution_count": 10,
   "metadata": {},
   "outputs": [],
   "source": [
    "predictions = model.predict_classes(test_features)"
   ]
  },
  {
   "cell_type": "code",
   "execution_count": 11,
   "metadata": {},
   "outputs": [
    {
     "data": {
      "image/png": "[encoded data removed]",
      "text/plain": [
       "<Figure size 864x288 with 2 Axes>"
      ]
     },
     "metadata": {
      "needs_background": "light"
     },
     "output_type": "display_data"
    }
   ],
   "source": [
    "f, (ax1, ax2) = plt.subplots(1, 2, figsize=(12, 4))\n",
    "t = f.suptitle('Deep Neural Net Performance', fontsize=12)\n",
    "f.subplots_adjust(top=0.85, wspace=0.2)\n",
    "\n",
    "epochs = list(range(1,51))\n",
    "ax1.plot(epochs, history.history['acc'], label='Train Accuracy')\n",
    "ax1.plot(epochs, history.history['val_acc'], label='Validation Accuracy')\n",
    "ax1.set_ylabel('Accuracy Value')\n",
    "ax1.set_xlabel('Epoch')\n",
    "ax1.set_title('Accuracy')\n",
    "l1 = ax1.legend(loc=\"best\")\n",
    "\n",
    "ax2.plot(epochs, history.history['loss'], label='Train Loss')\n",
    "ax2.plot(epochs, history.history['val_loss'], label='Validation Loss')\n",
    "ax2.set_ylabel('Loss Value')\n",
    "ax2.set_xlabel('Epoch')\n",
    "ax2.set_title('Loss')\n",
    "l2 = ax2.legend(loc=\"best\")"
   ]
  },
  {
   "cell_type": "code",
   "execution_count": 12,
   "metadata": {},
   "outputs": [],
   "source": [
    "class_map = {'0' : 'air_conditioner', '1' : 'car_horn', '2' : 'children_playing', '3' : 'dog_bark', '4' : 'drilling', \n",
    "             '5' : 'engine_idling', '6' : 'gun_shot', '7' : 'jackhammer', '8' : 'siren', '9' : 'street_music'}\n",
    "\n",
    "test_labels_categories = [class_map[str(label)] for label in test_labels]\n",
    "prediction_labels_categories = [class_map[str(label)] for label in predictions]\n",
    "category_names = list(class_map.values())"
   ]
  },
  {
   "cell_type": "code",
   "execution_count": 13,
   "metadata": {},
   "outputs": [
    {
     "name": "stdout",
     "output_type": "stream",
     "text": [
      "Accuracy: 0.8923\n",
      "Precision: 0.8924\n",
      "Recall: 0.8923\n",
      "F1 Score: 0.8918\n"
     ]
    }
   ],
   "source": [
    "meu.get_metrics(true_labels=test_labels_categories, \n",
    "                predicted_labels=prediction_labels_categories)"
   ]
  },
  {
   "cell_type": "code",
   "execution_count": 14,
   "metadata": {},
   "outputs": [
    {
     "name": "stdout",
     "output_type": "stream",
     "text": [
      "                  precision    recall  f1-score   support\n",
      "\n",
      " air_conditioner       0.91      0.93      0.92       812\n",
      "        car_horn       0.89      0.76      0.82       177\n",
      "children_playing       0.82      0.84      0.83       814\n",
      "        dog_bark       0.90      0.81      0.85       591\n",
      "        drilling       0.92      0.90      0.91       677\n",
      "   engine_idling       0.93      0.93      0.93       732\n",
      "        gun_shot       0.95      0.88      0.91        67\n",
      "      jackhammer       0.90      0.95      0.92       704\n",
      "           siren       0.93      0.97      0.95       730\n",
      "    street_music       0.84      0.83      0.84       796\n",
      "\n",
      "       micro avg       0.89      0.89      0.89      6100\n",
      "       macro avg       0.90      0.88      0.89      6100\n",
      "    weighted avg       0.89      0.89      0.89      6100\n",
      "\n"
     ]
    }
   ],
   "source": [
    "meu.display_classification_report(true_labels=test_labels_categories, \n",
    "                                  predicted_labels=prediction_labels_categories, \n",
    "                                  classes=category_names)"
   ]
  },
  {
   "cell_type": "code",
   "execution_count": 17,
   "metadata": {},
   "outputs": [
    {
     "name": "stdout",
     "output_type": "stream",
     "text": [
      "                              Predicted:                                     \\\n",
      "                         air_conditioner car_horn children_playing dog_bark   \n",
      "Actual: air_conditioner              755        1               12        3   \n",
      "        car_horn                       3      134                4        1   \n",
      "        children_playing              14        0              685       32   \n",
      "        dog_bark                      10        1               47      481   \n",
      "        drilling                       6        1                3        2   \n",
      "        engine_idling                 15        2               10        2   \n",
      "        gun_shot                       2        0                3        1   \n",
      "        jackhammer                    10        1                2        0   \n",
      "        siren                          1        1               10        2   \n",
      "        street_music                  12        9               62       13   \n",
      "\n",
      "                                                                           \\\n",
      "                         drilling engine_idling gun_shot jackhammer siren   \n",
      "Actual: air_conditioner         9             7        0          9     3   \n",
      "        car_horn                5             7        0          2     2   \n",
      "        children_playing        7             7        1          4    11   \n",
      "        dog_bark                9            10        2          1    16   \n",
      "        drilling              612             0        0         43     2   \n",
      "        engine_idling           2           681        0         10     0   \n",
      "        gun_shot                0             0       59          0     2   \n",
      "        jackhammer              8            10        0        667     1   \n",
      "        siren                   1             4        0          2   705   \n",
      "        street_music           10             7        0          5    14   \n",
      "\n",
      "                                       \n",
      "                         street_music  \n",
      "Actual: air_conditioner            13  \n",
      "        car_horn                   19  \n",
      "        children_playing           53  \n",
      "        dog_bark                   14  \n",
      "        drilling                    8  \n",
      "        engine_idling              10  \n",
      "        gun_shot                    0  \n",
      "        jackhammer                  5  \n",
      "        siren                       4  \n",
      "        street_music              664  \n"
     ]
    },
    {
     "name": "stderr",
     "output_type": "stream",
     "text": [
      "/home/dyanos/projects/transfer_learning/Chapter08/model_evaluation_utils.py:62: FutureWarning: the 'labels' keyword is deprecated, use 'codes' instead\n",
      "  labels=level_labels),\n",
      "/home/dyanos/projects/transfer_learning/Chapter08/model_evaluation_utils.py:64: FutureWarning: the 'labels' keyword is deprecated, use 'codes' instead\n",
      "  labels=level_labels))\n"
     ]
    }
   ],
   "source": [
    "meu.display_confusion_matrix(true_labels=test_labels_categories, \n",
    "                                    predicted_labels=prediction_labels_categories, \n",
    "                                    classes=category_names)"
   ]
  },
  {
   "cell_type": "code",
   "execution_count": 18,
   "metadata": {},
   "outputs": [],
   "source": [
    "model.save('sound_classification_model.h5') "
   ]
  },
  {
   "cell_type": "code",
   "execution_count": null,
   "metadata": {},
   "outputs": [],
   "source": []
  }
 ],
 "metadata": {
  "anaconda-cloud": {},
  "kernelspec": {
   "display_name": "Python 3",
   "language": "python",
   "name": "python3"
  },
  "language_info": {
   "codemirror_mode": {
    "name": "ipython",
    "version": 3
   },
   "file_extension": ".py",
   "mimetype": "text/x-python",
   "name": "python",
   "nbconvert_exporter": "python",
   "pygments_lexer": "ipython3",
   "version": "3.7.2"
  }
 },
 "nbformat": 4,
 "nbformat_minor": 2
}
