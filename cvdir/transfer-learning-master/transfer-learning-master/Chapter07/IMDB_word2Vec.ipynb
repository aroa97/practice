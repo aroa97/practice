{
 "cells": [
  {
   "cell_type": "code",
   "execution_count": 5,
   "metadata": {},
   "outputs": [
    {
     "name": "stdout",
     "output_type": "stream",
     "text": [
      "Requirement already satisfied: gensim in /home/dyanos/anaconda3/lib/python3.7/site-packages (3.7.1)\n",
      "Requirement already satisfied: smart-open>=1.7.0 in /home/dyanos/anaconda3/lib/python3.7/site-packages (from gensim) (1.8.0)\n",
      "Requirement already satisfied: six>=1.5.0 in /home/dyanos/anaconda3/lib/python3.7/site-packages (from gensim) (1.12.0)\n",
      "Requirement already satisfied: numpy>=1.11.3 in /home/dyanos/anaconda3/lib/python3.7/site-packages (from gensim) (1.16.2)\n",
      "Requirement already satisfied: scipy>=0.18.1 in /home/dyanos/anaconda3/lib/python3.7/site-packages (from gensim) (1.2.1)\n",
      "Requirement already satisfied: requests in /home/dyanos/anaconda3/lib/python3.7/site-packages (from smart-open>=1.7.0->gensim) (2.21.0)\n",
      "Requirement already satisfied: boto>=2.32 in /home/dyanos/anaconda3/lib/python3.7/site-packages (from smart-open>=1.7.0->gensim) (2.49.0)\n",
      "Requirement already satisfied: boto3 in /home/dyanos/anaconda3/lib/python3.7/site-packages (from smart-open>=1.7.0->gensim) (1.9.115)\n",
      "Requirement already satisfied: bz2file in /home/dyanos/anaconda3/lib/python3.7/site-packages (from smart-open>=1.7.0->gensim) (0.98)\n",
      "Requirement already satisfied: idna<2.9,>=2.5 in /home/dyanos/anaconda3/lib/python3.7/site-packages (from requests->smart-open>=1.7.0->gensim) (2.8)\n",
      "Requirement already satisfied: certifi>=2017.4.17 in /home/dyanos/anaconda3/lib/python3.7/site-packages (from requests->smart-open>=1.7.0->gensim) (2019.3.9)\n",
      "Requirement already satisfied: urllib3<1.25,>=1.21.1 in /home/dyanos/anaconda3/lib/python3.7/site-packages (from requests->smart-open>=1.7.0->gensim) (1.24.1)\n",
      "Requirement already satisfied: chardet<3.1.0,>=3.0.2 in /home/dyanos/anaconda3/lib/python3.7/site-packages (from requests->smart-open>=1.7.0->gensim) (3.0.4)\n",
      "Requirement already satisfied: s3transfer<0.3.0,>=0.2.0 in /home/dyanos/anaconda3/lib/python3.7/site-packages (from boto3->smart-open>=1.7.0->gensim) (0.2.0)\n",
      "Requirement already satisfied: botocore<1.13.0,>=1.12.115 in /home/dyanos/anaconda3/lib/python3.7/site-packages (from boto3->smart-open>=1.7.0->gensim) (1.12.115)\n",
      "Requirement already satisfied: jmespath<1.0.0,>=0.7.1 in /home/dyanos/anaconda3/lib/python3.7/site-packages (from boto3->smart-open>=1.7.0->gensim) (0.9.4)\n",
      "Requirement already satisfied: docutils>=0.10 in /home/dyanos/anaconda3/lib/python3.7/site-packages (from botocore<1.13.0,>=1.12.115->boto3->smart-open>=1.7.0->gensim) (0.14)\n",
      "Requirement already satisfied: python-dateutil<3.0.0,>=2.1; python_version >= \"2.7\" in /home/dyanos/anaconda3/lib/python3.7/site-packages (from botocore<1.13.0,>=1.12.115->boto3->smart-open>=1.7.0->gensim) (2.8.0)\n"
     ]
    }
   ],
   "source": [
    "# gensim이 설치되어 있지 않다면... 아래 주석을 해제해주세요\n",
    "#!pip install gensim"
   ]
  },
  {
   "cell_type": "code",
   "execution_count": 1,
   "metadata": {},
   "outputs": [],
   "source": [
    "import config\n",
    "from dataloader.loader import Loader\n",
    "import pandas as pd\n",
    "from gensim.models import word2vec\n",
    "import nltk\n"
   ]
  },
  {
   "cell_type": "code",
   "execution_count": 3,
   "metadata": {},
   "outputs": [],
   "source": [
    "# movie_reviews_unsup.csv 파일이 없을 경우 아래 주석을 해제하여면 생성할 수 있다.\n",
    "unsupervised = Loader.load_imdb_unsup()\n",
    "#unsupervised = pd.read_csv(config.IMDB_DATA_CSV + '/movie_reviews_unsup.csv', encoding='ISO-8859-1')"
   ]
  },
  {
   "cell_type": "code",
   "execution_count": 4,
   "metadata": {},
   "outputs": [
    {
     "data": {
      "text/html": [
       "<div>\n",
       "<style scoped>\n",
       "    .dataframe tbody tr th:only-of-type {\n",
       "        vertical-align: middle;\n",
       "    }\n",
       "\n",
       "    .dataframe tbody tr th {\n",
       "        vertical-align: top;\n",
       "    }\n",
       "\n",
       "    .dataframe thead th {\n",
       "        text-align: right;\n",
       "    }\n",
       "</style>\n",
       "<table border=\"1\" class=\"dataframe\">\n",
       "  <thead>\n",
       "    <tr style=\"text-align: right;\">\n",
       "      <th></th>\n",
       "      <th>review</th>\n",
       "    </tr>\n",
       "  </thead>\n",
       "  <tbody>\n",
       "    <tr>\n",
       "      <th>20604</th>\n",
       "      <td>I wanted to see this movie because I had read ...</td>\n",
       "    </tr>\n",
       "    <tr>\n",
       "      <th>42616</th>\n",
       "      <td>This is the cheap mans phantom of the opera.Di...</td>\n",
       "    </tr>\n",
       "    <tr>\n",
       "      <th>20985</th>\n",
       "      <td>Not only is monk the most hilarious mystery te...</td>\n",
       "    </tr>\n",
       "    <tr>\n",
       "      <th>31146</th>\n",
       "      <td>May I be so bold as to put one of the most ann...</td>\n",
       "    </tr>\n",
       "    <tr>\n",
       "      <th>38628</th>\n",
       "      <td>Most of the reviews I've read of this film use...</td>\n",
       "    </tr>\n",
       "  </tbody>\n",
       "</table>\n",
       "</div>"
      ],
      "text/plain": [
       "                                                  review\n",
       "20604  I wanted to see this movie because I had read ...\n",
       "42616  This is the cheap mans phantom of the opera.Di...\n",
       "20985  Not only is monk the most hilarious mystery te...\n",
       "31146  May I be so bold as to put one of the most ann...\n",
       "38628  Most of the reviews I've read of this film use..."
      ]
     },
     "execution_count": 4,
     "metadata": {},
     "output_type": "execute_result"
    }
   ],
   "source": [
    "unsupervised.head()\n",
    "\n"
   ]
  },
  {
   "cell_type": "code",
   "execution_count": 5,
   "metadata": {},
   "outputs": [],
   "source": [
    "#train_df = pd.read_csv(config.IMDB_DATA_CSV + '/movie_reviews_train.csv', encoding='ISO-8859-1')\n",
    "train_df = Loader.load_imdb_data('train')\n",
    "#test_df = pd.read_csv(config.IMDB_DATA_CSV + '/movie_reviews_test.csv', encoding='ISO-8859-1')\n",
    "test_df = Loader.load_imdb_data('test')"
   ]
  },
  {
   "cell_type": "code",
   "execution_count": 6,
   "metadata": {},
   "outputs": [],
   "source": [
    "corpus = unsupervised['review'].tolist() + train_df['review'].tolist() + test_df['review'].tolist()"
   ]
  },
  {
   "cell_type": "code",
   "execution_count": 7,
   "metadata": {},
   "outputs": [],
   "source": [
    "# tokenize sentences in corpus\n",
    "wpt = nltk.WordPunctTokenizer()\n",
    "tokenized_corpus = [wpt.tokenize(document.lower()) for document in corpus]"
   ]
  },
  {
   "cell_type": "code",
   "execution_count": 8,
   "metadata": {},
   "outputs": [],
   "source": [
    "# Set values for various parameters\n",
    "feature_size = 50    # Word vector dimensionality  \n",
    "window_context = 10          # Context window size                                                                                    \n",
    "min_word_count = 5   # Minimum word count                        \n",
    "sample = 1e-3   # Downsample setting for frequent words"
   ]
  },
  {
   "cell_type": "code",
   "execution_count": 9,
   "metadata": {},
   "outputs": [],
   "source": [
    "w2v_model = word2vec.Word2Vec(tokenized_corpus, size=feature_size, \n",
    "                          window=window_context, min_count=min_word_count,\n",
    "                          sample=sample, iter=1000)\n"
   ]
  },
  {
   "cell_type": "code",
   "execution_count": 10,
   "metadata": {},
   "outputs": [],
   "source": [
    "similar_words = {search_term: [item[0] for item in w2v_model.wv.most_similar([search_term], topn=5)]\n",
    "                  for search_term in ['good','superior','violent', 'romantic', 'nasty', 'unfortunate', \n",
    "                                      'predictable', 'hilarious', 'fascinating', 'boring','confused', 'sensitive',\n",
    "                                     'imaginative','senseless', 'bland','disappointing']}\n"
   ]
  },
  {
   "cell_type": "code",
   "execution_count": 41,
   "metadata": {},
   "outputs": [
    {
     "data": {
      "text/plain": [
       "{'bland': ['dull', 'lifeless', 'forgettable', 'uninspired', 'unconvincing'],\n",
       " 'boring': ['dull', 'pointless', 'tedious', 'predictable', 'uninteresting'],\n",
       " 'confused': ['irritated', 'puzzled', 'disturbed', 'frustrated', 'annoyed'],\n",
       " 'disappointing': ['unsatisfying',\n",
       "  'disappointed',\n",
       "  'enjoyable',\n",
       "  'surprising',\n",
       "  'satisfying'],\n",
       " 'fascinating': ['compelling',\n",
       "  'enthralling',\n",
       "  'captivating',\n",
       "  'unique',\n",
       "  'vivid'],\n",
       " 'good': ['decent', 'great', 'nice', 'bad', 'fine'],\n",
       " 'hilarious': ['funny', 'hysterical', 'priceless', 'comical', 'humorous'],\n",
       " 'imaginative': ['inventive',\n",
       "  'innovative',\n",
       "  'ingenious',\n",
       "  'intricate',\n",
       "  'creative'],\n",
       " 'nasty': ['sadistic', 'sleazy', 'gory', 'icky', 'vicious'],\n",
       " 'predictable': ['clichéd', 'formulaic', 'contrived', 'implausible', 'dull'],\n",
       " 'romantic': ['romance',\n",
       "  'screwball',\n",
       "  'bittersweet',\n",
       "  'sentimental',\n",
       "  'delightful'],\n",
       " 'senseless': ['pointless',\n",
       "  'meaningless',\n",
       "  'disgusting',\n",
       "  'sickening',\n",
       "  'boring'],\n",
       " 'sensitive': ['sincere', 'passionate', 'mature', 'delicate', 'confident'],\n",
       " 'superior': ['inferior', 'weaker', 'truer', 'classier', 'maligned'],\n",
       " 'unfortunate': ['unacceptable',\n",
       "  'disastrous',\n",
       "  'dubious',\n",
       "  'inadequate',\n",
       "  'important'],\n",
       " 'violent': ['brutal', 'graphic', 'gruesome', 'sadistic', 'violence']}"
      ]
     },
     "execution_count": 41,
     "metadata": {},
     "output_type": "execute_result"
    }
   ],
   "source": [
    "similar_words"
   ]
  },
  {
   "cell_type": "code",
   "execution_count": 12,
   "metadata": {},
   "outputs": [],
   "source": [
    "w2v_model.wv.save_word2vec_format(fname = 'imdb_word2vec.txt')\n",
    "file = './imdb_word2vec.txt'\n",
    "from gensim.models import KeyedVectors\n",
    "word_vectors = KeyedVectors.load_word2vec_format(file, binary=False)"
   ]
  },
  {
   "cell_type": "code",
   "execution_count": 13,
   "metadata": {},
   "outputs": [
    {
     "name": "stderr",
     "output_type": "stream",
     "text": [
      "/home/dyanos/anaconda3/lib/python3.7/site-packages/ipykernel_launcher.py:2: DeprecationWarning: Call to deprecated `wv` (Attribute will be removed in 4.0.0, use self instead).\n",
      "  \n"
     ]
    },
    {
     "data": {
      "text/html": [
       "<div>\n",
       "<style scoped>\n",
       "    .dataframe tbody tr th:only-of-type {\n",
       "        vertical-align: middle;\n",
       "    }\n",
       "\n",
       "    .dataframe tbody tr th {\n",
       "        vertical-align: top;\n",
       "    }\n",
       "\n",
       "    .dataframe thead th {\n",
       "        text-align: right;\n",
       "    }\n",
       "</style>\n",
       "<table border=\"1\" class=\"dataframe\">\n",
       "  <thead>\n",
       "    <tr style=\"text-align: right;\">\n",
       "      <th></th>\n",
       "      <th>0</th>\n",
       "      <th>1</th>\n",
       "      <th>2</th>\n",
       "      <th>3</th>\n",
       "      <th>4</th>\n",
       "    </tr>\n",
       "  </thead>\n",
       "  <tbody>\n",
       "    <tr>\n",
       "      <th>good</th>\n",
       "      <td>decent</td>\n",
       "      <td>nice</td>\n",
       "      <td>great</td>\n",
       "      <td>bad</td>\n",
       "      <td>fine</td>\n",
       "    </tr>\n",
       "    <tr>\n",
       "      <th>superior</th>\n",
       "      <td>inferior</td>\n",
       "      <td>weaker</td>\n",
       "      <td>maligned</td>\n",
       "      <td>lauded</td>\n",
       "      <td>truer</td>\n",
       "    </tr>\n",
       "    <tr>\n",
       "      <th>violent</th>\n",
       "      <td>brutal</td>\n",
       "      <td>graphic</td>\n",
       "      <td>gruesome</td>\n",
       "      <td>sadistic</td>\n",
       "      <td>disturbing</td>\n",
       "    </tr>\n",
       "    <tr>\n",
       "      <th>romantic</th>\n",
       "      <td>romance</td>\n",
       "      <td>screwball</td>\n",
       "      <td>sappy</td>\n",
       "      <td>lighthearted</td>\n",
       "      <td>sentimental</td>\n",
       "    </tr>\n",
       "    <tr>\n",
       "      <th>nasty</th>\n",
       "      <td>gory</td>\n",
       "      <td>sadistic</td>\n",
       "      <td>sleazy</td>\n",
       "      <td>icky</td>\n",
       "      <td>bloody</td>\n",
       "    </tr>\n",
       "    <tr>\n",
       "      <th>unfortunate</th>\n",
       "      <td>unacceptable</td>\n",
       "      <td>important</td>\n",
       "      <td>disastrous</td>\n",
       "      <td>unaware</td>\n",
       "      <td>probable</td>\n",
       "    </tr>\n",
       "    <tr>\n",
       "      <th>predictable</th>\n",
       "      <td>clichéd</td>\n",
       "      <td>implausible</td>\n",
       "      <td>formulaic</td>\n",
       "      <td>contrived</td>\n",
       "      <td>dull</td>\n",
       "    </tr>\n",
       "    <tr>\n",
       "      <th>hilarious</th>\n",
       "      <td>funny</td>\n",
       "      <td>hysterical</td>\n",
       "      <td>priceless</td>\n",
       "      <td>comical</td>\n",
       "      <td>humorous</td>\n",
       "    </tr>\n",
       "    <tr>\n",
       "      <th>fascinating</th>\n",
       "      <td>enthralling</td>\n",
       "      <td>compelling</td>\n",
       "      <td>captivating</td>\n",
       "      <td>unique</td>\n",
       "      <td>remarkable</td>\n",
       "    </tr>\n",
       "    <tr>\n",
       "      <th>boring</th>\n",
       "      <td>dull</td>\n",
       "      <td>pointless</td>\n",
       "      <td>tedious</td>\n",
       "      <td>predictable</td>\n",
       "      <td>unoriginal</td>\n",
       "    </tr>\n",
       "    <tr>\n",
       "      <th>confused</th>\n",
       "      <td>irritated</td>\n",
       "      <td>disturbed</td>\n",
       "      <td>puzzled</td>\n",
       "      <td>annoyed</td>\n",
       "      <td>disgusted</td>\n",
       "    </tr>\n",
       "    <tr>\n",
       "      <th>sensitive</th>\n",
       "      <td>sincere</td>\n",
       "      <td>delicate</td>\n",
       "      <td>mature</td>\n",
       "      <td>passionate</td>\n",
       "      <td>confident</td>\n",
       "    </tr>\n",
       "    <tr>\n",
       "      <th>imaginative</th>\n",
       "      <td>inventive</td>\n",
       "      <td>innovative</td>\n",
       "      <td>ingenious</td>\n",
       "      <td>intricate</td>\n",
       "      <td>unconventional</td>\n",
       "    </tr>\n",
       "    <tr>\n",
       "      <th>senseless</th>\n",
       "      <td>pointless</td>\n",
       "      <td>meaningless</td>\n",
       "      <td>sickening</td>\n",
       "      <td>nonsensical</td>\n",
       "      <td>boring</td>\n",
       "    </tr>\n",
       "    <tr>\n",
       "      <th>bland</th>\n",
       "      <td>dull</td>\n",
       "      <td>lifeless</td>\n",
       "      <td>forgettable</td>\n",
       "      <td>uninspired</td>\n",
       "      <td>uninteresting</td>\n",
       "    </tr>\n",
       "    <tr>\n",
       "      <th>disappointing</th>\n",
       "      <td>underwhelming</td>\n",
       "      <td>disappointed</td>\n",
       "      <td>unsatisfying</td>\n",
       "      <td>enjoyable</td>\n",
       "      <td>satisfying</td>\n",
       "    </tr>\n",
       "  </tbody>\n",
       "</table>\n",
       "</div>"
      ],
      "text/plain": [
       "                           0             1             2             3  \\\n",
       "good                  decent          nice         great           bad   \n",
       "superior            inferior        weaker      maligned        lauded   \n",
       "violent               brutal       graphic      gruesome      sadistic   \n",
       "romantic             romance     screwball         sappy  lighthearted   \n",
       "nasty                   gory      sadistic        sleazy          icky   \n",
       "unfortunate     unacceptable     important    disastrous       unaware   \n",
       "predictable          clichéd   implausible     formulaic     contrived   \n",
       "hilarious              funny    hysterical     priceless       comical   \n",
       "fascinating      enthralling    compelling   captivating        unique   \n",
       "boring                  dull     pointless       tedious   predictable   \n",
       "confused           irritated     disturbed       puzzled       annoyed   \n",
       "sensitive            sincere      delicate        mature    passionate   \n",
       "imaginative        inventive    innovative     ingenious     intricate   \n",
       "senseless          pointless   meaningless     sickening   nonsensical   \n",
       "bland                   dull      lifeless   forgettable    uninspired   \n",
       "disappointing  underwhelming  disappointed  unsatisfying     enjoyable   \n",
       "\n",
       "                            4  \n",
       "good                     fine  \n",
       "superior                truer  \n",
       "violent            disturbing  \n",
       "romantic          sentimental  \n",
       "nasty                  bloody  \n",
       "unfortunate          probable  \n",
       "predictable              dull  \n",
       "hilarious            humorous  \n",
       "fascinating        remarkable  \n",
       "boring             unoriginal  \n",
       "confused            disgusted  \n",
       "sensitive           confident  \n",
       "imaginative    unconventional  \n",
       "senseless              boring  \n",
       "bland           uninteresting  \n",
       "disappointing      satisfying  "
      ]
     },
     "execution_count": 13,
     "metadata": {},
     "output_type": "execute_result"
    }
   ],
   "source": [
    "similar_words = {search_term: [item[0] for item in word_vectors.wv.most_similar([search_term], topn=5)]\n",
    "                  for search_term in ['good','superior','violent', 'romantic', 'nasty', 'unfortunate', \n",
    "                                      'predictable', 'hilarious', 'fascinating', 'boring','confused', 'sensitive',\n",
    "                                     'imaginative','senseless', 'bland','disappointing']}\n",
    "pd.DataFrame(similar_words).transpose()"
   ]
  },
  {
   "cell_type": "code",
   "execution_count": 14,
   "metadata": {},
   "outputs": [
    {
     "data": {
      "image/png": "[encoded data removed]",
      "text/plain": [
       "<Figure size 1008x576 with 1 Axes>"
      ]
     },
     "metadata": {
      "needs_background": "light"
     },
     "output_type": "display_data"
    }
   ],
   "source": [
    "from sklearn.manifold import TSNE\n",
    "import numpy as np\n",
    "import matplotlib.pyplot as plt\n",
    "pd.options.display.max_colwidth = 200\n",
    "%matplotlib inline\n",
    "words = sum([[k] + v for k, v in similar_words.items()], [])\n",
    "wvs = w2v_model.wv[words]\n",
    "\n",
    "tsne = TSNE(n_components=2, random_state=0, n_iter=10000, perplexity=2)\n",
    "np.set_printoptions(suppress=True)\n",
    "T = tsne.fit_transform(wvs)\n",
    "labels = words\n",
    "\n",
    "plt.figure(figsize=(14, 8))\n",
    "plt.scatter(T[:, 0], T[:, 1], c='orange', edgecolors='r')\n",
    "for label, x, y in zip(labels, T[:, 0], T[:, 1]):\n",
    "    plt.annotate(label, xy=(x+1, y+1), xytext=(0, 0), textcoords='offset points')"
   ]
  },
  {
   "cell_type": "code",
   "execution_count": null,
   "metadata": {
    "collapsed": true
   },
   "outputs": [],
   "source": []
  }
 ],
 "metadata": {
  "kernelspec": {
   "display_name": "Python 3",
   "language": "python",
   "name": "python3"
  },
  "language_info": {
   "codemirror_mode": {
    "name": "ipython",
    "version": 3
   },
   "file_extension": ".py",
   "mimetype": "text/x-python",
   "name": "python",
   "nbconvert_exporter": "python",
   "pygments_lexer": "ipython3",
   "version": "3.7.4"
  }
 },
 "nbformat": 4,
 "nbformat_minor": 2
}
