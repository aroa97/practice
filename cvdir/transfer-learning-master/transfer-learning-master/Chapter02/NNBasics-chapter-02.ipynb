{
 "cells": [
  {
   "cell_type": "code",
   "execution_count": 91,
   "metadata": {},
   "outputs": [],
   "source": [
    "import pandas as pd\n",
    "import numpy as np\n",
    "import string\n",
    "import os\n",
    "import sys\n",
    "import random\n",
    "from sklearn.model_selection import train_test_split\n",
    "from sklearn.preprocessing import StandardScaler\n",
    "import matplotlib.pyplot as plt"
   ]
  },
  {
   "cell_type": "markdown",
   "metadata": {},
   "source": [
    "식사 항목의 가격 문제"
   ]
  },
  {
   "cell_type": "code",
   "execution_count": 92,
   "metadata": {},
   "outputs": [],
   "source": [
    "#계산대에서의 진짜 가격\n",
    "p_fish = 150;p_chips = 50;p_ketchup = 100"
   ]
  },
  {
   "cell_type": "code",
   "execution_count": 93,
   "metadata": {},
   "outputs": [],
   "source": [
    "#식사 가격 샘플: 10일 동안의 식사 가격 일반화 데이터\n",
    "np.random.seed(100)\n",
    "portions = np.random.randint(low=1, high=10, size=3 )\n",
    "portions\n",
    "X = [];y = [];days=10\n",
    "for i in range(days):\n",
    "    portions = np.random.randint(low=1, high=10, size=3 )\n",
    "    price = p_fish * portions[0] + p_chips * portions[1] + p_ketchup * portions[2]    \n",
    "    X.append(portions)\n",
    "    y.append(price)\n",
    "    \n",
    "X = np.array(X)\n",
    "y = np.array(y)"
   ]
  },
  {
   "cell_type": "code",
   "execution_count": 94,
   "metadata": {},
   "outputs": [
    {
     "name": "stdout",
     "output_type": "stream",
     "text": [
      "[[8 8 1]\n",
      " [5 3 6]\n",
      " [3 3 3]\n",
      " [2 1 9]\n",
      " [5 1 7]\n",
      " [3 5 2]\n",
      " [6 4 5]\n",
      " [5 4 8]\n",
      " [2 2 8]\n",
      " [8 1 3]] [1700 1500  900 1250 1500  900 1600 1750 1200 1550]\n"
     ]
    }
   ],
   "source": [
    "print (X,y)"
   ]
  },
  {
   "cell_type": "code",
   "execution_count": 95,
   "metadata": {},
   "outputs": [],
   "source": [
    "#선형모형 만들기\n",
    "from tensorflow.keras.layers import Input, Dense, Activation\n",
    "from tensorflow.keras.models import Model\n",
    "from tensorflow.keras.optimizers import SGD\n",
    "from tensorflow.keras.callbacks import Callback"
   ]
  },
  {
   "cell_type": "code",
   "execution_count": 96,
   "metadata": {},
   "outputs": [],
   "source": [
    "price_guess = [np.array([[ 50 ],\n",
    "        [   50],\n",
    "        [  50 ]]) ]"
   ]
  },
  {
   "cell_type": "code",
   "execution_count": 97,
   "metadata": {},
   "outputs": [],
   "source": [
    "model_input = Input(shape=(3,), dtype='float32')\n",
    "model_output = Dense(1, activation='linear', use_bias=False, \n",
    "                     name='LinearNeuron',\n",
    "                     weights=price_guess)(model_input)\n",
    "sgd = SGD(lr=0.01)\n",
    "model = Model(model_input, model_output)\n",
    "model.compile(loss=\"mean_squared_error\", optimizer=sgd)"
   ]
  },
  {
   "cell_type": "code",
   "execution_count": 98,
   "metadata": {},
   "outputs": [
    {
     "name": "stdout",
     "output_type": "stream",
     "text": [
      "_________________________________________________________________\n",
      "Layer (type)                 Output Shape              Param #   \n",
      "=================================================================\n",
      "input_2 (InputLayer)         (None, 3)                 0         \n",
      "_________________________________________________________________\n",
      "LinearNeuron (Dense)         (None, 1)                 3         \n",
      "=================================================================\n",
      "Total params: 3\n",
      "Trainable params: 3\n",
      "Non-trainable params: 0\n",
      "_________________________________________________________________\n"
     ]
    }
   ],
   "source": [
    "model.summary()"
   ]
  },
  {
   "cell_type": "code",
   "execution_count": 99,
   "metadata": {},
   "outputs": [
    {
     "name": "stdout",
     "output_type": "stream",
     "text": [
      "Epoch 1/30\n",
      " - 0s - loss: 566500.0000\n",
      "Epoch 2/30\n",
      " - 0s - loss: 38576.1836\n",
      "Epoch 3/30\n",
      " - 0s - loss: 9320.0039\n",
      "Epoch 4/30\n",
      " - 0s - loss: 6873.8516\n",
      "Epoch 5/30\n",
      " - 0s - loss: 5998.2476\n",
      "Epoch 6/30\n",
      " - 0s - loss: 5313.0718\n",
      "Epoch 7/30\n",
      " - 0s - loss: 4722.4746\n",
      "Epoch 8/30\n",
      " - 0s - loss: 4205.7593\n",
      "Epoch 9/30\n",
      " - 0s - loss: 3750.5222\n",
      "Epoch 10/30\n",
      " - 0s - loss: 3347.5703\n",
      "Epoch 11/30\n",
      " - 0s - loss: 2989.7498\n",
      "Epoch 12/30\n",
      " - 0s - loss: 2671.2886\n",
      "Epoch 13/30\n",
      " - 0s - loss: 2387.4253\n",
      "Epoch 14/30\n",
      " - 0s - loss: 2134.1394\n",
      "Epoch 15/30\n",
      " - 0s - loss: 1907.9808\n",
      "Epoch 16/30\n",
      " - 0s - loss: 1705.9365\n",
      "Epoch 17/30\n",
      " - 0s - loss: 1525.3795\n",
      "Epoch 18/30\n",
      " - 0s - loss: 1363.9905\n",
      "Epoch 19/30\n",
      " - 0s - loss: 1219.7111\n",
      "Epoch 20/30\n",
      " - 0s - loss: 1090.7163\n",
      "Epoch 21/30\n",
      " - 0s - loss: 975.3729\n",
      "Epoch 22/30\n",
      " - 0s - loss: 872.2355\n",
      "Epoch 23/30\n",
      " - 0s - loss: 780.0091\n",
      "Epoch 24/30\n",
      " - 0s - loss: 697.5385\n",
      "Epoch 25/30\n",
      " - 0s - loss: 623.7887\n",
      "Epoch 26/30\n",
      " - 0s - loss: 557.8368\n",
      "Epoch 27/30\n",
      " - 0s - loss: 498.8590\n",
      "Epoch 28/30\n",
      " - 0s - loss: 446.1151\n",
      "Epoch 29/30\n",
      " - 0s - loss: 398.9507\n",
      "Epoch 30/30\n",
      " - 0s - loss: 356.7720\n"
     ]
    }
   ],
   "source": [
    "history = model.fit(X, y, batch_size=20, epochs=30,verbose=2)\n",
    "l4  = history.history['loss']"
   ]
  },
  {
   "cell_type": "code",
   "execution_count": 100,
   "metadata": {},
   "outputs": [
    {
     "data": {
      "text/plain": [
       "[array([[143.07005 ],\n",
       "        [ 58.228107],\n",
       "        [101.30583 ]], dtype=float32)]"
      ]
     },
     "execution_count": 100,
     "metadata": {},
     "output_type": "execute_result"
    }
   ],
   "source": [
    "model.get_layer('LinearNeuron').get_weights()"
   ]
  },
  {
   "cell_type": "code",
   "execution_count": 101,
   "metadata": {},
   "outputs": [
    {
     "name": "stdout",
     "output_type": "stream",
     "text": [
      "dict_keys(['loss'])\n"
     ]
    },
    {
     "data": {
      "image/png": "[encoded data removed]",
      "text/plain": [
       "<Figure size 432x288 with 1 Axes>"
      ]
     },
     "metadata": {
      "needs_background": "light"
     },
     "output_type": "display_data"
    }
   ],
   "source": [
    "print(history.history.keys())\n",
    "#plt.plot(l1)\n",
    "#plt.plot(l2)\n",
    "#plt.plot(l3)\n",
    "plt.plot(l4)\n",
    "\n",
    "plt.ylabel('mean squared error')\n",
    "plt.xlabel('epoch')\n",
    "plt.legend([\"LR=0.0001\",\"LR=0.001\",\"LR=0.01\"])\n",
    "plt.show()\n"
   ]
  },
  {
   "cell_type": "code",
   "execution_count": 102,
   "metadata": {},
   "outputs": [],
   "source": [
    "#LR 효과 관찰"
   ]
  },
  {
   "cell_type": "markdown",
   "metadata": {},
   "source": [
    "케라스에서 XOR 문제"
   ]
  },
  {
   "cell_type": "code",
   "execution_count": 103,
   "metadata": {},
   "outputs": [],
   "source": [
    "X = np.array([[0,0],[0,1],[1,0],[1,1]])\n",
    "y = np.array([[0],[1],[1],[0]])"
   ]
  },
  {
   "cell_type": "code",
   "execution_count": 104,
   "metadata": {},
   "outputs": [],
   "source": [
    "#XOR 는 선형으로 분리가능한 문제가 아니다.\n",
    "#선형 모델에 비선형층을 추가하면 작동하지 않는다.\n",
    "\n",
    "\n",
    "model_input = Input(shape=(2,), dtype='float32')\n",
    "z = Dense(2,name='HiddenLayer', kernel_initializer='ones', activation='relu')(model_input)\n",
    "#z = Activation('relu')(z)\n",
    "z = Dense(1, name='OutputLayer')(z)\n",
    "model_output = Activation('sigmoid')(z)\n",
    "model = Model(model_input, model_output)\n",
    "#model.summary()"
   ]
  },
  {
   "cell_type": "code",
   "execution_count": 105,
   "metadata": {},
   "outputs": [],
   "source": [
    "sgd = SGD(lr=0.5)\n",
    "#model.compile(loss=\"mse\", optimizer=sgd)\n",
    "model.compile(loss=\"binary_crossentropy\", optimizer=sgd)"
   ]
  },
  {
   "cell_type": "code",
   "execution_count": 106,
   "metadata": {},
   "outputs": [
    {
     "data": {
      "text/html": [
       "<div>\n",
       "<style scoped>\n",
       "    .dataframe tbody tr th:only-of-type {\n",
       "        vertical-align: middle;\n",
       "    }\n",
       "\n",
       "    .dataframe tbody tr th {\n",
       "        vertical-align: top;\n",
       "    }\n",
       "\n",
       "    .dataframe thead th {\n",
       "        text-align: right;\n",
       "    }\n",
       "</style>\n",
       "<table border=\"1\" class=\"dataframe\">\n",
       "  <thead>\n",
       "    <tr style=\"text-align: right;\">\n",
       "      <th></th>\n",
       "      <th>Y_actual</th>\n",
       "      <th>Predictions</th>\n",
       "    </tr>\n",
       "  </thead>\n",
       "  <tbody>\n",
       "    <tr>\n",
       "      <th>0</th>\n",
       "      <td>[0]</td>\n",
       "      <td>[0.662]</td>\n",
       "    </tr>\n",
       "    <tr>\n",
       "      <th>1</th>\n",
       "      <td>[1]</td>\n",
       "      <td>[0.662]</td>\n",
       "    </tr>\n",
       "    <tr>\n",
       "      <th>2</th>\n",
       "      <td>[1]</td>\n",
       "      <td>[0.662]</td>\n",
       "    </tr>\n",
       "    <tr>\n",
       "      <th>3</th>\n",
       "      <td>[0]</td>\n",
       "      <td>[0.012]</td>\n",
       "    </tr>\n",
       "  </tbody>\n",
       "</table>\n",
       "</div>"
      ],
      "text/plain": [
       "  Y_actual Predictions\n",
       "0      [0]     [0.662]\n",
       "1      [1]     [0.662]\n",
       "2      [1]     [0.662]\n",
       "3      [0]     [0.012]"
      ]
     },
     "execution_count": 106,
     "metadata": {},
     "output_type": "execute_result"
    }
   ],
   "source": [
    "model.fit(X, y, batch_size=4, epochs=200,verbose=0)\n",
    "preds = np.round(model.predict(X),decimals=3)\n",
    "pd.DataFrame({'Y_actual':list(y), 'Predictions':list(preds)})"
   ]
  },
  {
   "cell_type": "code",
   "execution_count": 107,
   "metadata": {},
   "outputs": [
    {
     "data": {
      "text/plain": [
       "[array([[1.1208413, 1.5818743],\n",
       "        [1.1208413, 1.5818743]], dtype=float32),\n",
       " array([-1.2651404, -1.6912061], dtype=float32),\n",
       " array([[-1.5429004],\n",
       "        [-2.4549627]], dtype=float32),\n",
       " array([0.6719264], dtype=float32)]"
      ]
     },
     "execution_count": 107,
     "metadata": {},
     "output_type": "execute_result"
    }
   ],
   "source": [
    "model.get_weights()"
   ]
  },
  {
   "cell_type": "code",
   "execution_count": 108,
   "metadata": {},
   "outputs": [],
   "source": [
    "hidden_layer_output = Model(inputs=model.input,\n",
    "                                 outputs=model.get_layer('HiddenLayer').output)"
   ]
  },
  {
   "cell_type": "code",
   "execution_count": 109,
   "metadata": {},
   "outputs": [],
   "source": [
    "projection = hidden_layer_output.predict(X)"
   ]
  },
  {
   "cell_type": "code",
   "execution_count": 110,
   "metadata": {},
   "outputs": [
    {
     "name": "stdout",
     "output_type": "stream",
     "text": [
      "[0 0] [0. 0.]\n",
      "[0 1] [0. 0.]\n",
      "[1 0] [0. 0.]\n",
      "[1 1] [0.9765421 1.4725424]\n"
     ]
    }
   ],
   "source": [
    "for i in range(4):\n",
    "    print (X[i], projection[i])"
   ]
  },
  {
   "cell_type": "code",
   "execution_count": 111,
   "metadata": {},
   "outputs": [],
   "source": [
    "import matplotlib.pyplot as plt"
   ]
  },
  {
   "cell_type": "code",
   "execution_count": 112,
   "metadata": {},
   "outputs": [
    {
     "data": {
      "image/png": "[encoded data removed]",
      "text/plain": [
       "<Figure size 360x720 with 2 Axes>"
      ]
     },
     "metadata": {
      "needs_background": "light"
     },
     "output_type": "display_data"
    }
   ],
   "source": [
    "fig = plt.figure(figsize=(5,10))\n",
    "ax = fig.add_subplot(211)\n",
    "plt.scatter(x=projection[:, 0], y=projection[:, 1], c=('g'))\n",
    "\n",
    "ax.set_xlabel('X axis (h1)')\n",
    "ax.set_ylabel('Y axis (h2)')\n",
    "ax.set_label('Transformed Space')\n",
    "\n",
    "#입력을 선형으로 분리가능하게 변환하는  은닉층 \n",
    "x1, y1 = [projection[0, 0]-0.5, projection[3, 0]], [projection[0, 1]+0.5, projection[3, 1]+0.5]\n",
    "plt.plot(x1, y1)\n",
    "for i, inputx in enumerate(X):\n",
    "    ax.annotate(str(inputx), (projection[i, 0]+0.1,projection[i, 1]))\n",
    "ax = fig.add_subplot(212)\n",
    "ax.set_label('Original Space')\n",
    "plt.scatter(x=X[:, 0], y=X[:, 1], c=('b'))\n",
    "for i, inputx in enumerate(X):\n",
    "    ax.annotate(str(inputx), (X[i, 0]+0.05,X[i, 1]))\n"
   ]
  },
  {
   "cell_type": "code",
   "execution_count": 113,
   "metadata": {},
   "outputs": [],
   "source": [
    "plt.show()"
   ]
  },
  {
   "cell_type": "code",
   "execution_count": 114,
   "metadata": {},
   "outputs": [
    {
     "data": {
      "text/plain": [
       "array([[0.       , 0.       ],\n",
       "       [0.       , 0.       ],\n",
       "       [0.       , 0.       ],\n",
       "       [0.9765421, 1.4725424]], dtype=float32)"
      ]
     },
     "execution_count": 114,
     "metadata": {},
     "output_type": "execute_result"
    }
   ],
   "source": [
    "projection"
   ]
  },
  {
   "cell_type": "code",
   "execution_count": 115,
   "metadata": {},
   "outputs": [],
   "source": [
    "#Logistic neuron: Logistic regression"
   ]
  },
  {
   "cell_type": "code",
   "execution_count": 116,
   "metadata": {},
   "outputs": [],
   "source": [
    "from sklearn.datasets import load_breast_cancer\n",
    "data = load_breast_cancer()"
   ]
  },
  {
   "cell_type": "code",
   "execution_count": 117,
   "metadata": {},
   "outputs": [],
   "source": [
    "X = data.data\n",
    "y = data.target"
   ]
  },
  {
   "cell_type": "code",
   "execution_count": 118,
   "metadata": {},
   "outputs": [],
   "source": [
    "X_train, X_test, y_train, y_test = train_test_split(X, y, test_size=0.30, random_state=42)"
   ]
  },
  {
   "cell_type": "code",
   "execution_count": 119,
   "metadata": {},
   "outputs": [
    {
     "data": {
      "text/plain": [
       "(398, 30)"
      ]
     },
     "execution_count": 119,
     "metadata": {},
     "output_type": "execute_result"
    }
   ],
   "source": [
    "X_train.shape"
   ]
  },
  {
   "cell_type": "code",
   "execution_count": 120,
   "metadata": {},
   "outputs": [],
   "source": [
    "model_input = Input(shape=(30,), dtype='float32')\n",
    "\n",
    "model_output = Dense(1, activation='sigmoid',\n",
    "                     name='SigmoidNeuron')(model_input)\n",
    "sgd = SGD(lr=0.01)\n",
    "model = Model(model_input, model_output)\n",
    "model.compile(loss=\"binary_crossentropy\", optimizer=sgd, metrics=[\"accuracy\"])"
   ]
  },
  {
   "cell_type": "code",
   "execution_count": 121,
   "metadata": {},
   "outputs": [
    {
     "name": "stdout",
     "output_type": "stream",
     "text": [
      "Train on 398 samples, validate on 171 samples\n",
      "Epoch 1/5\n",
      " - 0s - loss: 0.3307 - acc: 0.8794 - val_loss: 0.2490 - val_acc: 0.9357\n",
      "Epoch 2/5\n",
      " - 0s - loss: 0.2580 - acc: 0.9196 - val_loss: 0.2032 - val_acc: 0.9474\n",
      "Epoch 3/5\n",
      " - 0s - loss: 0.2223 - acc: 0.9397 - val_loss: 0.1769 - val_acc: 0.9474\n",
      "Epoch 4/5\n",
      " - 0s - loss: 0.2003 - acc: 0.9447 - val_loss: 0.1595 - val_acc: 0.9474\n",
      "Epoch 5/5\n",
      " - 0s - loss: 0.1851 - acc: 0.9497 - val_loss: 0.1467 - val_acc: 0.9591\n"
     ]
    },
    {
     "data": {
      "text/plain": [
       "<tensorflow.python.keras.callbacks.History at 0x12b480128>"
      ]
     },
     "execution_count": 121,
     "metadata": {},
     "output_type": "execute_result"
    }
   ],
   "source": [
    "scaler = StandardScaler()\n",
    "model.fit(scaler.fit_transform(X_train), y_train, batch_size=10, epochs=5,verbose=2,\n",
    "          validation_data=(scaler.fit_transform(X_test), y_test))"
   ]
  },
  {
   "cell_type": "code",
   "execution_count": 122,
   "metadata": {},
   "outputs": [],
   "source": [
    "import numpy as np\n",
    "import seaborn as sns\n",
    "import matplotlib.pyplot as plt\n",
    "import matplotlib.animation as animation\n",
    "from scipy import stats \n",
    "\n",
    "from sklearn.datasets.samples_generator import make_regression \n"
   ]
  },
  {
   "cell_type": "code",
   "execution_count": 123,
   "metadata": {},
   "outputs": [
    {
     "name": "stdout",
     "output_type": "stream",
     "text": [
      "m=82.90456141637904, c=-3.709228868670303\n"
     ]
    },
    {
     "data": {
      "text/plain": [
       "[<matplotlib.lines.Line2D at 0x12a6da278>]"
      ]
     },
     "execution_count": 123,
     "metadata": {},
     "output_type": "execute_result"
    },
    {
     "data": {
      "image/png": "[encoded data removed]",
      "text/plain": [
       "<Figure size 432x288 with 1 Axes>"
      ]
     },
     "metadata": {
      "needs_background": "light"
     },
     "output_type": "display_data"
    }
   ],
   "source": [
    "x, y = make_regression(n_samples = 100, \n",
    "                       n_features=1, \n",
    "                       n_informative=1, \n",
    "                       noise=20,\n",
    "                       random_state=2017)\n",
    "x = x.flatten()\n",
    "slope, intercept, _,_,_ = stats.linregress(x,y)\n",
    "print(\"m={}, c={}\".format(slope,intercept))\n",
    "best_fit = np.vectorize(lambda x: x * slope + intercept)\n",
    "plt.plot(x,y, 'o', alpha=0.5)\n",
    "grid = np.arange(-3,3,0.1)\n",
    "plt.plot(grid,best_fit(grid), '.')"
   ]
  },
  {
   "cell_type": "code",
   "execution_count": 124,
   "metadata": {},
   "outputs": [],
   "source": [
    "plt.show()"
   ]
  },
  {
   "cell_type": "code",
   "execution_count": 125,
   "metadata": {},
   "outputs": [
    {
     "name": "stdout",
     "output_type": "stream",
     "text": [
      "Gradient Descent: -3.73, 82.80 73\n",
      "Least Squares: -3.71, 82.90\n"
     ]
    }
   ],
   "source": [
    "def gradient_descent(x, y, theta_init, step=0.1, maxsteps=0, precision=0.001, ):\n",
    "    costs = []\n",
    "    m = y.size # number of data points\n",
    "    theta = theta_init\n",
    "    history = [] # to store all thetas\n",
    "    preds = []\n",
    "    counter = 0\n",
    "    oldcost = 0\n",
    "    pred = np.dot(x, theta)\n",
    "    error = pred - y \n",
    "    currentcost = np.sum(error ** 2) / (2 * m)\n",
    "    preds.append(pred)\n",
    "    costs.append(currentcost)\n",
    "    history.append(theta)\n",
    "    counter+=1\n",
    "    while abs(currentcost - oldcost) > precision:\n",
    "        oldcost=currentcost\n",
    "        gradient = x.T.dot(error)/m \n",
    "        theta = theta - step * gradient  # update\n",
    "        history.append(theta)\n",
    "        \n",
    "        pred = np.dot(x, theta)\n",
    "        error = pred - y \n",
    "        currentcost = np.sum(error ** 2) / (2 * m)\n",
    "        costs.append(currentcost)\n",
    "        \n",
    "        if counter % 25 == 0: preds.append(pred)\n",
    "        counter+=1\n",
    "        if maxsteps:\n",
    "            if counter == maxsteps:\n",
    "                break\n",
    "        \n",
    "    return history, costs, preds, counter\n",
    "xaug = np.c_[np.ones(x.shape[0]), x]\n",
    "theta_i = [-15, 40] + np.random.rand(2)\n",
    "history, cost, preds, iters = gradient_descent(xaug, y, theta_i, step=0.1)\n",
    "theta = history[-1]\n",
    "print(\"Gradient Descent: {:.2f}, {:.2f} {:d}\".format(theta[0], theta[1], iters))\n",
    "print(\"Least Squares: {:.2f}, {:.2f}\".format(intercept, slope))"
   ]
  },
  {
   "cell_type": "code",
   "execution_count": 126,
   "metadata": {},
   "outputs": [
    {
     "name": "stderr",
     "output_type": "stream",
     "text": [
      "/usr/local/lib/python3.7/site-packages/matplotlib/contour.py:1000: UserWarning: The following kwargs were not used by contour: 'color'\n",
      "  s)\n"
     ]
    },
    {
     "data": {
      "image/png": "[encoded data removed]",
      "text/plain": [
       "<Figure size 720x432 with 1 Axes>"
      ]
     },
     "metadata": {
      "needs_background": "light"
     },
     "output_type": "display_data"
    }
   ],
   "source": [
    "from mpl_toolkits.mplot3d import Axes3D\n",
    "\n",
    "def error(X, Y, THETA):\n",
    "    return np.sum((X.dot(THETA) - Y)**2)/(2*Y.size)\n",
    "\n",
    "ms = np.linspace(theta[0] - 20 , theta[0] + 20, 20)\n",
    "bs = np.linspace(theta[1] - 40 , theta[1] + 40, 40)\n",
    "\n",
    "M, B = np.meshgrid(ms, bs)\n",
    "\n",
    "zs = np.array([error(xaug, y, theta) \n",
    "               for theta in zip(np.ravel(M), np.ravel(B))])\n",
    "Z = zs.reshape(M.shape)\n",
    "\n",
    "fig = plt.figure(figsize=(10, 6))\n",
    "ax = fig.add_subplot(111, projection='3d')\n",
    "\n",
    "ax.plot_surface(M, B, Z, rstride=1, cstride=1, color='b', alpha=0.2)\n",
    "ax.contour(M, B, Z, 20, color='b', alpha=0.5, offset=0, stride=30)\n",
    "\n",
    "\n",
    "ax.set_xlabel('Intercept')\n",
    "ax.set_ylabel('Slope')\n",
    "ax.set_zlabel('Cost')\n",
    "ax.view_init(elev=30., azim=30)\n",
    "ax.plot([theta[0]], [theta[1]], [cost[-1]] , markerfacecolor='r', markeredgecolor='r', marker='o', markersize=7);\n",
    "#ax.plot([history[0][0]], [history[0][1]], [cost[0]] , markerfacecolor='r', markeredgecolor='r', marker='o', markersize=7);\n",
    "\n",
    "\n",
    "ax.plot([t[0] for t in history], [t[1] for t in history], cost , markerfacecolor='r', markeredgecolor='r', marker='.', markersize=2);\n",
    "ax.plot([t[0] for t in history], [t[1] for t in history], 0 , markerfacecolor='r', markeredgecolor='r', marker='.', markersize=2);"
   ]
  },
  {
   "cell_type": "code",
   "execution_count": 127,
   "metadata": {},
   "outputs": [],
   "source": [
    "plt.show()"
   ]
  },
  {
   "cell_type": "code",
   "execution_count": 128,
   "metadata": {},
   "outputs": [
    {
     "data": {
      "image/png": "[encoded data removed]",
      "text/plain": [
       "<Figure size 720x360 with 1 Axes>"
      ]
     },
     "metadata": {
      "needs_background": "light"
     },
     "output_type": "display_data"
    }
   ],
   "source": [
    "fig = plt.figure(figsize=(10, 5))\n",
    "ax = fig.add_subplot(111)\n",
    "xlist = np.linspace(-7.0, 7.0, 100) # Create 1-D arrays for x,y dimensions\n",
    "ylist = np.linspace(-7.0, 7.0, 100)\n",
    "X,Y = np.meshgrid(xlist, ylist) # Create 2-D grid xlist,ylist values\n",
    "Z = 50 - X**2 - 2*Y**2  # Compute function values on the grid\n",
    "plt.contour(X, Y, Z, [10,20,30,40], colors = ['y','orange','r','b'], linestyles = 'solid')\n",
    "ax.annotate('Direction Of Gradident', xy=(.6, 0.3), xytext=(.6, 0.3))\n",
    "ax.annotate('Temp=30', xy=(2.8, 2.5), xytext=(2.8, 2.5))\n",
    "ax.annotate('Temp=40', xy=(2.3, 2), xytext=(2.3, 1.5))\n",
    "#ax.arrow(0, 0, 6.9, 6.8, head_width=0.5, head_length=0.5, fc='k', ec='k')\n",
    "ax.arrow(2, 1.75, 2*2/20, 4*1.75/20, head_width=0.2, head_length=0.5, fc='r', ec='r')\n",
    "ax.arrow(2, 1.75, -2*2/10, -4*1.75/10, head_width=0.3, head_length=0.5, fc='g', ec='g')\n",
    "\n",
    "plt.show()"
   ]
  },
  {
   "cell_type": "code",
   "execution_count": 129,
   "metadata": {},
   "outputs": [
    {
     "data": {
      "text/plain": [
       "39.875"
      ]
     },
     "execution_count": 129,
     "metadata": {},
     "output_type": "execute_result"
    }
   ],
   "source": [
    "50 - 2**2 - 2*1.75**2"
   ]
  },
  {
   "cell_type": "code",
   "execution_count": 130,
   "metadata": {},
   "outputs": [
    {
     "data": {
      "image/png": "[encoded data removed]",
      "text/plain": [
       "<Figure size 1440x360 with 4 Axes>"
      ]
     },
     "metadata": {
      "needs_background": "light"
     },
     "output_type": "display_data"
    }
   ],
   "source": [
    "import numpy as np\n",
    "import matplotlib.pylab as plt\n",
    "\n",
    "\n",
    "def step(x):\n",
    "    return np.array(x > 0, dtype=np.int)\n",
    "\n",
    "def sigmoid(x):\n",
    "    return 1 / (1 + np.exp(-x))\n",
    "\n",
    "def relu(x):\n",
    "    return np.maximum(0, x)\n",
    "\n",
    "def tanh(x):\n",
    "    return (np.exp(x)-np.exp(-x)) / (np.exp(x) + np.exp(-x))\n",
    "\n",
    "x = np.arange(-5.0, 5.0, 0.1)\n",
    "y_step = step(x)\n",
    "y_sigmoid = sigmoid(x)\n",
    "y_relu = relu(x)\n",
    "y_tanh = tanh(x)\n",
    "fig, axes = plt.subplots(ncols=4, figsize=(20, 5))\n",
    "ax = axes[0]\n",
    "ax.plot(x, y_step,label='Binary Threshold',  color='k', lw=1, linestyle=None)\n",
    "ax.set_ylim(-0.8,2)\n",
    "ax.set_title('Binary Threshold')\n",
    "\n",
    "ax = axes[1]\n",
    "ax.plot(x, y_sigmoid,label='Sigmoid',  color='k', lw=1, linestyle=None)\n",
    "ax.set_ylim(-0.001,1)\n",
    "ax.set_title('Sigmoid')\n",
    "\n",
    "ax = axes[2]\n",
    "ax.plot(x, y_tanh,label='Tanh',  color='k', lw=1, linestyle=None)\n",
    "ax.set_ylim(-1.,1)\n",
    "ax.set_title('Tanh')\n",
    "\n",
    "ax = axes[3]\n",
    "ax.plot(x, y_relu,label='ReLu',  color='k', lw=1, linestyle=None)\n",
    "ax.set_ylim(-0.8,5)\n",
    "ax.set_title('ReLu')\n",
    "\n",
    "\n",
    "plt.show()"
   ]
  },
  {
   "cell_type": "code",
   "execution_count": 131,
   "metadata": {},
   "outputs": [
    {
     "data": {
      "image/png": "[encoded data removed]",
      "text/plain": [
       "<Figure size 720x360 with 1 Axes>"
      ]
     },
     "metadata": {
      "needs_background": "light"
     },
     "output_type": "display_data"
    }
   ],
   "source": [
    "x = np.arange(-10.0, 10.0, 0.1)\n",
    "def lineup(x):\n",
    "    return (x-4)/12-1\n",
    "\n",
    "def cliff(x):\n",
    "    x1 = -tanh(x[x<4])\n",
    "    x2 = np.apply_along_axis(lineup, 0, x[x>4])\n",
    "    return np.concatenate([x1, x2])\n",
    "y_cliff = cliff(x)\n",
    "\n",
    "    \n",
    "fig, axes = plt.subplots(ncols=1, figsize=(10, 5))\n",
    "ax = axes\n",
    "ax.plot(x, y_cliff,label='Steep Cliff',  color='k', lw=1, linestyle=None)\n",
    "ax.set_ylim(-1.,1)\n",
    "ax.set_title('Steep Cliff')\n",
    "plt.show()"
   ]
  },
  {
   "cell_type": "markdown",
   "metadata": {},
   "source": [
    "## 다항식 곡선 접합"
   ]
  },
  {
   "cell_type": "code",
   "execution_count": 132,
   "metadata": {},
   "outputs": [],
   "source": [
    "from math import sin, pi\n",
    "N = 100; max_degree = 20\n",
    "noise = np.random.normal(0, 0.2, N)"
   ]
  },
  {
   "cell_type": "code",
   "execution_count": 133,
   "metadata": {},
   "outputs": [
    {
     "data": {
      "image/png": "[encoded data removed]",
      "text/plain": [
       "<Figure size 432x288 with 1 Axes>"
      ]
     },
     "metadata": {
      "needs_background": "light"
     },
     "output_type": "display_data"
    }
   ],
   "source": [
    "df = pd.DataFrame( index=list(range(N)),columns=list(range(1,max_degree)))\n",
    "for i in range(N):\n",
    "    df.loc[i]=[pow(i/N,n) for n in range(1,max_degree)]\n",
    "df['y']=[sin(2*pi*x/N)+noise[x] for x in range(N)]\n",
    "\n",
    "plt.scatter(x=df[1], y=df['y'])\n",
    "plt.show()"
   ]
  },
  {
   "cell_type": "code",
   "execution_count": 134,
   "metadata": {},
   "outputs": [],
   "source": [
    "from tensorflow.keras.initializers import RandomNormal\n",
    "degree = 3\n",
    "X = df[list(range(1,degree+1))].values\n",
    "y = df['y'].values\n",
    "X_train, X_test, y_train, y_test = train_test_split( X, y, test_size=0.60, random_state=42)\n",
    "model_input = Input(shape=(degree,), dtype='float32')\n",
    "model_output = Dense(1, activation='linear', name='LinearNeuron')(model_input)\n",
    "sgd = SGD(lr=0.3)\n",
    "model = Model(model_input, model_output)\n",
    "model.compile(loss=\"mean_squared_error\", optimizer=sgd)"
   ]
  },
  {
   "cell_type": "code",
   "execution_count": 135,
   "metadata": {},
   "outputs": [],
   "source": [
    "history = model.fit(X_train,y_train , batch_size=10, epochs=1000,verbose=0, validation_data=(X_test,y_test) )"
   ]
  },
  {
   "cell_type": "code",
   "execution_count": 136,
   "metadata": {},
   "outputs": [
    {
     "data": {
      "image/png": "[encoded data removed]",
      "text/plain": [
       "<Figure size 432x288 with 1 Axes>"
      ]
     },
     "metadata": {
      "needs_background": "light"
     },
     "output_type": "display_data"
    }
   ],
   "source": [
    "y_pred = model.predict(X_train)\n",
    "plt.scatter(X_train[:,0], y_train)\n",
    "plt.plot(np.sort(X_train[:,0]), y_pred[X_train[:,0].argsort()])\n",
    "plt.title(\"Model fit for plynomial of degree {}\".format(degree))\n",
    "plt.show()"
   ]
  },
  {
   "cell_type": "code",
   "execution_count": 137,
   "metadata": {},
   "outputs": [
    {
     "data": {
      "text/plain": [
       "[array([[ 0.89315957],\n",
       "        [-8.131035  ],\n",
       "        [ 5.99785   ]], dtype=float32), array([0.74606186], dtype=float32)]"
      ]
     },
     "execution_count": 137,
     "metadata": {},
     "output_type": "execute_result"
    }
   ],
   "source": [
    "model.get_weights()"
   ]
  },
  {
   "cell_type": "code",
   "execution_count": 138,
   "metadata": {},
   "outputs": [
    {
     "data": {
      "image/png": "[encoded data removed]",
      "text/plain": [
       "<Figure size 432x288 with 1 Axes>"
      ]
     },
     "metadata": {
      "needs_background": "light"
     },
     "output_type": "display_data"
    }
   ],
   "source": [
    "y_pred = model.predict(X_test)\n",
    "plt.scatter(X_test[:,0], y_test)\n",
    "plt.plot(np.sort(X_test[:,0]), y_pred[X_test[:,0].argsort()])\n",
    "plt.title(\"Model fit for plynomial of degree {}\".format(degree))\n",
    "plt.show()"
   ]
  },
  {
   "cell_type": "code",
   "execution_count": 139,
   "metadata": {},
   "outputs": [
    {
     "data": {
      "image/png": "[encoded data removed]",
      "text/plain": [
       "<Figure size 432x288 with 1 Axes>"
      ]
     },
     "metadata": {
      "needs_background": "light"
     },
     "output_type": "display_data"
    }
   ],
   "source": [
    "plt.plot(history.history['loss'])\n",
    "plt.plot(history.history['val_loss'])\n",
    "plt.title('model trainig progress')\n",
    "plt.ylabel('loss')\n",
    "plt.xlabel('epoch')\n",
    "plt.legend(['train', 'test'], loc='upper left')\n",
    "plt.show()"
   ]
  },
  {
   "cell_type": "markdown",
   "metadata": {
    "collapsed": true
   },
   "source": [
    "# 경사도 노름(Norm) 계산"
   ]
  },
  {
   "cell_type": "code",
   "execution_count": 140,
   "metadata": {},
   "outputs": [],
   "source": [
    "import tensorflow.keras.backend as K\n",
    "from tensorflow.keras.layers import Dense\n",
    "from tensorflow.keras.models import Sequential\n",
    "\n",
    "def get_gradient_norm_func(model):\n",
    "    grads = K.gradients(model.total_loss, model.trainable_weights)\n",
    "    summed_squares = [K.sum(K.square(g)) for g in grads]\n",
    "    norm = K.sqrt(sum(summed_squares))\n",
    "    \n",
    "    #list concatenation : inputs followed by target , followed by sample weights (all 1 in this case)\n",
    "    inputs = [model._feed_inputs , model._feed_targets , model._feed_sample_weights]\n",
    "    #K.function 는 다대다 함수를 만들 수 있도록 입력과 출력의 텐서를 리스트로 만들어 준다. \n",
    "    func = K.function(inputs, [norm])\n",
    "    return func"
   ]
  },
  {
   "cell_type": "code",
   "execution_count": 141,
   "metadata": {},
   "outputs": [],
   "source": [
    "x = np.random.random((128,)).reshape((-1, 1))\n",
    "y = 2 * x\n",
    "model = Sequential(layers=[Dense(2, input_shape=(1,)),\n",
    "                               Dense(1)])\n",
    "model.compile(loss='mse', optimizer='rmsprop')"
   ]
  },
  {
   "cell_type": "code",
   "execution_count": 149,
   "metadata": {},
   "outputs": [],
   "source": [
    "get_gradient = get_gradient_norm_func(model)\n",
    "gradients_per_epoc =[]\n",
    "for i in range(5):\n",
    "    history = model.fit(x, y, epochs=1,batch_size=10, verbose=0)\n",
    "    gradients_per_epoc = gradients_per_epoc + get_gradient([x, y, np.ones(len(y))])\n"
   ]
  },
  {
   "cell_type": "code",
   "execution_count": 150,
   "metadata": {},
   "outputs": [
    {
     "data": {
      "image/png": "[encoded data removed]",
      "text/plain": [
       "<Figure size 432x288 with 1 Axes>"
      ]
     },
     "metadata": {
      "needs_background": "light"
     },
     "output_type": "display_data"
    }
   ],
   "source": [
    "plt.plot(gradients_per_epoc)\n",
    "plt.show()"
   ]
  },
  {
   "cell_type": "code",
   "execution_count": 151,
   "metadata": {},
   "outputs": [
    {
     "data": {
      "text/plain": [
       "array([[0.10788755],\n",
       "       [0.8853363 ],\n",
       "       [0.89705514],\n",
       "       [0.53982084],\n",
       "       [0.90269146],\n",
       "       [0.97770239],\n",
       "       [0.37655468],\n",
       "       [0.11024708],\n",
       "       [0.79130639],\n",
       "       [0.95391815],\n",
       "       [0.04991951],\n",
       "       [0.82891847],\n",
       "       [0.26727656],\n",
       "       [0.83391557],\n",
       "       [0.64722542],\n",
       "       [0.7221099 ],\n",
       "       [0.5481335 ],\n",
       "       [0.73597876],\n",
       "       [0.84322145],\n",
       "       [0.86969171],\n",
       "       [0.5740088 ],\n",
       "       [0.21925519],\n",
       "       [0.41591336],\n",
       "       [0.90353362],\n",
       "       [0.51540748],\n",
       "       [0.46259519],\n",
       "       [0.26895956],\n",
       "       [0.12814907],\n",
       "       [0.81059927],\n",
       "       [0.28633677],\n",
       "       [0.71214153],\n",
       "       [0.93012542],\n",
       "       [0.96342812],\n",
       "       [0.34918957],\n",
       "       [0.79718675],\n",
       "       [0.69736944],\n",
       "       [0.47421915],\n",
       "       [0.78816263],\n",
       "       [0.85923959],\n",
       "       [0.60775367],\n",
       "       [0.82056629],\n",
       "       [0.73546004],\n",
       "       [0.81016241],\n",
       "       [0.41252949],\n",
       "       [0.0756464 ],\n",
       "       [0.82537343],\n",
       "       [0.82713089],\n",
       "       [0.81438492],\n",
       "       [0.12180669],\n",
       "       [0.15245383],\n",
       "       [0.08639638],\n",
       "       [0.25072158],\n",
       "       [0.45240525],\n",
       "       [0.40346258],\n",
       "       [0.9917994 ],\n",
       "       [0.37844194],\n",
       "       [0.03837245],\n",
       "       [0.95573092],\n",
       "       [0.37666774],\n",
       "       [0.0114963 ],\n",
       "       [0.20628028],\n",
       "       [0.57922205],\n",
       "       [0.5756482 ],\n",
       "       [0.54816565],\n",
       "       [0.2910336 ],\n",
       "       [0.5781644 ],\n",
       "       [0.25971808],\n",
       "       [0.83174912],\n",
       "       [0.12701702],\n",
       "       [0.49435097],\n",
       "       [0.18878116],\n",
       "       [0.45336834],\n",
       "       [0.53316681],\n",
       "       [0.05498234],\n",
       "       [0.53655878],\n",
       "       [0.90908607],\n",
       "       [0.81749004],\n",
       "       [0.42117354],\n",
       "       [0.61450161],\n",
       "       [0.636142  ],\n",
       "       [0.4829028 ],\n",
       "       [0.33578069],\n",
       "       [0.68955165],\n",
       "       [0.51327312],\n",
       "       [0.94300718],\n",
       "       [0.09276376],\n",
       "       [0.67324087],\n",
       "       [0.41874701],\n",
       "       [0.80410884],\n",
       "       [0.65836468],\n",
       "       [0.5641676 ],\n",
       "       [0.90326947],\n",
       "       [0.68045716],\n",
       "       [0.09760196],\n",
       "       [0.71548508],\n",
       "       [0.52806012],\n",
       "       [0.85415132],\n",
       "       [0.38189131],\n",
       "       [0.96948032],\n",
       "       [0.40906903],\n",
       "       [0.13067198],\n",
       "       [0.26175555],\n",
       "       [0.31980646],\n",
       "       [0.9911397 ],\n",
       "       [0.37771154],\n",
       "       [0.99439342],\n",
       "       [0.95240024],\n",
       "       [0.17629712],\n",
       "       [0.53380569],\n",
       "       [0.03381843],\n",
       "       [0.66501305],\n",
       "       [0.25834298],\n",
       "       [0.79468237],\n",
       "       [0.23158037],\n",
       "       [0.22234336],\n",
       "       [0.45538256],\n",
       "       [0.64799832],\n",
       "       [0.40003983],\n",
       "       [0.36959316],\n",
       "       [0.01848613],\n",
       "       [0.78008109],\n",
       "       [0.48686738],\n",
       "       [0.35290052],\n",
       "       [0.51230329],\n",
       "       [0.96984772],\n",
       "       [0.14706067],\n",
       "       [0.13805388],\n",
       "       [0.80378998]])"
      ]
     },
     "execution_count": 151,
     "metadata": {},
     "output_type": "execute_result"
    }
   ],
   "source": [
    "x"
   ]
  },
  {
   "cell_type": "code",
   "execution_count": 145,
   "metadata": {},
   "outputs": [
    {
     "data": {
      "text/plain": [
       "array([[0.2157751 ],\n",
       "       [1.77067261],\n",
       "       [1.79411029],\n",
       "       [1.07964167],\n",
       "       [1.80538292],\n",
       "       [1.95540479],\n",
       "       [0.75310936],\n",
       "       [0.22049417],\n",
       "       [1.58261279],\n",
       "       [1.9078363 ],\n",
       "       [0.09983901],\n",
       "       [1.65783693],\n",
       "       [0.53455313],\n",
       "       [1.66783114],\n",
       "       [1.29445083],\n",
       "       [1.4442198 ],\n",
       "       [1.096267  ],\n",
       "       [1.47195753],\n",
       "       [1.68644291],\n",
       "       [1.73938342],\n",
       "       [1.1480176 ],\n",
       "       [0.43851038],\n",
       "       [0.83182671],\n",
       "       [1.80706724],\n",
       "       [1.03081497],\n",
       "       [0.92519039],\n",
       "       [0.53791911],\n",
       "       [0.25629813],\n",
       "       [1.62119854],\n",
       "       [0.57267354],\n",
       "       [1.42428307],\n",
       "       [1.86025083],\n",
       "       [1.92685625],\n",
       "       [0.69837915],\n",
       "       [1.59437351],\n",
       "       [1.39473889],\n",
       "       [0.9484383 ],\n",
       "       [1.57632525],\n",
       "       [1.71847918],\n",
       "       [1.21550734],\n",
       "       [1.64113258],\n",
       "       [1.47092007],\n",
       "       [1.62032482],\n",
       "       [0.82505899],\n",
       "       [0.1512928 ],\n",
       "       [1.65074685],\n",
       "       [1.65426178],\n",
       "       [1.62876985],\n",
       "       [0.24361339],\n",
       "       [0.30490766],\n",
       "       [0.17279277],\n",
       "       [0.50144315],\n",
       "       [0.90481051],\n",
       "       [0.80692515],\n",
       "       [1.9835988 ],\n",
       "       [0.75688388],\n",
       "       [0.0767449 ],\n",
       "       [1.91146184],\n",
       "       [0.75333549],\n",
       "       [0.02299261],\n",
       "       [0.41256056],\n",
       "       [1.15844409],\n",
       "       [1.15129641],\n",
       "       [1.09633129],\n",
       "       [0.58206719],\n",
       "       [1.1563288 ],\n",
       "       [0.51943615],\n",
       "       [1.66349823],\n",
       "       [0.25403404],\n",
       "       [0.98870194],\n",
       "       [0.37756232],\n",
       "       [0.90673667],\n",
       "       [1.06633362],\n",
       "       [0.10996469],\n",
       "       [1.07311755],\n",
       "       [1.81817215],\n",
       "       [1.63498008],\n",
       "       [0.84234708],\n",
       "       [1.22900322],\n",
       "       [1.27228399],\n",
       "       [0.9658056 ],\n",
       "       [0.67156137],\n",
       "       [1.3791033 ],\n",
       "       [1.02654625],\n",
       "       [1.88601436],\n",
       "       [0.18552751],\n",
       "       [1.34648175],\n",
       "       [0.83749402],\n",
       "       [1.60821767],\n",
       "       [1.31672936],\n",
       "       [1.12833521],\n",
       "       [1.80653894],\n",
       "       [1.36091433],\n",
       "       [0.19520392],\n",
       "       [1.43097017],\n",
       "       [1.05612024],\n",
       "       [1.70830265],\n",
       "       [0.76378261],\n",
       "       [1.93896065],\n",
       "       [0.81813806],\n",
       "       [0.26134396],\n",
       "       [0.52351109],\n",
       "       [0.63961292],\n",
       "       [1.98227939],\n",
       "       [0.75542309],\n",
       "       [1.98878685],\n",
       "       [1.90480048],\n",
       "       [0.35259424],\n",
       "       [1.06761139],\n",
       "       [0.06763686],\n",
       "       [1.3300261 ],\n",
       "       [0.51668596],\n",
       "       [1.58936473],\n",
       "       [0.46316074],\n",
       "       [0.44468673],\n",
       "       [0.91076512],\n",
       "       [1.29599664],\n",
       "       [0.80007965],\n",
       "       [0.73918632],\n",
       "       [0.03697225],\n",
       "       [1.56016217],\n",
       "       [0.97373476],\n",
       "       [0.70580104],\n",
       "       [1.02460659],\n",
       "       [1.93969544],\n",
       "       [0.29412133],\n",
       "       [0.27610777],\n",
       "       [1.60757995]])"
      ]
     },
     "execution_count": 145,
     "metadata": {},
     "output_type": "execute_result"
    }
   ],
   "source": [
    "y"
   ]
  },
  {
   "cell_type": "code",
   "execution_count": 152,
   "metadata": {},
   "outputs": [],
   "source": [
    "#The parameters clipnorm and clipvalue can be used with all optimizers to control gradient clipping:\n",
    "from tensorflow.keras import optimizers\n",
    "# All parameter gradients will be clipped to max norm of 1.0\n",
    "sgd = optimizers.SGD(lr=0.01, clipnorm=1.)\n",
    "#Similarly for ADAM\n",
    "adam = optimizers.Adam(clipnorm=1.)"
   ]
  },
  {
   "cell_type": "code",
   "execution_count": 153,
   "metadata": {},
   "outputs": [
    {
     "name": "stdout",
     "output_type": "stream",
     "text": [
      "[array([ 5, 12, 21, 32], dtype=int32), array([-4, -4, -4, -4], dtype=int32), 70, array([11, 12, 13, 14], dtype=int32), array([[-1, -2, -3, -4],\n",
      "       [-1, -2, -3, -4]], dtype=int32), array([[-10, -10],\n",
      "       [-10, -10],\n",
      "       [-10, -10],\n",
      "       [-10, -10]], dtype=int32)]\n"
     ]
    }
   ],
   "source": [
    "import tensorflow as tf\n",
    "\n",
    "# Initialize 3 constants: 2 vectors, a scalar and a 2D tensor\n",
    "x1 = tf.constant([1,2,3,4])\n",
    "x2 = tf.constant([5,6,7,8])\n",
    "b = tf.constant(10)\n",
    "W = tf.constant(-1, shape=[4, 2])\n",
    "# Elementwise Multiply/subtract\n",
    "res_elem_wise_mult = tf.multiply(x1, x2)\n",
    "res_elem_wise_sub = tf.subtract(x1, x2)\n",
    "\n",
    "#dot product of two tensors of compatable shapes\n",
    "res_dot_product = tf.tensordot(x1, x2, axes=1)\n",
    "#broadcasting : add scalar 10 to all elements of the vector\n",
    "res_broadcast = tf.add(x1, b)\n",
    "#Calculating Wtx\n",
    "res_matrix_vector_dot = tf.multiply(tf.transpose(W), x1)\n",
    "\n",
    "#scalar multiplication\n",
    "scal_mult_matrix = tf.scalar_mul(scalar=10, x=W)\n",
    "# Initialize Session and execute\n",
    "with tf.Session() as sess:\n",
    "    output = sess.run([res_elem_wise_mult,res_elem_wise_sub, res_dot_product,\n",
    "                       res_broadcast,res_matrix_vector_dot,\n",
    "                      scal_mult_matrix])\n",
    "    print(output)"
   ]
  },
  {
   "cell_type": "code",
   "execution_count": 154,
   "metadata": {},
   "outputs": [
    {
     "name": "stdout",
     "output_type": "stream",
     "text": [
      "-0.9999999958776927\n",
      "-1.2449186556071734\n",
      "-1.462117146054417\n",
      "-1.6351489339123881\n",
      "-1.7615941254958059\n",
      "-1.8482835897375312\n",
      "-1.9051481708461155\n",
      "-1.9413754019852292\n",
      "-1.9640273550054927\n",
      "-1.97802574366061\n",
      "-1.9866136863469763\n",
      "-1.9918587158733914\n",
      "-1.9950530906306752\n",
      "-1.9969948935721122\n",
      "-1.9981733769626029\n",
      "-1.9988869894475845\n",
      "-1.9993170113898626\n",
      "-1.999572886061928\n",
      "-1.9997198080043312\n",
      "-1.9997952361627496\n",
      "-1.9998184085251902\n",
      "-1.9997952361627496\n",
      "-1.9997198080043312\n",
      "-1.999572886061928\n",
      "-1.9993170113898626\n",
      "-1.9988869894475845\n",
      "-1.9981733769626029\n",
      "-1.9969948935721122\n",
      "-1.9950530906306752\n",
      "-1.9918587158733914\n",
      "-1.9866136863469763\n",
      "-1.97802574366061\n",
      "-1.9640273550054927\n",
      "-1.9413754019852292\n",
      "-1.9051481708461155\n",
      "-1.8482835897375312\n",
      "-0.7550813307997553\n",
      "-0.9999999887944072\n",
      "-1.24491864392881\n",
      "-1.4621171268000508\n",
      "-1.6351489021673054\n",
      "-1.7615940731570139\n",
      "-1.8482835034454546\n",
      "-1.9051480285745424\n",
      "-1.9413751674190838\n",
      "-1.9640269682713631\n",
      "-1.9780251060439973\n",
      "-1.986612635095375\n",
      "-1.991856982653794\n",
      "-1.9950502330381346\n",
      "-1.9969901822079577\n",
      "-1.9981656092619944\n",
      "-1.9988741827441912\n",
      "-1.999295896895371\n",
      "-1.9995380746616604\n",
      "-1.9996624151106226\n",
      "-1.9997006150899574\n",
      "-1.9996624151106226\n",
      "-1.9995380746616604\n",
      "-1.999295896895371\n",
      "-1.9988741827441912\n",
      "-1.9981656092619944\n",
      "-1.9969901822079577\n",
      "-1.9950502330381346\n",
      "-1.991856982653794\n",
      "-1.986612635095375\n",
      "-1.9780251060439973\n",
      "-1.9640269682713631\n",
      "-1.9413751674190838\n",
      "-1.9051480285745424\n",
      "-1.8482835034454546\n",
      "-1.7615940731570139\n",
      "-0.5378828315343975\n",
      "-0.7550813191213916\n",
      "-0.999999969540041\n",
      "-1.2449186121837272\n",
      "-1.4621170744612588\n",
      "-1.6351488158752292\n",
      "-1.7615939308854407\n",
      "-1.8482832688793092\n",
      "-1.9051476418404125\n",
      "-1.941374529802471\n",
      "-1.9640259170197616\n",
      "-1.9780233728243999\n",
      "-1.9866097775028346\n",
      "-1.9918522712896394\n",
      "-1.995042465337526\n",
      "-1.9969773755045641\n",
      "-1.9981444947675024\n",
      "-1.9988393713439236\n",
      "-1.9992385040016623\n",
      "-1.9994434535888683\n",
      "-1.999506421696055\n",
      "-1.9994434535888683\n",
      "-1.9992385040016623\n",
      "-1.9988393713439236\n",
      "-1.9981444947675024\n",
      "-1.9969773755045641\n",
      "-1.995042465337526\n",
      "-1.9918522712896394\n",
      "-1.9866097775028346\n",
      "-1.9780233728243999\n",
      "-1.9640259170197616\n",
      "-1.941374529802471\n",
      "-1.9051476418404125\n",
      "-1.8482832688793092\n",
      "-1.7615939308854407\n",
      "-1.6351488158752292\n",
      "-0.36485102913781353\n",
      "-0.5378828122800312\n",
      "-0.7550812873763091\n",
      "-0.999999917201249\n",
      "-1.2449185258916509\n",
      "-1.4621169321896856\n",
      "-1.6351485813090836\n",
      "-1.761593544151311\n",
      "-1.8482826312626965\n",
      "-1.905146590588811\n",
      "-1.9413727965828738\n",
      "-1.964023059427221\n",
      "-1.9780186614602453\n",
      "-1.986602009802226\n",
      "-1.991839464586246\n",
      "-1.9950213508430341\n",
      "-1.9969425641042968\n",
      "-1.9980871018737938\n",
      "-1.9987447502711315\n",
      "-1.9990825105870944\n",
      "-1.9991862920877792\n",
      "-1.9990825105870944\n",
      "-1.9987447502711315\n",
      "-1.9980871018737938\n",
      "-1.9969425641042968\n",
      "-1.9950213508430341\n",
      "-1.991839464586246\n",
      "-1.986602009802226\n",
      "-1.9780186614602453\n",
      "-1.964023059427221\n",
      "-1.9413727965828738\n",
      "-1.905146590588811\n",
      "-1.8482826312626965\n",
      "-1.761593544151311\n",
      "-1.6351485813090836\n",
      "-1.4621169321896856\n",
      "-0.23840581358427615\n",
      "-0.36485099739273086\n",
      "-0.5378827599412392\n",
      "-0.7550812010842327\n",
      "-0.9999997749296758\n",
      "-1.2449182913255055\n",
      "-1.4621165454555558\n",
      "-1.6351479436924707\n",
      "-1.7615924928997095\n",
      "-1.8482808980430991\n",
      "-1.9051437329962706\n",
      "-1.941368085218719\n",
      "-1.9640152917266125\n",
      "-1.978005854756852\n",
      "-1.9865808953077342\n",
      "-1.9918046531859785\n",
      "-1.9949639579493255\n",
      "-1.9968479430315047\n",
      "-1.9979311084592262\n",
      "-1.9984875887700424\n",
      "-1.998658599478134\n",
      "-1.9984875887700424\n",
      "-1.9979311084592262\n",
      "-1.9968479430315047\n",
      "-1.9949639579493255\n",
      "-1.9918046531859785\n",
      "-1.9865808953077342\n",
      "-1.978005854756852\n",
      "-1.9640152917266125\n",
      "-1.941368085218719\n",
      "-1.9051437329962706\n",
      "-1.8482808980430991\n",
      "-1.7615924928997095\n",
      "-1.6351479436924707\n",
      "-1.4621165454555558\n",
      "-1.2449182913255055\n",
      "-0.15171630982250528\n",
      "-0.23840576124548418\n",
      "-0.3648509111006545\n",
      "-0.537882617669666\n",
      "-0.7550809665180871\n",
      "-0.9999993881955461\n",
      "-1.2449176537088926\n",
      "-1.4621154942039545\n",
      "-1.6351462104728736\n",
      "-1.761589635307169\n",
      "-1.8482761866789446\n",
      "-1.905135965295662\n",
      "-1.9413552785153256\n",
      "-1.9639941772321206\n",
      "-1.9779710433565845\n",
      "-1.9865235024140255\n",
      "-1.9917100321131864\n",
      "-1.994807964534758\n",
      "-1.9965907815304156\n",
      "-1.9975071973502656\n",
      "-1.9977888854523056\n",
      "-1.9975071973502656\n",
      "-1.9965907815304156\n",
      "-1.994807964534758\n",
      "-1.9917100321131864\n",
      "-1.9865235024140255\n",
      "-1.9779710433565845\n",
      "-1.9639941772321206\n",
      "-1.9413552785153256\n",
      "-1.905135965295662\n",
      "-1.8482761866789446\n",
      "-1.761589635307169\n",
      "-1.6351462104728736\n",
      "-1.4621154942039545\n",
      "-1.2449176537088926\n",
      "-0.9999993881955461\n",
      "-0.09485166355638264\n",
      "-0.1517162235304289\n",
      "-0.238405618973911\n",
      "-0.364850676534509\n",
      "-0.5378822309355364\n",
      "-0.7550803289014745\n",
      "-0.9999983369439447\n",
      "-1.2449159204892954\n",
      "-1.4621126366114139\n",
      "-1.635141499108719\n",
      "-1.7615818676065604\n",
      "-1.8482633799755512\n",
      "-1.9051148508011702\n",
      "-1.9413204671150583\n",
      "-1.963936784338412\n",
      "-1.9778764222837923\n",
      "-1.9863675089994577\n",
      "-1.9914528706120973\n",
      "-1.9943840534257975\n",
      "-1.9958920782126788\n",
      "-1.9963557952223974\n",
      "-1.9958920782126788\n",
      "-1.9943840534257975\n",
      "-1.9914528706120973\n",
      "-1.9863675089994577\n",
      "-1.9778764222837923\n",
      "-1.963936784338412\n",
      "-1.9413204671150583\n",
      "-1.9051148508011702\n",
      "-1.8482633799755512\n",
      "-1.7615818676065604\n",
      "-1.635141499108719\n",
      "-1.4621126366114139\n",
      "-1.2449159204892954\n",
      "-0.9999983369439447\n",
      "-0.7550803289014745\n",
      "-0.0586243249906544\n",
      "-0.09485152128480945\n",
      "-0.1517159889642834\n",
      "-0.23840523223978127\n",
      "-0.36485003891789625\n",
      "-0.5378811796839349\n",
      "-0.7550785956818771\n",
      "-0.9999954793514042\n",
      "-1.2449112091251409\n",
      "-1.4621048689108054\n",
      "-1.6351286924053254\n",
      "-1.7615607531120685\n",
      "-1.8482285685752837\n",
      "-1.9050574579074615\n",
      "-1.9412258460422662\n",
      "-1.9637807909238445\n",
      "-1.9776192607827032\n",
      "-1.9859435978904973\n",
      "-1.9907541672943605\n",
      "-1.9932326512979293\n",
      "-1.993995270973052\n",
      "-1.9932326512979293\n",
      "-1.9907541672943605\n",
      "-1.9859435978904973\n",
      "-1.9776192607827032\n",
      "-1.9637807909238445\n",
      "-1.9412258460422662\n",
      "-1.9050574579074615\n",
      "-1.8482285685752837\n",
      "-1.7615607531120685\n",
      "-1.6351286924053254\n",
      "-1.4621048689108054\n",
      "-1.2449112091251409\n",
      "-0.9999954793514042\n",
      "-0.7550785956818771\n",
      "-0.5378811796839349\n",
      "-0.03597219485385894\n",
      "-0.05862409042450889\n",
      "-0.09485113455067973\n",
      "-0.15171535134767067\n",
      "-0.23840418098817984\n",
      "-0.36484830569829896\n",
      "-0.5378783220913945\n",
      "-0.7550738843177225\n",
      "-0.9999877116507956\n",
      "-1.2448984024217473\n",
      "-1.4620837544163134\n",
      "-1.6350938810050581\n",
      "-1.7615033602183598\n",
      "-1.8481339475024916\n",
      "-1.9049014644928939\n",
      "-1.9409686845411769\n",
      "-1.963356879814884\n",
      "-1.9769205574649664\n",
      "-1.9847921957626289\n",
      "-1.9888573600547337\n",
      "-1.990109507373461\n",
      "-1.9888573600547337\n",
      "-1.9847921957626289\n",
      "-1.9769205574649664\n",
      "-1.963356879814884\n",
      "-1.9409686845411769\n",
      "-1.9049014644928939\n",
      "-1.8481339475024916\n",
      "-1.7615033602183598\n",
      "-1.6350938810050581\n",
      "-1.4620837544163134\n",
      "-1.2448984024217473\n",
      "-0.9999877116507956\n",
      "-0.7550738843177225\n",
      "-0.5378783220913945\n",
      "-0.36484830569829896\n",
      "-0.021973514182982656\n",
      "-0.03597180811972922\n",
      "-0.05862345280789616\n",
      "-0.09485008329907829\n",
      "-0.15171361812807338\n",
      "-0.23840132339563935\n",
      "-0.36484359433414437\n",
      "-0.5378705543907858\n",
      "-0.7550610776143292\n",
      "-0.9999665971563038\n",
      "-1.24486359102148\n",
      "-1.4620263615226048\n",
      "-1.634999259932266\n",
      "-1.7613473668037924\n",
      "-1.8478767860014025\n",
      "-1.9044775533839333\n",
      "-1.94026998122344\n",
      "-1.9622054776870157\n",
      "-1.9750237502253396\n",
      "-1.9816690518381608\n",
      "-1.9837194491364154\n",
      "-1.9816690518381608\n",
      "-1.9750237502253396\n",
      "-1.9622054776870157\n",
      "-1.94026998122344\n",
      "-1.9044775533839333\n",
      "-1.8478767860014025\n",
      "-1.7613473668037924\n",
      "-1.634999259932266\n",
      "-1.4620263615226048\n",
      "-1.24486359102148\n",
      "-0.9999665971563038\n",
      "-0.7550610776143292\n",
      "-0.5378705543907858\n",
      "-0.36484359433414437\n",
      "-0.23840132339563935\n",
      "-0.01338509004411581\n",
      "-0.021972876566369925\n",
      "-0.035970756868127785\n",
      "-0.05862171958829887\n",
      "-0.09484722570653781\n",
      "-0.1517089067639188\n",
      "-0.23839355569503073\n",
      "-0.36483078763075094\n",
      "-0.5378494398962941\n",
      "-0.7550262662140617\n",
      "-0.9999092042625951\n",
      "-1.244768969948688\n",
      "-1.4618703681080372\n",
      "-1.634742098431177\n",
      "-1.7609234556948319\n",
      "-1.8471780826836657\n",
      "-1.903326151256065\n",
      "-1.9383731739838135\n",
      "-1.9590823337625474\n",
      "-1.9698858393070213\n",
      "-1.9732285963028606\n",
      "-1.9698858393070213\n",
      "-1.9590823337625474\n",
      "-1.9383731739838135\n",
      "-1.903326151256065\n",
      "-1.8471780826836657\n",
      "-1.7609234556948319\n",
      "-1.634742098431177\n",
      "-1.4618703681080372\n",
      "-1.244768969948688\n",
      "-0.9999092042625951\n",
      "-0.7550262662140617\n",
      "-0.5378494398962941\n",
      "-0.36483078763075094\n",
      "-0.23839355569503073\n",
      "-0.1517089067639188\n",
      "-0.008139266736975848\n",
      "-0.013384038792514374\n",
      "-0.021971143346772637\n",
      "-0.0359678992755873\n",
      "-0.058617008224144285\n",
      "-0.09483945800592919\n",
      "-0.15169610006052536\n",
      "-0.2383724412005389\n",
      "-0.36479597623048354\n",
      "-0.5377920470025854\n",
      "-0.7549316451412695\n",
      "-0.9997532108480275\n",
      "-1.2445118084475988\n",
      "-1.4614464569990768\n",
      "-1.63404339511344\n",
      "-1.7597720535669636\n",
      "-1.8452812754440389\n",
      "-1.900203007331597\n",
      "-1.933235263065495\n",
      "-1.9506418782272472\n",
      "-1.9560522294776272\n",
      "-1.9506418782272472\n",
      "-1.933235263065495\n",
      "-1.900203007331597\n",
      "-1.8452812754440389\n",
      "-1.7597720535669636\n",
      "-1.63404339511344\n",
      "-1.4614464569990768\n",
      "-1.2445118084475988\n",
      "-0.9997532108480275\n",
      "-0.7549316451412695\n",
      "-0.5377920470025854\n",
      "-0.36479597623048354\n",
      "-0.2383724412005389\n",
      "-0.15169610006052536\n",
      "-0.09483945800592919\n",
      "-0.0049435832572142235\n",
      "-0.008137533517378559\n",
      "-0.01338118119997389\n",
      "-0.02196643198261805\n",
      "-0.03596013157497868\n",
      "-0.058604201520750854\n",
      "-0.09481834351143736\n",
      "-0.15166128866025796\n",
      "-0.23831504830683026\n",
      "-0.3647013551576914\n",
      "-0.5376360535880178\n",
      "-0.7546744836401804\n",
      "-0.999329299739067\n",
      "-1.243813105129862\n",
      "-1.4602950548712084\n",
      "-1.6321465878738133\n",
      "-1.7566489096424953\n",
      "-1.8401433645257206\n",
      "-1.8917625517962966\n",
      "-1.919401653236101\n",
      "-1.9280551601516338\n",
      "-1.919401653236101\n",
      "-1.8917625517962966\n",
      "-1.8401433645257206\n",
      "-1.7566489096424953\n",
      "-1.6321465878738133\n",
      "-1.4602950548712084\n",
      "-1.243813105129862\n",
      "-0.999329299739067\n",
      "-0.7546744836401804\n",
      "-0.5376360535880178\n",
      "-0.3647013551576914\n",
      "-0.23831504830683026\n",
      "-0.15166128866025796\n",
      "-0.09481834351143736\n",
      "-0.058604201520750854\n",
      "-0.002999622599060281\n",
      "-0.00494072566467374\n",
      "-0.008132822153223973\n",
      "-0.013373413499365272\n",
      "-0.02195362527922462\n",
      "-0.03593901708048686\n",
      "-0.058569390120483455\n",
      "-0.09476095061772871\n",
      "-0.15156666758746584\n",
      "-0.23815905489226263\n",
      "-0.3644441936566023\n",
      "-0.5372121424790572\n",
      "-0.7539757803224436\n",
      "-0.9981778976111987\n",
      "-1.2419162978902352\n",
      "-1.4571719109467403\n",
      "-1.627008676955495\n",
      "-1.7482084541071952\n",
      "-1.8263097546963265\n",
      "-1.8691758337206834\n",
      "-1.8827510769945748\n",
      "-1.8691758337206834\n",
      "-1.8263097546963265\n",
      "-1.7482084541071952\n",
      "-1.627008676955495\n",
      "-1.4571719109467403\n",
      "-1.2419162978902352\n",
      "-0.9981778976111987\n",
      "-0.7539757803224436\n",
      "-0.5372121424790572\n",
      "-0.3644441936566023\n",
      "-0.23815905489226263\n",
      "-0.15156666758746584\n",
      "-0.09476095061772871\n",
      "-0.058569390120483455\n",
      "-0.03593901708048686\n",
      "-0.0018175817402055205\n",
      "-0.002994911234905695\n",
      "-0.004932957964065121\n",
      "-0.008120015449830542\n",
      "-0.013352299004873447\n",
      "-0.021918813878957222\n",
      "-0.035881624186778205\n",
      "-0.05847476904769133\n",
      "-0.09460495720316109\n",
      "-0.15130950608637672\n",
      "-0.23773514378330218\n",
      "-0.3637454903388655\n",
      "-0.536060740351189\n",
      "-0.7520789730828168\n",
      "-0.9950547536867305\n",
      "-1.2367783869719169\n",
      "-1.44873145541144\n",
      "-1.613175067126101\n",
      "-1.7256217360315818\n",
      "-1.7896591784548002\n",
      "-1.8102965072897328\n",
      "-1.7896591784548002\n",
      "-1.7256217360315818\n",
      "-1.613175067126101\n",
      "-1.44873145541144\n",
      "-1.2367783869719169\n",
      "-0.9950547536867305\n",
      "-0.7520789730828168\n",
      "-0.536060740351189\n",
      "-0.3637454903388655\n",
      "-0.23773514378330218\n",
      "-0.15130950608637672\n",
      "-0.09460495720316109\n",
      "-0.05847476904769133\n",
      "-0.035881624186778205\n",
      "-0.021918813878957222\n",
      "-0.0010981039952788763\n",
      "-0.001809814039596902\n",
      "-0.002982104531512264\n",
      "-0.004911843469573296\n",
      "-0.008085204049563144\n",
      "-0.013294906111164795\n",
      "-0.0218241928061651\n",
      "-0.03572563077221058\n",
      "-0.05821760754660221\n",
      "-0.09418104609420064\n",
      "-0.15061080276863992\n",
      "-0.23658374165543383\n",
      "-0.3618486830992387\n",
      "-0.5329375964267207\n",
      "-0.7469410621644985\n",
      "-0.9866142981514303\n",
      "-1.2229447771425228\n",
      "-1.4261447373358267\n",
      "-1.5765244908845748\n",
      "-1.6667424096006314\n",
      "-1.6965672799150258\n",
      "-1.6667424096006314\n",
      "-1.5765244908845748\n",
      "-1.4261447373358267\n",
      "-1.2229447771425228\n",
      "-0.9866142981514303\n",
      "-0.7469410621644985\n",
      "-0.5329375964267207\n",
      "-0.3618486830992387\n",
      "-0.23658374165543383\n",
      "-0.15061080276863992\n",
      "-0.09418104609420064\n",
      "-0.05821760754660221\n",
      "-0.03572563077221058\n",
      "-0.0218241928061651\n",
      "-0.013294906111164795\n",
      "-0.0006584119117285514\n",
      "-0.0010852972918854453\n",
      "-0.001788699545105077\n",
      "-0.002947293131244866\n",
      "-0.004854450575864644\n",
      "-0.007990582976771021\n",
      "-0.013138912696597171\n",
      "-0.02156703130507598\n",
      "-0.03530171966325013\n",
      "-0.05751890422886541\n",
      "-0.09302964396633229\n",
      "-0.1487139955290131\n",
      "-0.2334605977309656\n",
      "-0.3567107721809204\n",
      "-0.5244971408914205\n",
      "-0.7331074523351044\n",
      "-0.9640275800758169\n",
      "-1.1862942009009965\n",
      "-1.367265410904876\n",
      "-1.4834325923448002\n",
      "-1.5231883119115297\n",
      "-1.4834325923448002\n",
      "-1.367265410904876\n",
      "-1.1862942009009965\n",
      "-0.9640275800758169\n",
      "-0.7331074523351044\n",
      "-0.5244971408914205\n",
      "-0.3567107721809204\n",
      "-0.2334605977309656\n",
      "-0.1487139955290131\n",
      "-0.09302964396633229\n",
      "-0.05751890422886541\n",
      "-0.03530171966325013\n",
      "-0.02156703130507598\n",
      "-0.013138912696597171\n",
      "-0.007990582976771021\n",
      "-0.00038659397414864127\n",
      "-0.0006372974172367263\n",
      "-0.001050485891618047\n",
      "-0.0017313066513964248\n",
      "-0.002852672058452743\n",
      "-0.0046984571612970205\n",
      "-0.007733421475681901\n",
      "-0.01271500158763672\n",
      "-0.020868327987339175\n",
      "-0.03415031753538178\n",
      "-0.05562209698923859\n",
      "-0.08990650004186407\n",
      "-0.14357608461069482\n",
      "-0.22502014219566546\n",
      "-0.3428771623515263\n",
      "-0.5019104228158071\n",
      "-0.6964568760935783\n",
      "-0.9051482536448664\n",
      "-1.093202302361222\n",
      "-1.2237113132157746\n",
      "-1.2702979047745746\n",
      "-1.2237113132157746\n",
      "-1.093202302361222\n",
      "-0.9051482536448664\n",
      "-0.6964568760935783\n",
      "-0.5019104228158071\n",
      "-0.3428771623515263\n",
      "-0.22502014219566546\n",
      "-0.14357608461069482\n",
      "-0.08990650004186407\n",
      "-0.05562209698923859\n",
      "-0.03415031753538178\n",
      "-0.020868327987339175\n",
      "-0.01271500158763672\n",
      "-0.007733421475681901\n",
      "-0.0046984571612970205\n",
      "-0.00021338630827627547\n",
      "-0.000351782573881243\n",
      "-0.0005799045235280742\n",
      "-0.0009558648188259244\n",
      "-0.0015753132368288014\n",
      "-0.002595510557363623\n",
      "-0.00427454605233657\n",
      "-0.007034718157945097\n",
      "-0.01156359945976837\n",
      "-0.018971520747712356\n",
      "-0.03102717361091356\n",
      "-0.05048418607092031\n",
      "-0.08146604450656392\n",
      "-0.12974247478130074\n",
      "-0.20243342412005205\n",
      "-0.3062265861100001\n",
      "-0.44303109638485666\n",
      "-0.6033649775538037\n",
      "-0.7615941559557649\n",
      "-0.8800676147909965\n",
      "-0.9242343145200195\n",
      "-0.8800676147909965\n",
      "-0.7615941559557649\n",
      "-0.6033649775538037\n",
      "-0.44303109638485666\n",
      "-0.3062265861100001\n",
      "-0.20243342412005205\n",
      "-0.12974247478130074\n",
      "-0.08146604450656392\n",
      "-0.05048418607092031\n",
      "-0.03102717361091356\n",
      "-0.018971520747712356\n",
      "-0.01156359945976837\n",
      "-0.007034718157945097\n",
      "-0.00427454605233657\n",
      "-0.002595510557363623\n",
      "-9.462107279212262e-05\n",
      "-0.0001559934145676234\n",
      "-0.0002571615010891204\n",
      "-0.0004239111089604508\n",
      "-0.000698703317736804\n",
      "-0.0011514021278683506\n",
      "-0.0018968072396268187\n",
      "-0.003123143924468219\n",
      "-0.005137910918318278\n",
      "-0.008440455535300151\n",
      "-0.013833609829394078\n",
      "-0.02258671807561341\n",
      "-0.036650576241526234\n",
      "-0.05887932643095051\n",
      "-0.09309189853977451\n",
      "-0.14355409768910155\n",
      "-0.21313468757022558\n",
      "-0.2994769986957551\n",
      "-0.39023028998357817\n",
      "-0.46211715726000974\n",
      "-0.48983732480741826\n",
      "-0.46211715726000974\n",
      "-0.39023028998357817\n",
      "-0.2994769986957551\n",
      "-0.21313468757022558\n",
      "-0.14355409768910155\n",
      "-0.09309189853977451\n",
      "-0.05887932643095051\n",
      "-0.036650576241526234\n",
      "-0.02258671807561341\n",
      "-0.013833609829394078\n",
      "-0.008440455535300151\n",
      "-0.005137910918318278\n",
      "-0.003123143924468219\n",
      "-0.0018968072396268187\n",
      "-0.0011514021278683506\n",
      "0.0\n",
      "0.0\n",
      "0.0\n",
      "0.0\n",
      "0.0\n",
      "0.0\n",
      "0.0\n",
      "0.0\n",
      "0.0\n",
      "0.0\n",
      "0.0\n",
      "0.0\n",
      "0.0\n",
      "0.0\n",
      "0.0\n",
      "0.0\n",
      "0.0\n",
      "0.0\n",
      "0.0\n",
      "0.0\n",
      "0.0\n",
      "0.0\n",
      "0.0\n",
      "0.0\n",
      "0.0\n",
      "0.0\n",
      "0.0\n",
      "0.0\n",
      "0.0\n",
      "0.0\n",
      "0.0\n",
      "0.0\n",
      "0.0\n",
      "0.0\n",
      "0.0\n",
      "0.0\n",
      "9.462107279212262e-05\n",
      "0.0001559934145676234\n",
      "0.0002571615010891204\n",
      "0.0004239111089604508\n",
      "0.000698703317736804\n",
      "0.0011514021278683506\n",
      "0.0018968072396268187\n",
      "0.003123143924468219\n",
      "0.005137910918318278\n",
      "0.008440455535300151\n",
      "0.013833609829394078\n",
      "0.02258671807561341\n",
      "0.036650576241526234\n",
      "0.05887932643095051\n",
      "0.09309189853977451\n",
      "0.14355409768910155\n",
      "0.21313468757022558\n",
      "0.2994769986957551\n",
      "0.39023028998357817\n",
      "0.46211715726000974\n",
      "0.48983732480741826\n",
      "0.46211715726000974\n",
      "0.39023028998357817\n",
      "0.2994769986957551\n",
      "0.21313468757022558\n",
      "0.14355409768910155\n",
      "0.09309189853977451\n",
      "0.05887932643095051\n",
      "0.036650576241526234\n",
      "0.02258671807561341\n",
      "0.013833609829394078\n",
      "0.008440455535300151\n",
      "0.005137910918318278\n",
      "0.003123143924468219\n",
      "0.0018968072396268187\n",
      "0.0011514021278683506\n",
      "0.00021338630827627547\n",
      "0.000351782573881243\n",
      "0.0005799045235280742\n",
      "0.0009558648188259244\n",
      "0.0015753132368288014\n",
      "0.002595510557363623\n",
      "0.00427454605233657\n",
      "0.007034718157945097\n",
      "0.01156359945976837\n",
      "0.018971520747712356\n",
      "0.03102717361091356\n",
      "0.05048418607092031\n",
      "0.08146604450656392\n",
      "0.12974247478130074\n",
      "0.20243342412005205\n",
      "0.3062265861100001\n",
      "0.44303109638485666\n",
      "0.6033649775538037\n",
      "0.7615941559557649\n",
      "0.8800676147909965\n",
      "0.9242343145200195\n",
      "0.8800676147909965\n",
      "0.7615941559557649\n",
      "0.6033649775538037\n",
      "0.44303109638485666\n",
      "0.3062265861100001\n",
      "0.20243342412005205\n",
      "0.12974247478130074\n",
      "0.08146604450656392\n",
      "0.05048418607092031\n",
      "0.03102717361091356\n",
      "0.018971520747712356\n",
      "0.01156359945976837\n",
      "0.007034718157945097\n",
      "0.00427454605233657\n",
      "0.002595510557363623\n",
      "0.00038659397414864127\n",
      "0.0006372974172367263\n",
      "0.001050485891618047\n",
      "0.0017313066513964248\n",
      "0.002852672058452743\n",
      "0.0046984571612970205\n",
      "0.007733421475681901\n",
      "0.01271500158763672\n",
      "0.020868327987339175\n",
      "0.03415031753538178\n",
      "0.05562209698923859\n",
      "0.08990650004186407\n",
      "0.14357608461069482\n",
      "0.22502014219566546\n",
      "0.3428771623515263\n",
      "0.5019104228158071\n",
      "0.6964568760935783\n",
      "0.9051482536448664\n",
      "1.093202302361222\n",
      "1.2237113132157746\n",
      "1.2702979047745746\n",
      "1.2237113132157746\n",
      "1.093202302361222\n",
      "0.9051482536448664\n",
      "0.6964568760935783\n",
      "0.5019104228158071\n",
      "0.3428771623515263\n",
      "0.22502014219566546\n",
      "0.14357608461069482\n",
      "0.08990650004186407\n",
      "0.05562209698923859\n",
      "0.03415031753538178\n",
      "0.020868327987339175\n",
      "0.01271500158763672\n",
      "0.007733421475681901\n",
      "0.0046984571612970205\n",
      "0.0006584119117285514\n",
      "0.0010852972918854453\n",
      "0.001788699545105077\n",
      "0.002947293131244866\n",
      "0.004854450575864644\n",
      "0.007990582976771021\n",
      "0.013138912696597171\n",
      "0.02156703130507598\n",
      "0.03530171966325013\n",
      "0.05751890422886541\n",
      "0.09302964396633229\n",
      "0.1487139955290131\n",
      "0.2334605977309656\n",
      "0.3567107721809204\n",
      "0.5244971408914205\n",
      "0.7331074523351044\n",
      "0.9640275800758169\n",
      "1.1862942009009965\n",
      "1.367265410904876\n",
      "1.4834325923448002\n",
      "1.5231883119115297\n",
      "1.4834325923448002\n",
      "1.367265410904876\n",
      "1.1862942009009965\n",
      "0.9640275800758169\n",
      "0.7331074523351044\n",
      "0.5244971408914205\n",
      "0.3567107721809204\n",
      "0.2334605977309656\n",
      "0.1487139955290131\n",
      "0.09302964396633229\n",
      "0.05751890422886541\n",
      "0.03530171966325013\n",
      "0.02156703130507598\n",
      "0.013138912696597171\n",
      "0.007990582976771021\n",
      "0.0010981039952788763\n",
      "0.001809814039596902\n",
      "0.002982104531512264\n",
      "0.004911843469573296\n",
      "0.008085204049563144\n",
      "0.013294906111164795\n",
      "0.0218241928061651\n",
      "0.03572563077221058\n",
      "0.05821760754660221\n",
      "0.09418104609420064\n",
      "0.15061080276863992\n",
      "0.23658374165543383\n",
      "0.3618486830992387\n",
      "0.5329375964267207\n",
      "0.7469410621644985\n",
      "0.9866142981514303\n",
      "1.2229447771425228\n",
      "1.4261447373358267\n",
      "1.5765244908845748\n",
      "1.6667424096006314\n",
      "1.6965672799150258\n",
      "1.6667424096006314\n",
      "1.5765244908845748\n",
      "1.4261447373358267\n",
      "1.2229447771425228\n",
      "0.9866142981514303\n",
      "0.7469410621644985\n",
      "0.5329375964267207\n",
      "0.3618486830992387\n",
      "0.23658374165543383\n",
      "0.15061080276863992\n",
      "0.09418104609420064\n",
      "0.05821760754660221\n",
      "0.03572563077221058\n",
      "0.0218241928061651\n",
      "0.013294906111164795\n",
      "0.0018175817402055205\n",
      "0.002994911234905695\n",
      "0.004932957964065121\n",
      "0.008120015449830542\n",
      "0.013352299004873447\n",
      "0.021918813878957222\n",
      "0.035881624186778205\n",
      "0.05847476904769133\n",
      "0.09460495720316109\n",
      "0.15130950608637672\n",
      "0.23773514378330218\n",
      "0.3637454903388655\n",
      "0.536060740351189\n",
      "0.7520789730828168\n",
      "0.9950547536867305\n",
      "1.2367783869719169\n",
      "1.44873145541144\n",
      "1.613175067126101\n",
      "1.7256217360315818\n",
      "1.7896591784548002\n",
      "1.8102965072897328\n",
      "1.7896591784548002\n",
      "1.7256217360315818\n",
      "1.613175067126101\n",
      "1.44873145541144\n",
      "1.2367783869719169\n",
      "0.9950547536867305\n",
      "0.7520789730828168\n",
      "0.536060740351189\n",
      "0.3637454903388655\n",
      "0.23773514378330218\n",
      "0.15130950608637672\n",
      "0.09460495720316109\n",
      "0.05847476904769133\n",
      "0.035881624186778205\n",
      "0.021918813878957222\n",
      "0.002999622599060281\n",
      "0.00494072566467374\n",
      "0.008132822153223973\n",
      "0.013373413499365272\n",
      "0.02195362527922462\n",
      "0.03593901708048686\n",
      "0.058569390120483455\n",
      "0.09476095061772871\n",
      "0.15156666758746584\n",
      "0.23815905489226263\n",
      "0.3644441936566023\n",
      "0.5372121424790572\n",
      "0.7539757803224436\n",
      "0.9981778976111987\n",
      "1.2419162978902352\n",
      "1.4571719109467403\n",
      "1.627008676955495\n",
      "1.7482084541071952\n",
      "1.8263097546963265\n",
      "1.8691758337206834\n",
      "1.8827510769945748\n",
      "1.8691758337206834\n",
      "1.8263097546963265\n",
      "1.7482084541071952\n",
      "1.627008676955495\n",
      "1.4571719109467403\n",
      "1.2419162978902352\n",
      "0.9981778976111987\n",
      "0.7539757803224436\n",
      "0.5372121424790572\n",
      "0.3644441936566023\n",
      "0.23815905489226263\n",
      "0.15156666758746584\n",
      "0.09476095061772871\n",
      "0.058569390120483455\n",
      "0.03593901708048686\n",
      "0.0049435832572142235\n",
      "0.008137533517378559\n",
      "0.01338118119997389\n",
      "0.02196643198261805\n",
      "0.03596013157497868\n",
      "0.058604201520750854\n",
      "0.09481834351143736\n",
      "0.15166128866025796\n",
      "0.23831504830683026\n",
      "0.3647013551576914\n",
      "0.5376360535880178\n",
      "0.7546744836401804\n",
      "0.999329299739067\n",
      "1.243813105129862\n",
      "1.4602950548712084\n",
      "1.6321465878738133\n",
      "1.7566489096424953\n",
      "1.8401433645257206\n",
      "1.8917625517962966\n",
      "1.919401653236101\n",
      "1.9280551601516338\n",
      "1.919401653236101\n",
      "1.8917625517962966\n",
      "1.8401433645257206\n",
      "1.7566489096424953\n",
      "1.6321465878738133\n",
      "1.4602950548712084\n",
      "1.243813105129862\n",
      "0.999329299739067\n",
      "0.7546744836401804\n",
      "0.5376360535880178\n",
      "0.3647013551576914\n",
      "0.23831504830683026\n",
      "0.15166128866025796\n",
      "0.09481834351143736\n",
      "0.058604201520750854\n",
      "0.008139266736975848\n",
      "0.013384038792514374\n",
      "0.021971143346772637\n",
      "0.0359678992755873\n",
      "0.058617008224144285\n",
      "0.09483945800592919\n",
      "0.15169610006052536\n",
      "0.2383724412005389\n",
      "0.36479597623048354\n",
      "0.5377920470025854\n",
      "0.7549316451412695\n",
      "0.9997532108480275\n",
      "1.2445118084475988\n",
      "1.4614464569990768\n",
      "1.63404339511344\n",
      "1.7597720535669636\n",
      "1.8452812754440389\n",
      "1.900203007331597\n",
      "1.933235263065495\n",
      "1.9506418782272472\n",
      "1.9560522294776272\n",
      "1.9506418782272472\n",
      "1.933235263065495\n",
      "1.900203007331597\n",
      "1.8452812754440389\n",
      "1.7597720535669636\n",
      "1.63404339511344\n",
      "1.4614464569990768\n",
      "1.2445118084475988\n",
      "0.9997532108480275\n",
      "0.7549316451412695\n",
      "0.5377920470025854\n",
      "0.36479597623048354\n",
      "0.2383724412005389\n",
      "0.15169610006052536\n",
      "0.09483945800592919\n",
      "0.01338509004411581\n",
      "0.021972876566369925\n",
      "0.035970756868127785\n",
      "0.05862171958829887\n",
      "0.09484722570653781\n",
      "0.1517089067639188\n",
      "0.23839355569503073\n",
      "0.36483078763075094\n",
      "0.5378494398962941\n",
      "0.7550262662140617\n",
      "0.9999092042625951\n",
      "1.244768969948688\n",
      "1.4618703681080372\n",
      "1.634742098431177\n",
      "1.7609234556948319\n",
      "1.8471780826836657\n",
      "1.903326151256065\n",
      "1.9383731739838135\n",
      "1.9590823337625474\n",
      "1.9698858393070213\n",
      "1.9732285963028606\n",
      "1.9698858393070213\n",
      "1.9590823337625474\n",
      "1.9383731739838135\n",
      "1.903326151256065\n",
      "1.8471780826836657\n",
      "1.7609234556948319\n",
      "1.634742098431177\n",
      "1.4618703681080372\n",
      "1.244768969948688\n",
      "0.9999092042625951\n",
      "0.7550262662140617\n",
      "0.5378494398962941\n",
      "0.36483078763075094\n",
      "0.23839355569503073\n",
      "0.1517089067639188\n",
      "0.021973514182982656\n",
      "0.03597180811972922\n",
      "0.05862345280789616\n",
      "0.09485008329907829\n",
      "0.15171361812807338\n",
      "0.23840132339563935\n",
      "0.36484359433414437\n",
      "0.5378705543907858\n",
      "0.7550610776143292\n",
      "0.9999665971563038\n",
      "1.24486359102148\n",
      "1.4620263615226048\n",
      "1.634999259932266\n",
      "1.7613473668037924\n",
      "1.8478767860014025\n",
      "1.9044775533839333\n",
      "1.94026998122344\n",
      "1.9622054776870157\n",
      "1.9750237502253396\n",
      "1.9816690518381608\n",
      "1.9837194491364154\n",
      "1.9816690518381608\n",
      "1.9750237502253396\n",
      "1.9622054776870157\n",
      "1.94026998122344\n",
      "1.9044775533839333\n",
      "1.8478767860014025\n",
      "1.7613473668037924\n",
      "1.634999259932266\n",
      "1.4620263615226048\n",
      "1.24486359102148\n",
      "0.9999665971563038\n",
      "0.7550610776143292\n",
      "0.5378705543907858\n",
      "0.36484359433414437\n",
      "0.23840132339563935\n",
      "0.03597219485385894\n",
      "0.05862409042450889\n",
      "0.09485113455067973\n",
      "0.15171535134767067\n",
      "0.23840418098817984\n",
      "0.36484830569829896\n",
      "0.5378783220913945\n",
      "0.7550738843177225\n",
      "0.9999877116507956\n",
      "1.2448984024217473\n",
      "1.4620837544163134\n",
      "1.6350938810050581\n",
      "1.7615033602183598\n",
      "1.8481339475024916\n",
      "1.9049014644928939\n",
      "1.9409686845411769\n",
      "1.963356879814884\n",
      "1.9769205574649664\n",
      "1.9847921957626289\n",
      "1.9888573600547337\n",
      "1.990109507373461\n",
      "1.9888573600547337\n",
      "1.9847921957626289\n",
      "1.9769205574649664\n",
      "1.963356879814884\n",
      "1.9409686845411769\n",
      "1.9049014644928939\n",
      "1.8481339475024916\n",
      "1.7615033602183598\n",
      "1.6350938810050581\n",
      "1.4620837544163134\n",
      "1.2448984024217473\n",
      "0.9999877116507956\n",
      "0.7550738843177225\n",
      "0.5378783220913945\n",
      "0.36484830569829896\n",
      "0.0586243249906544\n",
      "0.09485152128480945\n",
      "0.1517159889642834\n",
      "0.23840523223978127\n",
      "0.36485003891789625\n",
      "0.5378811796839349\n",
      "0.7550785956818771\n",
      "0.9999954793514042\n",
      "1.2449112091251409\n",
      "1.4621048689108054\n",
      "1.6351286924053254\n",
      "1.7615607531120685\n",
      "1.8482285685752837\n",
      "1.9050574579074615\n",
      "1.9412258460422662\n",
      "1.9637807909238445\n",
      "1.9776192607827032\n",
      "1.9859435978904973\n",
      "1.9907541672943605\n",
      "1.9932326512979293\n",
      "1.993995270973052\n",
      "1.9932326512979293\n",
      "1.9907541672943605\n",
      "1.9859435978904973\n",
      "1.9776192607827032\n",
      "1.9637807909238445\n",
      "1.9412258460422662\n",
      "1.9050574579074615\n",
      "1.8482285685752837\n",
      "1.7615607531120685\n",
      "1.6351286924053254\n",
      "1.4621048689108054\n",
      "1.2449112091251409\n",
      "0.9999954793514042\n",
      "0.7550785956818771\n",
      "0.5378811796839349\n",
      "0.09485166355638264\n",
      "0.1517162235304289\n",
      "0.238405618973911\n",
      "0.364850676534509\n",
      "0.5378822309355364\n",
      "0.7550803289014745\n",
      "0.9999983369439447\n",
      "1.2449159204892954\n",
      "1.4621126366114139\n",
      "1.635141499108719\n",
      "1.7615818676065604\n",
      "1.8482633799755512\n",
      "1.9051148508011702\n",
      "1.9413204671150583\n",
      "1.963936784338412\n",
      "1.9778764222837923\n",
      "1.9863675089994577\n",
      "1.9914528706120973\n",
      "1.9943840534257975\n",
      "1.9958920782126788\n",
      "1.9963557952223974\n",
      "1.9958920782126788\n",
      "1.9943840534257975\n",
      "1.9914528706120973\n",
      "1.9863675089994577\n",
      "1.9778764222837923\n",
      "1.963936784338412\n",
      "1.9413204671150583\n",
      "1.9051148508011702\n",
      "1.8482633799755512\n",
      "1.7615818676065604\n",
      "1.635141499108719\n",
      "1.4621126366114139\n",
      "1.2449159204892954\n",
      "0.9999983369439447\n",
      "0.7550803289014745\n",
      "0.15171630982250528\n",
      "0.23840576124548418\n",
      "0.3648509111006545\n",
      "0.537882617669666\n",
      "0.7550809665180871\n",
      "0.9999993881955461\n",
      "1.2449176537088926\n",
      "1.4621154942039545\n",
      "1.6351462104728736\n",
      "1.761589635307169\n",
      "1.8482761866789446\n",
      "1.905135965295662\n",
      "1.9413552785153256\n",
      "1.9639941772321206\n",
      "1.9779710433565845\n",
      "1.9865235024140255\n",
      "1.9917100321131864\n",
      "1.994807964534758\n",
      "1.9965907815304156\n",
      "1.9975071973502656\n",
      "1.9977888854523056\n",
      "1.9975071973502656\n",
      "1.9965907815304156\n",
      "1.994807964534758\n",
      "1.9917100321131864\n",
      "1.9865235024140255\n",
      "1.9779710433565845\n",
      "1.9639941772321206\n",
      "1.9413552785153256\n",
      "1.905135965295662\n",
      "1.8482761866789446\n",
      "1.761589635307169\n",
      "1.6351462104728736\n",
      "1.4621154942039545\n",
      "1.2449176537088926\n",
      "0.9999993881955461\n"
     ]
    }
   ],
   "source": [
    "from math import tanh\n",
    "for x1 in np.arange(0, 9, 0.25): \n",
    "    for x2 in np.arange(0, 9, 0.25): \n",
    "        h1=tanh(x1+x2-10)\n",
    "        h2=tanh(x1-x2)\n",
    "        y=h1+h2\n",
    "        print(y)"
   ]
  },
  {
   "cell_type": "code",
   "execution_count": 155,
   "metadata": {},
   "outputs": [
    {
     "data": {
      "image/png": "[encoded data removed]",
      "text/plain": [
       "<Figure size 432x288 with 1 Axes>"
      ]
     },
     "metadata": {
      "needs_background": "light"
     },
     "output_type": "display_data"
    }
   ],
   "source": [
    "n_samples = 10\n",
    "x = np.sort(np.random.randn(n_samples))\n",
    "y = np.multiply(3, x)\n",
    "plt.plot(y)\n",
    "plt.show()"
   ]
  },
  {
   "cell_type": "code",
   "execution_count": 156,
   "metadata": {},
   "outputs": [
    {
     "name": "stdout",
     "output_type": "stream",
     "text": [
      "[-1.820898, -0.13212669, -0.605325, 0.14222902]\n"
     ]
    }
   ],
   "source": [
    "# tf 그래프 입력\n",
    "X = tf.placeholder(\"float\")\n",
    "Y = tf.placeholder(\"float\")\n",
    "\n",
    "# Set model weights\n",
    "W = tf.Variable(np.random.randn(), name=\"weight\")\n",
    "b = tf.Variable(np.random.randn(), name=\"bias\")\n",
    "\n",
    "\n",
    "# Construct a linear model\n",
    "pred = tf.add(tf.multiply(W, X), b)\n",
    "\n",
    "# Mean squared error\n",
    "cost = tf.reduce_sum(tf.pow(pred-Y, 2))/(2*n_samples)\n",
    "\n",
    "dc_dw, dc_db = tf.gradients(cost, [W, b])\n",
    "\n",
    "params = tf.stack([W,b], axis=0)\n",
    "x_flat = tf.constant(np.random.normal(0, 1, 2))\n",
    "\n",
    "init = tf.global_variables_initializer()\n",
    "\n",
    "with tf.Session() as session:\n",
    "    session.run(init)\n",
    "    output = session.run([dc_dw, dc_db, W, b], feed_dict={X:x, Y:y})\n",
    "    print(output)"
   ]
  },
  {
   "cell_type": "code",
   "execution_count": 157,
   "metadata": {},
   "outputs": [
    {
     "data": {
      "text/plain": [
       "-1.5026380742560232"
      ]
     },
     "execution_count": 157,
     "metadata": {},
     "output_type": "execute_result"
    }
   ],
   "source": [
    "np.dot(x,(np.multiply(-0.10788918,x)+1.0033976 )-y)/n_samples #=dc/db"
   ]
  },
  {
   "cell_type": "code",
   "execution_count": 158,
   "metadata": {},
   "outputs": [
    {
     "name": "stdout",
     "output_type": "stream",
     "text": [
      "starting at x: 3.0 log(x)^2: 3.620847\n",
      "step 0 x: 2.6595826 log(x)^2: 2.5447285 Grad [2.9131534]\n",
      "step 1 x: 2.3682673 log(x)^2: 1.7603743 Grad [2.4676347]\n",
      "step 2 x: 2.1215038 log(x)^2: 1.2001184 Grad [2.0699427]\n",
      "step 3 x: 1.9145095 log(x)^2: 0.8075404 Grad [1.720723]\n",
      "step 4 x: 1.7424372 log(x)^2: 0.5372653 Grad [1.418911]\n",
      "step 5 x: 1.6005461 log(x)^2: 0.35407972 Grad [1.1619141]\n",
      "step 6 x: 1.4843547 log(x)^2: 0.2315732 Grad [0.94596964]\n",
      "step 7 x: 1.3897578 log(x)^2: 0.15054718 Grad [0.7665851]\n",
      "step 8 x: 1.3130993 log(x)^2: 0.09742726 Grad [0.6189768]\n",
      "step 9 x: 1.2512016 log(x)^2: 0.06283882 Grad [0.49843156]\n",
      "step 10 x: 1.2013584 log(x)^2: 0.0404317 Grad [0.4005609]\n",
      "step 11 x: 1.1613023 log(x)^2: 0.02597001 Grad [0.32144699]\n",
      "step 12 x: 1.1291577 log(x)^2: 0.016661206 Grad [0.2576993]\n",
      "step 13 x: 1.1033877 log(x)^2: 0.010680401 Grad [0.20645002]\n",
      "step 14 x: 1.0827427 log(x)^2: 0.0068427483 Grad [0.16531454]\n",
      "step 15 x: 1.0662112 log(x)^2: 0.0043824245 Grad [0.13233317]\n",
      "step 16 x: 1.0529779 log(x)^2: 0.002806037 Grad [0.105909385]\n",
      "step 17 x: 1.042387 log(x)^2: 0.0017964005 Grad [0.08474991]\n",
      "step 18 x: 1.0339121 log(x)^2: 0.0011499214 Grad [0.06781166]\n",
      "step 19 x: 1.0271308 log(x)^2: 0.00073603867 Grad [0.054255247]\n"
     ]
    }
   ],
   "source": [
    "import tensorflow as tf\n",
    "\n",
    "x = tf.Variable(3, name='x', dtype=tf.float32)\n",
    "log_x = tf.log(x)\n",
    "log_x_squared_times_x = tf.multiply(tf.square(log_x), x)\n",
    "\n",
    "optimizer = tf.train.GradientDescentOptimizer(0.1)\n",
    "train = optimizer.minimize(log_x_squared_times_x)\n",
    "grad = tf.gradients(log_x_squared_times_x, x)\n",
    "init = tf.global_variables_initializer()\n",
    "\n",
    "\n",
    "with tf.Session() as session:\n",
    "    session.run(init)\n",
    "    print(\"starting at\", \"x:\", session.run(x), \"log(x)^2:\", session.run(log_x_squared_times_x))\n",
    "    for step in range(20):  \n",
    "        session.run(train)\n",
    "        print(\"step\", step, \"x:\", session.run(x), \"log(x)^2:\", session.run(log_x_squared_times_x),\"Grad\",\n",
    "             session.run(grad))\n",
    "        "
   ]
  },
  {
   "cell_type": "code",
   "execution_count": 159,
   "metadata": {},
   "outputs": [
    {
     "data": {
      "image/png": "[encoded data removed]",
      "text/plain": [
       "<Figure size 432x288 with 1 Axes>"
      ]
     },
     "metadata": {
      "needs_background": "light"
     },
     "output_type": "display_data"
    }
   ],
   "source": [
    "x=np.arange(0.00001, 10, 0.3)\n",
    "y=np.log(x)\n",
    "y=np.power(y, 2)\n",
    "plt.plot(x,y)\n",
    "plt.show()"
   ]
  },
  {
   "cell_type": "code",
   "execution_count": 160,
   "metadata": {},
   "outputs": [
    {
     "name": "stdout",
     "output_type": "stream",
     "text": [
      "starting at x: 3.0 log(x)^2: 3.620847\n",
      "step 0 x: 2.6595826 log(x)^2: 2.5447285 Grad [2.9131534]\n",
      "step 1 x: 2.3682673 log(x)^2: 1.7603743 Grad [2.4676347]\n",
      "step 2 x: 2.1215038 log(x)^2: 1.2001184 Grad [2.0699427]\n",
      "step 3 x: 1.9145095 log(x)^2: 0.8075404 Grad [1.720723]\n",
      "step 4 x: 1.7424372 log(x)^2: 0.5372653 Grad [1.418911]\n",
      "step 5 x: 1.6005461 log(x)^2: 0.35407972 Grad [1.1619141]\n",
      "step 6 x: 1.4843547 log(x)^2: 0.2315732 Grad [0.94596964]\n",
      "step 7 x: 1.3897578 log(x)^2: 0.15054718 Grad [0.7665851]\n",
      "step 8 x: 1.3130993 log(x)^2: 0.09742726 Grad [0.6189768]\n",
      "step 9 x: 1.2512016 log(x)^2: 0.06283882 Grad [0.49843156]\n",
      "step 10 x: 1.2013584 log(x)^2: 0.0404317 Grad [0.4005609]\n",
      "step 11 x: 1.1613023 log(x)^2: 0.02597001 Grad [0.32144699]\n",
      "step 12 x: 1.1291577 log(x)^2: 0.016661206 Grad [0.2576993]\n",
      "step 13 x: 1.1033877 log(x)^2: 0.010680401 Grad [0.20645002]\n",
      "step 14 x: 1.0827427 log(x)^2: 0.0068427483 Grad [0.16531454]\n",
      "step 15 x: 1.0662112 log(x)^2: 0.0043824245 Grad [0.13233317]\n",
      "step 16 x: 1.0529779 log(x)^2: 0.002806037 Grad [0.105909385]\n",
      "step 17 x: 1.042387 log(x)^2: 0.0017964005 Grad [0.08474991]\n",
      "step 18 x: 1.0339121 log(x)^2: 0.0011499214 Grad [0.06781166]\n",
      "step 19 x: 1.0271308 log(x)^2: 0.00073603867 Grad [0.054255247]\n"
     ]
    }
   ],
   "source": [
    "import tensorflow as tf\n",
    "\n",
    "x = tf.Variable(3, name='x', dtype=tf.float32)\n",
    "log_x = tf.log(x)\n",
    "log_x_squared_times_x = tf.multiply(tf.square(log_x), x)\n",
    "\n",
    "optimizer = tf.train.GradientDescentOptimizer(0.1)\n",
    "train = optimizer.minimize(log_x_squared_times_x)\n",
    "grad = tf.gradients(log_x_squared_times_x, x)\n",
    "init = tf.global_variables_initializer()\n",
    "\n",
    "\n",
    "with tf.Session() as session:\n",
    "    session.run(init)\n",
    "    print(\"starting at\", \"x:\", session.run(x), \"log(x)^2:\", session.run(log_x_squared_times_x))\n",
    "    for step in range(20):  \n",
    "        session.run(train)\n",
    "        print(\"step\", step, \"x:\", session.run(x), \"log(x)^2:\", session.run(log_x_squared_times_x),\"Grad\",\n",
    "             session.run(grad))\n",
    "        "
   ]
  },
  {
   "cell_type": "code",
   "execution_count": 161,
   "metadata": {},
   "outputs": [
    {
     "name": "stdout",
     "output_type": "stream",
     "text": [
      "Starting at cordinate x=2.0, y=2.0 and temperature there is 34.0\n",
      "step (0)  x=2.200000047683716,y=2.5999999046325684, T=24.880001068115234, Gradient=[-4.4, -15.599999]\n",
      "step (1)  x=2.4200000762939453,y=3.379999876022339, T=9.870402336120605, Gradient=[-4.84, -20.279999]\n",
      "step (2)  x=2.6620001792907715,y=4.394000053405762, T=-15.007951736450195, Gradient=[-5.3240004, -26.364]\n",
      "step (3)  x=2.9282002449035645,y=5.712200164794922, T=-56.46205139160156, Gradient=[-5.8564005, -34.2732]\n",
      "step (4)  x=3.221020221710205,y=7.425860404968262, T=-125.80517578125, Gradient=[-6.4420404, -44.55516]\n",
      "step (5)  x=3.5431222915649414,y=9.653618812561035, T=-242.13079833984375, Gradient=[-7.0862446, -57.921715]\n",
      "step (6)  x=3.8974344730377197,y=12.549704551696777, T=-437.6752624511719, Gradient=[-7.794869, -75.298225]\n",
      "step (7)  x=4.287178039550781,y=16.31461524963379, T=-766.8798828125, Gradient=[-8.574356, -97.887695]\n",
      "step (8)  x=4.715895652770996,y=21.208999633789062, T=-1321.70458984375, Gradient=[-9.431791, -127.254]\n",
      "step (9)  x=5.187485218048096,y=27.571699142456055, T=-2257.505615234375, Gradient=[-10.37497, -165.43019]\n"
     ]
    }
   ],
   "source": [
    "import tensorflow as tf\n",
    "\n",
    "x = tf.Variable(2, name='x', dtype=tf.float32)\n",
    "y = tf.Variable(2, name='y', dtype=tf.float32)\n",
    "\n",
    "temperature = 50 - 3*tf.square(y) - tf.square(x)\n",
    "\n",
    "optimizer = tf.train.GradientDescentOptimizer(0.05)\n",
    "train = optimizer.minimize(temperature)\n",
    "grad = tf.gradients(temperature, [x,y])\n",
    "\n",
    "init = tf.global_variables_initializer()\n",
    "\n",
    "with tf.Session() as session:\n",
    "    session.run(init)\n",
    "    x1, y1, t1 = session.run([x, y, temperature])\n",
    "    print(\"Starting at cordinate x={}, y={} and temperature there is {}\".format(x1, y1, t1 ))\n",
    "    grad_norms = []\n",
    "    temperatures = []\n",
    "    gradients = [] \n",
    "    coordinates = []\n",
    "    for step in range(10):  \n",
    "        session.run(train)\n",
    "        g = session.run(grad)\n",
    "        x1, y1, t1 = session.run([x, y, temperature])\n",
    "        print(\"step ({})  x={},y={}, T={}, Gradient={}\".format(step,x1, y1, t1,g))\n",
    "        grad_norms.append(np.linalg.norm(g))\n",
    "        temperatures.append(t1)\n",
    "        gradients.append(g)\n",
    "        coordinates.append([x1, y1])"
   ]
  },
  {
   "cell_type": "code",
   "execution_count": 162,
   "metadata": {},
   "outputs": [
    {
     "data": {
      "text/plain": [
       "(9.870402, [2.42, 3.3799999], [-4.84, -20.279999])"
      ]
     },
     "execution_count": 162,
     "metadata": {},
     "output_type": "execute_result"
    }
   ],
   "source": [
    "temperatures[1], coordinates[1],gradients[1] # also agrees with the math for partial derivatives"
   ]
  },
  {
   "cell_type": "code",
   "execution_count": 163,
   "metadata": {},
   "outputs": [
    {
     "data": {
      "text/plain": [
       "[24.880001, 9.870402, -15.007952, -56.46205, -125.805176]"
      ]
     },
     "execution_count": 163,
     "metadata": {},
     "output_type": "execute_result"
    }
   ],
   "source": [
    "temperatures[:5]"
   ]
  },
  {
   "cell_type": "code",
   "execution_count": 164,
   "metadata": {},
   "outputs": [
    {
     "data": {
      "image/png": "[encoded data removed]",
      "text/plain": [
       "<Figure size 1440x720 with 1 Axes>"
      ]
     },
     "metadata": {
      "needs_background": "light"
     },
     "output_type": "display_data"
    }
   ],
   "source": [
    "fig = plt.figure(figsize=(20, 10))\n",
    "ax = fig.add_subplot(111)\n",
    "xlist = np.linspace(-15.0, 15.0, 100) # Create 1-D arrays for x,y dimensions\n",
    "ylist = np.linspace(-15.0, 15.0, 100)\n",
    "X,Y = np.meshgrid(xlist, ylist) # Create 2-D grid xlist,ylist values\n",
    "Z = 50 - X**2 - 3*Y**2  # Compute function values on the grid\n",
    "num_contours = 7\n",
    "#Contour levels must be increasing \n",
    "contour_level = temperatures[:num_contours]\n",
    "list.reverse(contour_level)\n",
    "plt.contour(X, Y, Z, contour_level, colors = ['y','orange','red','blue','g','violet','indigo','black'], linestyles = 'solid')\n",
    "\n",
    "#ax.annotate('Direction Of Gradident', xy=(.6, 0.3), xytext=(.6, 0.3))\n",
    "for i in range(num_contours):\n",
    "    ax.annotate('T={}'.format(np.round(temperatures[i])),\n",
    "                            xy=tuple(np.array([0,0.4]) + np.array(coordinates[i])),\n",
    "                            xytext=tuple(np.array([0,0.4]) + np.array(coordinates[i])))\n",
    "\n",
    "\n",
    "for i in range(num_contours):    \n",
    "    norm_grad = -np.array(gradients[i]/(np.linalg.norm(gradients[i])+0.00000001))\n",
    "    ax.arrow(coordinates[i][0],coordinates[i][1], norm_grad[0],norm_grad[1], head_width=0.2, head_length=0.5, fc='k', ec='k')\n",
    "\n",
    "\n",
    "plt.show()"
   ]
  },
  {
   "cell_type": "code",
   "execution_count": 165,
   "metadata": {},
   "outputs": [
    {
     "data": {
      "text/plain": [
       "[24.880001,\n",
       " 9.870402,\n",
       " -15.007952,\n",
       " -56.46205,\n",
       " -125.805176,\n",
       " -242.1308,\n",
       " -437.67526,\n",
       " -766.8799,\n",
       " -1321.7046,\n",
       " -2257.5056]"
      ]
     },
     "execution_count": 165,
     "metadata": {},
     "output_type": "execute_result"
    }
   ],
   "source": [
    "contour_level = temperatures[:5]\n",
    "list.reverse(contour_level)\n",
    "temperatures"
   ]
  },
  {
   "cell_type": "code",
   "execution_count": 166,
   "metadata": {},
   "outputs": [
    {
     "data": {
      "image/png": "[encoded data removed]",
      "text/plain": [
       "<Figure size 432x288 with 1 Axes>"
      ]
     },
     "metadata": {
      "needs_background": "light"
     },
     "output_type": "display_data"
    }
   ],
   "source": [
    "plt.plot(grad_norms)\n",
    "plt.show()"
   ]
  },
  {
   "cell_type": "code",
   "execution_count": 167,
   "metadata": {},
   "outputs": [
    {
     "data": {
      "text/plain": [
       "array([0.1029697, 0.9946846], dtype=float32)"
      ]
     },
     "execution_count": 167,
     "metadata": {},
     "output_type": "execute_result"
    }
   ],
   "source": [
    "-np.array(gradients[i]/(np.linalg.norm(gradients[i])+0.00000001))"
   ]
  },
  {
   "cell_type": "code",
   "execution_count": 168,
   "metadata": {},
   "outputs": [
    {
     "data": {
      "text/plain": [
       "array([2., 3., 4., 5., 6.])"
      ]
     },
     "execution_count": 168,
     "metadata": {},
     "output_type": "execute_result"
    }
   ],
   "source": [
    "x = [1, 2, 3, 4, 5, 6, 7]\n",
    "m = 3\n",
    "np.convolve(x, np.ones((m,))/m, mode='valid')"
   ]
  },
  {
   "cell_type": "code",
   "execution_count": null,
   "metadata": {
    "collapsed": true
   },
   "outputs": [],
   "source": []
  }
 ],
 "metadata": {
  "kernelspec": {
   "display_name": "Python 3",
   "language": "python",
   "name": "python3"
  },
  "language_info": {
   "codemirror_mode": {
    "name": "ipython",
    "version": 3
   },
   "file_extension": ".py",
   "mimetype": "text/x-python",
   "name": "python",
   "nbconvert_exporter": "python",
   "pygments_lexer": "ipython3",
   "version": "3.7.2"
  }
 },
 "nbformat": 4,
 "nbformat_minor": 2
}
