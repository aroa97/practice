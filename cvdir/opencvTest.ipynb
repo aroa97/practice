{
 "cells": [
  {
   "cell_type": "code",
   "execution_count": 1,
   "metadata": {},
   "outputs": [],
   "source": [
    "import cv2 as cv"
   ]
  },
  {
   "cell_type": "code",
   "execution_count": 2,
   "metadata": {},
   "outputs": [],
   "source": [
    "import tensorflow as tf"
   ]
  },
  {
   "cell_type": "code",
   "execution_count": 3,
   "metadata": {},
   "outputs": [],
   "source": [
    "import numpy as np"
   ]
  },
  {
   "cell_type": "code",
   "execution_count": 4,
   "metadata": {},
   "outputs": [
    {
     "data": {
      "text/plain": [
       "'4.10.0'"
      ]
     },
     "execution_count": 4,
     "metadata": {},
     "output_type": "execute_result"
    }
   ],
   "source": [
    "cv.__version__"
   ]
  },
  {
   "cell_type": "code",
   "execution_count": 5,
   "metadata": {},
   "outputs": [],
   "source": [
    "img = cv.imread('C:/ex/cvdir/img/cat01.jpg')"
   ]
  },
  {
   "cell_type": "code",
   "execution_count": 6,
   "metadata": {},
   "outputs": [
    {
     "data": {
      "text/plain": [
       "array([[[196, 203, 200],\n",
       "        [191, 198, 195],\n",
       "        [187, 194, 191],\n",
       "        ...,\n",
       "        [255, 247, 240],\n",
       "        [255, 252, 245],\n",
       "        [234, 228, 221]],\n",
       "\n",
       "       [[189, 196, 193],\n",
       "        [183, 190, 187],\n",
       "        [178, 185, 182],\n",
       "        ...,\n",
       "        [225, 217, 210],\n",
       "        [250, 242, 235],\n",
       "        [249, 243, 236]],\n",
       "\n",
       "       [[181, 188, 185],\n",
       "        [174, 181, 178],\n",
       "        [168, 175, 172],\n",
       "        ...,\n",
       "        [160, 152, 145],\n",
       "        [209, 201, 194],\n",
       "        [253, 247, 240]],\n",
       "\n",
       "       ...,\n",
       "\n",
       "       [[185, 192, 187],\n",
       "        [180, 187, 182],\n",
       "        [175, 182, 177],\n",
       "        ...,\n",
       "        [135, 169, 175],\n",
       "        [132, 166, 172],\n",
       "        [105, 137, 143]],\n",
       "\n",
       "       [[193, 200, 193],\n",
       "        [189, 196, 189],\n",
       "        [185, 191, 186],\n",
       "        ...,\n",
       "        [141, 172, 181],\n",
       "        [137, 168, 177],\n",
       "        [109, 140, 149]],\n",
       "\n",
       "       [[202, 209, 202],\n",
       "        [196, 203, 196],\n",
       "        [191, 197, 192],\n",
       "        ...,\n",
       "        [144, 175, 184],\n",
       "        [139, 170, 179],\n",
       "        [112, 143, 152]]], dtype=uint8)"
      ]
     },
     "execution_count": 6,
     "metadata": {},
     "output_type": "execute_result"
    }
   ],
   "source": [
    "img"
   ]
  },
  {
   "cell_type": "code",
   "execution_count": 7,
   "metadata": {},
   "outputs": [
    {
     "data": {
      "text/plain": [
       "(1280, 1253, 3)"
      ]
     },
     "execution_count": 7,
     "metadata": {},
     "output_type": "execute_result"
    }
   ],
   "source": [
    "img.shape"
   ]
  },
  {
   "cell_type": "code",
   "execution_count": 11,
   "metadata": {},
   "outputs": [],
   "source": [
    "cv.imshow(\"cat\", img)\n",
    "cv.waitKey()\n",
    "cv.destroyAllWindows()"
   ]
  },
  {
   "cell_type": "code",
   "execution_count": null,
   "metadata": {},
   "outputs": [],
   "source": []
  }
 ],
 "metadata": {
  "kernelspec": {
   "display_name": "cv",
   "language": "python",
   "name": "python3"
  },
  "language_info": {
   "codemirror_mode": {
    "name": "ipython",
    "version": 3
   },
   "file_extension": ".py",
   "mimetype": "text/x-python",
   "name": "python",
   "nbconvert_exporter": "python",
   "pygments_lexer": "ipython3",
   "version": "3.9.16"
  }
 },
 "nbformat": 4,
 "nbformat_minor": 2
}
