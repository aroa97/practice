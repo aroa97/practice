{
 "cells": [
  {
   "cell_type": "code",
   "execution_count": 1,
   "metadata": {},
   "outputs": [],
   "source": [
    "import cv2\n",
    "import numpy as np"
   ]
  },
  {
   "cell_type": "code",
   "execution_count": 7,
   "metadata": {},
   "outputs": [],
   "source": [
    "img = cv2.imread('./img/PCB-Manufacturing-Defects.png')\n",
    "img = cv2.resize(img, (500, 250), interpolation=cv2.INTER_AREA)\n",
    "rows,cols = img.shape[0:2]"
   ]
  },
  {
   "cell_type": "code",
   "execution_count": 8,
   "metadata": {},
   "outputs": [],
   "source": [
    "# ---① 라디안 각도 계산(60진법을 호도법으로 변경)\n",
    "d45 = 45.0 * np.pi / 180    # 45도\n",
    "d90 = 90.0 * np.pi / 180    # 90도"
   ]
  },
  {
   "cell_type": "code",
   "execution_count": 9,
   "metadata": {},
   "outputs": [],
   "source": [
    "# ---② 회전을 위한 변환 행렬 생성\n",
    "m45 = np.float32( [[ np.cos(d45), -1* np.sin(d45), rows//2],\n",
    "                    [np.sin(d45), np.cos(d45), -1*cols//4]])\n",
    "m90 = np.float32( [[ np.cos(d90), -1* np.sin(d90), rows],\n",
    "                    [np.sin(d90), np.cos(d90), 0]])"
   ]
  },
  {
   "cell_type": "code",
   "execution_count": 10,
   "metadata": {},
   "outputs": [],
   "source": [
    "# ---③ 회전 변환 행렬 적용\n",
    "r45 = cv2.warpAffine(img,m45,(cols,rows))\n",
    "r90 = cv2.warpAffine(img,m90,(rows,cols))"
   ]
  },
  {
   "cell_type": "code",
   "execution_count": 12,
   "metadata": {},
   "outputs": [
    {
     "data": {
      "text/plain": [
       "(250, 500, 3)"
      ]
     },
     "execution_count": 12,
     "metadata": {},
     "output_type": "execute_result"
    }
   ],
   "source": [
    "r45.shape"
   ]
  },
  {
   "cell_type": "code",
   "execution_count": 14,
   "metadata": {},
   "outputs": [],
   "source": [
    "# ---④ 결과 출력\n",
    "cv2.imshow(\"origin\", img)\n",
    "cv2.imshow(\"45\", r45)\n",
    "cv2.imshow(\"90\", r90)\n",
    "cv2.waitKey(0)\n",
    "cv2.destroyAllWindows()"
   ]
  },
  {
   "cell_type": "code",
   "execution_count": 179,
   "metadata": {},
   "outputs": [],
   "source": [
    "import cv2\n",
    "import numpy as np"
   ]
  },
  {
   "cell_type": "code",
   "execution_count": 180,
   "metadata": {},
   "outputs": [],
   "source": [
    "img = cv2.imread('./img/PCB-Manufacturing-Defects.png')\n",
    "img = cv2.resize(img, (500, 250), interpolation=cv2.INTER_AREA)\n",
    "rows,cols = img.shape[0:2]\n",
    "\n",
    "#---① 회전을 위한 변환 행렬 구하기\n",
    "# 회전축:중앙, 각도:45, 배율:0.5\n",
    "m45 = cv2.getRotationMatrix2D((cols/2,rows/2),45,0.5) \n",
    "# 회전축:중앙, 각도:90, 배율:1.5\n",
    "m90 = cv2.getRotationMatrix2D((cols/2,rows/2),90,1.5) "
   ]
  },
  {
   "cell_type": "code",
   "execution_count": 181,
   "metadata": {},
   "outputs": [],
   "source": [
    "center = (cols // 2, rows // 2) \n",
    "cos_a = np.abs(m90[0, 0])\n",
    "sin_a = np.abs(m90[0, 1])\n",
    "# 변환시킨 이미지의 가로 세로 길이를 구한다\n",
    "new_w = int((rows * sin_a) + (cols * cos_a)) \n",
    "new_h = int((rows * cos_a) + (cols * sin_a)) "
   ]
  },
  {
   "cell_type": "code",
   "execution_count": 182,
   "metadata": {},
   "outputs": [
    {
     "name": "stdout",
     "output_type": "stream",
     "text": [
      "375 750\n"
     ]
    }
   ],
   "source": [
    "print(new_w, new_h)"
   ]
  },
  {
   "cell_type": "code",
   "execution_count": 183,
   "metadata": {},
   "outputs": [],
   "source": [
    "# 중심축 맞추기\n",
    "m90[0, 2] += (new_w / 2) - center[0]\n",
    "m90[1, 2] += (new_h / 2) - center[1]"
   ]
  },
  {
   "cell_type": "code",
   "execution_count": 184,
   "metadata": {},
   "outputs": [],
   "source": [
    "center = (cols // 2, rows // 2) \n",
    "cos_a2= np.abs(m45[0, 0])\n",
    "sin_a2 = np.abs(m45[0, 1])\n",
    "# 변환시킨 이미지의 가로 세로 길이를 구한다\n",
    "new_w2 = int((rows * sin_a2) + (cols * cos_a2)) \n",
    "new_h2 = int((rows * cos_a2) + (cols * sin_a2)) "
   ]
  },
  {
   "cell_type": "code",
   "execution_count": 185,
   "metadata": {},
   "outputs": [],
   "source": [
    "# 중심축 맞추기\n",
    "m45[0, 2] += (new_w2 / 2) - center[0]\n",
    "m45[1, 2] += (new_h2 / 2) - center[1]"
   ]
  },
  {
   "cell_type": "code",
   "execution_count": 186,
   "metadata": {},
   "outputs": [],
   "source": [
    "#---② 변환 행렬 적용\n",
    "img45 = cv2.warpAffine(img, m45,(new_w2, new_h2))\n",
    "img90 = cv2.warpAffine(img, m90,(new_w, new_h))"
   ]
  },
  {
   "cell_type": "code",
   "execution_count": 187,
   "metadata": {},
   "outputs": [],
   "source": [
    "#---③ 결과 출력\n",
    "cv2.imshow('origin',img)\n",
    "cv2.imshow(\"45\", img45)\n",
    "cv2.imshow(\"90\", img90)\n",
    "cv2.waitKey(0)\n",
    "cv2.destroyAllWindows()"
   ]
  },
  {
   "cell_type": "code",
   "execution_count": null,
   "metadata": {},
   "outputs": [],
   "source": []
  }
 ],
 "metadata": {
  "kernelspec": {
   "display_name": "cv",
   "language": "python",
   "name": "python3"
  },
  "language_info": {
   "codemirror_mode": {
    "name": "ipython",
    "version": 3
   },
   "file_extension": ".py",
   "mimetype": "text/x-python",
   "name": "python",
   "nbconvert_exporter": "python",
   "pygments_lexer": "ipython3",
   "version": "3.9.16"
  }
 },
 "nbformat": 4,
 "nbformat_minor": 2
}
