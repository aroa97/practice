{
 "cells": [
  {
   "cell_type": "code",
   "execution_count": 9,
   "metadata": {},
   "outputs": [],
   "source": [
    "import numpy as np\n",
    "import cv2"
   ]
  },
  {
   "cell_type": "code",
   "execution_count": 10,
   "metadata": {},
   "outputs": [],
   "source": [
    "def labeling_basic():\n",
    "    src = np.array([[0, 0, 1, 1, 0, 0, 0, 0],\n",
    "                    [1, 1, 1, 1, 0, 0, 1, 0],\n",
    "                    [1, 1, 1, 1, 0, 0, 0, 0],\n",
    "                    [0, 0, 0, 0, 0, 1, 1, 0],\n",
    "                    [0, 0, 0, 1, 1, 1, 1, 0],\n",
    "                    [0, 0, 0, 1, 0, 0, 1, 0],\n",
    "                    [0, 0, 1, 1, 1, 1, 1, 0],\n",
    "                    [0, 0, 0, 0, 0, 0, 0, 0]]).astype(np.uint8)\n",
    "    \n",
    "    src = src * 255\n",
    "\n",
    "    cnt, labels = cv2.connectedComponents(src)\n",
    "\n",
    "    print('src:'), \n",
    "    print(src)\n",
    "    print('labels:')\n",
    "    print(labels)\n",
    "    print('number of labels:', cnt)"
   ]
  },
  {
   "cell_type": "code",
   "execution_count": 12,
   "metadata": {},
   "outputs": [],
   "source": [
    "def labeling_stats():\n",
    "    src = cv2.imread('./img/keyboard.bmp', cv2.IMREAD_GRAYSCALE)\n",
    "\n",
    "    if src is None:\n",
    "        print('Image load failed!')\n",
    "        return\n",
    "\n",
    "    _, src_bin = cv2.threshold(src, 0, 255, cv2.THRESH_BINARY | cv2.THRESH_OTSU)\n",
    "\n",
    "    cnt, labels, stats, centroids = cv2.connectedComponentsWithStats(src_bin)\n",
    "\n",
    "    dst = cv2.cvtColor(src, cv2.COLOR_GRAY2BGR)\n",
    "\n",
    "    for i in range(1, cnt):\n",
    "        (x, y, w, h, area) = stats[i]\n",
    "\n",
    "        if area < 20:\n",
    "            continue\n",
    "\n",
    "        pt1 = (x, y)\n",
    "        pt2 = (x + w, y + h)\n",
    "        cv2.rectangle(dst, pt1, pt2, (0, 255, 255))\n",
    "    \n",
    "    cv2.imshow('src', src)\n",
    "    cv2.imshow('dst', dst)\n",
    "\n",
    "    cv2.waitKey()\n",
    "    cv2.destroyAllWindows()"
   ]
  },
  {
   "cell_type": "code",
   "execution_count": 13,
   "metadata": {},
   "outputs": [
    {
     "name": "stdout",
     "output_type": "stream",
     "text": [
      "src:\n",
      "[[  0   0 255 255   0   0   0   0]\n",
      " [255 255 255 255   0   0 255   0]\n",
      " [255 255 255 255   0   0   0   0]\n",
      " [  0   0   0   0   0 255 255   0]\n",
      " [  0   0   0 255 255 255 255   0]\n",
      " [  0   0   0 255   0   0 255   0]\n",
      " [  0   0 255 255 255 255 255   0]\n",
      " [  0   0   0   0   0   0   0   0]]\n",
      "labels:\n",
      "[[0 0 1 1 0 0 0 0]\n",
      " [1 1 1 1 0 0 2 0]\n",
      " [1 1 1 1 0 0 0 0]\n",
      " [0 0 0 0 0 3 3 0]\n",
      " [0 0 0 3 3 3 3 0]\n",
      " [0 0 0 3 0 0 3 0]\n",
      " [0 0 3 3 3 3 3 0]\n",
      " [0 0 0 0 0 0 0 0]]\n",
      "number of labels: 4\n"
     ]
    }
   ],
   "source": [
    "labeling_basic()"
   ]
  },
  {
   "cell_type": "code",
   "execution_count": 14,
   "metadata": {},
   "outputs": [
    {
     "name": "stdout",
     "output_type": "stream",
     "text": [
      "cnt labels stats 38 [[0 0 0 ... 0 0 0]\n",
      " [0 0 0 ... 0 0 0]\n",
      " [0 0 0 ... 0 0 0]\n",
      " ...\n",
      " [0 0 0 ... 0 0 0]\n",
      " [0 0 0 ... 0 0 0]\n",
      " [0 0 0 ... 0 0 0]] [[     0      0    512    512 256750]\n",
      " [   102     30     23     29    341]\n",
      " [   276     32     23     27    259]\n",
      " [   451     36      9     36    168]\n",
      " [   278     45      1      1      1]\n",
      " [   102     95     21     33    230]\n",
      " [   274     97     21     34    373]\n",
      " [   445     99     21     34    366]\n",
      " [   387    149      1      1      1]\n",
      " [    16    198     34     38    350]\n",
      " [   189    200     29     38    452]\n",
      " [   370    201      8     38    221]\n",
      " [   197    253      1      1      1]\n",
      " [   271    258     14     40    245]\n",
      " [   441    260     14     40    239]\n",
      " [    78    272     36     25    313]\n",
      " [   135    310      1      1      1]\n",
      " [   302    312      1      1      1]\n",
      " [   470    314      1      2      2]\n",
      " [   121    320      1      1      1]\n",
      " [   247    320      1      1      1]\n",
      " [   283    331      1      1      1]\n",
      " [    60    365     29     37    469]\n",
      " [   231    366     20     37    265]\n",
      " [   398    366     30     38    470]\n",
      " [   344    394      1      1      1]\n",
      " [   344    407      1      3      3]\n",
      " [   191    411      1      1      1]\n",
      " [   314    413     13     35    213]\n",
      " [   179    418      1      2      2]\n",
      " [   344    418      1      1      1]\n",
      " [   481    430     12     34    184]\n",
      " [   126    440     35     22    213]\n",
      " [   178    448      1      1      1]\n",
      " [   270    461      1      1      1]\n",
      " [   509    473      1      1      1]\n",
      " [   174    477      1      1      1]\n",
      " [   509    476      1      1      1]]\n"
     ]
    }
   ],
   "source": [
    "labeling_stats()"
   ]
  },
  {
   "cell_type": "markdown",
   "metadata": {},
   "source": [
    "### practice"
   ]
  },
  {
   "cell_type": "code",
   "execution_count": 27,
   "metadata": {},
   "outputs": [],
   "source": [
    "import numpy as np\n",
    "import cv2"
   ]
  },
  {
   "cell_type": "code",
   "execution_count": 58,
   "metadata": {},
   "outputs": [],
   "source": [
    "img = cv2.imread('./img/pcb.jpg', cv2.IMREAD_GRAYSCALE)\n",
    "img = cv2.resize(img, (800, 600), interpolation=cv2.INTER_LANCZOS4)"
   ]
  },
  {
   "cell_type": "code",
   "execution_count": 31,
   "metadata": {},
   "outputs": [],
   "source": [
    "cv2.imshow('img', img)\n",
    "cv2.waitKey()\n",
    "cv2.destroyAllWindows()"
   ]
  },
  {
   "cell_type": "code",
   "execution_count": 59,
   "metadata": {},
   "outputs": [],
   "source": [
    "_, img_bin = cv2.threshold(img, 0, 255, cv2.THRESH_BINARY | cv2.THRESH_OTSU)"
   ]
  },
  {
   "cell_type": "code",
   "execution_count": 35,
   "metadata": {},
   "outputs": [],
   "source": [
    "cv2.imshow('img_bin', img_bin)\n",
    "cv2.waitKey()\n",
    "cv2.destroyAllWindows()"
   ]
  },
  {
   "cell_type": "code",
   "execution_count": 60,
   "metadata": {},
   "outputs": [],
   "source": [
    "cnt, labels, stats, centroids = cv2.connectedComponentsWithStats(img_bin)"
   ]
  },
  {
   "cell_type": "code",
   "execution_count": 61,
   "metadata": {},
   "outputs": [],
   "source": [
    "dst = cv2.cvtColor(img, cv2.COLOR_GRAY2BGR)"
   ]
  },
  {
   "cell_type": "code",
   "execution_count": 62,
   "metadata": {},
   "outputs": [],
   "source": [
    "for i in range(1, cnt):\n",
    "    (x, y, w, h, area) = stats[i]\n",
    "\n",
    "    if area < 40:\n",
    "        continue\n",
    "\n",
    "    pt1 = (x, y)\n",
    "    pt2 = (x + w, y + h)\n",
    "    cv2.rectangle(dst, pt1, pt2, (0, 255, 255))\n",
    "    \n",
    "cv2.imshow('img', img)\n",
    "cv2.imshow('dst', dst)\n",
    "\n",
    "cv2.waitKey()\n",
    "cv2.destroyAllWindows()"
   ]
  },
  {
   "cell_type": "code",
   "execution_count": 1,
   "metadata": {},
   "outputs": [],
   "source": [
    "import numpy as np\n",
    "import cv2"
   ]
  },
  {
   "cell_type": "code",
   "execution_count": 2,
   "metadata": {},
   "outputs": [],
   "source": [
    "img = cv2.imread('./img/PCB-Manufacturing-Defects.png', cv2.IMREAD_GRAYSCALE)\n",
    "img = cv2.resize(img, (750, 375), interpolation=cv2.INTER_LANCZOS4)\n",
    "img2 = cv2.imread('./img/PCB-Manufacturing-Defects.png')\n",
    "img2 = cv2.resize(img2, (750, 375), interpolation=cv2.INTER_LANCZOS4)\n",
    "hsv = cv2.cvtColor(img2, cv2.COLOR_BGR2HSV)"
   ]
  },
  {
   "cell_type": "code",
   "execution_count": 3,
   "metadata": {},
   "outputs": [],
   "source": [
    "cv2.imshow('img', img)\n",
    "cv2.imshow('img2', img2)\n",
    "cv2.waitKey()\n",
    "cv2.destroyAllWindows()"
   ]
  },
  {
   "cell_type": "code",
   "execution_count": 4,
   "metadata": {},
   "outputs": [],
   "source": [
    "red1 = np.array([0, 0, 0])\n",
    "red2 = np.array([20, 255,255])\n",
    "red3 = np.array([160, 0, 0])\n",
    "red4 = np.array([180, 255,255])\n",
    "\n",
    "mask_red = cv2.inRange(hsv, red1, red2)\n",
    "mask_red2 = cv2.inRange(hsv, red3, red4)\n",
    "\n",
    "res_red1 = cv2.bitwise_and(img2, img2, mask=mask_red)\n",
    "res_red2 = cv2.bitwise_and(img2, img2, mask=mask_red2)\n",
    "res_red = cv2.bitwise_or(res_red1, res_red2)"
   ]
  },
  {
   "cell_type": "code",
   "execution_count": 5,
   "metadata": {},
   "outputs": [],
   "source": [
    "res_red = cv2.cvtColor(res_red, cv2.COLOR_BGR2GRAY)"
   ]
  },
  {
   "cell_type": "code",
   "execution_count": 6,
   "metadata": {},
   "outputs": [],
   "source": [
    "_, res_red = cv2.threshold(res_red, 0, 255, cv2.THRESH_BINARY | cv2.THRESH_OTSU)"
   ]
  },
  {
   "cell_type": "code",
   "execution_count": 7,
   "metadata": {},
   "outputs": [],
   "source": [
    "_, img_bin = cv2.threshold(img, 0, 255, cv2.THRESH_BINARY | cv2.THRESH_OTSU)"
   ]
  },
  {
   "cell_type": "code",
   "execution_count": 12,
   "metadata": {},
   "outputs": [],
   "source": [
    "cv2.imshow('img_bin', img_bin)\n",
    "cv2.imshow('res_green', res_red)\n",
    "cv2.waitKey()\n",
    "cv2.destroyAllWindows()"
   ]
  },
  {
   "cell_type": "code",
   "execution_count": 9,
   "metadata": {},
   "outputs": [],
   "source": [
    "cnt, labels, stats, centroids = cv2.connectedComponentsWithStats(res_red)"
   ]
  },
  {
   "cell_type": "code",
   "execution_count": 10,
   "metadata": {},
   "outputs": [],
   "source": [
    "dst = img2.copy()"
   ]
  },
  {
   "cell_type": "code",
   "execution_count": 96,
   "metadata": {},
   "outputs": [],
   "source": [
    "# cnt, labels, stats, centroids = cv2.connectedComponentsWithStats(img_bin)"
   ]
  },
  {
   "cell_type": "code",
   "execution_count": 73,
   "metadata": {},
   "outputs": [],
   "source": [
    "# dst = cv2.cvtColor(img, cv2.COLOR_GRAY2BGR)"
   ]
  },
  {
   "cell_type": "code",
   "execution_count": 11,
   "metadata": {},
   "outputs": [],
   "source": [
    "for i in range(1, cnt):\n",
    "    (x, y, w, h, area) = stats[i]\n",
    "\n",
    "    if area < 20:\n",
    "        continue\n",
    "\n",
    "    pt1 = (x, y)\n",
    "    pt2 = (x + w, y + h)\n",
    "    cv2.rectangle(dst, pt1, pt2, (0, 255, 255))\n",
    "    \n",
    "cv2.imshow('img', img)\n",
    "cv2.imshow('dst', dst)\n",
    "\n",
    "cv2.waitKey()\n",
    "cv2.destroyAllWindows()"
   ]
  },
  {
   "cell_type": "code",
   "execution_count": null,
   "metadata": {},
   "outputs": [],
   "source": []
  }
 ],
 "metadata": {
  "kernelspec": {
   "display_name": "cv",
   "language": "python",
   "name": "python3"
  },
  "language_info": {
   "codemirror_mode": {
    "name": "ipython",
    "version": 3
   },
   "file_extension": ".py",
   "mimetype": "text/x-python",
   "name": "python",
   "nbconvert_exporter": "python",
   "pygments_lexer": "ipython3",
   "version": "3.9.16"
  }
 },
 "nbformat": 4,
 "nbformat_minor": 2
}
