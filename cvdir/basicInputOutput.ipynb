{
 "cells": [
  {
   "cell_type": "code",
   "execution_count": 31,
   "metadata": {},
   "outputs": [],
   "source": [
    "import cv2"
   ]
  },
  {
   "cell_type": "code",
   "execution_count": 7,
   "metadata": {},
   "outputs": [],
   "source": [
    "import numpy as np"
   ]
  },
  {
   "cell_type": "code",
   "execution_count": 32,
   "metadata": {},
   "outputs": [
    {
     "data": {
      "text/plain": [
       "'4.10.0'"
      ]
     },
     "execution_count": 32,
     "metadata": {},
     "output_type": "execute_result"
    }
   ],
   "source": [
    "cv2.__version__"
   ]
  },
  {
   "cell_type": "code",
   "execution_count": 33,
   "metadata": {},
   "outputs": [],
   "source": [
    "img_cat = cv2.imread('C:/ex/cvdir/img/cat01.jpg')"
   ]
  },
  {
   "cell_type": "code",
   "execution_count": 34,
   "metadata": {},
   "outputs": [
    {
     "data": {
      "text/plain": [
       "array([[[196, 203, 200],\n",
       "        [191, 198, 195],\n",
       "        [187, 194, 191],\n",
       "        ...,\n",
       "        [255, 247, 240],\n",
       "        [255, 252, 245],\n",
       "        [234, 228, 221]],\n",
       "\n",
       "       [[189, 196, 193],\n",
       "        [183, 190, 187],\n",
       "        [178, 185, 182],\n",
       "        ...,\n",
       "        [225, 217, 210],\n",
       "        [250, 242, 235],\n",
       "        [249, 243, 236]],\n",
       "\n",
       "       [[181, 188, 185],\n",
       "        [174, 181, 178],\n",
       "        [168, 175, 172],\n",
       "        ...,\n",
       "        [160, 152, 145],\n",
       "        [209, 201, 194],\n",
       "        [253, 247, 240]],\n",
       "\n",
       "       ...,\n",
       "\n",
       "       [[185, 192, 187],\n",
       "        [180, 187, 182],\n",
       "        [175, 182, 177],\n",
       "        ...,\n",
       "        [135, 169, 175],\n",
       "        [132, 166, 172],\n",
       "        [105, 137, 143]],\n",
       "\n",
       "       [[193, 200, 193],\n",
       "        [189, 196, 189],\n",
       "        [185, 191, 186],\n",
       "        ...,\n",
       "        [141, 172, 181],\n",
       "        [137, 168, 177],\n",
       "        [109, 140, 149]],\n",
       "\n",
       "       [[202, 209, 202],\n",
       "        [196, 203, 196],\n",
       "        [191, 197, 192],\n",
       "        ...,\n",
       "        [144, 175, 184],\n",
       "        [139, 170, 179],\n",
       "        [112, 143, 152]]], dtype=uint8)"
      ]
     },
     "execution_count": 34,
     "metadata": {},
     "output_type": "execute_result"
    }
   ],
   "source": [
    "img_cat"
   ]
  },
  {
   "cell_type": "code",
   "execution_count": 35,
   "metadata": {},
   "outputs": [],
   "source": [
    "cv2.imshow(\"고양이\", img_cat)\n",
    "cv2.waitKey()\n",
    "cv2.destroyAllWindows()"
   ]
  },
  {
   "cell_type": "code",
   "execution_count": 38,
   "metadata": {},
   "outputs": [],
   "source": [
    "img_cat_g = cv2.imread('C:/ex/cvdir/img/cat01.jpg', flags=cv2.IMREAD_GRAYSCALE)\n",
    "\n",
    "cv2.imshow(\"고양이\", img_cat_g)\n",
    "cv2.imwrite('C:/ex/cvdir/img/cat01_g.jpg', img_cat_g)\n",
    "cv2.waitKey()\n",
    "cv2.destroyAllWindows()"
   ]
  },
  {
   "cell_type": "code",
   "execution_count": null,
   "metadata": {},
   "outputs": [],
   "source": [
    "# 그레이를 칼라로 바꾸기"
   ]
  },
  {
   "cell_type": "code",
   "execution_count": 30,
   "metadata": {},
   "outputs": [
    {
     "ename": "error",
     "evalue": "OpenCV(4.10.0) d:\\a\\opencv-python\\opencv-python\\opencv\\modules\\imgproc\\src\\color.simd_helpers.hpp:92: error: (-2:Unspecified error) in function '__cdecl cv::impl::`anonymous-namespace'::CvtHelper<struct cv::impl::`anonymous namespace'::Set<1,-1,-1>,struct cv::impl::A0x46dff480::Set<3,4,-1>,struct cv::impl::A0x46dff480::Set<0,2,5>,4>::CvtHelper(const class cv::_InputArray &,const class cv::_OutputArray &,int)'\n> Invalid number of channels in input image:\n>     'VScn::contains(scn)'\n> where\n>     'scn' is 3\n",
     "output_type": "error",
     "traceback": [
      "\u001b[1;31m---------------------------------------------------------------------------\u001b[0m",
      "\u001b[1;31merror\u001b[0m                                     Traceback (most recent call last)",
      "Cell \u001b[1;32mIn[30], line 2\u001b[0m\n\u001b[0;32m      1\u001b[0m img_cat_g \u001b[38;5;241m=\u001b[39m cv\u001b[38;5;241m.\u001b[39mimread(\u001b[38;5;124m'\u001b[39m\u001b[38;5;124mC:/ex/cvdir/img/cat01_g.jpg\u001b[39m\u001b[38;5;124m'\u001b[39m)\n\u001b[1;32m----> 2\u001b[0m img_cat_c \u001b[38;5;241m=\u001b[39m \u001b[43mcv\u001b[49m\u001b[38;5;241;43m.\u001b[39;49m\u001b[43mcvtColor\u001b[49m\u001b[43m(\u001b[49m\u001b[43mimg_cat_g\u001b[49m\u001b[43m,\u001b[49m\u001b[43m \u001b[49m\u001b[43mcv\u001b[49m\u001b[38;5;241;43m.\u001b[39;49m\u001b[43mCOLOR_GRAY2BGR\u001b[49m\u001b[43m)\u001b[49m\n\u001b[0;32m      5\u001b[0m cv\u001b[38;5;241m.\u001b[39mimshow(\u001b[38;5;124m\"\u001b[39m\u001b[38;5;124m고양이\u001b[39m\u001b[38;5;124m\"\u001b[39m, img_cat_c)\n\u001b[0;32m      6\u001b[0m cv\u001b[38;5;241m.\u001b[39mimwrite(\u001b[38;5;124m'\u001b[39m\u001b[38;5;124mC:/ex/cvdir/img/cat01_c.jpg\u001b[39m\u001b[38;5;124m'\u001b[39m, img_cat_c)\n",
      "\u001b[1;31merror\u001b[0m: OpenCV(4.10.0) d:\\a\\opencv-python\\opencv-python\\opencv\\modules\\imgproc\\src\\color.simd_helpers.hpp:92: error: (-2:Unspecified error) in function '__cdecl cv::impl::`anonymous-namespace'::CvtHelper<struct cv::impl::`anonymous namespace'::Set<1,-1,-1>,struct cv::impl::A0x46dff480::Set<3,4,-1>,struct cv::impl::A0x46dff480::Set<0,2,5>,4>::CvtHelper(const class cv::_InputArray &,const class cv::_OutputArray &,int)'\n> Invalid number of channels in input image:\n>     'VScn::contains(scn)'\n> where\n>     'scn' is 3\n"
     ]
    }
   ],
   "source": [
    "# img_cat_g = cv.imread('C:/ex/cvdir/img/cat01_g.jpg', flags=cv.IMREAD_)\n",
    "# img_cat_c = cv.cvtColor(img_cat_g, cv.COLOR_GRAY2BGR)\n",
    "\n",
    "\n",
    "# cv.imshow(\"고양이\", img_cat_c)\n",
    "# cv.imwrite('C:/ex/cvdir/img/cat01_c.jpg', img_cat_c)\n",
    "# cv.waitKey(5000)\n",
    "# cv.destroyAllWindows()"
   ]
  },
  {
   "cell_type": "code",
   "execution_count": 39,
   "metadata": {},
   "outputs": [],
   "source": [
    "import cv2\n",
    "\n",
    "video_file = \"./img/big_buck.avi\" # 동영상 파일 경로\n",
    "\n",
    "cap = cv2.VideoCapture(video_file) # 동영상 캡쳐 객체 생성  ---①\n",
    "if cap.isOpened():                 # 캡쳐 객체 초기화 확인\n",
    "    while True:\n",
    "        ret, img = cap.read()      # 다음 프레임 읽기      --- ②\n",
    "        if ret:                     # 프레임 읽기 정상\n",
    "            cv2.imshow(video_file, img) # 화면에 표시  --- ③\n",
    "            cv2.waitKey(25)            # 25ms 지연(40fps로 가정)   --- ④\n",
    "        else:                       # 다음 프레임 읽을 수 없슴,\n",
    "            break                   # 재생 완료\n",
    "else:\n",
    "    print(\"can't open video.\")      # 캡쳐 객체 초기화 실패\n",
    "cap.release()                       # 캡쳐 자원 반납\n",
    "cv2.destroyAllWindows()"
   ]
  },
  {
   "cell_type": "code",
   "execution_count": null,
   "metadata": {},
   "outputs": [],
   "source": []
  }
 ],
 "metadata": {
  "kernelspec": {
   "display_name": "cv",
   "language": "python",
   "name": "python3"
  },
  "language_info": {
   "codemirror_mode": {
    "name": "ipython",
    "version": 3
   },
   "file_extension": ".py",
   "mimetype": "text/x-python",
   "name": "python",
   "nbconvert_exporter": "python",
   "pygments_lexer": "ipython3",
   "version": "3.9.16"
  }
 },
 "nbformat": 4,
 "nbformat_minor": 2
}
