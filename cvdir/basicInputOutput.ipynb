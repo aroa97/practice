{
 "cells": [
  {
   "cell_type": "code",
   "execution_count": 1,
   "metadata": {},
   "outputs": [],
   "source": [
    "import cv2"
   ]
  },
  {
   "cell_type": "code",
   "execution_count": null,
   "metadata": {},
   "outputs": [],
   "source": [
    "import numpy as np"
   ]
  },
  {
   "cell_type": "code",
   "execution_count": null,
   "metadata": {},
   "outputs": [],
   "source": [
    "cv2.__version__"
   ]
  },
  {
   "cell_type": "code",
   "execution_count": 2,
   "metadata": {},
   "outputs": [],
   "source": [
    "img_cat = cv2.imread('C:/ex/cvdir/img/cat01.jpg')"
   ]
  },
  {
   "cell_type": "code",
   "execution_count": null,
   "metadata": {},
   "outputs": [],
   "source": [
    "img_cat"
   ]
  },
  {
   "cell_type": "code",
   "execution_count": 3,
   "metadata": {},
   "outputs": [],
   "source": [
    "cv2.imshow(\"고양이\", img_cat)\n",
    "cv2.waitKey()\n",
    "cv2.destroyAllWindows()"
   ]
  },
  {
   "cell_type": "code",
   "execution_count": null,
   "metadata": {},
   "outputs": [],
   "source": [
    "img_cat_g = cv2.imread('C:/ex/cvdir/img/cat01.jpg', flags=cv2.IMREAD_GRAYSCALE)\n",
    "\n",
    "cv2.imshow(\"고양이\", img_cat_g)\n",
    "cv2.imwrite('C:/ex/cvdir/img/cat01_g.jpg', img_cat_g)\n",
    "cv2.waitKey()\n",
    "cv2.destroyAllWindows()"
   ]
  },
  {
   "cell_type": "code",
   "execution_count": 5,
   "metadata": {},
   "outputs": [],
   "source": [
    "# ESC키(ascii : 27) 또는 q(ascii : 113), Q(ascii : 81)키를 누르면 종료"
   ]
  },
  {
   "cell_type": "code",
   "execution_count": 6,
   "metadata": {},
   "outputs": [
    {
     "data": {
      "text/plain": [
       "113"
      ]
     },
     "execution_count": 6,
     "metadata": {},
     "output_type": "execute_result"
    }
   ],
   "source": [
    "ord('q')"
   ]
  },
  {
   "cell_type": "code",
   "execution_count": 4,
   "metadata": {},
   "outputs": [],
   "source": [
    "cv2.imshow(\"고양이\", img_cat)\n",
    "while True:\n",
    "    # 아스키 코드\n",
    "    if cv2.waitKey() == 27: # 27 = ESC키\n",
    "        break\n",
    "cv2.destroyAllWindows()"
   ]
  },
  {
   "cell_type": "code",
   "execution_count": 12,
   "metadata": {},
   "outputs": [],
   "source": [
    "cv2.imshow(\"고양이\", img_cat)\n",
    "\n",
    "while True:\n",
    "    # 아스키 코드\n",
    "    key = cv2.waitKey()\n",
    "    if key == ord('q') or key == ord('Q') or key == 27: # 27 = ESC키\n",
    "        break\n",
    "cv2.destroyAllWindows()"
   ]
  },
  {
   "cell_type": "code",
   "execution_count": null,
   "metadata": {},
   "outputs": [],
   "source": [
    "# h이면 좌, j이면 아래, k면 위, l이면 오른쪽"
   ]
  },
  {
   "cell_type": "code",
   "execution_count": 3,
   "metadata": {},
   "outputs": [
    {
     "name": "stdout",
     "output_type": "stream",
     "text": [
      "108 l\n",
      "108 l\n",
      "107 k\n",
      "107 k\n",
      "107 k\n",
      "106 j\n",
      "106 j\n",
      "106 j\n",
      "106 j\n",
      "106 j\n",
      "106 j\n",
      "106 j\n",
      "106 j\n",
      "106 j\n",
      "104 h\n",
      "104 h\n",
      "104 h\n",
      "108 l\n",
      "108 l\n",
      "108 l\n",
      "108 l\n",
      "108 l\n",
      "108 l\n",
      "108 l\n",
      "108 l\n",
      "108 l\n",
      "108 l\n",
      "108 l\n",
      "108 l\n",
      "108 l\n",
      "108 l\n",
      "108 l\n",
      "108 l\n",
      "108 l\n",
      "108 l\n",
      "108 l\n",
      "108 l\n",
      "108 l\n",
      "108 l\n",
      "104 h\n",
      "106 j\n",
      "107 k\n",
      "106 j\n",
      "107 k\n",
      "106 j\n",
      "107 k\n",
      "106 j\n",
      "107 k\n",
      "106 j\n",
      "107 k\n",
      "106 j\n",
      "107 k\n",
      "106 j\n",
      "107 k\n",
      "106 j\n",
      "107 k\n",
      "106 j\n",
      "106 j\n",
      "106 j\n",
      "106 j\n",
      "106 j\n",
      "106 j\n",
      "106 j\n",
      "106 j\n",
      "106 j\n",
      "106 j\n",
      "106 j\n",
      "106 j\n",
      "106 j\n",
      "106 j\n",
      "106 j\n",
      "106 j\n",
      "106 j\n",
      "106 j\n",
      "106 j\n",
      "106 j\n",
      "106 j\n",
      "113 q\n"
     ]
    }
   ],
   "source": [
    "import cv2\n",
    "\n",
    "img_cat = cv2.imread('C:/ex/cvdir/img/cat01.jpg')\n",
    "\n",
    "title = \"cat\"\n",
    "cv2.imshow(title, img_cat)\n",
    "\n",
    "x, y = 100, 100\n",
    "\n",
    "while True:\n",
    "    key = cv2.waitKey() & 0xFF\n",
    "    print(key, chr(key))\n",
    "    \n",
    "    if key == ord('q') or key == ord('Q') or key == 27: # 27 = ESC키\n",
    "        break\n",
    "\n",
    "    if key == ord('h') :\n",
    "        x -= 10\n",
    "    elif key == ord('j') :\n",
    "        y -= 10\n",
    "    elif key == ord('l') :\n",
    "        x += 10\n",
    "    elif key == ord('k') :\n",
    "        y += 10\n",
    "    \n",
    "    cv2.moveWindow(title, x, y)\n",
    "cv2.destroyAllWindows()"
   ]
  },
  {
   "cell_type": "code",
   "execution_count": 10,
   "metadata": {},
   "outputs": [],
   "source": [
    "# 그레이를 칼라로 바꾸기"
   ]
  },
  {
   "cell_type": "code",
   "execution_count": null,
   "metadata": {},
   "outputs": [],
   "source": [
    "# img_cat_g = cv.imread('C:/ex/cvdir/img/cat01_g.jpg', flags=cv.IMREAD_)\n",
    "# img_cat_c = cv.cvtColor(img_cat_g, cv.COLOR_GRAY2BGR)\n",
    "\n",
    "\n",
    "# cv.imshow(\"고양이\", img_cat_c)\n",
    "# cv.imwrite('C:/ex/cvdir/img/cat01_c.jpg', img_cat_c)\n",
    "# cv.waitKey(5000)\n",
    "# cv.destroyAllWindows()"
   ]
  },
  {
   "cell_type": "code",
   "execution_count": null,
   "metadata": {},
   "outputs": [],
   "source": [
    "import cv2\n",
    "\n",
    "video_file = \"./img/big_buck.avi\" # 동영상 파일 경로\n",
    "\n",
    "cap = cv2.VideoCapture(video_file) # 동영상 캡쳐 객체 생성  ---①\n",
    "if cap.isOpened():                 # 캡쳐 객체 초기화 확인\n",
    "    while True:\n",
    "        ret, img = cap.read()      # 다음 프레임 읽기      --- ②\n",
    "        if ret:                     # 프레임 읽기 정상\n",
    "            cv2.imshow(video_file, img) # 화면에 표시  --- ③\n",
    "            cv2.waitKey(25)            # 25ms 지연(40fps로 가정)   --- ④\n",
    "        else:                       # 다음 프레임 읽을 수 없슴,\n",
    "            break                   # 재생 완료\n",
    "else:\n",
    "    print(\"can't open video.\")      # 캡쳐 객체 초기화 실패\n",
    "cap.release()                       # 캡쳐 자원 반납\n",
    "cv2.destroyAllWindows()"
   ]
  },
  {
   "cell_type": "code",
   "execution_count": 4,
   "metadata": {},
   "outputs": [],
   "source": [
    "import cv2"
   ]
  },
  {
   "cell_type": "code",
   "execution_count": 28,
   "metadata": {},
   "outputs": [],
   "source": [
    "cap = cv2.VideoCapture(0)"
   ]
  },
  {
   "cell_type": "code",
   "execution_count": 25,
   "metadata": {},
   "outputs": [
    {
     "data": {
      "text/plain": [
       "True"
      ]
     },
     "execution_count": 25,
     "metadata": {},
     "output_type": "execute_result"
    }
   ],
   "source": [
    "cap.isOpened()"
   ]
  },
  {
   "cell_type": "code",
   "execution_count": 30,
   "metadata": {},
   "outputs": [
    {
     "name": "stdout",
     "output_type": "stream",
     "text": [
      "Help on built-in function waitKey:\n",
      "\n",
      "waitKey(...)\n",
      "    waitKey([, delay]) -> retval\n",
      "    .   @brief Waits for a pressed key.\n",
      "    .   \n",
      "    .   The function waitKey waits for a key event infinitely (when \\f$\\texttt{delay}\\leq 0\\f$ ) or for delay\n",
      "    .   milliseconds, when it is positive. Since the OS has a minimum time between switching threads, the\n",
      "    .   function will not wait exactly delay ms, it will wait at least delay ms, depending on what else is\n",
      "    .   running on your computer at that time. It returns the code of the pressed key or -1 if no key was\n",
      "    .   pressed before the specified time had elapsed. To check for a key press but not wait for it, use\n",
      "    .   #pollKey.\n",
      "    .   \n",
      "    .   @note The functions #waitKey and #pollKey are the only methods in HighGUI that can fetch and handle\n",
      "    .   GUI events, so one of them needs to be called periodically for normal event processing unless\n",
      "    .   HighGUI is used within an environment that takes care of event processing.\n",
      "    .   \n",
      "    .   @note The function only works if there is at least one HighGUI window created and the window is\n",
      "    .   active. If there are several HighGUI windows, any of them can be active.\n",
      "    .   \n",
      "    .   @param delay Delay in milliseconds. 0 is the special value that means \"forever\".\n",
      "\n"
     ]
    }
   ],
   "source": [
    "help(cv2.waitKey)"
   ]
  },
  {
   "cell_type": "code",
   "execution_count": 31,
   "metadata": {},
   "outputs": [
    {
     "data": {
      "text/plain": [
       "5"
      ]
     },
     "execution_count": 31,
     "metadata": {},
     "output_type": "execute_result"
    }
   ],
   "source": [
    "cv2.CAP_PROP_FPS"
   ]
  },
  {
   "cell_type": "code",
   "execution_count": 33,
   "metadata": {},
   "outputs": [
    {
     "name": "stdout",
     "output_type": "stream",
     "text": [
      "0을 나눔\n"
     ]
    }
   ],
   "source": [
    "try:\n",
    "    fps = cap.get(cv2.CAP_PROP_FPS)\n",
    "    delay = int(1000/fps)\n",
    "except:\n",
    "    print('0을 나눔')"
   ]
  },
  {
   "cell_type": "code",
   "execution_count": 34,
   "metadata": {},
   "outputs": [],
   "source": [
    "cap = cv2.VideoCapture(0)\n",
    "\n",
    "if cap.isOpened():\n",
    "    while True:\n",
    "        ret, img = cap.read()\n",
    "        if ret:\n",
    "            cv2.imshow('camera', img)\n",
    "            if cv2.waitKey(1) != -1:\n",
    "                break\n",
    "        else:\n",
    "            print('no frame')\n",
    "            break\n",
    "else:\n",
    "    print(\"can't open camera.\")\n",
    "cap.release()\n",
    "cv2.destroyAllWindows()"
   ]
  },
  {
   "cell_type": "code",
   "execution_count": 35,
   "metadata": {},
   "outputs": [],
   "source": [
    "cap = cv2.VideoCapture(0)\n",
    "\n",
    "if cap.isOpened():\n",
    "    while True:\n",
    "        ret, frame = cap.read()\n",
    "        if ret:\n",
    "            cv2.imshow('camera', frame)\n",
    "            if cv2.waitKey(1) != -1:\n",
    "                cv2.imwrite('photo.jpg', frame)\n",
    "                break\n",
    "        else:\n",
    "            print('no frame')\n",
    "            break\n",
    "else:\n",
    "    print(\"can't open camera.\")\n",
    "cap.release()\n",
    "cv2.destroyAllWindows()"
   ]
  },
  {
   "cell_type": "code",
   "execution_count": 41,
   "metadata": {},
   "outputs": [
    {
     "name": "stdout",
     "output_type": "stream",
     "text": [
      "FPS: 24.000000, Delay: 41ms\n"
     ]
    }
   ],
   "source": [
    "video_file = \"./img/big_buck.avi\" # 동영상 파일 경로\n",
    "\n",
    "cap = cv2.VideoCapture(video_file) # 동영상 캡쳐 객체 생성\n",
    "\n",
    "if cap.isOpened():                 # 캡쳐 객체 초기화 확인\n",
    "    fps = cap.get(cv2.CAP_PROP_FPS) # 프레임 수 구하기\n",
    "    delay = int(1000/fps)\n",
    "    print(\"FPS: %f, Delay: %dms\" %(fps, delay))\n",
    "\n",
    "    while True:\n",
    "        ret, img = cap.read()      # 다음 프레임 읽기\n",
    "        if ret:                     # 프레임 읽기 정상\n",
    "            cv2.imshow(video_file, img) # 화면에 표시\n",
    "            cv2.waitKey(delay)            # fps에 맞게 시간 지연\n",
    "        else:\n",
    "            break                   # 다음 프레임 읽을 수 없슴, 재생 완료\n",
    "else:\n",
    "    print(\"can't open video.\")      # 캡쳐 객체 초기화 실패\n",
    "cap.release()                       # 캡쳐 자원 반납\n",
    "cv2.destroyAllWindows()"
   ]
  },
  {
   "cell_type": "code",
   "execution_count": 46,
   "metadata": {},
   "outputs": [
    {
     "name": "stdout",
     "output_type": "stream",
     "text": [
      "Original width: 640, height:480\n"
     ]
    }
   ],
   "source": [
    "cap = cv2.VideoCapture(0)                   # 카메라 0번 장치 연결\n",
    "width = cap.get(cv2.CAP_PROP_FRAME_WIDTH)   # 프레임 폭 값 구하기\n",
    "height = cap.get(cv2.CAP_PROP_FRAME_HEIGHT) # 프레임 높이 값 구하기\n",
    "print(\"Original width: %d, height:%d\" % (width, height) ) "
   ]
  },
  {
   "cell_type": "code",
   "execution_count": 47,
   "metadata": {},
   "outputs": [],
   "source": [
    "cap.set(cv2.CAP_PROP_FRAME_WIDTH, 320)      # 프레임 폭을 320으로 설정 \n",
    "cap.set(cv2.CAP_PROP_FRAME_HEIGHT, 240)     # 프레임 높이를 240으로 설정\n",
    "width = cap.get(cv2.CAP_PROP_FRAME_WIDTH)   # 재지정한 프레임 폭 값 구하기\n",
    "height = cap.get(cv2.CAP_PROP_FRAME_HEIGHT) # 재지정한 프레임 폭 값 구하기"
   ]
  },
  {
   "cell_type": "code",
   "execution_count": 48,
   "metadata": {},
   "outputs": [
    {
     "name": "stdout",
     "output_type": "stream",
     "text": [
      "Resized width: 320, height:240\n"
     ]
    }
   ],
   "source": [
    "print(\"Resized width: %d, height:%d\" % (width, height) )\n",
    "if cap.isOpened():\n",
    "    while True:\n",
    "        ret, img = cap.read()\n",
    "        if ret:\n",
    "            cv2.imshow('camera', img)\n",
    "            if cv2.waitKey(1) != -1:\n",
    "                break\n",
    "        else:\n",
    "            print('no frame!')\n",
    "            break\n",
    "else:\n",
    "    print(\"can't open camera!\")\n",
    "cap.release()\n",
    "cv2.destroyAllWindows()"
   ]
  },
  {
   "cell_type": "code",
   "execution_count": 49,
   "metadata": {},
   "outputs": [],
   "source": [
    "img = cv2.imread('./img/blank_500.jpg')"
   ]
  },
  {
   "cell_type": "code",
   "execution_count": 51,
   "metadata": {},
   "outputs": [
    {
     "data": {
      "text/plain": [
       "(500, 500, 3)"
      ]
     },
     "execution_count": 51,
     "metadata": {},
     "output_type": "execute_result"
    }
   ],
   "source": [
    "img.shape"
   ]
  },
  {
   "cell_type": "code",
   "execution_count": 52,
   "metadata": {},
   "outputs": [
    {
     "data": {
      "text/plain": [
       "3"
      ]
     },
     "execution_count": 52,
     "metadata": {},
     "output_type": "execute_result"
    }
   ],
   "source": [
    "img.ndim"
   ]
  },
  {
   "cell_type": "code",
   "execution_count": 53,
   "metadata": {},
   "outputs": [
    {
     "data": {
      "text/plain": [
       "array([[[255, 255, 255],\n",
       "        [255, 255, 255],\n",
       "        [255, 255, 255],\n",
       "        ...,\n",
       "        [255, 255, 255],\n",
       "        [255, 255, 255],\n",
       "        [255, 255, 255]],\n",
       "\n",
       "       [[255, 255, 255],\n",
       "        [255, 255, 255],\n",
       "        [255, 255, 255],\n",
       "        ...,\n",
       "        [255, 255, 255],\n",
       "        [255, 255, 255],\n",
       "        [255, 255, 255]],\n",
       "\n",
       "       [[255, 255, 255],\n",
       "        [255, 255, 255],\n",
       "        [255, 255, 255],\n",
       "        ...,\n",
       "        [255, 255, 255],\n",
       "        [255, 255, 255],\n",
       "        [255, 255, 255]],\n",
       "\n",
       "       ...,\n",
       "\n",
       "       [[255, 255, 255],\n",
       "        [255, 255, 255],\n",
       "        [255, 255, 255],\n",
       "        ...,\n",
       "        [255, 255, 255],\n",
       "        [255, 255, 255],\n",
       "        [255, 255, 255]],\n",
       "\n",
       "       [[255, 255, 255],\n",
       "        [255, 255, 255],\n",
       "        [255, 255, 255],\n",
       "        ...,\n",
       "        [255, 255, 255],\n",
       "        [255, 255, 255],\n",
       "        [255, 255, 255]],\n",
       "\n",
       "       [[255, 255, 255],\n",
       "        [255, 255, 255],\n",
       "        [255, 255, 255],\n",
       "        ...,\n",
       "        [255, 255, 255],\n",
       "        [255, 255, 255],\n",
       "        [255, 255, 255]]], dtype=uint8)"
      ]
     },
     "execution_count": 53,
     "metadata": {},
     "output_type": "execute_result"
    }
   ],
   "source": [
    "img"
   ]
  },
  {
   "cell_type": "code",
   "execution_count": 54,
   "metadata": {},
   "outputs": [
    {
     "name": "stdout",
     "output_type": "stream",
     "text": [
      "Help on built-in function line:\n",
      "\n",
      "line(...)\n",
      "    line(img, pt1, pt2, color[, thickness[, lineType[, shift]]]) -> img\n",
      "    .   @brief Draws a line segment connecting two points.\n",
      "    .   \n",
      "    .   The function line draws the line segment between pt1 and pt2 points in the image. The line is\n",
      "    .   clipped by the image boundaries. For non-antialiased lines with integer coordinates, the 8-connected\n",
      "    .   or 4-connected Bresenham algorithm is used. Thick lines are drawn with rounding endings. Antialiased\n",
      "    .   lines are drawn using Gaussian filtering.\n",
      "    .   \n",
      "    .   @param img Image.\n",
      "    .   @param pt1 First point of the line segment.\n",
      "    .   @param pt2 Second point of the line segment.\n",
      "    .   @param color Line color.\n",
      "    .   @param thickness Line thickness.\n",
      "    .   @param lineType Type of the line. See #LineTypes.\n",
      "    .   @param shift Number of fractional bits in the point coordinates.\n",
      "\n"
     ]
    }
   ],
   "source": [
    "help(cv2.line)"
   ]
  },
  {
   "cell_type": "code",
   "execution_count": 3,
   "metadata": {},
   "outputs": [],
   "source": [
    "import cv2\n",
    "\n",
    "img = cv2.imread('./img/blank_500.jpg')\n",
    "\n",
    "cv2.line(img, (50, 50), (150, 50), (255,0,0))   # 파란색 1픽셀 선\n",
    "cv2.line(img, (200, 50), (300, 50), (0,255,0))  # 초록색 1픽셀 선\n",
    "cv2.line(img, (350, 50), (450, 50), (0,0,255))  # 빨간색 1픽셀 선\n",
    "\n",
    "cv2.imshow('lines', img)\n",
    "cv2.waitKey(0)\n",
    "cv2.destroyAllWindows()"
   ]
  },
  {
   "cell_type": "code",
   "execution_count": null,
   "metadata": {},
   "outputs": [],
   "source": [
    "# 하늘색(파랑+초록) 10픽셀 선      \n",
    "cv2.line(img, (100, 100), (400, 100), (255,255,0), 10)          \n",
    "# 분홍(파랑+빨강) 10픽셀 선      \n",
    "cv2.line(img, (100, 150), (400, 150), (255,0,255), 10)          \n",
    "# 노랑(초록+빨강) 10픽셀 선      \n",
    "cv2.line(img, (100, 200), (400, 200), (0,255,255), 10)          \n",
    "# 회색(파랑+초록+빨강) 10픽셀 선  \n",
    "cv2.line(img, (100, 250), (400, 250), (200,200,200), 10)        \n",
    "# 검정 10픽셀 선    \n",
    "cv2.line(img, (100, 300), (400, 300), (0,0,0), 10)    "
   ]
  },
  {
   "cell_type": "code",
   "execution_count": 6,
   "metadata": {},
   "outputs": [],
   "source": [
    "import cv2\n",
    "\n",
    "img = cv2.imread('./img/blank_500.jpg')\n",
    "\n",
    "# 4연결 선\n",
    "cv2.line(img, (100, 350), (400, 400), (0,0,255), 20, cv2.LINE_4)   \n",
    "# 8연결 선\n",
    "cv2.line(img, (100, 400), (400, 450), (0,0,255), 20, cv2.LINE_8)    \n",
    "# 안티에일리어싱 선 \n",
    "cv2.line(img, (100, 450), (400, 500), (0,0,255), 20, cv2.LINE_AA)   \n",
    "# 이미지 전체에 대각선 \n",
    "cv2.line(img, (0,0), (500,500), (0,0,255))     \n",
    "\n",
    "cv2.imshow('lines', img)\n",
    "cv2.waitKey(0)\n",
    "cv2.destroyAllWindows()"
   ]
  },
  {
   "cell_type": "code",
   "execution_count": 8,
   "metadata": {},
   "outputs": [],
   "source": [
    "import cv2\n",
    "\n",
    "img = cv2.imread('./img/blank_500.jpg')\n",
    "\n",
    "# 좌상, 우하 좌표로 사각형 그리기\n",
    "cv2.rectangle(img, (50, 50), (150, 150), (255,0,0) )        \n",
    "# 우하, 좌상 좌표로 사각형 그리기\n",
    "cv2.rectangle(img, (300, 300), (100, 100), (0,255,0), 10 )  \n",
    "# 우상, 좌하 좌표로 사각형 채워 그리기 ---①\n",
    "cv2.rectangle(img, (450, 200), (200, 450), (0,0,255), -1 ) # -1일 경우 색 채우기\n",
    "\n",
    "cv2.imshow('rectangle', img)\n",
    "cv2.waitKey(0)\n",
    "cv2.destroyAllWindows()"
   ]
  },
  {
   "cell_type": "code",
   "execution_count": 9,
   "metadata": {},
   "outputs": [],
   "source": [
    "import numpy as np     "
   ]
  },
  {
   "cell_type": "code",
   "execution_count": 10,
   "metadata": {},
   "outputs": [],
   "source": [
    "pts1 = np.array([[50,50], [150,150], [100,140],[200,240]]) "
   ]
  },
  {
   "cell_type": "code",
   "execution_count": 11,
   "metadata": {},
   "outputs": [
    {
     "data": {
      "text/plain": [
       "array([[ 50,  50],\n",
       "       [150, 150],\n",
       "       [100, 140],\n",
       "       [200, 240]])"
      ]
     },
     "execution_count": 11,
     "metadata": {},
     "output_type": "execute_result"
    }
   ],
   "source": [
    "pts1"
   ]
  },
  {
   "cell_type": "code",
   "execution_count": null,
   "metadata": {},
   "outputs": [],
   "source": [
    "# polylines(img, 꼭지점의 좌표(배열), isClosed, 색상(BGR), 선두께)"
   ]
  },
  {
   "cell_type": "code",
   "execution_count": 13,
   "metadata": {},
   "outputs": [],
   "source": [
    "img = cv2.imread('./img/blank_500.jpg')\n",
    "\n",
    "cv2.polylines(img, [pts1], False, (255,0,0))       # 번개 모양 선 그리기\n",
    "\n",
    "cv2.imshow('polyline', img)\n",
    "cv2.waitKey(0)\n",
    "cv2.destroyAllWindows()"
   ]
  },
  {
   "cell_type": "code",
   "execution_count": 15,
   "metadata": {},
   "outputs": [],
   "source": [
    "img = cv2.imread('./img/blank_500.jpg')\n",
    "\n",
    "# Numpy array로 좌표 생성 ---②\n",
    "# 번개 모양 선 좌표\n",
    "pts1 = np.array([[50,50], [150,150], [100,140],[200,240]], dtype=np.int32) \n",
    "# 삼각형 좌표\n",
    "pts2 = np.array([[350,50], [250,200], [450,200]], dtype=np.int32) \n",
    "# 삼각형 좌표\n",
    "pts3 = np.array([[150,300], [50,450], [250,450]], dtype=np.int32) \n",
    "# 5각형 좌표\n",
    "pts4 = np.array([[350,250], [450,350], [400,450], [300,450], [250,350]],\\\n",
    "                 dtype=np.int32) \n",
    "\n",
    "# 다각형 그리기 ---③\n",
    "cv2.polylines(img, [pts1], False, (255,0,0))       # 번개 모양 선 그리기\n",
    "cv2.polylines(img, [pts2], False, (0,0,0), 10)     # 3각형 열린 선 그리기 ---④\n",
    "cv2.polylines(img, [pts3], True, (0,0,255), 10)    # 3각형 닫힌 도형 그리기 ---⑤\n",
    "cv2.polylines(img, [pts4], True, (0,0,0))          # 5각형 닫힌 도형 그리기\n",
    "\n",
    "cv2.imshow('polyline', img)\n",
    "cv2.waitKey(0)\n",
    "cv2.destroyAllWindows()"
   ]
  },
  {
   "cell_type": "code",
   "execution_count": 17,
   "metadata": {},
   "outputs": [],
   "source": [
    "img = cv2.imread('./img/blank_500.jpg')\n",
    "\n",
    "# 원점(150,150), 반지름 100 ---①\n",
    "cv2.circle(img, (150, 150), 100, (255,0,0)) \n",
    "# 원점(300,150), 반지름 70 ---②\n",
    "cv2.circle(img, (300, 150), 70, (0,255,0), 5)   \n",
    "# 원점(400,150), 반지름 50, 채우기 ---③\n",
    "cv2.circle(img, (400, 150), 50, (0,0,255), -1)  \n",
    "\n",
    "cv2.imshow('circle', img)\n",
    "cv2.waitKey(0)\n",
    "cv2.destroyAllWindows()"
   ]
  },
  {
   "cell_type": "code",
   "execution_count": 49,
   "metadata": {},
   "outputs": [],
   "source": [
    "img = cv2.imread('./img/blank_500.jpg')\n",
    "\n",
    "pts1_poly = np.array([[250,50], [100, 150], [400, 150]])\n",
    "pts2_poly = np.array([[270,30], [270, 60], [320, 94], [320, 30]])\n",
    "\n",
    "cv2.polylines(img, [pts1_poly], True, (0,0,255))\n",
    "cv2.rectangle(img, (150, 150), (350, 300), color=(255,0,0))\n",
    "cv2.rectangle(img, (200, 170), (250, 220), (0,255,0), -1)\n",
    "cv2.rectangle(img, (260, 170), (310, 220), (0,255,0), -1)\n",
    "cv2.rectangle(img, (200, 230), (300, 300), (0,0,0))\n",
    "cv2.polylines(img, [pts2_poly], True, (255,0,0))\n",
    "\n",
    "cv2.imshow('myHouse', img)\n",
    "cv2.waitKey(0)\n",
    "cv2.destroyAllWindows()"
   ]
  },
  {
   "cell_type": "code",
   "execution_count": 54,
   "metadata": {},
   "outputs": [],
   "source": [
    "from PIL import ImageFony, ImageDraw, \n",
    "\n",
    "img = cv2.imread('./img/blank_500.jpg')\n",
    "\n",
    "# sans-serif small\n",
    "cv2.putText(img, \"sss\", (50, 30), cv2.FONT_HERSHEY_PLAIN, 1, (0, 0,0))\n",
    "\n",
    "cv2.imshow('draw text', img)\n",
    "cv2.waitKey()\n",
    "cv2.destroyAllWindows()"
   ]
  },
  {
   "cell_type": "code",
   "execution_count": 55,
   "metadata": {},
   "outputs": [
    {
     "name": "stderr",
     "output_type": "stream",
     "text": [
      "C:\\Users\\ysj\\AppData\\Local\\Temp\\ipykernel_14764\\1023278990.py:20: MatplotlibDeprecationWarning: The tostring_rgb function was deprecated in Matplotlib 3.8 and will be removed in 3.10. Use buffer_rgba instead.\n",
      "  text_image = np.frombuffer(plt.gcf().canvas.tostring_rgb(), dtype=np.uint8)\n"
     ]
    },
    {
     "data": {
      "image/png": "[encoded data removed]",
      "text/plain": [
       "<Figure size 600x300 with 1 Axes>"
      ]
     },
     "metadata": {},
     "output_type": "display_data"
    }
   ],
   "source": [
    "import cv2\n",
    "import numpy as np\n",
    "import matplotlib.pyplot as plt\n",
    "from matplotlib import rc\n",
    "import matplotlib.pyplot as plt\n",
    "\n",
    "# OpenCV에서 사용할 이미지를 생성\n",
    "image = np.zeros((300, 600, 3), dtype=np.uint8)\n",
    "image[:] = (255, 255, 255)  # 흰색 배경\n",
    "\n",
    "# matplotlib으로 한글 텍스트 렌더링\n",
    "plt.rcParams['font.family'] = 'Malgun Gothic'\n",
    "plt.rcParams['axes.unicode_minus'] = False  # 음수 기호 표시 문제 해결\n",
    "plt.figure(figsize=(6, 3))\n",
    "plt.text(0.5, 0.5, '안녕하세요, OpenCV!', fontsize=20, ha='center', va='center')\n",
    "plt.axis('off')\n",
    "\n",
    "# 렌더링한 이미지를 가져오기\n",
    "plt.draw()\n",
    "text_image = np.frombuffer(plt.gcf().canvas.tostring_rgb(), dtype=np.uint8)\n",
    "text_image = text_image.reshape(\n",
    "    plt.gcf().canvas.get_width_height()[::-1] + (3,))\n",
    "\n",
    "# OpenCV 이미지에 텍스트 이미지 추가\n",
    "text_image = cv2.cvtColor(text_image, cv2.COLOR_RGB2BGR)\n",
    "image = cv2.addWeighted(image, 0.5, text_image, 0.5, 0)\n",
    "\n",
    "# 결과 이미지 표시\n",
    "cv2.imshow(\"Image\", image)\n",
    "cv2.waitKey(0)\n",
    "cv2.destroyAllWindows()"
   ]
  },
  {
   "cell_type": "code",
   "execution_count": null,
   "metadata": {},
   "outputs": [],
   "source": [
    "import cv2\n",
    "import numpy as np\n",
    "from PIL import ImageFont, ImageDraw, Image\n",
    "# 빈 이미지 생성 (배경은 흰색)\n",
    "image = np.zeros((500, 500, 3), dtype=\"uint8\")\n",
    "image.fill(255)  # 흰색 배경\n",
    "# OpenCV 이미지를 Pillow 이미지로 변환\n",
    "pil_image = Image.fromarray(image)\n",
    "# 폰트 설정 (폰트 파일 경로와 크기 설정)\n",
    "fontpath = \"./MALGUN.TTF\"  # TTF 폰트 파일 경로를 지정\n",
    "font = ImageFont.truetype(fontpath, 40)  # 폰트 크기를 40으로 설정\n",
    "# ImageDraw 객체 생성\n",
    "draw = ImageDraw.Draw(pil_image)\n",
    "# 한글 텍스트 그리기\n",
    "text = \"한글 텍스트\"\n",
    "draw.text((50, 200), text, font=font, fill=(0, 0, 0, 0))  # (x, y) 좌표에 텍스트 그리기\n",
    "# Pillow 이미지를 다시 OpenCV 이미지로 변환\n",
    "image = np.array(pil_image)\n",
    "# 이미지 출력\n",
    "cv2.imshow(\"Image with Korean Text\", image)\n",
    "cv2.waitKey(0)\n",
    "cv2.destroyAllWindows()"
   ]
  },
  {
   "cell_type": "code",
   "execution_count": 3,
   "metadata": {},
   "outputs": [],
   "source": [
    "import cv2\n",
    "\n",
    "file_path = './img/girl.jpg'\n",
    "img = cv2.imread(file_path)                            # 이미지를 기본 값으로 읽기\n",
    "img_gray = cv2.imread(file_path, cv2.IMREAD_GRAYSCALE) # 이미지를 그레이 스케일로 읽기\n",
    "\n",
    "cv2.namedWindow('origin')                               # origin 이름으로 창 생성\n",
    "cv2.namedWindow('gray', cv2.WINDOW_NORMAL)              # gray 이름으로 창 생성\n",
    "cv2.imshow('origin', img)                               # origin 창에 이미지 표시\n",
    "cv2.imshow('gray', img_gray)                            # gray 창에 이미지 표시\n",
    "\n",
    "cv2.waitKey(0)                                          # 아무키나 누르면\n",
    "cv2.destroyAllWindows()      "
   ]
  },
  {
   "cell_type": "code",
   "execution_count": 7,
   "metadata": {},
   "outputs": [],
   "source": [
    "import cv2\n",
    "file_path = \"./img/cat01.jpg\"\n",
    "img = cv2.imread(file_path)\n",
    "img_gray = cv2.imread(file_path, cv2.IMREAD_GRAYSCALE)\n",
    "\n",
    "cv2.namedWindow('origin')                               \n",
    "cv2.namedWindow('gray', cv2.WINDOW_NORMAL)              \n",
    "cv2.imshow(\"origin\", img)\n",
    "cv2.imshow(\"gray\", img_gray)\n",
    "\n",
    "cv2.waitKey(0)                                          \n",
    "cv2.destroyAllWindows()      "
   ]
  },
  {
   "cell_type": "code",
   "execution_count": 9,
   "metadata": {},
   "outputs": [],
   "source": [
    "import cv2\n",
    "file_path = \"./img/taekwon_v.jpg\"\n",
    "img = cv2.imread(file_path)\n",
    "img_gray = cv2.imread(file_path, cv2.IMREAD_GRAYSCALE)\n",
    "\n",
    "cv2.namedWindow('origin')                               \n",
    "cv2.namedWindow('gray', cv2.WINDOW_NORMAL)              \n",
    "cv2.imshow(\"origin\", img)\n",
    "cv2.imshow(\"gray\", img_gray)\n",
    "\n",
    "cv2.waitKey(0)                                          \n",
    "cv2.destroyAllWindows()  "
   ]
  },
  {
   "cell_type": "code",
   "execution_count": null,
   "metadata": {},
   "outputs": [],
   "source": []
  }
 ],
 "metadata": {
  "kernelspec": {
   "display_name": "cv",
   "language": "python",
   "name": "python3"
  },
  "language_info": {
   "codemirror_mode": {
    "name": "ipython",
    "version": 3
   },
   "file_extension": ".py",
   "mimetype": "text/x-python",
   "name": "python",
   "nbconvert_exporter": "python",
   "pygments_lexer": "ipython3",
   "version": "3.9.16"
  }
 },
 "nbformat": 4,
 "nbformat_minor": 2
}
