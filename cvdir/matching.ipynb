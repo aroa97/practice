{
 "cells": [
  {
   "cell_type": "code",
   "execution_count": 1,
   "metadata": {},
   "outputs": [],
   "source": [
    "import numpy as np\n",
    "import cv2"
   ]
  },
  {
   "cell_type": "code",
   "execution_count": 12,
   "metadata": {},
   "outputs": [],
   "source": [
    "def keypoint_matching():\n",
    "    img1 = cv2.imread('./img/PCB-Manufacturing-Defects.png', cv2.IMREAD_GRAYSCALE)\n",
    "    img1 = cv2.resize(img1, (750, 375), interpolation=cv2.INTER_LANCZOS4)\n",
    "    img2 = img1[140:310, 250:550]\n",
    "\n",
    "    orb = cv2.ORB_create()\n",
    "\n",
    "    keypoints1, desc1 = orb.detectAndCompute(img1, None)\n",
    "    keypoints2, desc2 = orb.detectAndCompute(img2, None)\n",
    "    \n",
    "    print('desc1.shape:', desc1.shape)\n",
    "    print('desc2.shape:', desc2.shape)\n",
    "\n",
    "    matcher = cv2.BFMatcher_create(cv2.NORM_HAMMING)\n",
    "    matches = matcher.match(desc1, desc2)\n",
    "\n",
    "    dst = cv2.drawMatches(img1, keypoints1, img2, keypoints2, matches, None)\n",
    "    cv2.imshow('img1', img1)\n",
    "    cv2.imshow('img2', img2)\n",
    "    cv2.imshow('dst', dst)\n",
    "    cv2.waitKey()\n",
    "    cv2.destroyAllWindows()"
   ]
  },
  {
   "cell_type": "code",
   "execution_count": 13,
   "metadata": {},
   "outputs": [
    {
     "name": "stdout",
     "output_type": "stream",
     "text": [
      "desc1.shape: (488, 32)\n",
      "desc2.shape: (295, 32)\n"
     ]
    }
   ],
   "source": [
    "keypoint_matching()"
   ]
  },
  {
   "cell_type": "code",
   "execution_count": 14,
   "metadata": {},
   "outputs": [],
   "source": [
    "def good_matching():\n",
    "    img1 = cv2.imread('./img/PCB-Manufacturing-Defects.png', cv2.IMREAD_GRAYSCALE)\n",
    "    img1 = cv2.resize(img1, (750, 375), interpolation=cv2.INTER_LANCZOS4)\n",
    "    img2 = img1[140:310, 250:550]\n",
    "\n",
    "    orb = cv2.ORB_create()\n",
    "\n",
    "    keypoints1, desc1 = orb.detectAndCompute(img1, None)\n",
    "    keypoints2, desc2 = orb.detectAndCompute(img2, None)\n",
    "\n",
    "    matcher = cv2.BFMatcher_create(cv2.NORM_HAMMING)\n",
    "    matches = matcher.match(desc1, desc2)\n",
    "\n",
    "    matches = sorted(matches, key=lambda x: x.distance)\n",
    "    good_matches = matches[:50]\n",
    "\n",
    "    dst = cv2.drawMatches(img1, keypoints1, img2, keypoints2, good_matches, None,\n",
    "                         flags=cv2.DrawMatchesFlags_NOT_DRAW_SINGLE_POINTS)\n",
    "\n",
    "    cv2.imshow('img1', img1)\n",
    "    cv2.imshow('img2', img2)\n",
    "    cv2.imshow('dst', dst)\n",
    "    cv2.waitKey()\n",
    "    cv2.destroyAllWindows()"
   ]
  },
  {
   "cell_type": "code",
   "execution_count": 15,
   "metadata": {},
   "outputs": [],
   "source": [
    "good_matching()"
   ]
  },
  {
   "cell_type": "code",
   "execution_count": null,
   "metadata": {},
   "outputs": [],
   "source": []
  }
 ],
 "metadata": {
  "kernelspec": {
   "display_name": "cv",
   "language": "python",
   "name": "python3"
  },
  "language_info": {
   "codemirror_mode": {
    "name": "ipython",
    "version": 3
   },
   "file_extension": ".py",
   "mimetype": "text/x-python",
   "name": "python",
   "nbconvert_exporter": "python",
   "pygments_lexer": "ipython3",
   "version": "3.9.16"
  }
 },
 "nbformat": 4,
 "nbformat_minor": 2
}
