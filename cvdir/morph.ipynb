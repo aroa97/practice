{
 "cells": [
  {
   "cell_type": "code",
   "execution_count": 1,
   "metadata": {},
   "outputs": [],
   "source": [
    "import cv2, numpy as np"
   ]
  },
  {
   "cell_type": "code",
   "execution_count": 25,
   "metadata": {},
   "outputs": [],
   "source": [
    "img = cv2.imread('./img/PCB-Manufacturing-Defects.png')\n",
    "img = cv2.resize(img, (600, 300), interpolation=cv2.INTER_LANCZOS4)\n",
    "img = cv2.cvtColor(img, cv2.COLOR_BGR2GRAY)"
   ]
  },
  {
   "cell_type": "code",
   "execution_count": 26,
   "metadata": {},
   "outputs": [
    {
     "data": {
      "text/plain": [
       "array([[207, 207, 205, ..., 233, 247, 255],\n",
       "       [207, 205, 205, ..., 235, 233, 255],\n",
       "       [207, 207, 205, ..., 235, 223, 255],\n",
       "       ...,\n",
       "       [ 40,  37,  37, ..., 246, 255, 255],\n",
       "       [ 40,  37,  37, ..., 251, 255, 255],\n",
       "       [ 40,  40,  40, ..., 255, 255, 255]], dtype=uint8)"
      ]
     },
     "execution_count": 26,
     "metadata": {},
     "output_type": "execute_result"
    }
   ],
   "source": [
    "cv2.equalizeHist(img)"
   ]
  },
  {
   "cell_type": "code",
   "execution_count": 27,
   "metadata": {},
   "outputs": [],
   "source": [
    "# 구조화 요소 커널, 사각형 (5x5) 생성 ---①\n",
    "k = cv2.getStructuringElement(cv2.MORPH_RECT, (9,9))\n",
    "# 탑햇 연산 적용 ---②\n",
    "tophat = cv2.morphologyEx(img, cv2.MORPH_TOPHAT, k)\n",
    "# 블랫햇 연산 적용 ---③\n",
    "blackhat = cv2.morphologyEx(img, cv2.MORPH_BLACKHAT, k)\n",
    "\n",
    "# 결과 출력\n",
    "merged = np.vstack((img, tophat, blackhat))\n",
    "cv2.imshow('tophat blackhat', merged)\n",
    "cv2.waitKey(0)\n",
    "cv2.destroyAllWindows()"
   ]
  },
  {
   "cell_type": "code",
   "execution_count": 28,
   "metadata": {},
   "outputs": [],
   "source": [
    "img2 = cv2.equalizeHist(img)\n",
    "# 탑햇 연산 적용 ---②\n",
    "tophat = cv2.morphologyEx(img2, cv2.MORPH_TOPHAT, k)\n",
    "# 블랫햇 연산 적용 ---③\n",
    "blackhat = cv2.morphologyEx(img2, cv2.MORPH_BLACKHAT, k)\n",
    "\n",
    "# 결과 출력\n",
    "merged = np.vstack((img2, tophat, blackhat))\n",
    "cv2.imshow('tophat blackhat', merged)\n",
    "\n",
    "cv2.waitKey(0)\n",
    "cv2.destroyAllWindows()"
   ]
  },
  {
   "cell_type": "code",
   "execution_count": null,
   "metadata": {},
   "outputs": [],
   "source": []
  }
 ],
 "metadata": {
  "kernelspec": {
   "display_name": "cv",
   "language": "python",
   "name": "python3"
  },
  "language_info": {
   "codemirror_mode": {
    "name": "ipython",
    "version": 3
   },
   "file_extension": ".py",
   "mimetype": "text/x-python",
   "name": "python",
   "nbconvert_exporter": "python",
   "pygments_lexer": "ipython3",
   "version": "3.9.16"
  }
 },
 "nbformat": 4,
 "nbformat_minor": 2
}
