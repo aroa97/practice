{
 "cells": [
  {
   "cell_type": "code",
   "execution_count": 1,
   "metadata": {},
   "outputs": [],
   "source": [
    "import cv2"
   ]
  },
  {
   "cell_type": "code",
   "execution_count": 31,
   "metadata": {},
   "outputs": [],
   "source": [
    "img = cv2.imread('C:/ex/cvdir/img/gyeongbokgung.jpg')\n",
    "\n",
    "title = \"gyeongbokgung\"\n",
    "x, y = 100, 100\n",
    "\n",
    "cv2.imshow(title, img)\n",
    "\n",
    "def onMouse(event, x, y, flags, param):\n",
    "    # print(event, x, y)\n",
    "    if event == cv2.EVENT_LBUTTONDOWN: # 왼쪽 버튼을 누른 경우\n",
    "        cv2.circle(img, (x, y), 40, (255,0,0), 5)\n",
    "    elif event == cv2.EVENT_RBUTTONDOWN: # 오른쪽 버튼을 누른 경우\n",
    "        cv2.circle(img, (x, y), 40, (0,255,0), 5)\n",
    "    elif event == cv2.EVENT_MBUTTONDOWN: # 가운데 버튼을 누른 경우\n",
    "        cv2.circle(img, (x, y), 40, (0,0,255), 5)\n",
    "    elif event == cv2.EVENT_MOUSEWHEEL: # 마우스 휠을 앞뒤로 돌리는 경우\n",
    "        cv2.circle(img, (x, y), 40, (0,0,0), 5)\n",
    "    elif event == cv2.EVENT_LBUTTONDBLCLK: # 왼쪽 버튼을 더블클릭 하는 경우\n",
    "        cv2.circle(img, (x, y), 40, (0,255,255), 5)\n",
    "    elif event == cv2.EVENT_RBUTTONDBLCLK: # 오른쪽 버튼을 더블클릭 하는 경우\n",
    "        cv2.putText(img, 'Gyeongbokgung Place', (x, y), \n",
    "                    cv2.FONT_HERSHEY_PLAIN, 2, (0,0,0))\n",
    "    \n",
    "    cv2.imshow(title, img)\n",
    "cv2.setMouseCallback(title, onMouse)\n",
    "\n",
    "while True:\n",
    "    key = cv2.waitKey() & 0xFF\n",
    "    if key == 27 or key == ord('q'):\n",
    "        break\n",
    "\n",
    "cv2.destroyAllWindows()"
   ]
  },
  {
   "cell_type": "code",
   "execution_count": 36,
   "metadata": {},
   "outputs": [],
   "source": [
    "import cv2\n",
    "import numpy as np\n",
    "\n",
    "win_name = 'Trackbar'                                   # 창 이름\n",
    "\n",
    "img = cv2.imread('./img/blank_500.jpg')\n",
    "cv2.imshow(win_name, img)                                # 초기 이미지를 창에 표시\n",
    "\n",
    "check = False\n",
    "# 트랙바 이벤트 처리 함수 선언 ---①\n",
    "def onChange(x):                                        \n",
    "    # print(x)                                            # 트랙바 새로운 위치 값 --- ②\n",
    "    # 'R', 'G', 'B' 각 트랙바 위치 값    --- ③\n",
    "    if check:\n",
    "        r = cv2.getTrackbarPos('R',win_name)               \n",
    "        g = cv2.getTrackbarPos('G',win_name)        \n",
    "        b = cv2.getTrackbarPos('B',win_name)               \n",
    "        # print(r, g, b)\n",
    "        img[:] = [b,g,r]                                    # 기존 이미지에 새로운 픽셀 값 적용 --- ④\n",
    "        cv2.imshow(win_name, img)                           # 새 이미지 창에 표시\n",
    "\n",
    "# 트랙바 생성    --- ⑤\n",
    "cv2.createTrackbar('R', win_name, 255, 255, onChange)  \n",
    "cv2.createTrackbar('G', win_name, 255, 255, onChange)\n",
    "cv2.createTrackbar('B', win_name, 255, 255, onChange)\n",
    "check = True\n",
    "\n",
    "while True:\n",
    "    if cv2.waitKey(1) & 0xFF == 27:\n",
    "        break\n",
    "cv2.destroyAllWindows()        "
   ]
  },
  {
   "cell_type": "code",
   "execution_count": 33,
   "metadata": {},
   "outputs": [
    {
     "name": "stdout",
     "output_type": "stream",
     "text": [
      "Help on built-in function getTrackbarPos:\n",
      "\n",
      "getTrackbarPos(...)\n",
      "    getTrackbarPos(trackbarname, winname) -> retval\n",
      "    .   @brief Returns the trackbar position.\n",
      "    .   \n",
      "    .   The function returns the current position of the specified trackbar.\n",
      "    .   \n",
      "    .   @note [__Qt Backend Only__] winname can be empty if the trackbar is attached to the control\n",
      "    .   panel.\n",
      "    .   \n",
      "    .   @param trackbarname Name of the trackbar.\n",
      "    .   @param winname Name of the window that is the parent of the trackbar.\n",
      "\n"
     ]
    }
   ],
   "source": [
    "help(cv2.getTrackbarPos)"
   ]
  },
  {
   "cell_type": "code",
   "execution_count": null,
   "metadata": {},
   "outputs": [],
   "source": []
  }
 ],
 "metadata": {
  "kernelspec": {
   "display_name": "cv",
   "language": "python",
   "name": "python3"
  },
  "language_info": {
   "codemirror_mode": {
    "name": "ipython",
    "version": 3
   },
   "file_extension": ".py",
   "mimetype": "text/x-python",
   "name": "python",
   "nbconvert_exporter": "python",
   "pygments_lexer": "ipython3",
   "version": "3.9.16"
  }
 },
 "nbformat": 4,
 "nbformat_minor": 2
}
