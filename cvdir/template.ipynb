{
 "cells": [
  {
   "cell_type": "code",
   "execution_count": 1,
   "metadata": {},
   "outputs": [],
   "source": [
    "import sys\n",
    "import numpy as np\n",
    "import cv2"
   ]
  },
  {
   "cell_type": "code",
   "execution_count": 5,
   "metadata": {},
   "outputs": [],
   "source": [
    "img = cv2.imread('./img/circuit.bmp', cv2.IMREAD_COLOR)\n",
    "templ = cv2.imread('./img/crystal.bmp', cv2.IMREAD_COLOR)"
   ]
  },
  {
   "cell_type": "code",
   "execution_count": 12,
   "metadata": {},
   "outputs": [],
   "source": [
    "img2 = cv2.add(img, (50, 50, 50))"
   ]
  },
  {
   "cell_type": "code",
   "execution_count": 13,
   "metadata": {},
   "outputs": [],
   "source": [
    "cv2.imshow('img', img)\n",
    "cv2.imshow('img2', img2)\n",
    "cv2.waitKey()\n",
    "cv2.destroyAllWindows()"
   ]
  },
  {
   "cell_type": "code",
   "execution_count": 14,
   "metadata": {},
   "outputs": [],
   "source": [
    "noise = np.zeros(img.shape, np.int32)\n",
    "cv2.randn(noise, 0, 10)\n",
    "img = cv2.add(img, noise, dtype=cv2.CV_8UC3)"
   ]
  },
  {
   "cell_type": "code",
   "execution_count": 15,
   "metadata": {},
   "outputs": [],
   "source": [
    "res = cv2.matchTemplate(img, templ, cv2.TM_CCOEFF_NORMED)\n",
    "res_norm = cv2.normalize(res, None, 0, 255, cv2.NORM_MINMAX, cv2.CV_8U)"
   ]
  },
  {
   "cell_type": "code",
   "execution_count": 16,
   "metadata": {},
   "outputs": [
    {
     "name": "stdout",
     "output_type": "stream",
     "text": [
      "maxv: 0.9956192970275879\n"
     ]
    }
   ],
   "source": [
    "_, maxv, _, maxloc = cv2.minMaxLoc(res)\n",
    "print('maxv:', maxv)"
   ]
  },
  {
   "cell_type": "code",
   "execution_count": 17,
   "metadata": {},
   "outputs": [
    {
     "data": {
      "text/plain": [
       "array([[[ 55,  62,  12],\n",
       "        [ 52,  60,  12],\n",
       "        [ 47,  56,   9],\n",
       "        ...,\n",
       "        [ 68,  77,  62],\n",
       "        [ 76,  77,  60],\n",
       "        [ 64,  80,  60]],\n",
       "\n",
       "       [[ 45,  62,  12],\n",
       "        [ 61,  63,  14],\n",
       "        [ 51,  62,  11],\n",
       "        ...,\n",
       "        [104, 149, 155],\n",
       "        [103, 149, 152],\n",
       "        [108, 147, 148]],\n",
       "\n",
       "       [[ 68,  63,  15],\n",
       "        [ 59,  63,  11],\n",
       "        [ 49,  63,  12],\n",
       "        ...,\n",
       "        [110, 174, 187],\n",
       "        [116, 170, 185],\n",
       "        [109, 171, 185]],\n",
       "\n",
       "       ...,\n",
       "\n",
       "       [[ 67,  74,  10],\n",
       "        [ 65,  71,   6],\n",
       "        [ 68,  72,  13],\n",
       "        ...,\n",
       "        [145, 156, 173],\n",
       "        [140, 133, 146],\n",
       "        [116, 110, 125]],\n",
       "\n",
       "       [[ 62,  77,  13],\n",
       "        [ 48,  73,   8],\n",
       "        [ 65,  76,  17],\n",
       "        ...,\n",
       "        [255, 255, 255],\n",
       "        [145, 167, 185],\n",
       "        [ 75, 104, 136]],\n",
       "\n",
       "       [[ 56,  72,  10],\n",
       "        [ 73,  77,  14],\n",
       "        [ 58,  77,  18],\n",
       "        ...,\n",
       "        [156, 138, 162],\n",
       "        [ 80,  82, 104],\n",
       "        [ 75,  71,  97]]], dtype=uint8)"
      ]
     },
     "execution_count": 17,
     "metadata": {},
     "output_type": "execute_result"
    }
   ],
   "source": [
    "(th, tw) = templ.shape[:2]\n",
    "cv2.rectangle(img, maxloc, (maxloc[0] + tw, maxloc[1] + th), (0, 0, 255), 2)"
   ]
  },
  {
   "cell_type": "code",
   "execution_count": 18,
   "metadata": {},
   "outputs": [],
   "source": [
    "cv2.imshow('templ', templ)\n",
    "cv2.imshow('res_norm', res_norm)\n",
    "cv2.imshow('img', img)\n",
    "cv2.waitKey()\n",
    "cv2.destroyAllWindows()"
   ]
  },
  {
   "cell_type": "code",
   "execution_count": 26,
   "metadata": {},
   "outputs": [],
   "source": [
    "import sys\n",
    "import numpy as np\n",
    "import cv2"
   ]
  },
  {
   "cell_type": "code",
   "execution_count": 40,
   "metadata": {},
   "outputs": [],
   "source": [
    "img = cv2.imread('./img/00041000_test.jpg', cv2.IMREAD_COLOR)\n",
    "templ = cv2.imread('./img/defect_00041000_8.jpg', cv2.IMREAD_COLOR)"
   ]
  },
  {
   "cell_type": "code",
   "execution_count": 41,
   "metadata": {},
   "outputs": [],
   "source": [
    "noise = np.zeros(img.shape, np.int32)\n",
    "cv2.randn(noise, 0, 10)\n",
    "img = cv2.add(img, noise, dtype=cv2.CV_8UC3)"
   ]
  },
  {
   "cell_type": "code",
   "execution_count": 42,
   "metadata": {},
   "outputs": [],
   "source": [
    "res = cv2.matchTemplate(img, templ, cv2.TM_CCOEFF_NORMED)\n",
    "res_norm = cv2.normalize(res, None, 0, 255, cv2.NORM_MINMAX, cv2.CV_8U)"
   ]
  },
  {
   "cell_type": "code",
   "execution_count": 43,
   "metadata": {},
   "outputs": [
    {
     "name": "stdout",
     "output_type": "stream",
     "text": [
      "maxv: 0.9994532465934753\n"
     ]
    }
   ],
   "source": [
    "_, maxv, _, maxloc = cv2.minMaxLoc(res)\n",
    "print('maxv:', maxv)"
   ]
  },
  {
   "cell_type": "code",
   "execution_count": 44,
   "metadata": {},
   "outputs": [
    {
     "data": {
      "text/plain": [
       "array([[[  4,   0,   0],\n",
       "        [  9,   0,   0],\n",
       "        [  0,   0,   0],\n",
       "        ...,\n",
       "        [  2,   0,   0],\n",
       "        [  4,   0,   0],\n",
       "        [  8,   0,   0]],\n",
       "\n",
       "       [[  0,   0,   0],\n",
       "        [  0,   0,   0],\n",
       "        [ 15,   0,   0],\n",
       "        ...,\n",
       "        [  5,   0,   0],\n",
       "        [  0,   0,   0],\n",
       "        [ 16,   0,   0]],\n",
       "\n",
       "       [[  0,   0,   0],\n",
       "        [  3,   0,   0],\n",
       "        [  8,   0,   0],\n",
       "        ...,\n",
       "        [  0,   0,   0],\n",
       "        [ 15,   0,   0],\n",
       "        [  0,   0,   0]],\n",
       "\n",
       "       ...,\n",
       "\n",
       "       [[255, 255, 255],\n",
       "        [252, 255, 255],\n",
       "        [254, 255, 255],\n",
       "        ...,\n",
       "        [236, 255, 255],\n",
       "        [255, 255, 255],\n",
       "        [255, 255, 255]],\n",
       "\n",
       "       [[255, 255, 255],\n",
       "        [249, 255, 255],\n",
       "        [248, 255, 255],\n",
       "        ...,\n",
       "        [246, 255, 255],\n",
       "        [255, 255, 255],\n",
       "        [246, 255, 255]],\n",
       "\n",
       "       [[255, 255, 255],\n",
       "        [242, 255, 255],\n",
       "        [255, 255, 255],\n",
       "        ...,\n",
       "        [249, 255, 255],\n",
       "        [254, 255, 255],\n",
       "        [252, 255, 255]]], dtype=uint8)"
      ]
     },
     "execution_count": 44,
     "metadata": {},
     "output_type": "execute_result"
    }
   ],
   "source": [
    "(th, tw) = templ.shape[:2]\n",
    "cv2.rectangle(img, maxloc, (maxloc[0] + tw, maxloc[1] + th), (0, 0, 255), 2)"
   ]
  },
  {
   "cell_type": "code",
   "execution_count": 45,
   "metadata": {},
   "outputs": [],
   "source": [
    "cv2.imshow('templ', templ)\n",
    "cv2.imshow('res_norm', res_norm)\n",
    "cv2.imshow('img', img)\n",
    "cv2.waitKey()\n",
    "cv2.destroyAllWindows()"
   ]
  },
  {
   "cell_type": "code",
   "execution_count": 30,
   "metadata": {},
   "outputs": [],
   "source": [
    "import sys\n",
    "import numpy as np\n",
    "import cv2"
   ]
  },
  {
   "cell_type": "code",
   "execution_count": 31,
   "metadata": {},
   "outputs": [
    {
     "data": {
      "text/plain": [
       "(1586, 3034, 3)"
      ]
     },
     "execution_count": 31,
     "metadata": {},
     "output_type": "execute_result"
    }
   ],
   "source": [
    "img = cv2.imread('./img/01_missing_hole_01.jpg', cv2.IMREAD_COLOR)\n",
    "img.shape"
   ]
  },
  {
   "cell_type": "code",
   "execution_count": 32,
   "metadata": {},
   "outputs": [],
   "source": [
    "img = cv2.resize(img, (600, 300))"
   ]
  },
  {
   "cell_type": "code",
   "execution_count": 33,
   "metadata": {},
   "outputs": [
    {
     "name": "stdout",
     "output_type": "stream",
     "text": [
      "486 500 240 251\n"
     ]
    }
   ],
   "source": [
    "print(int(2459 * (600 / 3034)), int(2530 * (600 / 3034)), int(1274 * (300 / 1586)), int(1329 * (300 / 1586)))"
   ]
  },
  {
   "cell_type": "code",
   "execution_count": 34,
   "metadata": {},
   "outputs": [],
   "source": [
    "templ = img[240:251, 486:500, :]"
   ]
  },
  {
   "cell_type": "code",
   "execution_count": 35,
   "metadata": {},
   "outputs": [],
   "source": [
    "cv2.imshow('img', img)\n",
    "cv2.imshow('templ', templ)\n",
    "cv2.waitKey()\n",
    "cv2.destroyAllWindows()"
   ]
  },
  {
   "cell_type": "code",
   "execution_count": 36,
   "metadata": {},
   "outputs": [],
   "source": [
    "noise = np.zeros(img.shape, np.int32)\n",
    "cv2.randn(noise, 0, 10)\n",
    "img = cv2.add(img, noise, dtype=cv2.CV_8UC3)"
   ]
  },
  {
   "cell_type": "code",
   "execution_count": 37,
   "metadata": {},
   "outputs": [],
   "source": [
    "res = cv2.matchTemplate(img, templ, cv2.TM_CCOEFF_NORMED)\n",
    "res_norm = cv2.normalize(res, None, 0, 255, cv2.NORM_MINMAX, cv2.CV_8U)"
   ]
  },
  {
   "cell_type": "code",
   "execution_count": 38,
   "metadata": {},
   "outputs": [
    {
     "name": "stdout",
     "output_type": "stream",
     "text": [
      "maxv: 0.9902377724647522\n"
     ]
    }
   ],
   "source": [
    "_, maxv, _, maxloc = cv2.minMaxLoc(res)\n",
    "print('maxv:', maxv)"
   ]
  },
  {
   "cell_type": "code",
   "execution_count": 39,
   "metadata": {},
   "outputs": [
    {
     "data": {
      "text/plain": [
       "array([[[124, 141, 151],\n",
       "        [131, 140, 149],\n",
       "        [153, 139, 149],\n",
       "        ...,\n",
       "        [161, 149, 156],\n",
       "        [160, 150, 156],\n",
       "        [141, 148, 154]],\n",
       "\n",
       "       [[117, 136, 146],\n",
       "        [131, 140, 151],\n",
       "        [144, 137, 147],\n",
       "        ...,\n",
       "        [160, 148, 153],\n",
       "        [135, 150, 156],\n",
       "        [155, 152, 158]],\n",
       "\n",
       "       [[123, 134, 144],\n",
       "        [131, 133, 143],\n",
       "        [134, 137, 144],\n",
       "        ...,\n",
       "        [142, 150, 154],\n",
       "        [153, 148, 153],\n",
       "        [159, 149, 154]],\n",
       "\n",
       "       ...,\n",
       "\n",
       "       [[132, 141, 147],\n",
       "        [123, 134, 140],\n",
       "        [133, 136, 143],\n",
       "        ...,\n",
       "        [138, 143, 145],\n",
       "        [162, 147, 150],\n",
       "        [154, 149, 151]],\n",
       "\n",
       "       [[146, 138, 145],\n",
       "        [153, 136, 143],\n",
       "        [167, 138, 145],\n",
       "        ...,\n",
       "        [153, 150, 155],\n",
       "        [165, 146, 151],\n",
       "        [160, 150, 155]],\n",
       "\n",
       "       [[159, 137, 143],\n",
       "        [140, 137, 143],\n",
       "        [148, 137, 144],\n",
       "        ...,\n",
       "        [156, 146, 151],\n",
       "        [163, 152, 157],\n",
       "        [163, 146, 151]]], dtype=uint8)"
      ]
     },
     "execution_count": 39,
     "metadata": {},
     "output_type": "execute_result"
    }
   ],
   "source": [
    "(th, tw) = templ.shape[:2]\n",
    "cv2.rectangle(img, maxloc, (maxloc[0] + tw, maxloc[1] + th), (0, 0, 255), 2)"
   ]
  },
  {
   "cell_type": "code",
   "execution_count": 40,
   "metadata": {},
   "outputs": [],
   "source": [
    "cv2.imshow('templ', templ)\n",
    "cv2.imshow('res_norm', res_norm)\n",
    "cv2.imshow('img', img)\n",
    "cv2.waitKey()\n",
    "cv2.destroyAllWindows()"
   ]
  },
  {
   "cell_type": "code",
   "execution_count": null,
   "metadata": {},
   "outputs": [],
   "source": []
  }
 ],
 "metadata": {
  "kernelspec": {
   "display_name": "cv",
   "language": "python",
   "name": "python3"
  },
  "language_info": {
   "codemirror_mode": {
    "name": "ipython",
    "version": 3
   },
   "file_extension": ".py",
   "mimetype": "text/x-python",
   "name": "python",
   "nbconvert_exporter": "python",
   "pygments_lexer": "ipython3",
   "version": "3.9.16"
  }
 },
 "nbformat": 4,
 "nbformat_minor": 2
}
