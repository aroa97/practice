{
 "cells": [
  {
   "cell_type": "code",
   "execution_count": 1,
   "metadata": {},
   "outputs": [],
   "source": [
    "import cv2\n",
    "import numpy as np\n",
    "import matplotlib.pyplot as plt"
   ]
  },
  {
   "cell_type": "code",
   "execution_count": 15,
   "metadata": {},
   "outputs": [],
   "source": [
    "win_name = 'back_projection'\n",
    "img = cv2.imread('./img/PCB-Manufacturing-Defects.png')\n",
    "img = cv2.resize(img, (500, 250))\n",
    "hsv_img = cv2.cvtColor(img, cv2.COLOR_BGR2HSV)\n",
    "draw = img.copy()"
   ]
  },
  {
   "cell_type": "code",
   "execution_count": 16,
   "metadata": {},
   "outputs": [],
   "source": [
    "#--⑤ 역투영된 결과를 마스킹해서 결과를 출력하는 공통함수\n",
    "def masking(bp, win_name):\n",
    "    disc = cv2.getStructuringElement(cv2.MORPH_ELLIPSE,(5,5))\n",
    "    cv2.filter2D(bp,-1,disc,bp)\n",
    "    _, mask = cv2.threshold(bp, 1, 255, cv2.THRESH_BINARY)\n",
    "    result = cv2.bitwise_and(img, img, mask=mask)\n",
    "    cv2.imshow(win_name, result)"
   ]
  },
  {
   "cell_type": "code",
   "execution_count": 17,
   "metadata": {},
   "outputs": [],
   "source": [
    "#--⑥ 직접 구현한 역투영 함수\n",
    "def backProject_manual(hist_roi):\n",
    "    #--⑦ 전체 영상에 대한 H,S 히스토그램 계산\n",
    "    hist_img = cv2.calcHist([hsv_img], [0,1], None,[180,256], [0,180,0,256])\n",
    "    #--⑧ 선택영역과 전체 영상에 대한 히스토그램 그램 비율계산\n",
    "    hist_rate = hist_roi/ (hist_img + 1)\n",
    "    #--⑨ 비율에 맞는 픽셀 값 매핑\n",
    "    h,s,v = cv2.split(hsv_img)\n",
    "    bp = hist_rate[h.ravel(), s.ravel()]\n",
    "\n",
    "    bp = np.minimum(bp, 1)\n",
    "    bp = bp.reshape(hsv_img.shape[:2])\n",
    "    cv2.normalize(bp,bp, 0, 255, cv2.NORM_MINMAX)\n",
    "    bp = bp.astype(np.uint8)\n",
    "    #--⑩ 역 투영 결과로 마스킹해서 결과 출력\n",
    "    masking(bp,'result_manual')"
   ]
  },
  {
   "cell_type": "code",
   "execution_count": 18,
   "metadata": {},
   "outputs": [],
   "source": [
    "# OpenCV API로 구현한 함수 ---⑪ \n",
    "def backProject_cv(hist_roi):\n",
    "    # 역투영 함수 호출 ---⑫\n",
    "    bp = cv2.calcBackProject([hsv_img], [0, 1], hist_roi,  [0, 180, 0, 256], 1)\n",
    "    # 역 투영 결과로 마스킹해서 결과 출력 ---⑬ \n",
    "    masking(bp,'result_cv')"
   ]
  },
  {
   "cell_type": "code",
   "execution_count": 20,
   "metadata": {},
   "outputs": [],
   "source": [
    "# ROI 선택 ---①\n",
    "(x,y,w,h) = cv2.selectROI(win_name, img, False)\n",
    "if w > 0 and h > 0:\n",
    "    #roi = draw[y:y+h, x:x+w]\n",
    "    roi = img[y:y+h, x:x+w]\n",
    "    cv2.rectangle(draw, (x, y), (x+w, y+h), (0,0,255), 2)\n",
    "    #--② 선택한 ROI를 HSV 컬러 스페이스로 변경\n",
    "    hsv_roi = cv2.cvtColor(roi, cv2.COLOR_BGR2HSV)\n",
    "    #--③ H,S 채널에 대한 히스토그램 계산\n",
    "    hist_roi = cv2.calcHist([hsv_roi],[0, 1], None, [180, 256], [0, 180, 0, 256] )\n",
    "    #--④ ROI의 히스토그램을 매뉴얼 구현함수와 OpenCV 이용하는 함수에 각각 전달\n",
    "    backProject_manual(hist_roi)\n",
    "    backProject_cv(hist_roi)\n",
    "cv2.imshow(win_name, draw)\n",
    "cv2.waitKey()\n",
    "cv2.destroyAllWindows()"
   ]
  },
  {
   "cell_type": "code",
   "execution_count": null,
   "metadata": {},
   "outputs": [],
   "source": []
  }
 ],
 "metadata": {
  "kernelspec": {
   "display_name": "cv",
   "language": "python",
   "name": "python3"
  },
  "language_info": {
   "codemirror_mode": {
    "name": "ipython",
    "version": 3
   },
   "file_extension": ".py",
   "mimetype": "text/x-python",
   "name": "python",
   "nbconvert_exporter": "python",
   "pygments_lexer": "ipython3",
   "version": "3.9.16"
  }
 },
 "nbformat": 4,
 "nbformat_minor": 2
}
