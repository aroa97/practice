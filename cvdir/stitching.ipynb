{
 "cells": [
  {
   "cell_type": "code",
   "execution_count": 1,
   "metadata": {},
   "outputs": [],
   "source": [
    "import numpy as np\n",
    "import cv2"
   ]
  },
  {
   "cell_type": "code",
   "execution_count": 2,
   "metadata": {},
   "outputs": [],
   "source": [
    "img = cv2.imread('./img/01_missing_hole_01.jpg')\n",
    "img = cv2.resize(img, (800, 400), interpolation=cv2.INTER_LANCZOS4)"
   ]
  },
  {
   "cell_type": "code",
   "execution_count": 3,
   "metadata": {},
   "outputs": [],
   "source": [
    "cv2.imshow('img', img)\n",
    "cv2.waitKey()\n",
    "cv2.destroyAllWindows()"
   ]
  },
  {
   "cell_type": "code",
   "execution_count": 21,
   "metadata": {},
   "outputs": [],
   "source": [
    "imgs = []"
   ]
  },
  {
   "cell_type": "code",
   "execution_count": 22,
   "metadata": {},
   "outputs": [],
   "source": [
    "img1 = img[:,:300,:]\n",
    "img2 = img[:,100:500,:]\n",
    "img3 = img[:,400:,:]"
   ]
  },
  {
   "cell_type": "code",
   "execution_count": 23,
   "metadata": {},
   "outputs": [],
   "source": [
    "cv2.imshow('img1', img1)\n",
    "cv2.imshow('img2', img2)\n",
    "cv2.imshow('img3', img3)\n",
    "cv2.waitKey()\n",
    "cv2.destroyAllWindows()"
   ]
  },
  {
   "cell_type": "code",
   "execution_count": 24,
   "metadata": {},
   "outputs": [],
   "source": [
    "imgs.append(img1)\n",
    "imgs.append(img2)\n",
    "imgs.append(img3)"
   ]
  },
  {
   "cell_type": "code",
   "execution_count": 25,
   "metadata": {},
   "outputs": [
    {
     "data": {
      "text/plain": [
       "[array([[[139, 138, 148],\n",
       "         [139, 138, 147],\n",
       "         [140, 137, 147],\n",
       "         ...,\n",
       "         [154, 151, 158],\n",
       "         [153, 150, 157],\n",
       "         [152, 150, 156]],\n",
       " \n",
       "        [[137, 137, 147],\n",
       "         [138, 138, 147],\n",
       "         [134, 135, 145],\n",
       "         ...,\n",
       "         [148, 149, 153],\n",
       "         [147, 148, 152],\n",
       "         [145, 146, 150]],\n",
       " \n",
       "        [[139, 138, 148],\n",
       "         [137, 138, 148],\n",
       "         [135, 135, 145],\n",
       "         ...,\n",
       "         [146, 149, 150],\n",
       "         [146, 148, 151],\n",
       "         [148, 150, 155]],\n",
       " \n",
       "        ...,\n",
       " \n",
       "        [[144, 141, 147],\n",
       "         [140, 137, 143],\n",
       "         [145, 138, 145],\n",
       "         ...,\n",
       "         [155, 154, 158],\n",
       "         [156, 153, 158],\n",
       "         [156, 153, 157]],\n",
       " \n",
       "        [[146, 138, 145],\n",
       "         [148, 140, 147],\n",
       "         [146, 139, 146],\n",
       "         ...,\n",
       "         [151, 151, 154],\n",
       "         [156, 152, 157],\n",
       "         [158, 153, 158]],\n",
       " \n",
       "        [[142, 137, 144],\n",
       "         [144, 139, 145],\n",
       "         [148, 141, 148],\n",
       "         ...,\n",
       "         [155, 152, 158],\n",
       "         [154, 150, 156],\n",
       "         [152, 147, 154]]], dtype=uint8),\n",
       " array([[[146, 144, 150],\n",
       "         [145, 143, 149],\n",
       "         [145, 145, 151],\n",
       "         ...,\n",
       "         [158, 156, 163],\n",
       "         [156, 155, 159],\n",
       "         [154, 153, 157]],\n",
       " \n",
       "        [[136, 138, 142],\n",
       "         [142, 142, 148],\n",
       "         [144, 147, 152],\n",
       "         ...,\n",
       "         [155, 154, 158],\n",
       "         [155, 153, 157],\n",
       "         [154, 152, 156]],\n",
       " \n",
       "        [[137, 147, 150],\n",
       "         [134, 143, 144],\n",
       "         [140, 149, 152],\n",
       "         ...,\n",
       "         [157, 157, 161],\n",
       "         [151, 151, 155],\n",
       "         [153, 154, 158]],\n",
       " \n",
       "        ...,\n",
       " \n",
       "        [[153, 146, 155],\n",
       "         [153, 150, 155],\n",
       "         [144, 140, 145],\n",
       "         ...,\n",
       "         [154, 155, 154],\n",
       "         [157, 155, 155],\n",
       "         [154, 151, 151]],\n",
       " \n",
       "        [[153, 144, 154],\n",
       "         [149, 144, 152],\n",
       "         [151, 147, 153],\n",
       "         ...,\n",
       "         [156, 154, 154],\n",
       "         [158, 156, 156],\n",
       "         [151, 149, 149]],\n",
       " \n",
       "        [[154, 146, 156],\n",
       "         [153, 146, 156],\n",
       "         [153, 150, 155],\n",
       "         ...,\n",
       "         [159, 154, 159],\n",
       "         [155, 152, 154],\n",
       "         [153, 151, 152]]], dtype=uint8),\n",
       " array([[[155, 152, 157],\n",
       "         [153, 154, 158],\n",
       "         [155, 154, 158],\n",
       "         ...,\n",
       "         [153, 149, 155],\n",
       "         [152, 148, 154],\n",
       "         [150, 146, 152]],\n",
       " \n",
       "        [[150, 151, 155],\n",
       "         [154, 155, 159],\n",
       "         [153, 152, 156],\n",
       "         ...,\n",
       "         [154, 150, 156],\n",
       "         [149, 145, 151],\n",
       "         [155, 151, 157]],\n",
       " \n",
       "        [[152, 154, 154],\n",
       "         [150, 151, 154],\n",
       "         [149, 150, 153],\n",
       "         ...,\n",
       "         [157, 153, 159],\n",
       "         [152, 148, 155],\n",
       "         [151, 147, 153]],\n",
       " \n",
       "        ...,\n",
       " \n",
       "        [[155, 151, 155],\n",
       "         [155, 152, 156],\n",
       "         [159, 154, 159],\n",
       "         ...,\n",
       "         [155, 151, 157],\n",
       "         [156, 152, 156],\n",
       "         [152, 146, 150]],\n",
       " \n",
       "        [[152, 148, 153],\n",
       "         [155, 151, 156],\n",
       "         [156, 152, 157],\n",
       "         ...,\n",
       "         [149, 145, 150],\n",
       "         [155, 149, 154],\n",
       "         [152, 146, 151]],\n",
       " \n",
       "        [[155, 151, 156],\n",
       "         [158, 154, 159],\n",
       "         [156, 152, 158],\n",
       "         ...,\n",
       "         [160, 154, 159],\n",
       "         [153, 147, 151],\n",
       "         [151, 146, 149]]], dtype=uint8)]"
      ]
     },
     "execution_count": 25,
     "metadata": {},
     "output_type": "execute_result"
    }
   ],
   "source": [
    "imgs"
   ]
  },
  {
   "cell_type": "code",
   "execution_count": 26,
   "metadata": {},
   "outputs": [],
   "source": [
    "stitcher = cv2.Stitcher_create()"
   ]
  },
  {
   "cell_type": "code",
   "execution_count": 27,
   "metadata": {},
   "outputs": [],
   "source": [
    "status, dst = stitcher.stitch(imgs)"
   ]
  },
  {
   "cell_type": "code",
   "execution_count": 30,
   "metadata": {},
   "outputs": [],
   "source": [
    "cv2.imshow('img1', img1)\n",
    "cv2.imshow('img2', img2)\n",
    "cv2.imshow('img3', img3)\n",
    "cv2.imshow('dst', dst)\n",
    "cv2.waitKey()\n",
    "cv2.destroyAllWindows()"
   ]
  },
  {
   "cell_type": "code",
   "execution_count": null,
   "metadata": {},
   "outputs": [],
   "source": []
  }
 ],
 "metadata": {
  "kernelspec": {
   "display_name": "cv",
   "language": "python",
   "name": "python3"
  },
  "language_info": {
   "codemirror_mode": {
    "name": "ipython",
    "version": 3
   },
   "file_extension": ".py",
   "mimetype": "text/x-python",
   "name": "python",
   "nbconvert_exporter": "python",
   "pygments_lexer": "ipython3",
   "version": "3.9.16"
  }
 },
 "nbformat": 4,
 "nbformat_minor": 2
}
