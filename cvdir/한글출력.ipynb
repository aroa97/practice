{
 "cells": [
  {
   "cell_type": "code",
   "execution_count": 1,
   "metadata": {},
   "outputs": [],
   "source": [
    "import numpy as np, cv2"
   ]
  },
  {
   "cell_type": "code",
   "execution_count": 2,
   "metadata": {},
   "outputs": [],
   "source": [
    "img1 = np.zeros( ( 200,400), dtype=np.uint8)\n",
    "img2 = np.zeros( ( 200,400), dtype=np.uint8)"
   ]
  },
  {
   "cell_type": "code",
   "execution_count": 3,
   "metadata": {},
   "outputs": [],
   "source": [
    "img1[:, :200] = 255         # 왼쪽은 흰색(255), 오른쪽은 검정색(0)\n",
    "img2[100:200, :] = 255      # 위쪽은 검정색(0), 아래쪽은 흰색(255)"
   ]
  },
  {
   "cell_type": "code",
   "execution_count": 4,
   "metadata": {},
   "outputs": [],
   "source": [
    "import ctypes\n",
    "# OpenCV 창 이름을 변경하는 함수\n",
    "\n",
    "def set_window_title(window_name, title):\n",
    "    # 윈도우에서 사용할 수 있는 창 핸들을 가져옴\n",
    "    hwnd = ctypes.windll.user32.FindWindowW(None, window_name)\n",
    "    if hwnd != 0:\n",
    "        # 창 이름을 변경\n",
    "        ctypes.windll.user32.SetWindowTextW(hwnd, title)"
   ]
  },
  {
   "cell_type": "code",
   "execution_count": 7,
   "metadata": {},
   "outputs": [],
   "source": [
    "window_name = 'Test Window'\n",
    "cv2.imshow(window_name, img1)\n",
    "set_window_title(window_name, \"한글 창 이름\")\n",
    "# 대기 후 창 닫기\n",
    "cv2.waitKey(0)\n",
    "cv2.destroyAllWindows()"
   ]
  },
  {
   "cell_type": "code",
   "execution_count": 9,
   "metadata": {},
   "outputs": [],
   "source": [
    "cv2.imshow(window_name, img1)\n",
    "set_window_title(window_name, \"이미지1\")\n",
    "cv2.imshow(window_name + '2', img2)\n",
    "set_window_title(window_name + '2', \"이미지2\")\n",
    "\n",
    "cv2.waitKey(0)\n",
    "cv2.destroyAllWindows()"
   ]
  },
  {
   "cell_type": "code",
   "execution_count": null,
   "metadata": {},
   "outputs": [],
   "source": []
  }
 ],
 "metadata": {
  "kernelspec": {
   "display_name": "cv",
   "language": "python",
   "name": "python3"
  },
  "language_info": {
   "codemirror_mode": {
    "name": "ipython",
    "version": 3
   },
   "file_extension": ".py",
   "mimetype": "text/x-python",
   "name": "python",
   "nbconvert_exporter": "python",
   "pygments_lexer": "ipython3",
   "version": "3.9.16"
  }
 },
 "nbformat": 4,
 "nbformat_minor": 2
}
