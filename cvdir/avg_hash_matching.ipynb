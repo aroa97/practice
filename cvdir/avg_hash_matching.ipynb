{
 "cells": [
  {
   "cell_type": "code",
   "execution_count": 1,
   "metadata": {},
   "outputs": [],
   "source": [
    "import cv2\n",
    "import numpy as np\n",
    "import glob"
   ]
  },
  {
   "cell_type": "code",
   "execution_count": 16,
   "metadata": {},
   "outputs": [],
   "source": [
    "# 영상 읽기 및 표시\n",
    "img = cv2.imread('./img/pistol.jpg')\n",
    "cv2.imshow('query', img)\n",
    "cv2.waitKey()\n",
    "cv2.destroyAllWindows()"
   ]
  },
  {
   "cell_type": "code",
   "execution_count": 17,
   "metadata": {},
   "outputs": [],
   "source": [
    "# 비교할 영상들이 있는 경로 ---①\n",
    "search_dir = './data/caltech-101'\n",
    "\n",
    "# 이미지를 16x16 크기의 평균 해쉬로 변환 ---②\n",
    "def img2hash(img):\n",
    "    gray = cv2.cvtColor(img, cv2.COLOR_BGR2GRAY)\n",
    "    gray = cv2.resize(gray, (16, 16))\n",
    "    avg = gray.mean()\n",
    "    bi = 1 * (gray > avg)\n",
    "    return bi"
   ]
  },
  {
   "cell_type": "code",
   "execution_count": 18,
   "metadata": {},
   "outputs": [],
   "source": [
    "# 해밍거리 측정 함수 ---③\n",
    "def hamming_distance(a, b):\n",
    "    a = a.reshape(1,-1)\n",
    "    b = b.reshape(1,-1)\n",
    "    # 같은 자리의 값이 서로 다른 것들의 합\n",
    "    distance = (a !=b).sum()\n",
    "    return distance"
   ]
  },
  {
   "cell_type": "code",
   "execution_count": 20,
   "metadata": {},
   "outputs": [
    {
     "name": "stdout",
     "output_type": "stream",
     "text": [
      "./data/caltech-101\\BACKGROUND_Google\\image_0398.jpg 0.234375\n",
      "./data/caltech-101\\binocular\\image_0011.jpg 0.23828125\n",
      "./data/caltech-101\\Faces_easy\\image_0419.jpg 0.2421875\n",
      "./data/caltech-101\\revolver\\image_0001.jpg 0.2421875\n",
      "./data/caltech-101\\revolver\\image_0015.jpg 0.24609375\n",
      "./data/caltech-101\\revolver\\image_0017.jpg 0.23828125\n",
      "./data/caltech-101\\revolver\\image_0018.jpg 0.1953125\n",
      "./data/caltech-101\\revolver\\image_0019.jpg 0.23828125\n",
      "./data/caltech-101\\revolver\\image_0021.jpg 0.171875\n",
      "./data/caltech-101\\revolver\\image_0022.jpg 0.21484375\n",
      "./data/caltech-101\\revolver\\image_0023.jpg 0.21875\n",
      "./data/caltech-101\\revolver\\image_0031.jpg 0.21875\n",
      "./data/caltech-101\\revolver\\image_0033.jpg 0.2421875\n",
      "./data/caltech-101\\revolver\\image_0034.jpg 0.23046875\n",
      "./data/caltech-101\\revolver\\image_0037.jpg 0.2421875\n",
      "./data/caltech-101\\revolver\\image_0064.jpg 0.18359375\n",
      "./data/caltech-101\\revolver\\image_0068.jpg 0.24609375\n",
      "./data/caltech-101\\revolver\\image_0072.jpg 0.203125\n",
      "./data/caltech-101\\revolver\\image_0081.jpg 0.23046875\n"
     ]
    }
   ],
   "source": [
    "# 권총 영상의 해쉬 구하기 ---④\n",
    "query_hash = img2hash(img)\n",
    "\n",
    "# 이미지 데이타 셋 디렉토리의 모든 영상 파일 경로 ---⑤\n",
    "img_path = glob.glob(search_dir+'/**/*.jpg')\n",
    "for path in img_path:\n",
    "    # 데이타 셋 영상 한개 읽어서 표시 ---⑥\n",
    "    img = cv2.imread(path)\n",
    "    cv2.imshow('searching...', img)\n",
    "    cv2.waitKey(5)\n",
    "    # 데이타 셋 영상 한개의 해시  ---⑦\n",
    "    a_hash = img2hash(img)\n",
    "    # 해밍 거리 산출 ---⑧\n",
    "    dst = hamming_distance(query_hash, a_hash)\n",
    "    if dst/256 < 0.25: # 해밍거리 25% 이내만 출력 ---⑨\n",
    "        print(path, dst/256)\n",
    "        cv2.imshow(path, img)\n",
    "\n",
    "cv2.imshow('query', img)\n",
    "cv2.destroyWindow('searching...')\n",
    "cv2.waitKey(0)\n",
    "cv2.destroyAllWindows()"
   ]
  },
  {
   "cell_type": "code",
   "execution_count": null,
   "metadata": {},
   "outputs": [],
   "source": []
  }
 ],
 "metadata": {
  "kernelspec": {
   "display_name": "cv",
   "language": "python",
   "name": "python3"
  },
  "language_info": {
   "codemirror_mode": {
    "name": "ipython",
    "version": 3
   },
   "file_extension": ".py",
   "mimetype": "text/x-python",
   "name": "python",
   "nbconvert_exporter": "python",
   "pygments_lexer": "ipython3",
   "version": "3.9.16"
  }
 },
 "nbformat": 4,
 "nbformat_minor": 2
}
