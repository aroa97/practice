{
 "cells": [
  {
   "cell_type": "code",
   "execution_count": 3,
   "metadata": {},
   "outputs": [],
   "source": [
    "import cv2\n",
    "import numpy as np\n",
    "import matplotlib.pylab as plt"
   ]
  },
  {
   "cell_type": "code",
   "execution_count": 16,
   "metadata": {},
   "outputs": [],
   "source": [
    "#--①이미지 읽어서 YUV 컬러스페이스로 변경\n",
    "img = cv2.imread('./img/PCB-Manufacturing-Defects.png')\n",
    "img = cv2.resize(img, (500, 250))\n",
    "img_yuv = cv2.cvtColor(img, cv2.COLOR_BGR2YUV)"
   ]
  },
  {
   "cell_type": "code",
   "execution_count": 17,
   "metadata": {},
   "outputs": [],
   "source": [
    "#--② 밝기 채널에 대해서 이퀄라이즈 적용\n",
    "img_eq = img_yuv.copy()\n",
    "img_eq[:,:,0] = cv2.equalizeHist(img_eq[:,:,0])\n",
    "img_eq = cv2.cvtColor(img_eq, cv2.COLOR_YUV2BGR)"
   ]
  },
  {
   "cell_type": "code",
   "execution_count": 18,
   "metadata": {},
   "outputs": [],
   "source": [
    "#--③ 밝기 채널에 대해서 CLAHE 적용\n",
    "img_clahe = img_yuv.copy()\n",
    "clahe = cv2.createCLAHE(clipLimit=2.0, tileGridSize=(8,8)) #CLAHE 생성\n",
    "img_clahe[:,:,0] = clahe.apply(img_clahe[:,:,0])           #CLAHE 적용\n",
    "img_clahe = cv2.cvtColor(img_clahe, cv2.COLOR_YUV2BGR)"
   ]
  },
  {
   "cell_type": "code",
   "execution_count": 19,
   "metadata": {},
   "outputs": [],
   "source": [
    "#--④ 결과 출력\n",
    "cv2.imshow('Before', img)\n",
    "cv2.imshow('CLAHE', img_clahe)\n",
    "cv2.imshow('equalizeHist', img_eq)\n",
    "cv2.waitKey()\n",
    "cv2.destroyAllWindows()"
   ]
  },
  {
   "cell_type": "code",
   "execution_count": null,
   "metadata": {},
   "outputs": [],
   "source": []
  }
 ],
 "metadata": {
  "kernelspec": {
   "display_name": "cv",
   "language": "python",
   "name": "python3"
  },
  "language_info": {
   "codemirror_mode": {
    "name": "ipython",
    "version": 3
   },
   "file_extension": ".py",
   "mimetype": "text/x-python",
   "name": "python",
   "nbconvert_exporter": "python",
   "pygments_lexer": "ipython3",
   "version": "3.9.16"
  }
 },
 "nbformat": 4,
 "nbformat_minor": 2
}
