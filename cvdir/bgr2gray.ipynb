{
 "cells": [
  {
   "cell_type": "code",
   "execution_count": 1,
   "metadata": {},
   "outputs": [],
   "source": [
    "import cv2\n",
    "import numpy as np"
   ]
  },
  {
   "cell_type": "code",
   "execution_count": 3,
   "metadata": {},
   "outputs": [],
   "source": [
    "img = cv2.imread('./img/girl.jpg')"
   ]
  },
  {
   "cell_type": "code",
   "execution_count": 4,
   "metadata": {},
   "outputs": [],
   "source": [
    "cv2.imshow('img', img)\n",
    "cv2.waitKey(0)\n",
    "cv2.destroyAllWindows()"
   ]
  },
  {
   "cell_type": "code",
   "execution_count": 5,
   "metadata": {},
   "outputs": [
    {
     "data": {
      "text/plain": [
       "(293, 406, 3)"
      ]
     },
     "execution_count": 5,
     "metadata": {},
     "output_type": "execute_result"
    }
   ],
   "source": [
    "img.shape"
   ]
  },
  {
   "cell_type": "code",
   "execution_count": 6,
   "metadata": {},
   "outputs": [
    {
     "data": {
      "text/plain": [
       "(array([[ 52,  47,  39, ...,  24,  31,  35],\n",
       "        [ 51,  47,  39, ...,  26,  32,  35],\n",
       "        [ 51,  46,  39, ...,  28,  33,  35],\n",
       "        ...,\n",
       "        [ 29,  38,  47, ..., 218, 221, 222],\n",
       "        [ 28,  37,  47, ..., 218, 222, 224],\n",
       "        [ 25,  36,  46, ..., 223, 226, 229]], dtype=uint8),\n",
       " array([[ 71,  68,  69, ...,  72,  76,  80],\n",
       "        [ 70,  68,  69, ...,  74,  77,  80],\n",
       "        [ 70,  67,  69, ...,  77,  78,  80],\n",
       "        ...,\n",
       "        [ 95, 104, 115, ..., 190, 191, 192],\n",
       "        [ 94, 104, 117, ..., 190, 192, 194],\n",
       "        [ 92, 103, 116, ..., 193, 196, 199]], dtype=uint8),\n",
       " array([[ 76,  70,  64, ...,  54,  59,  63],\n",
       "        [ 75,  70,  64, ...,  56,  60,  63],\n",
       "        [ 73,  68,  64, ...,  57,  61,  63],\n",
       "        ...,\n",
       "        [ 66,  75,  84, ..., 203, 202, 203],\n",
       "        [ 65,  75,  86, ..., 203, 203, 205],\n",
       "        [ 63,  74,  85, ..., 206, 207, 210]], dtype=uint8))"
      ]
     },
     "execution_count": 6,
     "metadata": {},
     "output_type": "execute_result"
    }
   ],
   "source": [
    "cv2.split(img) # b, g, r"
   ]
  },
  {
   "cell_type": "code",
   "execution_count": 7,
   "metadata": {},
   "outputs": [],
   "source": [
    "b,g,r = cv2.split(img)"
   ]
  },
  {
   "cell_type": "code",
   "execution_count": 9,
   "metadata": {},
   "outputs": [
    {
     "data": {
      "text/plain": [
       "array([[66.33333333, 61.66666667, 57.33333333, ..., 50.        ,\n",
       "        55.33333333, 59.33333333],\n",
       "       [65.33333333, 61.66666667, 57.33333333, ..., 52.        ,\n",
       "        56.33333333, 59.33333333],\n",
       "       [64.66666667, 60.33333333, 57.33333333, ..., 54.        ,\n",
       "        57.33333333, 59.33333333],\n",
       "       ...,\n",
       "       [63.33333333, 72.33333333, 82.        , ..., 33.        ,\n",
       "        34.        , 35.        ],\n",
       "       [62.33333333, 72.        , 83.33333333, ..., 33.        ,\n",
       "        35.        , 37.        ],\n",
       "       [60.        , 71.        , 82.33333333, ..., 36.66666667,\n",
       "        39.        , 42.        ]])"
      ]
     },
     "execution_count": 9,
     "metadata": {},
     "output_type": "execute_result"
    }
   ],
   "source": [
    "(b+g+r) / 3"
   ]
  },
  {
   "cell_type": "code",
   "execution_count": 10,
   "metadata": {},
   "outputs": [],
   "source": [
    "result = (b+g+r) / 3"
   ]
  },
  {
   "cell_type": "code",
   "execution_count": 11,
   "metadata": {},
   "outputs": [
    {
     "data": {
      "text/plain": [
       "dtype('float64')"
      ]
     },
     "execution_count": 11,
     "metadata": {},
     "output_type": "execute_result"
    }
   ],
   "source": [
    "result.dtype"
   ]
  },
  {
   "cell_type": "code",
   "execution_count": 13,
   "metadata": {},
   "outputs": [
    {
     "data": {
      "text/plain": [
       "(293, 406)"
      ]
     },
     "execution_count": 13,
     "metadata": {},
     "output_type": "execute_result"
    }
   ],
   "source": [
    "result.shape"
   ]
  },
  {
   "cell_type": "code",
   "execution_count": 12,
   "metadata": {},
   "outputs": [],
   "source": [
    "cv2.imshow('result', result)\n",
    "cv2.waitKey(0)\n",
    "cv2.destroyAllWindows()"
   ]
  },
  {
   "cell_type": "code",
   "execution_count": 14,
   "metadata": {},
   "outputs": [],
   "source": [
    "gray1 = ((b+g+r) / 3).astype(np.uint8)"
   ]
  },
  {
   "cell_type": "code",
   "execution_count": 15,
   "metadata": {},
   "outputs": [
    {
     "data": {
      "text/plain": [
       "(293, 406)"
      ]
     },
     "execution_count": 15,
     "metadata": {},
     "output_type": "execute_result"
    }
   ],
   "source": [
    "gray1.shape"
   ]
  },
  {
   "cell_type": "code",
   "execution_count": 16,
   "metadata": {},
   "outputs": [
    {
     "data": {
      "text/plain": [
       "array([[66, 61, 57, ..., 50, 55, 59],\n",
       "       [65, 61, 57, ..., 52, 56, 59],\n",
       "       [64, 60, 57, ..., 54, 57, 59],\n",
       "       ...,\n",
       "       [63, 72, 82, ..., 33, 34, 35],\n",
       "       [62, 72, 83, ..., 33, 35, 37],\n",
       "       [60, 71, 82, ..., 36, 39, 42]], dtype=uint8)"
      ]
     },
     "execution_count": 16,
     "metadata": {},
     "output_type": "execute_result"
    }
   ],
   "source": [
    "gray1"
   ]
  },
  {
   "cell_type": "code",
   "execution_count": 17,
   "metadata": {},
   "outputs": [],
   "source": [
    "cv2.imshow('gray1', gray1)\n",
    "cv2.waitKey(0)\n",
    "cv2.destroyAllWindows()"
   ]
  },
  {
   "cell_type": "code",
   "execution_count": 18,
   "metadata": {},
   "outputs": [],
   "source": [
    "gray2 = cv2.cvtColor(img, cv2.COLOR_RGB2GRAY)"
   ]
  },
  {
   "cell_type": "code",
   "execution_count": 19,
   "metadata": {},
   "outputs": [],
   "source": [
    "cv2.imshow('gray2', gray2)\n",
    "cv2.waitKey(0)\n",
    "cv2.destroyAllWindows()"
   ]
  },
  {
   "cell_type": "code",
   "execution_count": null,
   "metadata": {},
   "outputs": [],
   "source": [
    "import cv2\n",
    "import numpy as np\n",
    "\n",
    "img = cv2.imread('./img/girl.jpg')\n",
    "\n",
    "# dtpye을 uint8에서 uint16으로 바꾼 이유는 uint8을 평균값을 구하는 과정에서\n",
    "# 3채널의 값을 합하면 255(uint8의 최댓값)보다 큰 값이 나올 수 있으므로 uint16으로 변경해서 계산을 \n",
    "# 마친 후 다시 astype으로 dtype을 변경한다\n",
    "\n",
    "img2 = img.astype(np.uint16)                # dtype 변경 ---①\n",
    "b,g,r = cv2.split(img2)                     # 채널 별로 분리 ---②\n",
    "#b,g,r = img2[:,:,0], img2[:,:,1], img2[:,:,2]\n",
    "gray1 = ((b + g + r)/3).astype(np.uint8)    # 평균 값 연산후 dtype 변경 ---③\n",
    "\n",
    "gray2 = cv2.cvtColor(img, cv2.COLOR_BGR2GRAY) # BGR을 그레이 스케일로 변경 ---④\n",
    "cv2.imshow('original', img)\n",
    "cv2.imshow('gray1', gray1)\n",
    "\n",
    "cv2.waitKey(0)\n",
    "cv2.destroyAllWindows()"
   ]
  },
  {
   "cell_type": "code",
   "execution_count": 20,
   "metadata": {},
   "outputs": [],
   "source": [
    "import cv2\n",
    "import numpy as np\n",
    "\n",
    "img = cv2.imread('./img/girl.jpg')\n",
    "\n",
    "# img2 = img.astype(np.uint16)                # dtype 변경 ---①\n",
    "b,g,r = cv2.split(img)                     # 채널 별로 분리 ---②\n",
    "#b,g,r = img2[:,:,0], img2[:,:,1], img2[:,:,2]\n",
    "gray1 = ((b + g + r)/3).astype(np.uint8)    # 평균 값 연산후 dtype 변경 ---③\n",
    "\n",
    "gray2 = cv2.cvtColor(img, cv2.COLOR_BGR2GRAY) # BGR을 그레이 스케일로 변경 ---④\n",
    "cv2.imshow('original', img)\n",
    "cv2.imshow('gray1', gray1)\n",
    "\n",
    "cv2.waitKey(0)\n",
    "cv2.destroyAllWindows()"
   ]
  },
  {
   "cell_type": "code",
   "execution_count": 21,
   "metadata": {},
   "outputs": [],
   "source": [
    "img = cv2.imread('./img/girl.jpg')\n"
   ]
  },
  {
   "cell_type": "code",
   "execution_count": 23,
   "metadata": {},
   "outputs": [
    {
     "data": {
      "text/plain": [
       "dtype('uint8')"
      ]
     },
     "execution_count": 23,
     "metadata": {},
     "output_type": "execute_result"
    }
   ],
   "source": [
    "img.dtype"
   ]
  },
  {
   "cell_type": "code",
   "execution_count": 24,
   "metadata": {},
   "outputs": [],
   "source": [
    "img = cv2.imread('./img/girl.jpg')\n",
    "b,g,r = cv2.split(img)"
   ]
  },
  {
   "cell_type": "code",
   "execution_count": 25,
   "metadata": {},
   "outputs": [
    {
     "data": {
      "text/plain": [
       "array([[199, 185, 172, ..., 150, 166, 178],\n",
       "       [196, 185, 172, ..., 156, 169, 178],\n",
       "       [194, 181, 172, ..., 162, 172, 178],\n",
       "       ...,\n",
       "       [190, 217, 246, ...,  99, 102, 105],\n",
       "       [187, 216, 250, ...,  99, 105, 111],\n",
       "       [180, 213, 247, ..., 110, 117, 126]], dtype=uint8)"
      ]
     },
     "execution_count": 25,
     "metadata": {},
     "output_type": "execute_result"
    }
   ],
   "source": [
    "b+g+r"
   ]
  },
  {
   "cell_type": "code",
   "execution_count": 27,
   "metadata": {},
   "outputs": [
    {
     "data": {
      "text/plain": [
       "array([[ 52,  47,  39, ...,  24,  31,  35],\n",
       "       [ 51,  47,  39, ...,  26,  32,  35],\n",
       "       [ 51,  46,  39, ...,  28,  33,  35],\n",
       "       ...,\n",
       "       [ 29,  38,  47, ..., 218, 221, 222],\n",
       "       [ 28,  37,  47, ..., 218, 222, 224],\n",
       "       [ 25,  36,  46, ..., 223, 226, 229]], dtype=uint8)"
      ]
     },
     "execution_count": 27,
     "metadata": {},
     "output_type": "execute_result"
    }
   ],
   "source": [
    "b"
   ]
  },
  {
   "cell_type": "code",
   "execution_count": 29,
   "metadata": {},
   "outputs": [
    {
     "data": {
      "text/plain": [
       "array([[ 71,  68,  69, ...,  72,  76,  80],\n",
       "       [ 70,  68,  69, ...,  74,  77,  80],\n",
       "       [ 70,  67,  69, ...,  77,  78,  80],\n",
       "       ...,\n",
       "       [ 95, 104, 115, ..., 190, 191, 192],\n",
       "       [ 94, 104, 117, ..., 190, 192, 194],\n",
       "       [ 92, 103, 116, ..., 193, 196, 199]], dtype=uint8)"
      ]
     },
     "execution_count": 29,
     "metadata": {},
     "output_type": "execute_result"
    }
   ],
   "source": [
    "g"
   ]
  },
  {
   "cell_type": "code",
   "execution_count": 30,
   "metadata": {},
   "outputs": [
    {
     "data": {
      "text/plain": [
       "array([[123, 115, 108, ...,  96, 107, 115],\n",
       "       [121, 115, 108, ..., 100, 109, 115],\n",
       "       [121, 113, 108, ..., 105, 111, 115],\n",
       "       ...,\n",
       "       [124, 142, 162, ..., 152, 156, 158],\n",
       "       [122, 141, 164, ..., 152, 158, 162],\n",
       "       [117, 139, 162, ..., 160, 166, 172]], dtype=uint8)"
      ]
     },
     "execution_count": 30,
     "metadata": {},
     "output_type": "execute_result"
    }
   ],
   "source": [
    "b+g"
   ]
  },
  {
   "cell_type": "code",
   "execution_count": 31,
   "metadata": {},
   "outputs": [
    {
     "data": {
      "text/plain": [
       "428"
      ]
     },
     "execution_count": 31,
     "metadata": {},
     "output_type": "execute_result"
    }
   ],
   "source": [
    "229+199"
   ]
  },
  {
   "cell_type": "code",
   "execution_count": 34,
   "metadata": {},
   "outputs": [
    {
     "data": {
      "text/plain": [
       "172"
      ]
     },
     "execution_count": 34,
     "metadata": {},
     "output_type": "execute_result"
    }
   ],
   "source": [
    "428 - 256"
   ]
  },
  {
   "cell_type": "code",
   "execution_count": 26,
   "metadata": {},
   "outputs": [
    {
     "name": "stdout",
     "output_type": "stream",
     "text": [
      "255\n",
      "0\n"
     ]
    }
   ],
   "source": [
    "print(np.max(b+g+r))\n",
    "print(np.min(b+g+r))"
   ]
  },
  {
   "cell_type": "code",
   "execution_count": 36,
   "metadata": {},
   "outputs": [],
   "source": [
    "# uint8 -> uint16으로 타입 변환\n",
    "img = cv2.imread('./img/girl.jpg')\n",
    "img2 = img.astype(np.uint16)\n",
    "b,g,r = cv2.split(img2)"
   ]
  },
  {
   "cell_type": "code",
   "execution_count": 37,
   "metadata": {},
   "outputs": [
    {
     "data": {
      "text/plain": [
       "array([[123, 115, 108, ...,  96, 107, 115],\n",
       "       [121, 115, 108, ..., 100, 109, 115],\n",
       "       [121, 113, 108, ..., 105, 111, 115],\n",
       "       ...,\n",
       "       [124, 142, 162, ..., 408, 412, 414],\n",
       "       [122, 141, 164, ..., 408, 414, 418],\n",
       "       [117, 139, 162, ..., 416, 422, 428]], dtype=uint16)"
      ]
     },
     "execution_count": 37,
     "metadata": {},
     "output_type": "execute_result"
    }
   ],
   "source": [
    "b + g"
   ]
  },
  {
   "cell_type": "code",
   "execution_count": null,
   "metadata": {},
   "outputs": [],
   "source": []
  }
 ],
 "metadata": {
  "kernelspec": {
   "display_name": "cv",
   "language": "python",
   "name": "python3"
  },
  "language_info": {
   "codemirror_mode": {
    "name": "ipython",
    "version": 3
   },
   "file_extension": ".py",
   "mimetype": "text/x-python",
   "name": "python",
   "nbconvert_exporter": "python",
   "pygments_lexer": "ipython3",
   "version": "3.9.16"
  }
 },
 "nbformat": 4,
 "nbformat_minor": 2
}
