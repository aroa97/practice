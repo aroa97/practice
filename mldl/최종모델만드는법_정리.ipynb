{
 "cells": [
  {
   "cell_type": "code",
   "execution_count": 22,
   "metadata": {},
   "outputs": [],
   "source": [
    "from tensorflow.keras.models import Sequential\n",
    "from tensorflow.keras.layers import Dense\n",
    "import pandas as pd\n",
    "import numpy as np"
   ]
  },
  {
   "cell_type": "code",
   "execution_count": 5,
   "metadata": {},
   "outputs": [],
   "source": [
    "df = pd.read_csv('C:/ex/mldl/data/wine_copy.csv', header=None)"
   ]
  },
  {
   "cell_type": "code",
   "execution_count": 6,
   "metadata": {},
   "outputs": [
    {
     "name": "stdout",
     "output_type": "stream",
     "text": [
      "<class 'pandas.core.frame.DataFrame'>\n",
      "RangeIndex: 6497 entries, 0 to 6496\n",
      "Data columns (total 13 columns):\n",
      " #   Column  Non-Null Count  Dtype  \n",
      "---  ------  --------------  -----  \n",
      " 0   0       6497 non-null   float64\n",
      " 1   1       6497 non-null   float64\n",
      " 2   2       6497 non-null   float64\n",
      " 3   3       6497 non-null   float64\n",
      " 4   4       6497 non-null   float64\n",
      " 5   5       6497 non-null   float64\n",
      " 6   6       6497 non-null   float64\n",
      " 7   7       6497 non-null   float64\n",
      " 8   8       6497 non-null   float64\n",
      " 9   9       6497 non-null   float64\n",
      " 10  10      6497 non-null   float64\n",
      " 11  11      6497 non-null   int64  \n",
      " 12  12      6497 non-null   int64  \n",
      "dtypes: float64(11), int64(2)\n",
      "memory usage: 660.0 KB\n"
     ]
    }
   ],
   "source": [
    "df.info()"
   ]
  },
  {
   "cell_type": "code",
   "execution_count": 7,
   "metadata": {},
   "outputs": [],
   "source": [
    "X = df.iloc[:, :-1]\n",
    "y = df.iloc[:, -1]"
   ]
  },
  {
   "cell_type": "code",
   "execution_count": 8,
   "metadata": {},
   "outputs": [],
   "source": [
    "from sklearn.model_selection import train_test_split"
   ]
  },
  {
   "cell_type": "code",
   "execution_count": 9,
   "metadata": {},
   "outputs": [
    {
     "data": {
      "text/plain": [
       "5197.6"
      ]
     },
     "execution_count": 9,
     "metadata": {},
     "output_type": "execute_result"
    }
   ],
   "source": [
    "6497 * 0.8"
   ]
  },
  {
   "cell_type": "code",
   "execution_count": 10,
   "metadata": {},
   "outputs": [
    {
     "data": {
      "text/plain": [
       "1299.4"
      ]
     },
     "execution_count": 10,
     "metadata": {},
     "output_type": "execute_result"
    }
   ],
   "source": [
    "6497 * 0.2"
   ]
  },
  {
   "cell_type": "code",
   "execution_count": 11,
   "metadata": {},
   "outputs": [],
   "source": [
    "X_train, X_test, y_train, y_test = train_test_split(X, y, test_size=0.2, shuffle=True)"
   ]
  },
  {
   "cell_type": "code",
   "execution_count": 12,
   "metadata": {},
   "outputs": [
    {
     "name": "stdout",
     "output_type": "stream",
     "text": [
      "(5197, 12)\n",
      "(1300, 12)\n",
      "(5197,)\n",
      "(1300,)\n"
     ]
    }
   ],
   "source": [
    "print(X_train.shape)\n",
    "print(X_test.shape)\n",
    "print(y_train.shape)\n",
    "print(y_test.shape)"
   ]
  },
  {
   "cell_type": "code",
   "execution_count": 24,
   "metadata": {},
   "outputs": [],
   "source": [
    "# modelpath=\"./model/all/{epoch:02d}-{val_accuracy:.4f}.hdf5\"\n",
    "modelpath=\"./model/all/{epoch:02d}-{val_accuracy:.4f}.keras\""
   ]
  },
  {
   "cell_type": "code",
   "execution_count": 20,
   "metadata": {},
   "outputs": [],
   "source": [
    "from tensorflow.keras.callbacks import ModelCheckpoint"
   ]
  },
  {
   "cell_type": "code",
   "execution_count": 25,
   "metadata": {},
   "outputs": [],
   "source": [
    "checkpointer = ModelCheckpoint(filepath=modelpath, verbose=1)"
   ]
  },
  {
   "cell_type": "code",
   "execution_count": 26,
   "metadata": {},
   "outputs": [
    {
     "name": "stdout",
     "output_type": "stream",
     "text": [
      "Epoch 1/50\n"
     ]
    },
    {
     "name": "stderr",
     "output_type": "stream",
     "text": [
      "c:\\ProgramData\\anaconda3\\envs\\mldl\\Lib\\site-packages\\keras\\src\\layers\\core\\dense.py:87: UserWarning: Do not pass an `input_shape`/`input_dim` argument to a layer. When using Sequential models, prefer using an `Input(shape)` object as the first layer in the model instead.\n",
      "  super().__init__(activity_regularizer=activity_regularizer, **kwargs)\n"
     ]
    },
    {
     "name": "stdout",
     "output_type": "stream",
     "text": [
      "\u001b[1m1/8\u001b[0m \u001b[32m━━\u001b[0m\u001b[37m━━━━━━━━━━━━━━━━━━\u001b[0m \u001b[1m5s\u001b[0m 849ms/step - accuracy: 0.3620 - loss: 1.0457\n",
      "Epoch 1: saving model to ./model/all/01-0.8385.keras\n",
      "\u001b[1m8/8\u001b[0m \u001b[32m━━━━━━━━━━━━━━━━━━━━\u001b[0m\u001b[37m\u001b[0m \u001b[1m1s\u001b[0m 24ms/step - accuracy: 0.5720 - loss: 0.7407 - val_accuracy: 0.8385 - val_loss: 0.4292\n",
      "Epoch 2/50\n",
      "\u001b[1m1/8\u001b[0m \u001b[32m━━\u001b[0m\u001b[37m━━━━━━━━━━━━━━━━━━\u001b[0m \u001b[1m0s\u001b[0m 34ms/step - accuracy: 0.8460 - loss: 0.4487\n",
      "Epoch 2: saving model to ./model/all/02-0.8738.keras\n",
      "\u001b[1m8/8\u001b[0m \u001b[32m━━━━━━━━━━━━━━━━━━━━\u001b[0m\u001b[37m\u001b[0m \u001b[1m0s\u001b[0m 8ms/step - accuracy: 0.8587 - loss: 0.4030 - val_accuracy: 0.8738 - val_loss: 0.3536\n",
      "Epoch 3/50\n",
      "\u001b[1m1/8\u001b[0m \u001b[32m━━\u001b[0m\u001b[37m━━━━━━━━━━━━━━━━━━\u001b[0m \u001b[1m0s\u001b[0m 12ms/step - accuracy: 0.8840 - loss: 0.3115\n",
      "Epoch 3: saving model to ./model/all/03-0.8854.keras\n",
      "\u001b[1m8/8\u001b[0m \u001b[32m━━━━━━━━━━━━━━━━━━━━\u001b[0m\u001b[37m\u001b[0m \u001b[1m0s\u001b[0m 10ms/step - accuracy: 0.8842 - loss: 0.3140 - val_accuracy: 0.8854 - val_loss: 0.2794\n",
      "Epoch 4/50\n",
      "\u001b[1m1/8\u001b[0m \u001b[32m━━\u001b[0m\u001b[37m━━━━━━━━━━━━━━━━━━\u001b[0m \u001b[1m0s\u001b[0m 16ms/step - accuracy: 0.8780 - loss: 0.2777\n",
      "Epoch 4: saving model to ./model/all/04-0.9108.keras\n",
      "\u001b[1m8/8\u001b[0m \u001b[32m━━━━━━━━━━━━━━━━━━━━\u001b[0m\u001b[37m\u001b[0m \u001b[1m0s\u001b[0m 7ms/step - accuracy: 0.8909 - loss: 0.2682 - val_accuracy: 0.9108 - val_loss: 0.2319\n",
      "Epoch 5/50\n",
      "\u001b[1m1/8\u001b[0m \u001b[32m━━\u001b[0m\u001b[37m━━━━━━━━━━━━━━━━━━\u001b[0m \u001b[1m0s\u001b[0m 22ms/step - accuracy: 0.9120 - loss: 0.2528\n",
      "Epoch 5: saving model to ./model/all/05-0.9292.keras\n",
      "\u001b[1m8/8\u001b[0m \u001b[32m━━━━━━━━━━━━━━━━━━━━\u001b[0m\u001b[37m\u001b[0m \u001b[1m0s\u001b[0m 7ms/step - accuracy: 0.9140 - loss: 0.2389 - val_accuracy: 0.9292 - val_loss: 0.2079\n",
      "Epoch 6/50\n",
      "\u001b[1m1/8\u001b[0m \u001b[32m━━\u001b[0m\u001b[37m━━━━━━━━━━━━━━━━━━\u001b[0m \u001b[1m0s\u001b[0m 31ms/step - accuracy: 0.9220 - loss: 0.2162\n",
      "Epoch 6: saving model to ./model/all/06-0.9331.keras\n",
      "\u001b[1m8/8\u001b[0m \u001b[32m━━━━━━━━━━━━━━━━━━━━\u001b[0m\u001b[37m\u001b[0m \u001b[1m0s\u001b[0m 7ms/step - accuracy: 0.9244 - loss: 0.2192 - val_accuracy: 0.9331 - val_loss: 0.2019\n",
      "Epoch 7/50\n",
      "\u001b[1m1/8\u001b[0m \u001b[32m━━\u001b[0m\u001b[37m━━━━━━━━━━━━━━━━━━\u001b[0m \u001b[1m0s\u001b[0m 15ms/step - accuracy: 0.9320 - loss: 0.2000\n",
      "Epoch 7: saving model to ./model/all/07-0.9362.keras\n",
      "\u001b[1m8/8\u001b[0m \u001b[32m━━━━━━━━━━━━━━━━━━━━\u001b[0m\u001b[37m\u001b[0m \u001b[1m0s\u001b[0m 7ms/step - accuracy: 0.9281 - loss: 0.2127 - val_accuracy: 0.9362 - val_loss: 0.1992\n",
      "Epoch 8/50\n",
      "\u001b[1m1/8\u001b[0m \u001b[32m━━\u001b[0m\u001b[37m━━━━━━━━━━━━━━━━━━\u001b[0m \u001b[1m0s\u001b[0m 35ms/step - accuracy: 0.9320 - loss: 0.2187\n",
      "Epoch 8: saving model to ./model/all/08-0.9331.keras\n",
      "\u001b[1m8/8\u001b[0m \u001b[32m━━━━━━━━━━━━━━━━━━━━\u001b[0m\u001b[37m\u001b[0m \u001b[1m0s\u001b[0m 7ms/step - accuracy: 0.9321 - loss: 0.2099 - val_accuracy: 0.9331 - val_loss: 0.1982\n",
      "Epoch 9/50\n",
      "\u001b[1m1/8\u001b[0m \u001b[32m━━\u001b[0m\u001b[37m━━━━━━━━━━━━━━━━━━\u001b[0m \u001b[1m0s\u001b[0m 18ms/step - accuracy: 0.9300 - loss: 0.1978\n",
      "Epoch 9: saving model to ./model/all/09-0.9323.keras\n",
      "\u001b[1m8/8\u001b[0m \u001b[32m━━━━━━━━━━━━━━━━━━━━\u001b[0m\u001b[37m\u001b[0m \u001b[1m0s\u001b[0m 7ms/step - accuracy: 0.9323 - loss: 0.2049 - val_accuracy: 0.9323 - val_loss: 0.1970\n",
      "Epoch 10/50\n",
      "\u001b[1m1/8\u001b[0m \u001b[32m━━\u001b[0m\u001b[37m━━━━━━━━━━━━━━━━━━\u001b[0m \u001b[1m0s\u001b[0m 33ms/step - accuracy: 0.9380 - loss: 0.1852\n",
      "Epoch 10: saving model to ./model/all/10-0.9331.keras\n",
      "\u001b[1m8/8\u001b[0m \u001b[32m━━━━━━━━━━━━━━━━━━━━\u001b[0m\u001b[37m\u001b[0m \u001b[1m0s\u001b[0m 7ms/step - accuracy: 0.9354 - loss: 0.1993 - val_accuracy: 0.9331 - val_loss: 0.1968\n",
      "Epoch 11/50\n",
      "\u001b[1m1/8\u001b[0m \u001b[32m━━\u001b[0m\u001b[37m━━━━━━━━━━━━━━━━━━\u001b[0m \u001b[1m0s\u001b[0m 23ms/step - accuracy: 0.9380 - loss: 0.2066\n",
      "Epoch 11: saving model to ./model/all/11-0.9323.keras\n",
      "\u001b[1m8/8\u001b[0m \u001b[32m━━━━━━━━━━━━━━━━━━━━\u001b[0m\u001b[37m\u001b[0m \u001b[1m0s\u001b[0m 6ms/step - accuracy: 0.9377 - loss: 0.1969 - val_accuracy: 0.9323 - val_loss: 0.1953\n",
      "Epoch 12/50\n",
      "\u001b[1m1/8\u001b[0m \u001b[32m━━\u001b[0m\u001b[37m━━━━━━━━━━━━━━━━━━\u001b[0m \u001b[1m0s\u001b[0m 28ms/step - accuracy: 0.9440 - loss: 0.1831\n",
      "Epoch 12: saving model to ./model/all/12-0.9346.keras\n",
      "\u001b[1m8/8\u001b[0m \u001b[32m━━━━━━━━━━━━━━━━━━━━\u001b[0m\u001b[37m\u001b[0m \u001b[1m0s\u001b[0m 6ms/step - accuracy: 0.9374 - loss: 0.1959 - val_accuracy: 0.9346 - val_loss: 0.1941\n",
      "Epoch 13/50\n",
      "\u001b[1m1/8\u001b[0m \u001b[32m━━\u001b[0m\u001b[37m━━━━━━━━━━━━━━━━━━\u001b[0m \u001b[1m0s\u001b[0m 26ms/step - accuracy: 0.9020 - loss: 0.2783\n",
      "Epoch 13: saving model to ./model/all/13-0.9346.keras\n",
      "\u001b[1m8/8\u001b[0m \u001b[32m━━━━━━━━━━━━━━━━━━━━\u001b[0m\u001b[37m\u001b[0m \u001b[1m0s\u001b[0m 6ms/step - accuracy: 0.9269 - loss: 0.2213 - val_accuracy: 0.9346 - val_loss: 0.1929\n",
      "Epoch 14/50\n",
      "\u001b[1m1/8\u001b[0m \u001b[32m━━\u001b[0m\u001b[37m━━━━━━━━━━━━━━━━━━\u001b[0m \u001b[1m0s\u001b[0m 31ms/step - accuracy: 0.9440 - loss: 0.1925\n",
      "Epoch 14: saving model to ./model/all/14-0.9377.keras\n",
      "\u001b[1m8/8\u001b[0m \u001b[32m━━━━━━━━━━━━━━━━━━━━\u001b[0m\u001b[37m\u001b[0m \u001b[1m0s\u001b[0m 8ms/step - accuracy: 0.9404 - loss: 0.1921 - val_accuracy: 0.9377 - val_loss: 0.1918\n",
      "Epoch 15/50\n",
      "\u001b[1m1/8\u001b[0m \u001b[32m━━\u001b[0m\u001b[37m━━━━━━━━━━━━━━━━━━\u001b[0m \u001b[1m0s\u001b[0m 32ms/step - accuracy: 0.9400 - loss: 0.1831\n",
      "Epoch 15: saving model to ./model/all/15-0.9377.keras\n",
      "\u001b[1m8/8\u001b[0m \u001b[32m━━━━━━━━━━━━━━━━━━━━\u001b[0m\u001b[37m\u001b[0m \u001b[1m0s\u001b[0m 7ms/step - accuracy: 0.9373 - loss: 0.1888 - val_accuracy: 0.9377 - val_loss: 0.1904\n",
      "Epoch 16/50\n",
      "\u001b[1m1/8\u001b[0m \u001b[32m━━\u001b[0m\u001b[37m━━━━━━━━━━━━━━━━━━\u001b[0m \u001b[1m0s\u001b[0m 21ms/step - accuracy: 0.9340 - loss: 0.1925\n",
      "Epoch 16: saving model to ./model/all/16-0.9354.keras\n",
      "\u001b[1m8/8\u001b[0m \u001b[32m━━━━━━━━━━━━━━━━━━━━\u001b[0m\u001b[37m\u001b[0m \u001b[1m0s\u001b[0m 7ms/step - accuracy: 0.9362 - loss: 0.1943 - val_accuracy: 0.9354 - val_loss: 0.1912\n",
      "Epoch 17/50\n",
      "\u001b[1m1/8\u001b[0m \u001b[32m━━\u001b[0m\u001b[37m━━━━━━━━━━━━━━━━━━\u001b[0m \u001b[1m0s\u001b[0m 35ms/step - accuracy: 0.9200 - loss: 0.2205\n",
      "Epoch 17: saving model to ./model/all/17-0.9377.keras\n",
      "\u001b[1m8/8\u001b[0m \u001b[32m━━━━━━━━━━━━━━━━━━━━\u001b[0m\u001b[37m\u001b[0m \u001b[1m0s\u001b[0m 7ms/step - accuracy: 0.9310 - loss: 0.2064 - val_accuracy: 0.9377 - val_loss: 0.1895\n",
      "Epoch 18/50\n",
      "\u001b[1m1/8\u001b[0m \u001b[32m━━\u001b[0m\u001b[37m━━━━━━━━━━━━━━━━━━\u001b[0m \u001b[1m0s\u001b[0m 34ms/step - accuracy: 0.9400 - loss: 0.1757\n",
      "Epoch 18: saving model to ./model/all/18-0.9354.keras\n",
      "\u001b[1m8/8\u001b[0m \u001b[32m━━━━━━━━━━━━━━━━━━━━\u001b[0m\u001b[37m\u001b[0m \u001b[1m0s\u001b[0m 7ms/step - accuracy: 0.9383 - loss: 0.1889 - val_accuracy: 0.9354 - val_loss: 0.1894\n",
      "Epoch 19/50\n",
      "\u001b[1m1/8\u001b[0m \u001b[32m━━\u001b[0m\u001b[37m━━━━━━━━━━━━━━━━━━\u001b[0m \u001b[1m0s\u001b[0m 22ms/step - accuracy: 0.9260 - loss: 0.1941\n",
      "Epoch 19: saving model to ./model/all/19-0.9385.keras\n",
      "\u001b[1m8/8\u001b[0m \u001b[32m━━━━━━━━━━━━━━━━━━━━\u001b[0m\u001b[37m\u001b[0m \u001b[1m0s\u001b[0m 7ms/step - accuracy: 0.9359 - loss: 0.1882 - val_accuracy: 0.9385 - val_loss: 0.1882\n",
      "Epoch 20/50\n",
      "\u001b[1m1/8\u001b[0m \u001b[32m━━\u001b[0m\u001b[37m━━━━━━━━━━━━━━━━━━\u001b[0m \u001b[1m0s\u001b[0m 36ms/step - accuracy: 0.9500 - loss: 0.1689\n",
      "Epoch 20: saving model to ./model/all/20-0.9362.keras\n",
      "\u001b[1m8/8\u001b[0m \u001b[32m━━━━━━━━━━━━━━━━━━━━\u001b[0m\u001b[37m\u001b[0m \u001b[1m0s\u001b[0m 7ms/step - accuracy: 0.9381 - loss: 0.1916 - val_accuracy: 0.9362 - val_loss: 0.1878\n",
      "Epoch 21/50\n",
      "\u001b[1m1/8\u001b[0m \u001b[32m━━\u001b[0m\u001b[37m━━━━━━━━━━━━━━━━━━\u001b[0m \u001b[1m0s\u001b[0m 20ms/step - accuracy: 0.9260 - loss: 0.2090\n",
      "Epoch 21: saving model to ./model/all/21-0.9369.keras\n",
      "\u001b[1m8/8\u001b[0m \u001b[32m━━━━━━━━━━━━━━━━━━━━\u001b[0m\u001b[37m\u001b[0m \u001b[1m0s\u001b[0m 7ms/step - accuracy: 0.9332 - loss: 0.1980 - val_accuracy: 0.9369 - val_loss: 0.1874\n",
      "Epoch 22/50\n",
      "\u001b[1m1/8\u001b[0m \u001b[32m━━\u001b[0m\u001b[37m━━━━━━━━━━━━━━━━━━\u001b[0m \u001b[1m0s\u001b[0m 22ms/step - accuracy: 0.9220 - loss: 0.2093\n",
      "Epoch 22: saving model to ./model/all/22-0.9385.keras\n",
      "\u001b[1m8/8\u001b[0m \u001b[32m━━━━━━━━━━━━━━━━━━━━\u001b[0m\u001b[37m\u001b[0m \u001b[1m0s\u001b[0m 6ms/step - accuracy: 0.9337 - loss: 0.1907 - val_accuracy: 0.9385 - val_loss: 0.1863\n",
      "Epoch 23/50\n",
      "\u001b[1m1/8\u001b[0m \u001b[32m━━\u001b[0m\u001b[37m━━━━━━━━━━━━━━━━━━\u001b[0m \u001b[1m0s\u001b[0m 37ms/step - accuracy: 0.9440 - loss: 0.1873\n",
      "Epoch 23: saving model to ./model/all/23-0.9362.keras\n",
      "\u001b[1m8/8\u001b[0m \u001b[32m━━━━━━━━━━━━━━━━━━━━\u001b[0m\u001b[37m\u001b[0m \u001b[1m0s\u001b[0m 7ms/step - accuracy: 0.9391 - loss: 0.1881 - val_accuracy: 0.9362 - val_loss: 0.1860\n",
      "Epoch 24/50\n",
      "\u001b[1m1/8\u001b[0m \u001b[32m━━\u001b[0m\u001b[37m━━━━━━━━━━━━━━━━━━\u001b[0m \u001b[1m0s\u001b[0m 31ms/step - accuracy: 0.9420 - loss: 0.1753\n",
      "Epoch 24: saving model to ./model/all/24-0.9369.keras\n",
      "\u001b[1m8/8\u001b[0m \u001b[32m━━━━━━━━━━━━━━━━━━━━\u001b[0m\u001b[37m\u001b[0m \u001b[1m0s\u001b[0m 5ms/step - accuracy: 0.9366 - loss: 0.1878 - val_accuracy: 0.9369 - val_loss: 0.1851\n",
      "Epoch 25/50\n",
      "\u001b[1m1/8\u001b[0m \u001b[32m━━\u001b[0m\u001b[37m━━━━━━━━━━━━━━━━━━\u001b[0m \u001b[1m0s\u001b[0m 25ms/step - accuracy: 0.9400 - loss: 0.1882\n",
      "Epoch 25: saving model to ./model/all/25-0.9369.keras\n",
      "\u001b[1m8/8\u001b[0m \u001b[32m━━━━━━━━━━━━━━━━━━━━\u001b[0m\u001b[37m\u001b[0m \u001b[1m0s\u001b[0m 7ms/step - accuracy: 0.9386 - loss: 0.1911 - val_accuracy: 0.9369 - val_loss: 0.1844\n",
      "Epoch 26/50\n",
      "\u001b[1m1/8\u001b[0m \u001b[32m━━\u001b[0m\u001b[37m━━━━━━━━━━━━━━━━━━\u001b[0m \u001b[1m0s\u001b[0m 25ms/step - accuracy: 0.9360 - loss: 0.1960\n",
      "Epoch 26: saving model to ./model/all/26-0.9369.keras\n",
      "\u001b[1m8/8\u001b[0m \u001b[32m━━━━━━━━━━━━━━━━━━━━\u001b[0m\u001b[37m\u001b[0m \u001b[1m0s\u001b[0m 6ms/step - accuracy: 0.9370 - loss: 0.1881 - val_accuracy: 0.9369 - val_loss: 0.1837\n",
      "Epoch 27/50\n",
      "\u001b[1m1/8\u001b[0m \u001b[32m━━\u001b[0m\u001b[37m━━━━━━━━━━━━━━━━━━\u001b[0m \u001b[1m0s\u001b[0m 35ms/step - accuracy: 0.9380 - loss: 0.1896\n",
      "Epoch 27: saving model to ./model/all/27-0.9392.keras\n",
      "\u001b[1m8/8\u001b[0m \u001b[32m━━━━━━━━━━━━━━━━━━━━\u001b[0m\u001b[37m\u001b[0m \u001b[1m0s\u001b[0m 7ms/step - accuracy: 0.9371 - loss: 0.1863 - val_accuracy: 0.9392 - val_loss: 0.1829\n",
      "Epoch 28/50\n",
      "\u001b[1m1/8\u001b[0m \u001b[32m━━\u001b[0m\u001b[37m━━━━━━━━━━━━━━━━━━\u001b[0m \u001b[1m0s\u001b[0m 28ms/step - accuracy: 0.9400 - loss: 0.1807\n",
      "Epoch 28: saving model to ./model/all/28-0.9377.keras\n",
      "\u001b[1m8/8\u001b[0m \u001b[32m━━━━━━━━━━━━━━━━━━━━\u001b[0m\u001b[37m\u001b[0m \u001b[1m0s\u001b[0m 6ms/step - accuracy: 0.9415 - loss: 0.1761 - val_accuracy: 0.9377 - val_loss: 0.1828\n",
      "Epoch 29/50\n",
      "\u001b[1m1/8\u001b[0m \u001b[32m━━\u001b[0m\u001b[37m━━━━━━━━━━━━━━━━━━\u001b[0m \u001b[1m0s\u001b[0m 24ms/step - accuracy: 0.9340 - loss: 0.1845\n",
      "Epoch 29: saving model to ./model/all/29-0.9377.keras\n",
      "\u001b[1m8/8\u001b[0m \u001b[32m━━━━━━━━━━━━━━━━━━━━\u001b[0m\u001b[37m\u001b[0m \u001b[1m0s\u001b[0m 7ms/step - accuracy: 0.9383 - loss: 0.1801 - val_accuracy: 0.9377 - val_loss: 0.1814\n",
      "Epoch 30/50\n",
      "\u001b[1m1/8\u001b[0m \u001b[32m━━\u001b[0m\u001b[37m━━━━━━━━━━━━━━━━━━\u001b[0m \u001b[1m0s\u001b[0m 31ms/step - accuracy: 0.9340 - loss: 0.1711\n",
      "Epoch 30: saving model to ./model/all/30-0.9385.keras\n",
      "\u001b[1m8/8\u001b[0m \u001b[32m━━━━━━━━━━━━━━━━━━━━\u001b[0m\u001b[37m\u001b[0m \u001b[1m0s\u001b[0m 7ms/step - accuracy: 0.9397 - loss: 0.1784 - val_accuracy: 0.9385 - val_loss: 0.1806\n",
      "Epoch 31/50\n",
      "\u001b[1m1/8\u001b[0m \u001b[32m━━\u001b[0m\u001b[37m━━━━━━━━━━━━━━━━━━\u001b[0m \u001b[1m0s\u001b[0m 22ms/step - accuracy: 0.9420 - loss: 0.1743\n",
      "Epoch 31: saving model to ./model/all/31-0.9392.keras\n",
      "\u001b[1m8/8\u001b[0m \u001b[32m━━━━━━━━━━━━━━━━━━━━\u001b[0m\u001b[37m\u001b[0m \u001b[1m0s\u001b[0m 6ms/step - accuracy: 0.9394 - loss: 0.1792 - val_accuracy: 0.9392 - val_loss: 0.1794\n",
      "Epoch 32/50\n",
      "\u001b[1m1/8\u001b[0m \u001b[32m━━\u001b[0m\u001b[37m━━━━━━━━━━━━━━━━━━\u001b[0m \u001b[1m0s\u001b[0m 32ms/step - accuracy: 0.9300 - loss: 0.2144\n",
      "Epoch 32: saving model to ./model/all/32-0.9385.keras\n",
      "\u001b[1m8/8\u001b[0m \u001b[32m━━━━━━━━━━━━━━━━━━━━\u001b[0m\u001b[37m\u001b[0m \u001b[1m0s\u001b[0m 7ms/step - accuracy: 0.9363 - loss: 0.1876 - val_accuracy: 0.9385 - val_loss: 0.1791\n",
      "Epoch 33/50\n",
      "\u001b[1m1/8\u001b[0m \u001b[32m━━\u001b[0m\u001b[37m━━━━━━━━━━━━━━━━━━\u001b[0m \u001b[1m0s\u001b[0m 20ms/step - accuracy: 0.9420 - loss: 0.1592\n",
      "Epoch 33: saving model to ./model/all/33-0.9385.keras\n",
      "\u001b[1m8/8\u001b[0m \u001b[32m━━━━━━━━━━━━━━━━━━━━\u001b[0m\u001b[37m\u001b[0m \u001b[1m0s\u001b[0m 7ms/step - accuracy: 0.9351 - loss: 0.1829 - val_accuracy: 0.9385 - val_loss: 0.1779\n",
      "Epoch 34/50\n",
      "\u001b[1m1/8\u001b[0m \u001b[32m━━\u001b[0m\u001b[37m━━━━━━━━━━━━━━━━━━\u001b[0m \u001b[1m0s\u001b[0m 25ms/step - accuracy: 0.9380 - loss: 0.1783\n",
      "Epoch 34: saving model to ./model/all/34-0.9392.keras\n",
      "\u001b[1m8/8\u001b[0m \u001b[32m━━━━━━━━━━━━━━━━━━━━\u001b[0m\u001b[37m\u001b[0m \u001b[1m0s\u001b[0m 7ms/step - accuracy: 0.9392 - loss: 0.1788 - val_accuracy: 0.9392 - val_loss: 0.1782\n",
      "Epoch 35/50\n",
      "\u001b[1m1/8\u001b[0m \u001b[32m━━\u001b[0m\u001b[37m━━━━━━━━━━━━━━━━━━\u001b[0m \u001b[1m0s\u001b[0m 32ms/step - accuracy: 0.9500 - loss: 0.1517\n",
      "Epoch 35: saving model to ./model/all/35-0.9392.keras\n",
      "\u001b[1m8/8\u001b[0m \u001b[32m━━━━━━━━━━━━━━━━━━━━\u001b[0m\u001b[37m\u001b[0m \u001b[1m0s\u001b[0m 7ms/step - accuracy: 0.9387 - loss: 0.1763 - val_accuracy: 0.9392 - val_loss: 0.1767\n",
      "Epoch 36/50\n",
      "\u001b[1m1/8\u001b[0m \u001b[32m━━\u001b[0m\u001b[37m━━━━━━━━━━━━━━━━━━\u001b[0m \u001b[1m0s\u001b[0m 30ms/step - accuracy: 0.9300 - loss: 0.1782\n",
      "Epoch 36: saving model to ./model/all/36-0.9408.keras\n",
      "\u001b[1m8/8\u001b[0m \u001b[32m━━━━━━━━━━━━━━━━━━━━\u001b[0m\u001b[37m\u001b[0m \u001b[1m0s\u001b[0m 5ms/step - accuracy: 0.9325 - loss: 0.1851 - val_accuracy: 0.9408 - val_loss: 0.1773\n",
      "Epoch 37/50\n",
      "\u001b[1m1/8\u001b[0m \u001b[32m━━\u001b[0m\u001b[37m━━━━━━━━━━━━━━━━━━\u001b[0m \u001b[1m0s\u001b[0m 25ms/step - accuracy: 0.9380 - loss: 0.1726\n",
      "Epoch 37: saving model to ./model/all/37-0.9408.keras\n",
      "\u001b[1m8/8\u001b[0m \u001b[32m━━━━━━━━━━━━━━━━━━━━\u001b[0m\u001b[37m\u001b[0m \u001b[1m0s\u001b[0m 7ms/step - accuracy: 0.9374 - loss: 0.1750 - val_accuracy: 0.9408 - val_loss: 0.1740\n",
      "Epoch 38/50\n",
      "\u001b[1m1/8\u001b[0m \u001b[32m━━\u001b[0m\u001b[37m━━━━━━━━━━━━━━━━━━\u001b[0m \u001b[1m0s\u001b[0m 17ms/step - accuracy: 0.9360 - loss: 0.1836\n",
      "Epoch 38: saving model to ./model/all/38-0.9408.keras\n",
      "\u001b[1m8/8\u001b[0m \u001b[32m━━━━━━━━━━━━━━━━━━━━\u001b[0m\u001b[37m\u001b[0m \u001b[1m0s\u001b[0m 7ms/step - accuracy: 0.9383 - loss: 0.1774 - val_accuracy: 0.9408 - val_loss: 0.1748\n",
      "Epoch 39/50\n",
      "\u001b[1m1/8\u001b[0m \u001b[32m━━\u001b[0m\u001b[37m━━━━━━━━━━━━━━━━━━\u001b[0m \u001b[1m0s\u001b[0m 27ms/step - accuracy: 0.9500 - loss: 0.1493\n",
      "Epoch 39: saving model to ./model/all/39-0.9415.keras\n",
      "\u001b[1m8/8\u001b[0m \u001b[32m━━━━━━━━━━━━━━━━━━━━\u001b[0m\u001b[37m\u001b[0m \u001b[1m0s\u001b[0m 6ms/step - accuracy: 0.9388 - loss: 0.1771 - val_accuracy: 0.9415 - val_loss: 0.1712\n",
      "Epoch 40/50\n",
      "\u001b[1m1/8\u001b[0m \u001b[32m━━\u001b[0m\u001b[37m━━━━━━━━━━━━━━━━━━\u001b[0m \u001b[1m0s\u001b[0m 32ms/step - accuracy: 0.9280 - loss: 0.1846\n",
      "Epoch 40: saving model to ./model/all/40-0.9415.keras\n",
      "\u001b[1m8/8\u001b[0m \u001b[32m━━━━━━━━━━━━━━━━━━━━\u001b[0m\u001b[37m\u001b[0m \u001b[1m0s\u001b[0m 5ms/step - accuracy: 0.9369 - loss: 0.1768 - val_accuracy: 0.9415 - val_loss: 0.1702\n",
      "Epoch 41/50\n",
      "\u001b[1m1/8\u001b[0m \u001b[32m━━\u001b[0m\u001b[37m━━━━━━━━━━━━━━━━━━\u001b[0m \u001b[1m0s\u001b[0m 22ms/step - accuracy: 0.9460 - loss: 0.1735\n",
      "Epoch 41: saving model to ./model/all/41-0.9438.keras\n",
      "\u001b[1m8/8\u001b[0m \u001b[32m━━━━━━━━━━━━━━━━━━━━\u001b[0m\u001b[37m\u001b[0m \u001b[1m0s\u001b[0m 7ms/step - accuracy: 0.9411 - loss: 0.1730 - val_accuracy: 0.9438 - val_loss: 0.1690\n",
      "Epoch 42/50\n",
      "\u001b[1m1/8\u001b[0m \u001b[32m━━\u001b[0m\u001b[37m━━━━━━━━━━━━━━━━━━\u001b[0m \u001b[1m0s\u001b[0m 34ms/step - accuracy: 0.9380 - loss: 0.1804\n",
      "Epoch 42: saving model to ./model/all/42-0.9400.keras\n",
      "\u001b[1m8/8\u001b[0m \u001b[32m━━━━━━━━━━━━━━━━━━━━\u001b[0m\u001b[37m\u001b[0m \u001b[1m0s\u001b[0m 7ms/step - accuracy: 0.9353 - loss: 0.1824 - val_accuracy: 0.9400 - val_loss: 0.1712\n",
      "Epoch 43/50\n",
      "\u001b[1m1/8\u001b[0m \u001b[32m━━\u001b[0m\u001b[37m━━━━━━━━━━━━━━━━━━\u001b[0m \u001b[1m0s\u001b[0m 29ms/step - accuracy: 0.9400 - loss: 0.1757\n",
      "Epoch 43: saving model to ./model/all/43-0.9446.keras\n",
      "\u001b[1m8/8\u001b[0m \u001b[32m━━━━━━━━━━━━━━━━━━━━\u001b[0m\u001b[37m\u001b[0m \u001b[1m0s\u001b[0m 7ms/step - accuracy: 0.9389 - loss: 0.1722 - val_accuracy: 0.9446 - val_loss: 0.1665\n",
      "Epoch 44/50\n",
      "\u001b[1m1/8\u001b[0m \u001b[32m━━\u001b[0m\u001b[37m━━━━━━━━━━━━━━━━━━\u001b[0m \u001b[1m0s\u001b[0m 22ms/step - accuracy: 0.9420 - loss: 0.1666\n",
      "Epoch 44: saving model to ./model/all/44-0.9454.keras\n",
      "\u001b[1m8/8\u001b[0m \u001b[32m━━━━━━━━━━━━━━━━━━━━\u001b[0m\u001b[37m\u001b[0m \u001b[1m0s\u001b[0m 7ms/step - accuracy: 0.9407 - loss: 0.1670 - val_accuracy: 0.9454 - val_loss: 0.1650\n",
      "Epoch 45/50\n",
      "\u001b[1m1/8\u001b[0m \u001b[32m━━\u001b[0m\u001b[37m━━━━━━━━━━━━━━━━━━\u001b[0m \u001b[1m0s\u001b[0m 33ms/step - accuracy: 0.9560 - loss: 0.1492\n",
      "Epoch 45: saving model to ./model/all/45-0.9415.keras\n",
      "\u001b[1m8/8\u001b[0m \u001b[32m━━━━━━━━━━━━━━━━━━━━\u001b[0m\u001b[37m\u001b[0m \u001b[1m0s\u001b[0m 7ms/step - accuracy: 0.9451 - loss: 0.1597 - val_accuracy: 0.9415 - val_loss: 0.1644\n",
      "Epoch 46/50\n",
      "\u001b[1m1/8\u001b[0m \u001b[32m━━\u001b[0m\u001b[37m━━━━━━━━━━━━━━━━━━\u001b[0m \u001b[1m0s\u001b[0m 15ms/step - accuracy: 0.9480 - loss: 0.1515\n",
      "Epoch 46: saving model to ./model/all/46-0.9415.keras\n",
      "\u001b[1m8/8\u001b[0m \u001b[32m━━━━━━━━━━━━━━━━━━━━\u001b[0m\u001b[37m\u001b[0m \u001b[1m0s\u001b[0m 7ms/step - accuracy: 0.9429 - loss: 0.1600 - val_accuracy: 0.9415 - val_loss: 0.1627\n",
      "Epoch 47/50\n",
      "\u001b[1m1/8\u001b[0m \u001b[32m━━\u001b[0m\u001b[37m━━━━━━━━━━━━━━━━━━\u001b[0m \u001b[1m0s\u001b[0m 33ms/step - accuracy: 0.9420 - loss: 0.1649\n",
      "Epoch 47: saving model to ./model/all/47-0.9431.keras\n",
      "\u001b[1m8/8\u001b[0m \u001b[32m━━━━━━━━━━━━━━━━━━━━\u001b[0m\u001b[37m\u001b[0m \u001b[1m0s\u001b[0m 7ms/step - accuracy: 0.9389 - loss: 0.1668 - val_accuracy: 0.9431 - val_loss: 0.1593\n",
      "Epoch 48/50\n",
      "\u001b[1m1/8\u001b[0m \u001b[32m━━\u001b[0m\u001b[37m━━━━━━━━━━━━━━━━━━\u001b[0m \u001b[1m0s\u001b[0m 28ms/step - accuracy: 0.9420 - loss: 0.1596\n",
      "Epoch 48: saving model to ./model/all/48-0.9462.keras\n",
      "\u001b[1m8/8\u001b[0m \u001b[32m━━━━━━━━━━━━━━━━━━━━\u001b[0m\u001b[37m\u001b[0m \u001b[1m0s\u001b[0m 10ms/step - accuracy: 0.9422 - loss: 0.1583 - val_accuracy: 0.9462 - val_loss: 0.1573\n",
      "Epoch 49/50\n",
      "\u001b[1m1/8\u001b[0m \u001b[32m━━\u001b[0m\u001b[37m━━━━━━━━━━━━━━━━━━\u001b[0m \u001b[1m0s\u001b[0m 27ms/step - accuracy: 0.9460 - loss: 0.1400\n",
      "Epoch 49: saving model to ./model/all/49-0.9469.keras\n",
      "\u001b[1m8/8\u001b[0m \u001b[32m━━━━━━━━━━━━━━━━━━━━\u001b[0m\u001b[37m\u001b[0m \u001b[1m0s\u001b[0m 7ms/step - accuracy: 0.9442 - loss: 0.1526 - val_accuracy: 0.9469 - val_loss: 0.1554\n",
      "Epoch 50/50\n",
      "\u001b[1m1/8\u001b[0m \u001b[32m━━\u001b[0m\u001b[37m━━━━━━━━━━━━━━━━━━\u001b[0m \u001b[1m0s\u001b[0m 21ms/step - accuracy: 0.9480 - loss: 0.1557\n",
      "Epoch 50: saving model to ./model/all/50-0.9500.keras\n",
      "\u001b[1m8/8\u001b[0m \u001b[32m━━━━━━━━━━━━━━━━━━━━\u001b[0m\u001b[37m\u001b[0m \u001b[1m0s\u001b[0m 7ms/step - accuracy: 0.9466 - loss: 0.1502 - val_accuracy: 0.9500 - val_loss: 0.1562\n"
     ]
    }
   ],
   "source": [
    "model = Sequential()\n",
    "model.add(Dense(36, input_dim=12, activation='relu'))\n",
    "model.add(Dense(12, activation='relu'))\n",
    "model.add(Dense(8, activation='relu'))\n",
    "model.add(Dense(1, activation='sigmoid'))\n",
    "model.compile(loss='binary_crossentropy', optimizer='adam', metrics=['accuracy'])\n",
    "history = model.fit(X_train, y_train, epochs=50, batch_size=500, validation_split=0.25, callbacks=[checkpointer])"
   ]
  },
  {
   "cell_type": "markdown",
   "metadata": {},
   "source": [
    "validation_split<br>\n",
    "검증 데이터로 사용될 훈련 데이터의 비율입니다. 모델은 훈련 데이터의 이 부분을 구분하고, 각 에포크가 끝날 때 이 데이터에 대한 손실과 모델 측정항목을 평가"
   ]
  },
  {
   "cell_type": "markdown",
   "metadata": {},
   "source": []
  },
  {
   "cell_type": "code",
   "execution_count": 13,
   "metadata": {},
   "outputs": [
    {
     "name": "stdout",
     "output_type": "stream",
     "text": [
      "3897.75 1299.25\n"
     ]
    }
   ],
   "source": [
    "print(5197 * 0.75, 5197 * 0.25)"
   ]
  },
  {
   "cell_type": "code",
   "execution_count": 15,
   "metadata": {},
   "outputs": [],
   "source": [
    "import matplotlib.pyplot as plt"
   ]
  },
  {
   "cell_type": "code",
   "execution_count": 18,
   "metadata": {},
   "outputs": [
    {
     "data": {
      "text/plain": [
       "<keras.src.callbacks.history.History at 0x23786e57380>"
      ]
     },
     "execution_count": 18,
     "metadata": {},
     "output_type": "execute_result"
    }
   ],
   "source": [
    "history"
   ]
  },
  {
   "cell_type": "code",
   "execution_count": 19,
   "metadata": {},
   "outputs": [
    {
     "data": {
      "text/plain": [
       "{'accuracy': [0.7236335873603821,\n",
       "  0.7516037821769714,\n",
       "  0.7513471841812134,\n",
       "  0.7775211930274963,\n",
       "  0.861431896686554,\n",
       "  0.9094175100326538,\n",
       "  0.9148062467575073,\n",
       "  0.9171157479286194,\n",
       "  0.9183987975120544,\n",
       "  0.9204516410827637,\n",
       "  0.9222478866577148,\n",
       "  0.9217346906661987,\n",
       "  0.924044132232666,\n",
       "  0.9255837798118591,\n",
       "  0.9260969758033752,\n",
       "  0.9255837798118591,\n",
       "  0.9268668293952942,\n",
       "  0.9302027225494385,\n",
       "  0.9304593205451965,\n",
       "  0.9322555661201477,\n",
       "  0.9319989681243896,\n",
       "  0.9337952136993408,\n",
       "  0.9335386157035828,\n",
       "  0.9332820177078247,\n",
       "  0.936617910861969,\n",
       "  0.936617910861969,\n",
       "  0.937900960445404,\n",
       "  0.9394406080245972,\n",
       "  0.9394406080245972,\n",
       "  0.9402104020118713,\n",
       "  0.9427765011787415,\n",
       "  0.9435462951660156,\n",
       "  0.9440595507621765,\n",
       "  0.9445727467536926,\n",
       "  0.9450859427452087,\n",
       "  0.9453426003456116,\n",
       "  0.9455991983413696,\n",
       "  0.9463689923286438,\n",
       "  0.9471388459205627,\n",
       "  0.9471388459205627,\n",
       "  0.9489350914955139,\n",
       "  0.9486784934997559,\n",
       "  0.950218141078949,\n",
       "  0.9461123943328857,\n",
       "  0.9507313370704651,\n",
       "  0.9507313370704651,\n",
       "  0.9507313370704651,\n",
       "  0.9540672302246094,\n",
       "  0.9540672302246094,\n",
       "  0.9563766717910767],\n",
       " 'loss': [1.1213017702102661,\n",
       "  0.8321384787559509,\n",
       "  0.595665454864502,\n",
       "  0.42133811116218567,\n",
       "  0.31618228554725647,\n",
       "  0.2604283094406128,\n",
       "  0.2454899251461029,\n",
       "  0.23573487997055054,\n",
       "  0.23013564944267273,\n",
       "  0.22622467577457428,\n",
       "  0.2241894155740738,\n",
       "  0.2215346246957779,\n",
       "  0.21941228210926056,\n",
       "  0.21470017731189728,\n",
       "  0.21065421402454376,\n",
       "  0.20822842419147491,\n",
       "  0.20628738403320312,\n",
       "  0.19968390464782715,\n",
       "  0.1958083063364029,\n",
       "  0.19189588725566864,\n",
       "  0.1902129352092743,\n",
       "  0.1871948391199112,\n",
       "  0.1847347766160965,\n",
       "  0.1837664097547531,\n",
       "  0.17937064170837402,\n",
       "  0.17748737335205078,\n",
       "  0.171512633562088,\n",
       "  0.16764095425605774,\n",
       "  0.1650422215461731,\n",
       "  0.16310681402683258,\n",
       "  0.15907953679561615,\n",
       "  0.1550365537405014,\n",
       "  0.15329043567180634,\n",
       "  0.15120790898799896,\n",
       "  0.1476925164461136,\n",
       "  0.14486274123191833,\n",
       "  0.14305901527404785,\n",
       "  0.14101198315620422,\n",
       "  0.13862739503383636,\n",
       "  0.13624174892902374,\n",
       "  0.13398583233356476,\n",
       "  0.13260012865066528,\n",
       "  0.13068971037864685,\n",
       "  0.1343831717967987,\n",
       "  0.13050270080566406,\n",
       "  0.12747536599636078,\n",
       "  0.125310480594635,\n",
       "  0.12400729209184647,\n",
       "  0.12341680377721786,\n",
       "  0.12317023426294327],\n",
       " 'val_accuracy': [0.7592307925224304,\n",
       "  0.7592307925224304,\n",
       "  0.7646153569221497,\n",
       "  0.8500000238418579,\n",
       "  0.9169231057167053,\n",
       "  0.9292307496070862,\n",
       "  0.9330769181251526,\n",
       "  0.936923086643219,\n",
       "  0.936923086643219,\n",
       "  0.9415384531021118,\n",
       "  0.9453846216201782,\n",
       "  0.9361538290977478,\n",
       "  0.9453846216201782,\n",
       "  0.9469230771064758,\n",
       "  0.9415384531021118,\n",
       "  0.947692334651947,\n",
       "  0.942307710647583,\n",
       "  0.9492307901382446,\n",
       "  0.9515384435653687,\n",
       "  0.9484615325927734,\n",
       "  0.9484615325927734,\n",
       "  0.9530768990516663,\n",
       "  0.9523077011108398,\n",
       "  0.9430769085884094,\n",
       "  0.9538461565971375,\n",
       "  0.9553846120834351,\n",
       "  0.9538461565971375,\n",
       "  0.9546154141426086,\n",
       "  0.9546154141426086,\n",
       "  0.9546154141426086,\n",
       "  0.9561538696289062,\n",
       "  0.9592307806015015,\n",
       "  0.9607692360877991,\n",
       "  0.9599999785423279,\n",
       "  0.9599999785423279,\n",
       "  0.9592307806015015,\n",
       "  0.9599999785423279,\n",
       "  0.9584615230560303,\n",
       "  0.9599999785423279,\n",
       "  0.9607692360877991,\n",
       "  0.9607692360877991,\n",
       "  0.9607692360877991,\n",
       "  0.9646154046058655,\n",
       "  0.9692307710647583,\n",
       "  0.9630769491195679,\n",
       "  0.9669230580329895,\n",
       "  0.9615384340286255,\n",
       "  0.9692307710647583,\n",
       "  0.9700000286102295,\n",
       "  0.9700000286102295],\n",
       " 'val_loss': [0.9064481258392334,\n",
       "  0.6719409823417664,\n",
       "  0.46339544653892517,\n",
       "  0.3288955092430115,\n",
       "  0.24248220026493073,\n",
       "  0.21213707327842712,\n",
       "  0.19889390468597412,\n",
       "  0.19507566094398499,\n",
       "  0.18969397246837616,\n",
       "  0.1840737760066986,\n",
       "  0.18952493369579315,\n",
       "  0.1814291775226593,\n",
       "  0.17796453833580017,\n",
       "  0.17526403069496155,\n",
       "  0.17206834256649017,\n",
       "  0.18003225326538086,\n",
       "  0.1648157685995102,\n",
       "  0.1620432585477829,\n",
       "  0.16102439165115356,\n",
       "  0.1563112884759903,\n",
       "  0.15291379392147064,\n",
       "  0.15785428881645203,\n",
       "  0.15396864712238312,\n",
       "  0.1493515521287918,\n",
       "  0.1433561146259308,\n",
       "  0.14924666285514832,\n",
       "  0.1384160965681076,\n",
       "  0.138398677110672,\n",
       "  0.13585443794727325,\n",
       "  0.1331743746995926,\n",
       "  0.12871791422367096,\n",
       "  0.12772661447525024,\n",
       "  0.12704363465309143,\n",
       "  0.12500417232513428,\n",
       "  0.12239795178174973,\n",
       "  0.12408653646707535,\n",
       "  0.11606087535619736,\n",
       "  0.11386730521917343,\n",
       "  0.11397603899240494,\n",
       "  0.11205489188432693,\n",
       "  0.10881113260984421,\n",
       "  0.10810516029596329,\n",
       "  0.1090688705444336,\n",
       "  0.10935521870851517,\n",
       "  0.1057380810379982,\n",
       "  0.10543545335531235,\n",
       "  0.10250703245401382,\n",
       "  0.1047506034374237,\n",
       "  0.10489795356988907,\n",
       "  0.10410882532596588]}"
      ]
     },
     "execution_count": 19,
     "metadata": {},
     "output_type": "execute_result"
    }
   ],
   "source": [
    "history.history"
   ]
  },
  {
   "cell_type": "code",
   "execution_count": 20,
   "metadata": {},
   "outputs": [
    {
     "data": {
      "text/plain": [
       "[0.7592307925224304,\n",
       " 0.7592307925224304,\n",
       " 0.7646153569221497,\n",
       " 0.8500000238418579,\n",
       " 0.9169231057167053,\n",
       " 0.9292307496070862,\n",
       " 0.9330769181251526,\n",
       " 0.936923086643219,\n",
       " 0.936923086643219,\n",
       " 0.9415384531021118,\n",
       " 0.9453846216201782,\n",
       " 0.9361538290977478,\n",
       " 0.9453846216201782,\n",
       " 0.9469230771064758,\n",
       " 0.9415384531021118,\n",
       " 0.947692334651947,\n",
       " 0.942307710647583,\n",
       " 0.9492307901382446,\n",
       " 0.9515384435653687,\n",
       " 0.9484615325927734,\n",
       " 0.9484615325927734,\n",
       " 0.9530768990516663,\n",
       " 0.9523077011108398,\n",
       " 0.9430769085884094,\n",
       " 0.9538461565971375,\n",
       " 0.9553846120834351,\n",
       " 0.9538461565971375,\n",
       " 0.9546154141426086,\n",
       " 0.9546154141426086,\n",
       " 0.9546154141426086,\n",
       " 0.9561538696289062,\n",
       " 0.9592307806015015,\n",
       " 0.9607692360877991,\n",
       " 0.9599999785423279,\n",
       " 0.9599999785423279,\n",
       " 0.9592307806015015,\n",
       " 0.9599999785423279,\n",
       " 0.9584615230560303,\n",
       " 0.9599999785423279,\n",
       " 0.9607692360877991,\n",
       " 0.9607692360877991,\n",
       " 0.9607692360877991,\n",
       " 0.9646154046058655,\n",
       " 0.9692307710647583,\n",
       " 0.9630769491195679,\n",
       " 0.9669230580329895,\n",
       " 0.9615384340286255,\n",
       " 0.9692307710647583,\n",
       " 0.9700000286102295,\n",
       " 0.9700000286102295]"
      ]
     },
     "execution_count": 20,
     "metadata": {},
     "output_type": "execute_result"
    }
   ],
   "source": [
    "history.history['val_accuracy']"
   ]
  },
  {
   "cell_type": "code",
   "execution_count": 21,
   "metadata": {},
   "outputs": [
    {
     "data": {
      "text/plain": [
       "50"
      ]
     },
     "execution_count": 21,
     "metadata": {},
     "output_type": "execute_result"
    }
   ],
   "source": [
    "len(history.history['val_accuracy'])"
   ]
  },
  {
   "cell_type": "code",
   "execution_count": 23,
   "metadata": {},
   "outputs": [
    {
     "data": {
      "text/plain": [
       "2.6"
      ]
     },
     "execution_count": 23,
     "metadata": {},
     "output_type": "execute_result"
    }
   ],
   "source": [
    "1300 / 500"
   ]
  },
  {
   "cell_type": "code",
   "execution_count": 27,
   "metadata": {},
   "outputs": [
    {
     "name": "stdout",
     "output_type": "stream",
     "text": [
      "\u001b[1m3/3\u001b[0m \u001b[32m━━━━━━━━━━━━━━━━━━━━\u001b[0m\u001b[37m\u001b[0m \u001b[1m0s\u001b[0m 2ms/step - accuracy: 0.9488 - loss: 0.1654 \n"
     ]
    },
    {
     "data": {
      "text/plain": [
       "[0.16537927091121674, 0.9461538195610046]"
      ]
     },
     "execution_count": 27,
     "metadata": {},
     "output_type": "execute_result"
    }
   ],
   "source": [
    "model.evaluate(X_test, y_test, batch_size=500)"
   ]
  },
  {
   "cell_type": "code",
   "execution_count": null,
   "metadata": {},
   "outputs": [],
   "source": []
  }
 ],
 "metadata": {
  "kernelspec": {
   "display_name": "mldl",
   "language": "python",
   "name": "python3"
  },
  "language_info": {
   "codemirror_mode": {
    "name": "ipython",
    "version": 3
   },
   "file_extension": ".py",
   "mimetype": "text/x-python",
   "name": "python",
   "nbconvert_exporter": "python",
   "pygments_lexer": "ipython3",
   "version": "3.12.4"
  }
 },
 "nbformat": 4,
 "nbformat_minor": 2
}
