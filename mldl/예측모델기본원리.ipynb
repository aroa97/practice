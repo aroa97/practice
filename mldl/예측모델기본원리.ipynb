{
 "cells": [
  {
   "cell_type": "code",
   "execution_count": 2,
   "metadata": {},
   "outputs": [],
   "source": [
    "import tensorflow as tf"
   ]
  },
  {
   "cell_type": "code",
   "execution_count": 3,
   "metadata": {},
   "outputs": [],
   "source": [
    "# study_time = [2,4,6,8]\n",
    "# score = [81,93,91,97]"
   ]
  },
  {
   "cell_type": "code",
   "execution_count": 4,
   "metadata": {},
   "outputs": [],
   "source": [
    "import numpy as np"
   ]
  },
  {
   "cell_type": "code",
   "execution_count": 5,
   "metadata": {},
   "outputs": [
    {
     "data": {
      "text/plain": [
       "array([[ 2, 81],\n",
       "       [ 4, 93],\n",
       "       [ 6, 91],\n",
       "       [ 8, 97]])"
      ]
     },
     "execution_count": 5,
     "metadata": {},
     "output_type": "execute_result"
    }
   ],
   "source": [
    "np.array([[2, 81],\n",
    "          [4, 93],\n",
    "          [6, 91],\n",
    "          [8, 97]])"
   ]
  },
  {
   "cell_type": "code",
   "execution_count": 6,
   "metadata": {},
   "outputs": [],
   "source": [
    "X_y = np.array([[2, 81],\n",
    "                [4, 93],\n",
    "                [6, 91],\n",
    "                [8, 97]])"
   ]
  },
  {
   "cell_type": "code",
   "execution_count": 7,
   "metadata": {},
   "outputs": [
    {
     "data": {
      "text/plain": [
       "array([2, 4, 6, 8])"
      ]
     },
     "execution_count": 7,
     "metadata": {},
     "output_type": "execute_result"
    }
   ],
   "source": [
    "X_y[:, 0]"
   ]
  },
  {
   "cell_type": "code",
   "execution_count": 8,
   "metadata": {},
   "outputs": [],
   "source": [
    "study_mean = X_y[:, 0].mean()"
   ]
  },
  {
   "cell_type": "code",
   "execution_count": 9,
   "metadata": {},
   "outputs": [
    {
     "data": {
      "text/plain": [
       "array([81, 93, 91, 97])"
      ]
     },
     "execution_count": 9,
     "metadata": {},
     "output_type": "execute_result"
    }
   ],
   "source": [
    "X_y[:, 1]"
   ]
  },
  {
   "cell_type": "code",
   "execution_count": 10,
   "metadata": {},
   "outputs": [],
   "source": [
    "score_mean = X_y[:, 1].mean()"
   ]
  },
  {
   "cell_type": "code",
   "execution_count": 11,
   "metadata": {},
   "outputs": [],
   "source": [
    "# x 편차"
   ]
  },
  {
   "cell_type": "code",
   "execution_count": 12,
   "metadata": {},
   "outputs": [
    {
     "data": {
      "text/plain": [
       "array([-3., -1.,  1.,  3.])"
      ]
     },
     "execution_count": 12,
     "metadata": {},
     "output_type": "execute_result"
    }
   ],
   "source": [
    "X_y[:, 0] - study_mean"
   ]
  },
  {
   "cell_type": "code",
   "execution_count": 13,
   "metadata": {},
   "outputs": [],
   "source": [
    "# y 편차"
   ]
  },
  {
   "cell_type": "code",
   "execution_count": 14,
   "metadata": {},
   "outputs": [
    {
     "data": {
      "text/plain": [
       "array([-9.5,  2.5,  0.5,  6.5])"
      ]
     },
     "execution_count": 14,
     "metadata": {},
     "output_type": "execute_result"
    }
   ],
   "source": [
    "X_y[:, 1] - score_mean"
   ]
  },
  {
   "cell_type": "code",
   "execution_count": 15,
   "metadata": {},
   "outputs": [
    {
     "data": {
      "text/plain": [
       "array([28.5, -2.5,  0.5, 19.5])"
      ]
     },
     "execution_count": 15,
     "metadata": {},
     "output_type": "execute_result"
    }
   ],
   "source": [
    "(X_y[:, 0] - study_mean) * (X_y[:, 1] - score_mean)"
   ]
  },
  {
   "cell_type": "code",
   "execution_count": 16,
   "metadata": {},
   "outputs": [
    {
     "data": {
      "text/plain": [
       "46.0"
      ]
     },
     "execution_count": 16,
     "metadata": {},
     "output_type": "execute_result"
    }
   ],
   "source": [
    "sum((X_y[:, 0] - study_mean) * (X_y[:, 1] - score_mean))"
   ]
  },
  {
   "cell_type": "code",
   "execution_count": 17,
   "metadata": {},
   "outputs": [],
   "source": [
    "a = sum((X_y[:, 0] - study_mean) * (X_y[:, 1] - score_mean)) / sum((X_y[:, 0] - study_mean) ** 2)"
   ]
  },
  {
   "cell_type": "code",
   "execution_count": 18,
   "metadata": {},
   "outputs": [
    {
     "data": {
      "text/plain": [
       "2.3"
      ]
     },
     "execution_count": 18,
     "metadata": {},
     "output_type": "execute_result"
    }
   ],
   "source": [
    "a"
   ]
  },
  {
   "cell_type": "code",
   "execution_count": 19,
   "metadata": {},
   "outputs": [],
   "source": [
    "intercept = score_mean - (a * study_mean)"
   ]
  },
  {
   "cell_type": "code",
   "execution_count": 20,
   "metadata": {},
   "outputs": [
    {
     "data": {
      "text/plain": [
       "79.0"
      ]
     },
     "execution_count": 20,
     "metadata": {},
     "output_type": "execute_result"
    }
   ],
   "source": [
    "intercept"
   ]
  },
  {
   "cell_type": "code",
   "execution_count": 21,
   "metadata": {},
   "outputs": [],
   "source": [
    "# 회귀모델"
   ]
  },
  {
   "cell_type": "code",
   "execution_count": 22,
   "metadata": {},
   "outputs": [],
   "source": [
    "# y = 2.3x + 79"
   ]
  },
  {
   "cell_type": "code",
   "execution_count": 23,
   "metadata": {},
   "outputs": [],
   "source": [
    "fake_a = 3\n",
    "fake_b = 76"
   ]
  },
  {
   "cell_type": "code",
   "execution_count": 24,
   "metadata": {},
   "outputs": [],
   "source": [
    "def predice(x):\n",
    "    return fake_a * x + fake_b"
   ]
  },
  {
   "cell_type": "code",
   "execution_count": 25,
   "metadata": {},
   "outputs": [],
   "source": [
    "predice_result = []"
   ]
  },
  {
   "cell_type": "code",
   "execution_count": 26,
   "metadata": {},
   "outputs": [],
   "source": [
    "x = np.array([2,4,6,8])\n",
    "y = np.array([81,93,91,97])"
   ]
  },
  {
   "cell_type": "code",
   "execution_count": 27,
   "metadata": {},
   "outputs": [
    {
     "name": "stdout",
     "output_type": "stream",
     "text": [
      "공부시간=2.00, 실제점수=81.00, 예측점수=82.00\n",
      "공부시간=4.00, 실제점수=93.00, 예측점수=88.00\n",
      "공부시간=6.00, 실제점수=91.00, 예측점수=94.00\n",
      "공부시간=8.00, 실제점수=97.00, 예측점수=100.00\n"
     ]
    }
   ],
   "source": [
    "for i in range(len(x)):\n",
    "    predice_result.append(predice(x[i]))\n",
    "    print(f\"공부시간={x[i]:.2f}, 실제점수={y[i]:.2f}, 예측점수={predice(x[i]):.2f}\")"
   ]
  },
  {
   "cell_type": "code",
   "execution_count": 28,
   "metadata": {},
   "outputs": [],
   "source": [
    "n=len(x)\n",
    "def mse(y, y_pred):\n",
    "    return (1/n) * sum((y - y_pred)**2)"
   ]
  },
  {
   "cell_type": "code",
   "execution_count": 29,
   "metadata": {},
   "outputs": [
    {
     "name": "stdout",
     "output_type": "stream",
     "text": [
      "평균 제곱 오차 : 11.0\n"
     ]
    }
   ],
   "source": [
    "print(f\"평균 제곱 오차 : {mse(y, predice_result)}\")"
   ]
  },
  {
   "cell_type": "code",
   "execution_count": 30,
   "metadata": {},
   "outputs": [],
   "source": [
    "import sympy as sp"
   ]
  },
  {
   "cell_type": "code",
   "execution_count": 31,
   "metadata": {},
   "outputs": [],
   "source": [
    "a, x, b = sp.symbols('a x b')"
   ]
  },
  {
   "cell_type": "code",
   "execution_count": 32,
   "metadata": {},
   "outputs": [
    {
     "name": "stdout",
     "output_type": "stream",
     "text": [
      "a x b\n"
     ]
    }
   ],
   "source": [
    "print(a, x, b)"
   ]
  },
  {
   "cell_type": "code",
   "execution_count": 33,
   "metadata": {},
   "outputs": [],
   "source": [
    "y = (a * x + b) ** 2"
   ]
  },
  {
   "cell_type": "code",
   "execution_count": 34,
   "metadata": {},
   "outputs": [
    {
     "data": {
      "text/latex": [
       "$\\displaystyle \\left(a x + b\\right)^{2}$"
      ],
      "text/plain": [
       "(a*x + b)**2"
      ]
     },
     "execution_count": 34,
     "metadata": {},
     "output_type": "execute_result"
    }
   ],
   "source": [
    "y"
   ]
  },
  {
   "cell_type": "code",
   "execution_count": 35,
   "metadata": {},
   "outputs": [
    {
     "data": {
      "text/latex": [
       "$\\displaystyle a^{2} x^{2} + 2 a b x + b^{2}$"
      ],
      "text/plain": [
       "a**2*x**2 + 2*a*b*x + b**2"
      ]
     },
     "execution_count": 35,
     "metadata": {},
     "output_type": "execute_result"
    }
   ],
   "source": [
    "y.expand()"
   ]
  },
  {
   "cell_type": "code",
   "execution_count": 36,
   "metadata": {},
   "outputs": [
    {
     "data": {
      "text/latex": [
       "$\\displaystyle 2 x \\left(a x + b\\right)$"
      ],
      "text/plain": [
       "2*x*(a*x + b)"
      ]
     },
     "execution_count": 36,
     "metadata": {},
     "output_type": "execute_result"
    }
   ],
   "source": [
    "sp.diff(y, a)"
   ]
  },
  {
   "cell_type": "code",
   "execution_count": 37,
   "metadata": {},
   "outputs": [
    {
     "data": {
      "text/latex": [
       "$\\displaystyle x$"
      ],
      "text/plain": [
       "x"
      ]
     },
     "execution_count": 37,
     "metadata": {},
     "output_type": "execute_result"
    }
   ],
   "source": [
    "x"
   ]
  },
  {
   "cell_type": "code",
   "execution_count": 38,
   "metadata": {},
   "outputs": [],
   "source": [
    "x = np.array([2,4,6,8])\n",
    "y = np.array([81,93,91,97])"
   ]
  },
  {
   "cell_type": "code",
   "execution_count": 39,
   "metadata": {},
   "outputs": [],
   "source": [
    "import matplotlib.pyplot as plt"
   ]
  },
  {
   "cell_type": "code",
   "execution_count": 40,
   "metadata": {},
   "outputs": [
    {
     "data": {
      "text/plain": [
       "[]"
      ]
     },
     "execution_count": 40,
     "metadata": {},
     "output_type": "execute_result"
    },
    {
     "data": {
      "image/png": "[encoded data removed]",
      "text/plain": [
       "<Figure size 640x480 with 1 Axes>"
      ]
     },
     "metadata": {},
     "output_type": "display_data"
    }
   ],
   "source": [
    "plt.plot(x, y, 'or')\n",
    "plt.plot()"
   ]
  },
  {
   "cell_type": "code",
   "execution_count": 41,
   "metadata": {},
   "outputs": [
    {
     "data": {
      "text/plain": [
       "[]"
      ]
     },
     "execution_count": 41,
     "metadata": {},
     "output_type": "execute_result"
    },
    {
     "data": {
      "image/png": "[encoded data removed]",
      "text/plain": [
       "<Figure size 640x480 with 1 Axes>"
      ]
     },
     "metadata": {},
     "output_type": "display_data"
    }
   ],
   "source": [
    "plt.scatter(x, y)\n",
    "plt.plot()"
   ]
  },
  {
   "cell_type": "code",
   "execution_count": 42,
   "metadata": {},
   "outputs": [],
   "source": [
    "# 매개변수(parameter, wdight) 초기화"
   ]
  },
  {
   "cell_type": "code",
   "execution_count": 43,
   "metadata": {},
   "outputs": [],
   "source": [
    "a, b = 0, 0"
   ]
  },
  {
   "cell_type": "code",
   "execution_count": 44,
   "metadata": {},
   "outputs": [],
   "source": [
    "learning_rate = 0.03 # 학습률"
   ]
  },
  {
   "cell_type": "code",
   "execution_count": 45,
   "metadata": {},
   "outputs": [],
   "source": [
    "epochs = 2001"
   ]
  },
  {
   "cell_type": "code",
   "execution_count": 46,
   "metadata": {},
   "outputs": [],
   "source": [
    "n = len(x)"
   ]
  },
  {
   "cell_type": "code",
   "execution_count": 47,
   "metadata": {},
   "outputs": [
    {
     "name": "stdout",
     "output_type": "stream",
     "text": [
      "epoch=0, 기울기=27.8400, 절편=5.4300\n",
      "epoch=100, 기울기=7.0739, 절편=50.5117\n",
      "epoch=200, 기울기=4.0960, 절편=68.2822\n",
      "epoch=300, 기울기=2.9757, 절편=74.9678\n",
      "epoch=400, 기울기=2.5542, 절편=77.4830\n",
      "epoch=500, 기울기=2.3956, 절편=78.4293\n",
      "epoch=600, 기울기=2.3360, 절편=78.7853\n",
      "epoch=700, 기울기=2.3135, 절편=78.9192\n",
      "epoch=800, 기울기=2.3051, 절편=78.9696\n",
      "epoch=900, 기울기=2.3019, 절편=78.9886\n",
      "epoch=1000, 기울기=2.3007, 절편=78.9957\n",
      "epoch=1100, 기울기=2.3003, 절편=78.9984\n",
      "epoch=1200, 기울기=2.3001, 절편=78.9994\n",
      "epoch=1300, 기울기=2.3000, 절편=78.9998\n",
      "epoch=1400, 기울기=2.3000, 절편=78.9999\n",
      "epoch=1500, 기울기=2.3000, 절편=79.0000\n",
      "epoch=1600, 기울기=2.3000, 절편=79.0000\n",
      "epoch=1700, 기울기=2.3000, 절편=79.0000\n",
      "epoch=1800, 기울기=2.3000, 절편=79.0000\n",
      "epoch=1900, 기울기=2.3000, 절편=79.0000\n",
      "epoch=2000, 기울기=2.3000, 절편=79.0000\n"
     ]
    }
   ],
   "source": [
    "for i in range(epochs):\n",
    "    y_pred = a*x+b\n",
    "    error = y - y_pred\n",
    "\n",
    "    a_diff = (2/n) * sum(-x*(error))\n",
    "    b_diff = (2/n) * sum(-(error))\n",
    "\n",
    "    a = a - learning_rate * a_diff\n",
    "    b = b - learning_rate * b_diff\n",
    "\n",
    "    if i % 100 == 0:\n",
    "        print(f\"epoch={i}, 기울기={a:.4f}, 절편={b:.4f}\")"
   ]
  },
  {
   "cell_type": "code",
   "execution_count": 48,
   "metadata": {},
   "outputs": [
    {
     "data": {
      "image/png": "[encoded data removed]",
      "text/plain": [
       "<Figure size 640x480 with 1 Axes>"
      ]
     },
     "metadata": {},
     "output_type": "display_data"
    }
   ],
   "source": [
    "plt.scatter(x, y)\n",
    "plt.plot(x, y_pred, 'r')\n",
    "plt.show()"
   ]
  },
  {
   "cell_type": "markdown",
   "metadata": {},
   "source": [
    "## 다중 선형 회귀"
   ]
  },
  {
   "cell_type": "code",
   "execution_count": 50,
   "metadata": {},
   "outputs": [],
   "source": [
    "import numpy as np"
   ]
  },
  {
   "cell_type": "code",
   "execution_count": null,
   "metadata": {},
   "outputs": [],
   "source": [
    "x1 = np.array([2,4,6,8])\n",
    "x2 = np.array([0,4,2,3])\n",
    "y = np.array([81,93,91,97])"
   ]
  },
  {
   "cell_type": "code",
   "execution_count": 51,
   "metadata": {},
   "outputs": [],
   "source": [
    "import matplotlib.pyplot as plt"
   ]
  },
  {
   "cell_type": "code",
   "execution_count": 60,
   "metadata": {},
   "outputs": [
    {
     "data": {
      "image/png": "[encoded data removed]",
      "text/plain": [
       "<Figure size 640x480 with 1 Axes>"
      ]
     },
     "metadata": {},
     "output_type": "display_data"
    }
   ],
   "source": [
    "from matplotlib import rc\n",
    "plt.rcParams['font.family'] = 'Malgun Gothic' # \n",
    "\n",
    "x1 = np.array([2,4,6,8])\n",
    "x2 = np.array([0,4,2,3])\n",
    "y = np.array([81,93,91,97])\n",
    "fig = plt.figure()\n",
    "ax = fig.add_subplot(111, projection='3d')\n",
    "ax.scatter3D(x1, x2, y)\n",
    "ax.set_xlabel('공부한시간') # 한글 깨짐\n",
    "plt.show()"
   ]
  },
  {
   "cell_type": "code",
   "execution_count": 76,
   "metadata": {},
   "outputs": [],
   "source": [
    "a1, a2, b = 0, 0, 0"
   ]
  },
  {
   "cell_type": "code",
   "execution_count": 74,
   "metadata": {},
   "outputs": [],
   "source": [
    "y_pred = a1 * x1 + a2 * x2 + b"
   ]
  },
  {
   "cell_type": "code",
   "execution_count": 75,
   "metadata": {},
   "outputs": [],
   "source": [
    "error = y - y_pred"
   ]
  },
  {
   "cell_type": "code",
   "execution_count": 64,
   "metadata": {},
   "outputs": [],
   "source": [
    "n=len(x1)\n",
    "a1_diff = (2/n)*sum(-x1 * (error))\n",
    "a2_diff = (2/n)*sum(-x2 * (error))\n",
    "b_diff = (2/n)*sum(-(error))"
   ]
  },
  {
   "cell_type": "code",
   "execution_count": 77,
   "metadata": {},
   "outputs": [],
   "source": [
    "epochs = 2001"
   ]
  },
  {
   "cell_type": "code",
   "execution_count": 78,
   "metadata": {},
   "outputs": [],
   "source": [
    "learning_rate = 0.03 # 학습률 (Eta)"
   ]
  },
  {
   "cell_type": "code",
   "execution_count": 70,
   "metadata": {},
   "outputs": [],
   "source": [
    "# a1 = a1 - a1_diff * learning_rate\n",
    "# a2 = a2 - a2_diff * learning_rate\n",
    "# b = b - b_diff * learning_rate"
   ]
  },
  {
   "cell_type": "code",
   "execution_count": 85,
   "metadata": {},
   "outputs": [
    {
     "name": "stdout",
     "output_type": "stream",
     "text": [
      "epochs=0, 기울기1=23.2000, 기울기2=10.5625, y절편=4.5250\n",
      "epochs=100, 기울기1=6.4348, 기울기2=3.9893, y절편=43.9757\n",
      "epochs=200, 기울기1=3.7255, 기울기2=3.0541, y절편=62.5766\n",
      "epochs=300, 기울기1=2.5037, 기울기2=2.6323, y절편=70.9656\n",
      "epochs=400, 기울기1=1.9527, 기울기2=2.4420, y절편=74.7491\n",
      "epochs=500, 기울기1=1.7042, 기울기2=2.3562, y절편=76.4554\n",
      "epochs=600, 기울기1=1.5921, 기울기2=2.3175, y절편=77.2250\n",
      "epochs=700, 기울기1=1.5415, 기울기2=2.3001, y절편=77.5720\n",
      "epochs=800, 기울기1=1.5187, 기울기2=2.2922, y절편=77.7286\n",
      "epochs=900, 기울기1=1.5084, 기울기2=2.2886, y절편=77.7992\n",
      "epochs=1000, 기울기1=1.5038, 기울기2=2.2870, y절편=77.8310\n",
      "epochs=1100, 기울기1=1.5017, 기울기2=2.2863, y절편=77.8453\n",
      "epochs=1200, 기울기1=1.5008, 기울기2=2.2860, y절편=77.8518\n",
      "epochs=1300, 기울기1=1.5003, 기울기2=2.2858, y절편=77.8547\n",
      "epochs=1400, 기울기1=1.5002, 기울기2=2.2858, y절편=77.8561\n",
      "epochs=1500, 기울기1=1.5001, 기울기2=2.2857, y절편=77.8567\n",
      "epochs=1600, 기울기1=1.5000, 기울기2=2.2857, y절편=77.8569\n",
      "epochs=1700, 기울기1=1.5000, 기울기2=2.2857, y절편=77.8570\n",
      "epochs=1800, 기울기1=1.5000, 기울기2=2.2857, y절편=77.8571\n",
      "epochs=1900, 기울기1=1.5000, 기울기2=2.2857, y절편=77.8571\n",
      "epochs=2000, 기울기1=1.5000, 기울기2=2.2857, y절편=77.8571\n"
     ]
    }
   ],
   "source": [
    "x1 = np.array([2,4,6,8])\n",
    "x2 = np.array([0,4,2,3])\n",
    "y = np.array([81,93,91,97])\n",
    "\n",
    "a1, a2, b = 0, 0, 0\n",
    "\n",
    "n=len(x1)\n",
    "epochs = 2001\n",
    "learning_rate = 0.025 # 학습률 (Eta)\n",
    "\n",
    "for i in range(epochs):\n",
    "    y_pred = a1 * x1 + a2 * x2 + b\n",
    "    error = y - y_pred\n",
    "\n",
    "    a1_diff = (2/n)*sum(-x1 * (error))\n",
    "    a2_diff = (2/n)*sum(-x2 * (error))\n",
    "    b_diff = (2/n)*sum(-(error))\n",
    "\n",
    "    a1 = a1 - a1_diff * learning_rate\n",
    "    a2 = a2 - a2_diff * learning_rate\n",
    "    b = b - b_diff * learning_rate\n",
    "\n",
    "    if i % 100 == 0: \n",
    "        print(f\"epochs={i}, 기울기1={a1:.4f}, 기울기2={a2:.4f}, y절편={b:.4f}\")"
   ]
  },
  {
   "cell_type": "code",
   "execution_count": 86,
   "metadata": {},
   "outputs": [],
   "source": [
    "# y = 1.5 * x1 + 2.2857 * x2 + 77.8571 "
   ]
  },
  {
   "cell_type": "code",
   "execution_count": 87,
   "metadata": {},
   "outputs": [],
   "source": [
    "# 텐서플로에서 실행하는 선형 회귀, 다중 선형 회귀 모델"
   ]
  },
  {
   "cell_type": "code",
   "execution_count": 88,
   "metadata": {},
   "outputs": [],
   "source": [
    "import numpy as np\n",
    "import matplotlib.pyplot as plt\n",
    "\n",
    "# 텐서플로의 케라스 API에서 필요한 함수\n",
    "from tensorflow.keras.models import Sequential\n",
    "from tensorflow.keras.layers import Dense"
   ]
  },
  {
   "cell_type": "code",
   "execution_count": 89,
   "metadata": {},
   "outputs": [],
   "source": [
    "x = np.array([2, 4, 6, 8])\n",
    "y = np.array([81, 93, 91, 97]) "
   ]
  },
  {
   "cell_type": "code",
   "execution_count": 90,
   "metadata": {},
   "outputs": [],
   "source": [
    "model = Sequential()"
   ]
  },
  {
   "cell_type": "code",
   "execution_count": null,
   "metadata": {},
   "outputs": [],
   "source": [
    "model.add(Dense())"
   ]
  }
 ],
 "metadata": {
  "kernelspec": {
   "display_name": "mldltest1",
   "language": "python",
   "name": "python3"
  },
  "language_info": {
   "codemirror_mode": {
    "name": "ipython",
    "version": 3
   },
   "file_extension": ".py",
   "mimetype": "text/x-python",
   "name": "python",
   "nbconvert_exporter": "python",
   "pygments_lexer": "ipython3",
   "version": "3.8.19"
  }
 },
 "nbformat": 4,
 "nbformat_minor": 2
}
