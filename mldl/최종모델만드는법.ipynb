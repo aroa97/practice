{
 "cells": [
  {
   "cell_type": "code",
   "execution_count": 1,
   "metadata": {},
   "outputs": [],
   "source": [
    "from tensorflow.keras.models import Sequential\n",
    "from tensorflow.keras.layers import Dense\n",
    "import pandas as pd\n",
    "import numpy as np"
   ]
  },
  {
   "cell_type": "code",
   "execution_count": 2,
   "metadata": {},
   "outputs": [],
   "source": [
    "df = pd.read_csv('C:/ex/mldl/data/wine_copy.csv', header=None)"
   ]
  },
  {
   "cell_type": "code",
   "execution_count": 4,
   "metadata": {},
   "outputs": [
    {
     "name": "stdout",
     "output_type": "stream",
     "text": [
      "<class 'pandas.core.frame.DataFrame'>\n",
      "RangeIndex: 6497 entries, 0 to 6496\n",
      "Data columns (total 13 columns):\n",
      " #   Column  Non-Null Count  Dtype  \n",
      "---  ------  --------------  -----  \n",
      " 0   0       6497 non-null   float64\n",
      " 1   1       6497 non-null   float64\n",
      " 2   2       6497 non-null   float64\n",
      " 3   3       6497 non-null   float64\n",
      " 4   4       6497 non-null   float64\n",
      " 5   5       6497 non-null   float64\n",
      " 6   6       6497 non-null   float64\n",
      " 7   7       6497 non-null   float64\n",
      " 8   8       6497 non-null   float64\n",
      " 9   9       6497 non-null   float64\n",
      " 10  10      6497 non-null   float64\n",
      " 11  11      6497 non-null   int64  \n",
      " 12  12      6497 non-null   int64  \n",
      "dtypes: float64(11), int64(2)\n",
      "memory usage: 660.0 KB\n"
     ]
    }
   ],
   "source": [
    "df.info()"
   ]
  },
  {
   "cell_type": "code",
   "execution_count": 6,
   "metadata": {},
   "outputs": [],
   "source": [
    "X = df.iloc[:, :-1]\n",
    "y = df.iloc[:, -1]"
   ]
  },
  {
   "cell_type": "code",
   "execution_count": 7,
   "metadata": {},
   "outputs": [],
   "source": [
    "from sklearn.model_selection import train_test_split"
   ]
  },
  {
   "cell_type": "code",
   "execution_count": 11,
   "metadata": {},
   "outputs": [
    {
     "data": {
      "text/plain": [
       "5197.6"
      ]
     },
     "execution_count": 11,
     "metadata": {},
     "output_type": "execute_result"
    }
   ],
   "source": [
    "6497 * 0.8"
   ]
  },
  {
   "cell_type": "code",
   "execution_count": 12,
   "metadata": {},
   "outputs": [
    {
     "data": {
      "text/plain": [
       "1299.4"
      ]
     },
     "execution_count": 12,
     "metadata": {},
     "output_type": "execute_result"
    }
   ],
   "source": [
    "6497 * 0.2"
   ]
  },
  {
   "cell_type": "code",
   "execution_count": 8,
   "metadata": {},
   "outputs": [],
   "source": [
    "X_train, X_test, y_train, y_test = train_test_split(X, y, test_size=0.2, shuffle=True)"
   ]
  },
  {
   "cell_type": "code",
   "execution_count": 10,
   "metadata": {},
   "outputs": [
    {
     "name": "stdout",
     "output_type": "stream",
     "text": [
      "(5197, 12)\n",
      "(1300, 12)\n",
      "(5197,)\n",
      "(1300,)\n"
     ]
    }
   ],
   "source": [
    "print(X_train.shape)\n",
    "print(X_test.shape)\n",
    "print(y_train.shape)\n",
    "print(y_test.shape)"
   ]
  },
  {
   "cell_type": "code",
   "execution_count": 17,
   "metadata": {},
   "outputs": [
    {
     "name": "stdout",
     "output_type": "stream",
     "text": [
      "Epoch 1/50\n"
     ]
    },
    {
     "name": "stderr",
     "output_type": "stream",
     "text": [
      "c:\\ProgramData\\anaconda3\\envs\\mldl\\Lib\\site-packages\\keras\\src\\layers\\core\\dense.py:87: UserWarning: Do not pass an `input_shape`/`input_dim` argument to a layer. When using Sequential models, prefer using an `Input(shape)` object as the first layer in the model instead.\n",
      "  super().__init__(activity_regularizer=activity_regularizer, **kwargs)\n"
     ]
    },
    {
     "name": "stdout",
     "output_type": "stream",
     "text": [
      "\u001b[1m8/8\u001b[0m \u001b[32m━━━━━━━━━━━━━━━━━━━━\u001b[0m\u001b[37m\u001b[0m \u001b[1m1s\u001b[0m 25ms/step - accuracy: 0.7327 - loss: 1.2071 - val_accuracy: 0.7592 - val_loss: 0.9064\n",
      "Epoch 2/50\n",
      "\u001b[1m8/8\u001b[0m \u001b[32m━━━━━━━━━━━━━━━━━━━━\u001b[0m\u001b[37m\u001b[0m \u001b[1m0s\u001b[0m 5ms/step - accuracy: 0.7500 - loss: 0.8857 - val_accuracy: 0.7592 - val_loss: 0.6719\n",
      "Epoch 3/50\n",
      "\u001b[1m8/8\u001b[0m \u001b[32m━━━━━━━━━━━━━━━━━━━━\u001b[0m\u001b[37m\u001b[0m \u001b[1m0s\u001b[0m 4ms/step - accuracy: 0.7504 - loss: 0.6382 - val_accuracy: 0.7646 - val_loss: 0.4634\n",
      "Epoch 4/50\n",
      "\u001b[1m8/8\u001b[0m \u001b[32m━━━━━━━━━━━━━━━━━━━━\u001b[0m\u001b[37m\u001b[0m \u001b[1m0s\u001b[0m 5ms/step - accuracy: 0.7582 - loss: 0.4529 - val_accuracy: 0.8500 - val_loss: 0.3289\n",
      "Epoch 5/50\n",
      "\u001b[1m8/8\u001b[0m \u001b[32m━━━━━━━━━━━━━━━━━━━━\u001b[0m\u001b[37m\u001b[0m \u001b[1m0s\u001b[0m 5ms/step - accuracy: 0.8486 - loss: 0.3299 - val_accuracy: 0.9169 - val_loss: 0.2425\n",
      "Epoch 6/50\n",
      "\u001b[1m8/8\u001b[0m \u001b[32m━━━━━━━━━━━━━━━━━━━━\u001b[0m\u001b[37m\u001b[0m \u001b[1m0s\u001b[0m 5ms/step - accuracy: 0.9050 - loss: 0.2748 - val_accuracy: 0.9292 - val_loss: 0.2121\n",
      "Epoch 7/50\n",
      "\u001b[1m8/8\u001b[0m \u001b[32m━━━━━━━━━━━━━━━━━━━━\u001b[0m\u001b[37m\u001b[0m \u001b[1m0s\u001b[0m 7ms/step - accuracy: 0.9143 - loss: 0.2493 - val_accuracy: 0.9331 - val_loss: 0.1989\n",
      "Epoch 8/50\n",
      "\u001b[1m8/8\u001b[0m \u001b[32m━━━━━━━━━━━━━━━━━━━━\u001b[0m\u001b[37m\u001b[0m \u001b[1m0s\u001b[0m 5ms/step - accuracy: 0.9164 - loss: 0.2356 - val_accuracy: 0.9369 - val_loss: 0.1951\n",
      "Epoch 9/50\n",
      "\u001b[1m8/8\u001b[0m \u001b[32m━━━━━━━━━━━━━━━━━━━━\u001b[0m\u001b[37m\u001b[0m \u001b[1m0s\u001b[0m 5ms/step - accuracy: 0.9221 - loss: 0.2252 - val_accuracy: 0.9369 - val_loss: 0.1897\n",
      "Epoch 10/50\n",
      "\u001b[1m8/8\u001b[0m \u001b[32m━━━━━━━━━━━━━━━━━━━━\u001b[0m\u001b[37m\u001b[0m \u001b[1m0s\u001b[0m 5ms/step - accuracy: 0.9171 - loss: 0.2324 - val_accuracy: 0.9415 - val_loss: 0.1841\n",
      "Epoch 11/50\n",
      "\u001b[1m8/8\u001b[0m \u001b[32m━━━━━━━━━━━━━━━━━━━━\u001b[0m\u001b[37m\u001b[0m \u001b[1m0s\u001b[0m 5ms/step - accuracy: 0.9282 - loss: 0.2095 - val_accuracy: 0.9454 - val_loss: 0.1895\n",
      "Epoch 12/50\n",
      "\u001b[1m8/8\u001b[0m \u001b[32m━━━━━━━━━━━━━━━━━━━━\u001b[0m\u001b[37m\u001b[0m \u001b[1m0s\u001b[0m 6ms/step - accuracy: 0.9207 - loss: 0.2245 - val_accuracy: 0.9362 - val_loss: 0.1814\n",
      "Epoch 13/50\n",
      "\u001b[1m8/8\u001b[0m \u001b[32m━━━━━━━━━━━━━━━━━━━━\u001b[0m\u001b[37m\u001b[0m \u001b[1m0s\u001b[0m 5ms/step - accuracy: 0.9207 - loss: 0.2315 - val_accuracy: 0.9454 - val_loss: 0.1780\n",
      "Epoch 14/50\n",
      "\u001b[1m8/8\u001b[0m \u001b[32m━━━━━━━━━━━━━━━━━━━━\u001b[0m\u001b[37m\u001b[0m \u001b[1m0s\u001b[0m 5ms/step - accuracy: 0.9309 - loss: 0.2038 - val_accuracy: 0.9469 - val_loss: 0.1753\n",
      "Epoch 15/50\n",
      "\u001b[1m8/8\u001b[0m \u001b[32m━━━━━━━━━━━━━━━━━━━━\u001b[0m\u001b[37m\u001b[0m \u001b[1m0s\u001b[0m 5ms/step - accuracy: 0.9253 - loss: 0.2082 - val_accuracy: 0.9415 - val_loss: 0.1721\n",
      "Epoch 16/50\n",
      "\u001b[1m8/8\u001b[0m \u001b[32m━━━━━━━━━━━━━━━━━━━━\u001b[0m\u001b[37m\u001b[0m \u001b[1m0s\u001b[0m 5ms/step - accuracy: 0.9266 - loss: 0.2005 - val_accuracy: 0.9477 - val_loss: 0.1800\n",
      "Epoch 17/50\n",
      "\u001b[1m8/8\u001b[0m \u001b[32m━━━━━━━━━━━━━━━━━━━━\u001b[0m\u001b[37m\u001b[0m \u001b[1m0s\u001b[0m 5ms/step - accuracy: 0.9255 - loss: 0.2105 - val_accuracy: 0.9423 - val_loss: 0.1648\n",
      "Epoch 18/50\n",
      "\u001b[1m8/8\u001b[0m \u001b[32m━━━━━━━━━━━━━━━━━━━━\u001b[0m\u001b[37m\u001b[0m \u001b[1m0s\u001b[0m 5ms/step - accuracy: 0.9261 - loss: 0.2071 - val_accuracy: 0.9492 - val_loss: 0.1620\n",
      "Epoch 19/50\n",
      "\u001b[1m8/8\u001b[0m \u001b[32m━━━━━━━━━━━━━━━━━━━━\u001b[0m\u001b[37m\u001b[0m \u001b[1m0s\u001b[0m 6ms/step - accuracy: 0.9331 - loss: 0.1991 - val_accuracy: 0.9515 - val_loss: 0.1610\n",
      "Epoch 20/50\n",
      "\u001b[1m8/8\u001b[0m \u001b[32m━━━━━━━━━━━━━━━━━━━━\u001b[0m\u001b[37m\u001b[0m \u001b[1m0s\u001b[0m 7ms/step - accuracy: 0.9288 - loss: 0.1953 - val_accuracy: 0.9485 - val_loss: 0.1563\n",
      "Epoch 21/50\n",
      "\u001b[1m8/8\u001b[0m \u001b[32m━━━━━━━━━━━━━━━━━━━━\u001b[0m\u001b[37m\u001b[0m \u001b[1m0s\u001b[0m 5ms/step - accuracy: 0.9295 - loss: 0.1964 - val_accuracy: 0.9485 - val_loss: 0.1529\n",
      "Epoch 22/50\n",
      "\u001b[1m8/8\u001b[0m \u001b[32m━━━━━━━━━━━━━━━━━━━━\u001b[0m\u001b[37m\u001b[0m \u001b[1m0s\u001b[0m 7ms/step - accuracy: 0.9348 - loss: 0.1809 - val_accuracy: 0.9531 - val_loss: 0.1579\n",
      "Epoch 23/50\n",
      "\u001b[1m8/8\u001b[0m \u001b[32m━━━━━━━━━━━━━━━━━━━━\u001b[0m\u001b[37m\u001b[0m \u001b[1m0s\u001b[0m 5ms/step - accuracy: 0.9337 - loss: 0.1834 - val_accuracy: 0.9523 - val_loss: 0.1540\n",
      "Epoch 24/50\n",
      "\u001b[1m8/8\u001b[0m \u001b[32m━━━━━━━━━━━━━━━━━━━━\u001b[0m\u001b[37m\u001b[0m \u001b[1m0s\u001b[0m 5ms/step - accuracy: 0.9338 - loss: 0.1866 - val_accuracy: 0.9431 - val_loss: 0.1494\n",
      "Epoch 25/50\n",
      "\u001b[1m8/8\u001b[0m \u001b[32m━━━━━━━━━━━━━━━━━━━━\u001b[0m\u001b[37m\u001b[0m \u001b[1m0s\u001b[0m 5ms/step - accuracy: 0.9352 - loss: 0.1785 - val_accuracy: 0.9538 - val_loss: 0.1434\n",
      "Epoch 26/50\n",
      "\u001b[1m8/8\u001b[0m \u001b[32m━━━━━━━━━━━━━━━━━━━━\u001b[0m\u001b[37m\u001b[0m \u001b[1m0s\u001b[0m 5ms/step - accuracy: 0.9389 - loss: 0.1681 - val_accuracy: 0.9554 - val_loss: 0.1492\n",
      "Epoch 27/50\n",
      "\u001b[1m8/8\u001b[0m \u001b[32m━━━━━━━━━━━━━━━━━━━━\u001b[0m\u001b[37m\u001b[0m \u001b[1m0s\u001b[0m 5ms/step - accuracy: 0.9382 - loss: 0.1715 - val_accuracy: 0.9538 - val_loss: 0.1384\n",
      "Epoch 28/50\n",
      "\u001b[1m8/8\u001b[0m \u001b[32m━━━━━━━━━━━━━━━━━━━━\u001b[0m\u001b[37m\u001b[0m \u001b[1m0s\u001b[0m 5ms/step - accuracy: 0.9402 - loss: 0.1674 - val_accuracy: 0.9546 - val_loss: 0.1384\n",
      "Epoch 29/50\n",
      "\u001b[1m8/8\u001b[0m \u001b[32m━━━━━━━━━━━━━━━━━━━━\u001b[0m\u001b[37m\u001b[0m \u001b[1m0s\u001b[0m 5ms/step - accuracy: 0.9362 - loss: 0.1693 - val_accuracy: 0.9546 - val_loss: 0.1359\n",
      "Epoch 30/50\n",
      "\u001b[1m8/8\u001b[0m \u001b[32m━━━━━━━━━━━━━━━━━━━━\u001b[0m\u001b[37m\u001b[0m \u001b[1m0s\u001b[0m 5ms/step - accuracy: 0.9397 - loss: 0.1600 - val_accuracy: 0.9546 - val_loss: 0.1332\n",
      "Epoch 31/50\n",
      "\u001b[1m8/8\u001b[0m \u001b[32m━━━━━━━━━━━━━━━━━━━━\u001b[0m\u001b[37m\u001b[0m \u001b[1m0s\u001b[0m 4ms/step - accuracy: 0.9393 - loss: 0.1659 - val_accuracy: 0.9562 - val_loss: 0.1287\n",
      "Epoch 32/50\n",
      "\u001b[1m8/8\u001b[0m \u001b[32m━━━━━━━━━━━━━━━━━━━━\u001b[0m\u001b[37m\u001b[0m \u001b[1m0s\u001b[0m 5ms/step - accuracy: 0.9453 - loss: 0.1572 - val_accuracy: 0.9592 - val_loss: 0.1277\n",
      "Epoch 33/50\n",
      "\u001b[1m8/8\u001b[0m \u001b[32m━━━━━━━━━━━━━━━━━━━━\u001b[0m\u001b[37m\u001b[0m \u001b[1m0s\u001b[0m 5ms/step - accuracy: 0.9460 - loss: 0.1486 - val_accuracy: 0.9608 - val_loss: 0.1270\n",
      "Epoch 34/50\n",
      "\u001b[1m8/8\u001b[0m \u001b[32m━━━━━━━━━━━━━━━━━━━━\u001b[0m\u001b[37m\u001b[0m \u001b[1m0s\u001b[0m 5ms/step - accuracy: 0.9394 - loss: 0.1533 - val_accuracy: 0.9600 - val_loss: 0.1250\n",
      "Epoch 35/50\n",
      "\u001b[1m8/8\u001b[0m \u001b[32m━━━━━━━━━━━━━━━━━━━━\u001b[0m\u001b[37m\u001b[0m \u001b[1m0s\u001b[0m 6ms/step - accuracy: 0.9464 - loss: 0.1452 - val_accuracy: 0.9600 - val_loss: 0.1224\n",
      "Epoch 36/50\n",
      "\u001b[1m8/8\u001b[0m \u001b[32m━━━━━━━━━━━━━━━━━━━━\u001b[0m\u001b[37m\u001b[0m \u001b[1m0s\u001b[0m 5ms/step - accuracy: 0.9477 - loss: 0.1418 - val_accuracy: 0.9592 - val_loss: 0.1241\n",
      "Epoch 37/50\n",
      "\u001b[1m8/8\u001b[0m \u001b[32m━━━━━━━━━━━━━━━━━━━━\u001b[0m\u001b[37m\u001b[0m \u001b[1m0s\u001b[0m 5ms/step - accuracy: 0.9463 - loss: 0.1427 - val_accuracy: 0.9600 - val_loss: 0.1161\n",
      "Epoch 38/50\n",
      "\u001b[1m8/8\u001b[0m \u001b[32m━━━━━━━━━━━━━━━━━━━━\u001b[0m\u001b[37m\u001b[0m \u001b[1m0s\u001b[0m 5ms/step - accuracy: 0.9489 - loss: 0.1376 - val_accuracy: 0.9585 - val_loss: 0.1139\n",
      "Epoch 39/50\n",
      "\u001b[1m8/8\u001b[0m \u001b[32m━━━━━━━━━━━━━━━━━━━━\u001b[0m\u001b[37m\u001b[0m \u001b[1m0s\u001b[0m 5ms/step - accuracy: 0.9466 - loss: 0.1387 - val_accuracy: 0.9600 - val_loss: 0.1140\n",
      "Epoch 40/50\n",
      "\u001b[1m8/8\u001b[0m \u001b[32m━━━━━━━━━━━━━━━━━━━━\u001b[0m\u001b[37m\u001b[0m \u001b[1m0s\u001b[0m 5ms/step - accuracy: 0.9468 - loss: 0.1395 - val_accuracy: 0.9608 - val_loss: 0.1121\n",
      "Epoch 41/50\n",
      "\u001b[1m8/8\u001b[0m \u001b[32m━━━━━━━━━━━━━━━━━━━━\u001b[0m\u001b[37m\u001b[0m \u001b[1m0s\u001b[0m 5ms/step - accuracy: 0.9463 - loss: 0.1387 - val_accuracy: 0.9608 - val_loss: 0.1088\n",
      "Epoch 42/50\n",
      "\u001b[1m8/8\u001b[0m \u001b[32m━━━━━━━━━━━━━━━━━━━━\u001b[0m\u001b[37m\u001b[0m \u001b[1m0s\u001b[0m 5ms/step - accuracy: 0.9488 - loss: 0.1387 - val_accuracy: 0.9608 - val_loss: 0.1081\n",
      "Epoch 43/50\n",
      "\u001b[1m8/8\u001b[0m \u001b[32m━━━━━━━━━━━━━━━━━━━━\u001b[0m\u001b[37m\u001b[0m \u001b[1m0s\u001b[0m 5ms/step - accuracy: 0.9500 - loss: 0.1353 - val_accuracy: 0.9646 - val_loss: 0.1091\n",
      "Epoch 44/50\n",
      "\u001b[1m8/8\u001b[0m \u001b[32m━━━━━━━━━━━━━━━━━━━━\u001b[0m\u001b[37m\u001b[0m \u001b[1m0s\u001b[0m 5ms/step - accuracy: 0.9460 - loss: 0.1393 - val_accuracy: 0.9692 - val_loss: 0.1094\n",
      "Epoch 45/50\n",
      "\u001b[1m8/8\u001b[0m \u001b[32m━━━━━━━━━━━━━━━━━━━━\u001b[0m\u001b[37m\u001b[0m \u001b[1m0s\u001b[0m 5ms/step - accuracy: 0.9520 - loss: 0.1276 - val_accuracy: 0.9631 - val_loss: 0.1057\n",
      "Epoch 46/50\n",
      "\u001b[1m8/8\u001b[0m \u001b[32m━━━━━━━━━━━━━━━━━━━━\u001b[0m\u001b[37m\u001b[0m \u001b[1m0s\u001b[0m 4ms/step - accuracy: 0.9478 - loss: 0.1340 - val_accuracy: 0.9669 - val_loss: 0.1054\n",
      "Epoch 47/50\n",
      "\u001b[1m8/8\u001b[0m \u001b[32m━━━━━━━━━━━━━━━━━━━━\u001b[0m\u001b[37m\u001b[0m \u001b[1m0s\u001b[0m 4ms/step - accuracy: 0.9488 - loss: 0.1321 - val_accuracy: 0.9615 - val_loss: 0.1025\n",
      "Epoch 48/50\n",
      "\u001b[1m8/8\u001b[0m \u001b[32m━━━━━━━━━━━━━━━━━━━━\u001b[0m\u001b[37m\u001b[0m \u001b[1m0s\u001b[0m 6ms/step - accuracy: 0.9585 - loss: 0.1143 - val_accuracy: 0.9692 - val_loss: 0.1048\n",
      "Epoch 49/50\n",
      "\u001b[1m8/8\u001b[0m \u001b[32m━━━━━━━━━━━━━━━━━━━━\u001b[0m\u001b[37m\u001b[0m \u001b[1m0s\u001b[0m 7ms/step - accuracy: 0.9571 - loss: 0.1186 - val_accuracy: 0.9700 - val_loss: 0.1049\n",
      "Epoch 50/50\n",
      "\u001b[1m8/8\u001b[0m \u001b[32m━━━━━━━━━━━━━━━━━━━━\u001b[0m\u001b[37m\u001b[0m \u001b[1m0s\u001b[0m 6ms/step - accuracy: 0.9597 - loss: 0.1169 - val_accuracy: 0.9700 - val_loss: 0.1041\n"
     ]
    }
   ],
   "source": [
    "model = Sequential()\n",
    "model.add(Dense(36, input_dim=12, activation='relu'))\n",
    "model.add(Dense(12, activation='relu'))\n",
    "model.add(Dense(8, activation='relu'))\n",
    "model.add(Dense(1, activation='sigmoid'))\n",
    "model.compile(loss='binary_crossentropy', optimizer='adam', metrics=['accuracy'])\n",
    "history = model.fit(X_train, y_train, epochs=50, batch_size=500, validation_split=0.25)"
   ]
  },
  {
   "cell_type": "markdown",
   "metadata": {},
   "source": [
    "validation_split<br>\n",
    "검증 데이터로 사용될 훈련 데이터의 비율입니다. 모델은 훈련 데이터의 이 부분을 구분하고, 각 에포크가 끝날 때 이 데이터에 대한 손실과 모델 측정항목을 평가"
   ]
  },
  {
   "cell_type": "markdown",
   "metadata": {},
   "source": []
  },
  {
   "cell_type": "code",
   "execution_count": 13,
   "metadata": {},
   "outputs": [
    {
     "name": "stdout",
     "output_type": "stream",
     "text": [
      "3897.75 1299.25\n"
     ]
    }
   ],
   "source": [
    "print(5197 * 0.75, 5197 * 0.25)"
   ]
  },
  {
   "cell_type": "code",
   "execution_count": 15,
   "metadata": {},
   "outputs": [],
   "source": [
    "import matplotlib.pyplot as plt"
   ]
  },
  {
   "cell_type": "code",
   "execution_count": 18,
   "metadata": {},
   "outputs": [
    {
     "data": {
      "text/plain": [
       "<keras.src.callbacks.history.History at 0x23786e57380>"
      ]
     },
     "execution_count": 18,
     "metadata": {},
     "output_type": "execute_result"
    }
   ],
   "source": [
    "history"
   ]
  },
  {
   "cell_type": "code",
   "execution_count": 19,
   "metadata": {},
   "outputs": [
    {
     "data": {
      "text/plain": [
       "{'accuracy': [0.7236335873603821,\n",
       "  0.7516037821769714,\n",
       "  0.7513471841812134,\n",
       "  0.7775211930274963,\n",
       "  0.861431896686554,\n",
       "  0.9094175100326538,\n",
       "  0.9148062467575073,\n",
       "  0.9171157479286194,\n",
       "  0.9183987975120544,\n",
       "  0.9204516410827637,\n",
       "  0.9222478866577148,\n",
       "  0.9217346906661987,\n",
       "  0.924044132232666,\n",
       "  0.9255837798118591,\n",
       "  0.9260969758033752,\n",
       "  0.9255837798118591,\n",
       "  0.9268668293952942,\n",
       "  0.9302027225494385,\n",
       "  0.9304593205451965,\n",
       "  0.9322555661201477,\n",
       "  0.9319989681243896,\n",
       "  0.9337952136993408,\n",
       "  0.9335386157035828,\n",
       "  0.9332820177078247,\n",
       "  0.936617910861969,\n",
       "  0.936617910861969,\n",
       "  0.937900960445404,\n",
       "  0.9394406080245972,\n",
       "  0.9394406080245972,\n",
       "  0.9402104020118713,\n",
       "  0.9427765011787415,\n",
       "  0.9435462951660156,\n",
       "  0.9440595507621765,\n",
       "  0.9445727467536926,\n",
       "  0.9450859427452087,\n",
       "  0.9453426003456116,\n",
       "  0.9455991983413696,\n",
       "  0.9463689923286438,\n",
       "  0.9471388459205627,\n",
       "  0.9471388459205627,\n",
       "  0.9489350914955139,\n",
       "  0.9486784934997559,\n",
       "  0.950218141078949,\n",
       "  0.9461123943328857,\n",
       "  0.9507313370704651,\n",
       "  0.9507313370704651,\n",
       "  0.9507313370704651,\n",
       "  0.9540672302246094,\n",
       "  0.9540672302246094,\n",
       "  0.9563766717910767],\n",
       " 'loss': [1.1213017702102661,\n",
       "  0.8321384787559509,\n",
       "  0.595665454864502,\n",
       "  0.42133811116218567,\n",
       "  0.31618228554725647,\n",
       "  0.2604283094406128,\n",
       "  0.2454899251461029,\n",
       "  0.23573487997055054,\n",
       "  0.23013564944267273,\n",
       "  0.22622467577457428,\n",
       "  0.2241894155740738,\n",
       "  0.2215346246957779,\n",
       "  0.21941228210926056,\n",
       "  0.21470017731189728,\n",
       "  0.21065421402454376,\n",
       "  0.20822842419147491,\n",
       "  0.20628738403320312,\n",
       "  0.19968390464782715,\n",
       "  0.1958083063364029,\n",
       "  0.19189588725566864,\n",
       "  0.1902129352092743,\n",
       "  0.1871948391199112,\n",
       "  0.1847347766160965,\n",
       "  0.1837664097547531,\n",
       "  0.17937064170837402,\n",
       "  0.17748737335205078,\n",
       "  0.171512633562088,\n",
       "  0.16764095425605774,\n",
       "  0.1650422215461731,\n",
       "  0.16310681402683258,\n",
       "  0.15907953679561615,\n",
       "  0.1550365537405014,\n",
       "  0.15329043567180634,\n",
       "  0.15120790898799896,\n",
       "  0.1476925164461136,\n",
       "  0.14486274123191833,\n",
       "  0.14305901527404785,\n",
       "  0.14101198315620422,\n",
       "  0.13862739503383636,\n",
       "  0.13624174892902374,\n",
       "  0.13398583233356476,\n",
       "  0.13260012865066528,\n",
       "  0.13068971037864685,\n",
       "  0.1343831717967987,\n",
       "  0.13050270080566406,\n",
       "  0.12747536599636078,\n",
       "  0.125310480594635,\n",
       "  0.12400729209184647,\n",
       "  0.12341680377721786,\n",
       "  0.12317023426294327],\n",
       " 'val_accuracy': [0.7592307925224304,\n",
       "  0.7592307925224304,\n",
       "  0.7646153569221497,\n",
       "  0.8500000238418579,\n",
       "  0.9169231057167053,\n",
       "  0.9292307496070862,\n",
       "  0.9330769181251526,\n",
       "  0.936923086643219,\n",
       "  0.936923086643219,\n",
       "  0.9415384531021118,\n",
       "  0.9453846216201782,\n",
       "  0.9361538290977478,\n",
       "  0.9453846216201782,\n",
       "  0.9469230771064758,\n",
       "  0.9415384531021118,\n",
       "  0.947692334651947,\n",
       "  0.942307710647583,\n",
       "  0.9492307901382446,\n",
       "  0.9515384435653687,\n",
       "  0.9484615325927734,\n",
       "  0.9484615325927734,\n",
       "  0.9530768990516663,\n",
       "  0.9523077011108398,\n",
       "  0.9430769085884094,\n",
       "  0.9538461565971375,\n",
       "  0.9553846120834351,\n",
       "  0.9538461565971375,\n",
       "  0.9546154141426086,\n",
       "  0.9546154141426086,\n",
       "  0.9546154141426086,\n",
       "  0.9561538696289062,\n",
       "  0.9592307806015015,\n",
       "  0.9607692360877991,\n",
       "  0.9599999785423279,\n",
       "  0.9599999785423279,\n",
       "  0.9592307806015015,\n",
       "  0.9599999785423279,\n",
       "  0.9584615230560303,\n",
       "  0.9599999785423279,\n",
       "  0.9607692360877991,\n",
       "  0.9607692360877991,\n",
       "  0.9607692360877991,\n",
       "  0.9646154046058655,\n",
       "  0.9692307710647583,\n",
       "  0.9630769491195679,\n",
       "  0.9669230580329895,\n",
       "  0.9615384340286255,\n",
       "  0.9692307710647583,\n",
       "  0.9700000286102295,\n",
       "  0.9700000286102295],\n",
       " 'val_loss': [0.9064481258392334,\n",
       "  0.6719409823417664,\n",
       "  0.46339544653892517,\n",
       "  0.3288955092430115,\n",
       "  0.24248220026493073,\n",
       "  0.21213707327842712,\n",
       "  0.19889390468597412,\n",
       "  0.19507566094398499,\n",
       "  0.18969397246837616,\n",
       "  0.1840737760066986,\n",
       "  0.18952493369579315,\n",
       "  0.1814291775226593,\n",
       "  0.17796453833580017,\n",
       "  0.17526403069496155,\n",
       "  0.17206834256649017,\n",
       "  0.18003225326538086,\n",
       "  0.1648157685995102,\n",
       "  0.1620432585477829,\n",
       "  0.16102439165115356,\n",
       "  0.1563112884759903,\n",
       "  0.15291379392147064,\n",
       "  0.15785428881645203,\n",
       "  0.15396864712238312,\n",
       "  0.1493515521287918,\n",
       "  0.1433561146259308,\n",
       "  0.14924666285514832,\n",
       "  0.1384160965681076,\n",
       "  0.138398677110672,\n",
       "  0.13585443794727325,\n",
       "  0.1331743746995926,\n",
       "  0.12871791422367096,\n",
       "  0.12772661447525024,\n",
       "  0.12704363465309143,\n",
       "  0.12500417232513428,\n",
       "  0.12239795178174973,\n",
       "  0.12408653646707535,\n",
       "  0.11606087535619736,\n",
       "  0.11386730521917343,\n",
       "  0.11397603899240494,\n",
       "  0.11205489188432693,\n",
       "  0.10881113260984421,\n",
       "  0.10810516029596329,\n",
       "  0.1090688705444336,\n",
       "  0.10935521870851517,\n",
       "  0.1057380810379982,\n",
       "  0.10543545335531235,\n",
       "  0.10250703245401382,\n",
       "  0.1047506034374237,\n",
       "  0.10489795356988907,\n",
       "  0.10410882532596588]}"
      ]
     },
     "execution_count": 19,
     "metadata": {},
     "output_type": "execute_result"
    }
   ],
   "source": [
    "history.history"
   ]
  },
  {
   "cell_type": "code",
   "execution_count": 20,
   "metadata": {},
   "outputs": [
    {
     "data": {
      "text/plain": [
       "[0.7592307925224304,\n",
       " 0.7592307925224304,\n",
       " 0.7646153569221497,\n",
       " 0.8500000238418579,\n",
       " 0.9169231057167053,\n",
       " 0.9292307496070862,\n",
       " 0.9330769181251526,\n",
       " 0.936923086643219,\n",
       " 0.936923086643219,\n",
       " 0.9415384531021118,\n",
       " 0.9453846216201782,\n",
       " 0.9361538290977478,\n",
       " 0.9453846216201782,\n",
       " 0.9469230771064758,\n",
       " 0.9415384531021118,\n",
       " 0.947692334651947,\n",
       " 0.942307710647583,\n",
       " 0.9492307901382446,\n",
       " 0.9515384435653687,\n",
       " 0.9484615325927734,\n",
       " 0.9484615325927734,\n",
       " 0.9530768990516663,\n",
       " 0.9523077011108398,\n",
       " 0.9430769085884094,\n",
       " 0.9538461565971375,\n",
       " 0.9553846120834351,\n",
       " 0.9538461565971375,\n",
       " 0.9546154141426086,\n",
       " 0.9546154141426086,\n",
       " 0.9546154141426086,\n",
       " 0.9561538696289062,\n",
       " 0.9592307806015015,\n",
       " 0.9607692360877991,\n",
       " 0.9599999785423279,\n",
       " 0.9599999785423279,\n",
       " 0.9592307806015015,\n",
       " 0.9599999785423279,\n",
       " 0.9584615230560303,\n",
       " 0.9599999785423279,\n",
       " 0.9607692360877991,\n",
       " 0.9607692360877991,\n",
       " 0.9607692360877991,\n",
       " 0.9646154046058655,\n",
       " 0.9692307710647583,\n",
       " 0.9630769491195679,\n",
       " 0.9669230580329895,\n",
       " 0.9615384340286255,\n",
       " 0.9692307710647583,\n",
       " 0.9700000286102295,\n",
       " 0.9700000286102295]"
      ]
     },
     "execution_count": 20,
     "metadata": {},
     "output_type": "execute_result"
    }
   ],
   "source": [
    "history.history['val_accuracy']"
   ]
  },
  {
   "cell_type": "code",
   "execution_count": 21,
   "metadata": {},
   "outputs": [
    {
     "data": {
      "text/plain": [
       "50"
      ]
     },
     "execution_count": 21,
     "metadata": {},
     "output_type": "execute_result"
    }
   ],
   "source": [
    "len(history.history['val_accuracy'])"
   ]
  },
  {
   "cell_type": "code",
   "execution_count": 23,
   "metadata": {},
   "outputs": [
    {
     "data": {
      "text/plain": [
       "2.6"
      ]
     },
     "execution_count": 23,
     "metadata": {},
     "output_type": "execute_result"
    }
   ],
   "source": [
    "1300 / 500"
   ]
  },
  {
   "cell_type": "code",
   "execution_count": 24,
   "metadata": {},
   "outputs": [
    {
     "name": "stdout",
     "output_type": "stream",
     "text": [
      "\u001b[1m3/3\u001b[0m \u001b[32m━━━━━━━━━━━━━━━━━━━━\u001b[0m\u001b[37m\u001b[0m \u001b[1m0s\u001b[0m 2ms/step - accuracy: 0.9713 - loss: 0.0955 \n"
     ]
    },
    {
     "data": {
      "text/plain": [
       "[0.09652155637741089, 0.9715384840965271]"
      ]
     },
     "execution_count": 24,
     "metadata": {},
     "output_type": "execute_result"
    }
   ],
   "source": [
    "model.evaluate(X_test, y_test, batch_size=500)"
   ]
  },
  {
   "cell_type": "code",
   "execution_count": null,
   "metadata": {},
   "outputs": [],
   "source": []
  }
 ],
 "metadata": {
  "kernelspec": {
   "display_name": "mldl",
   "language": "python",
   "name": "python3"
  },
  "language_info": {
   "codemirror_mode": {
    "name": "ipython",
    "version": 3
   },
   "file_extension": ".py",
   "mimetype": "text/x-python",
   "name": "python",
   "nbconvert_exporter": "python",
   "pygments_lexer": "ipython3",
   "version": "3.12.4"
  }
 },
 "nbformat": 4,
 "nbformat_minor": 2
}
