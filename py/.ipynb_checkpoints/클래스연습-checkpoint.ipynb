{
 "cells": [
  {
   "cell_type": "code",
   "execution_count": 1,
   "id": "5b2f68f9-1bdc-4c09-99a7-1278089a58b9",
   "metadata": {},
   "outputs": [],
   "source": [
    "class Car:\n",
    "    pass"
   ]
  },
  {
   "cell_type": "code",
   "execution_count": 2,
   "id": "fe11ff68-0652-4b7a-be5e-b72c98036b6c",
   "metadata": {},
   "outputs": [],
   "source": [
    "my_car_obj1=Car()"
   ]
  },
  {
   "cell_type": "code",
   "execution_count": 3,
   "id": "c6d2e232-b68d-4131-bb9a-ba6a5d14cd2a",
   "metadata": {},
   "outputs": [],
   "source": [
    "my_car_obj2=Car()"
   ]
  },
  {
   "cell_type": "code",
   "execution_count": 4,
   "id": "c704ac5a-389b-4fba-b41a-9dd8a39abe6b",
   "metadata": {},
   "outputs": [
    {
     "data": {
      "text/plain": [
       "1944545445600"
      ]
     },
     "execution_count": 4,
     "metadata": {},
     "output_type": "execute_result"
    }
   ],
   "source": [
    "id(my_car_obj1)"
   ]
  },
  {
   "cell_type": "code",
   "execution_count": 5,
   "id": "844d5d27-d677-47cc-a8e1-49aa73a39f59",
   "metadata": {},
   "outputs": [
    {
     "data": {
      "text/plain": [
       "1944545684912"
      ]
     },
     "execution_count": 5,
     "metadata": {},
     "output_type": "execute_result"
    }
   ],
   "source": [
    "id(my_car_obj2)"
   ]
  },
  {
   "cell_type": "code",
   "execution_count": 6,
   "id": "d79e206f-f9d6-46a9-aee6-c37fc3b242d1",
   "metadata": {},
   "outputs": [],
   "source": [
    "# 계산기 만드는 클래스"
   ]
  },
  {
   "cell_type": "code",
   "execution_count": 8,
   "id": "e2d6dcd3-00b8-4a26-8297-4592893c00f1",
   "metadata": {},
   "outputs": [],
   "source": [
    "class Caculator:\n",
    "    def __init__(self):\n",
    "        self.num1 = 0\n",
    "        self.num2 = 0\n",
    "    pass"
   ]
  },
  {
   "cell_type": "code",
   "execution_count": null,
   "id": "6d256f93-f380-4628-ac62-31fdf9572a33",
   "metadata": {},
   "outputs": [],
   "source": [
    "mycalc = Caculator()"
   ]
  }
 ],
 "metadata": {
  "kernelspec": {
   "display_name": "Python 3 (ipykernel)",
   "language": "python",
   "name": "python3"
  },
  "language_info": {
   "codemirror_mode": {
    "name": "ipython",
    "version": 3
   },
   "file_extension": ".py",
   "mimetype": "text/x-python",
   "name": "python",
   "nbconvert_exporter": "python",
   "pygments_lexer": "ipython3",
   "version": "3.12.4"
  }
 },
 "nbformat": 4,
 "nbformat_minor": 5
}
