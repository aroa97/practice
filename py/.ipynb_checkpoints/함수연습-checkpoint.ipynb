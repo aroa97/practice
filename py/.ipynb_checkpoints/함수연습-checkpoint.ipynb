{
 "cells": [
  {
   "cell_type": "code",
   "execution_count": 14,
   "id": "82e78c46-2344-4da4-88c2-4073d0360dba",
   "metadata": {},
   "outputs": [],
   "source": [
    "def cum_add(*num):\n",
    "    tot = 0\n",
    "    for i in num:\n",
    "        tot += i\n",
    "    return tot"
   ]
  },
  {
   "cell_type": "code",
   "execution_count": 18,
   "id": "3da114c2-79b9-4e6a-996d-884a998073ce",
   "metadata": {},
   "outputs": [
    {
     "name": "stdout",
     "output_type": "stream",
     "text": [
      "0\n"
     ]
    }
   ],
   "source": [
    "result = cum_add()\n",
    "print(result)"
   ]
  },
  {
   "cell_type": "code",
   "execution_count": 19,
   "id": "88f08fd4-cf69-4716-8ad9-b2075743f65d",
   "metadata": {},
   "outputs": [
    {
     "name": "stdout",
     "output_type": "stream",
     "text": [
      "5\n"
     ]
    }
   ],
   "source": [
    "result = cum_add(5)\n",
    "print(result)"
   ]
  },
  {
   "cell_type": "code",
   "execution_count": 20,
   "id": "ff24d269-36b2-4ced-a6e6-13b7ac1da1f5",
   "metadata": {},
   "outputs": [
    {
     "name": "stdout",
     "output_type": "stream",
     "text": [
      "13\n"
     ]
    }
   ],
   "source": [
    "result = cum_add(5, 8)\n",
    "print(result)"
   ]
  },
  {
   "cell_type": "code",
   "execution_count": 21,
   "id": "80b26f8c-7b29-45f6-94df-5cc6115fde7a",
   "metadata": {},
   "outputs": [
    {
     "name": "stdout",
     "output_type": "stream",
     "text": [
      "52\n"
     ]
    }
   ],
   "source": [
    "result = cum_add(1,5,4,7,8,9,2,5,4,4,3)\n",
    "print(result)"
   ]
  },
  {
   "cell_type": "code",
   "execution_count": 24,
   "id": "1f437239-2c05-47d6-aedd-22516de58bb1",
   "metadata": {},
   "outputs": [
    {
     "data": {
      "text/plain": [
       "[1, 2, 3]"
      ]
     },
     "execution_count": 24,
     "metadata": {},
     "output_type": "execute_result"
    }
   ],
   "source": [
    "tot = 0\n",
    "[tot + i for i in [1,2,3]]"
   ]
  },
  {
   "cell_type": "code",
   "execution_count": 25,
   "id": "14a7e463-4ad7-493e-ad42-63f0018d6438",
   "metadata": {},
   "outputs": [
    {
     "name": "stdout",
     "output_type": "stream",
     "text": [
      "Help on built-in function print in module builtins:\n",
      "\n",
      "print(*args, sep=' ', end='\\n', file=None, flush=False)\n",
      "    Prints the values to a stream, or to sys.stdout by default.\n",
      "\n",
      "    sep\n",
      "      string inserted between values, default a space.\n",
      "    end\n",
      "      string appended after the last value, default a newline.\n",
      "    file\n",
      "      a file-like object (stream); defaults to the current sys.stdout.\n",
      "    flush\n",
      "      whether to forcibly flush the stream.\n",
      "\n"
     ]
    }
   ],
   "source": [
    "help(print)"
   ]
  },
  {
   "cell_type": "code",
   "execution_count": 26,
   "id": "59ec2aa2-c4b2-48e8-b2b2-3098c3d7a355",
   "metadata": {},
   "outputs": [],
   "source": [
    "# 기본 매개변수가 있는 함수 정의"
   ]
  },
  {
   "cell_type": "code",
   "execution_count": 27,
   "id": "bfa32cff-5771-4457-bd8a-5d87d6b0b058",
   "metadata": {},
   "outputs": [],
   "source": [
    "def hi():\n",
    "    print(\"hello\")"
   ]
  },
  {
   "cell_type": "code",
   "execution_count": 28,
   "id": "57f5c044-9cbd-4d91-a514-d03836ac2387",
   "metadata": {},
   "outputs": [
    {
     "name": "stdout",
     "output_type": "stream",
     "text": [
      "hello\n"
     ]
    }
   ],
   "source": [
    "hi()"
   ]
  },
  {
   "cell_type": "code",
   "execution_count": 29,
   "id": "5f3631cb-83de-4c07-acca-bd0b6cf87298",
   "metadata": {},
   "outputs": [],
   "source": [
    "def hi(menu):\n",
    "    print(menu)"
   ]
  },
  {
   "cell_type": "code",
   "execution_count": 30,
   "id": "c3d35c28-49be-44ed-a909-c4c8315d0c93",
   "metadata": {},
   "outputs": [
    {
     "name": "stdout",
     "output_type": "stream",
     "text": [
      "삼계탕\n"
     ]
    }
   ],
   "source": [
    "hi(\"삼계탕\")"
   ]
  },
  {
   "cell_type": "code",
   "execution_count": 31,
   "id": "55dd6c41-da30-475f-a6d1-5367eb346138",
   "metadata": {},
   "outputs": [],
   "source": [
    "def hi(menu=\"밥\"):\n",
    "    print(menu)"
   ]
  },
  {
   "cell_type": "code",
   "execution_count": 32,
   "id": "7fefef4b-6fe4-4e83-8107-b55bae3ab28c",
   "metadata": {},
   "outputs": [
    {
     "name": "stdout",
     "output_type": "stream",
     "text": [
      "삼계탕\n"
     ]
    }
   ],
   "source": [
    "hi(\"삼계탕\")"
   ]
  },
  {
   "cell_type": "code",
   "execution_count": 33,
   "id": "62b81300-e581-4dde-b796-5666143b611f",
   "metadata": {},
   "outputs": [
    {
     "name": "stdout",
     "output_type": "stream",
     "text": [
      "밥\n"
     ]
    }
   ],
   "source": [
    "hi()"
   ]
  },
  {
   "cell_type": "code",
   "execution_count": 34,
   "id": "9435acd2-f0f3-4440-8bb9-dc30a0f79912",
   "metadata": {},
   "outputs": [
    {
     "name": "stdout",
     "output_type": "stream",
     "text": [
      "냉면\n"
     ]
    }
   ],
   "source": [
    "hi(menu=\"냉면\")"
   ]
  },
  {
   "cell_type": "code",
   "execution_count": 35,
   "id": "8126f1a3-0fad-48fb-9190-626879174b5b",
   "metadata": {},
   "outputs": [],
   "source": [
    "def sports(sp=\"축구\"):\n",
    "    print(sp)"
   ]
  },
  {
   "cell_type": "code",
   "execution_count": 36,
   "id": "b7665d9c-eb36-4f16-abd5-57c688ae871b",
   "metadata": {},
   "outputs": [
    {
     "name": "stdout",
     "output_type": "stream",
     "text": [
      "축구\n"
     ]
    }
   ],
   "source": [
    "sports()"
   ]
  },
  {
   "cell_type": "code",
   "execution_count": 37,
   "id": "a6c3c22f-9ef1-4bb6-b00b-00e6e6f3c674",
   "metadata": {},
   "outputs": [
    {
     "name": "stdout",
     "output_type": "stream",
     "text": [
      "야구\n"
     ]
    }
   ],
   "source": [
    "sports(\"야구\")"
   ]
  }
 ],
 "metadata": {
  "kernelspec": {
   "display_name": "Python 3 (ipykernel)",
   "language": "python",
   "name": "python3"
  },
  "language_info": {
   "codemirror_mode": {
    "name": "ipython",
    "version": 3
   },
   "file_extension": ".py",
   "mimetype": "text/x-python",
   "name": "python",
   "nbconvert_exporter": "python",
   "pygments_lexer": "ipython3",
   "version": "3.12.4"
  }
 },
 "nbformat": 4,
 "nbformat_minor": 5
}
