{
 "cells": [
  {
   "cell_type": "code",
   "execution_count": 1,
   "id": "961e229c-62a8-41c2-9608-0bb36c903549",
   "metadata": {},
   "outputs": [],
   "source": [
    "def f6(gift, *val):\n",
    "    print(gift, val)"
   ]
  },
  {
   "cell_type": "code",
   "execution_count": 2,
   "id": "0c73842b-311e-4f11-a65b-255419412ed7",
   "metadata": {},
   "outputs": [
    {
     "name": "stdout",
     "output_type": "stream",
     "text": [
      "수박 ()\n"
     ]
    }
   ],
   "source": [
    "f6(\"수박\")"
   ]
  },
  {
   "cell_type": "code",
   "execution_count": 3,
   "id": "d2a12382-c48b-4c02-a932-a127d8ffb4ee",
   "metadata": {},
   "outputs": [
    {
     "name": "stdout",
     "output_type": "stream",
     "text": [
      "수박 (1,)\n"
     ]
    }
   ],
   "source": [
    "f6(\"수박\", 1)"
   ]
  },
  {
   "cell_type": "code",
   "execution_count": 5,
   "id": "51af42e6-ee0a-4018-bad2-674d7d0b41ff",
   "metadata": {},
   "outputs": [],
   "source": [
    "def f7(*val, gift):\n",
    "    pass"
   ]
  },
  {
   "cell_type": "markdown",
   "id": "67fcc8a4-2949-4607-aa53-8154ceb43ab6",
   "metadata": {},
   "source": [
    "## 제약  \n",
    "매개변수뒤에는 일반 매개변수 올 수 없음  \n",
    "가변 매개변수는 하나만 사용할 수 있음"
   ]
  },
  {
   "cell_type": "code",
   "execution_count": 6,
   "id": "ffa9edac-58d8-45c1-a299-89b3fd94406b",
   "metadata": {},
   "outputs": [],
   "source": [
    "def f7(*val, gift):\n",
    "    print(val, gift)"
   ]
  },
  {
   "cell_type": "code",
   "execution_count": 7,
   "id": "f70826c9-358c-4f3a-8406-447550459e38",
   "metadata": {},
   "outputs": [
    {
     "name": "stdout",
     "output_type": "stream",
     "text": [
      "() 빵\n"
     ]
    }
   ],
   "source": [
    "f7(gift=\"빵\")"
   ]
  },
  {
   "cell_type": "code",
   "execution_count": 8,
   "id": "687e8c8e-6299-4d6b-a2f1-41be5fbf76fb",
   "metadata": {},
   "outputs": [
    {
     "ename": "SyntaxError",
     "evalue": "* argument may appear only once (320327475.py, line 1)",
     "output_type": "error",
     "traceback": [
      "\u001b[1;36m  Cell \u001b[1;32mIn[8], line 1\u001b[1;36m\u001b[0m\n\u001b[1;33m    def f8(*val, *val2):\u001b[0m\n\u001b[1;37m                 ^\u001b[0m\n\u001b[1;31mSyntaxError\u001b[0m\u001b[1;31m:\u001b[0m * argument may appear only once\n"
     ]
    }
   ],
   "source": [
    "# def f8(*val, *val2):\n",
    "#     pass"
   ]
  },
  {
   "cell_type": "code",
   "execution_count": 12,
   "id": "3483feb3-fb36-4a2d-a701-46c8be0b7c91",
   "metadata": {},
   "outputs": [],
   "source": [
    "# 기본 매개변수는 기본값이 있는 매개변수 이므로 그 해당되는 매개변수 자리에 실제값을 넣어도 에러가 안나고\n",
    "# 기본값이 출력된다."
   ]
  },
  {
   "cell_type": "code",
   "execution_count": 9,
   "id": "437b677e-e6f4-4b8c-811e-4527ec129418",
   "metadata": {},
   "outputs": [],
   "source": [
    "def f9(menu=\"빵\"):\n",
    "    print(menu)"
   ]
  },
  {
   "cell_type": "code",
   "execution_count": 10,
   "id": "15b05e5e-06d5-49e2-b4fd-3f6f659de7bd",
   "metadata": {},
   "outputs": [
    {
     "name": "stdout",
     "output_type": "stream",
     "text": [
      "빵\n"
     ]
    }
   ],
   "source": [
    "f9()"
   ]
  },
  {
   "cell_type": "code",
   "execution_count": 13,
   "id": "f6b34c5b-40dd-410c-b5e3-c20c7a01ef6a",
   "metadata": {},
   "outputs": [
    {
     "name": "stdout",
     "output_type": "stream",
     "text": [
      "밥\n"
     ]
    }
   ],
   "source": [
    "f9(\"밥\")"
   ]
  },
  {
   "cell_type": "code",
   "execution_count": 14,
   "id": "fb44165c-bb6b-4c02-8541-9580a494bd2b",
   "metadata": {},
   "outputs": [
    {
     "name": "stdout",
     "output_type": "stream",
     "text": [
      "비빔밥\n"
     ]
    }
   ],
   "source": [
    "f9(menu=\"비빔밥\")"
   ]
  },
  {
   "cell_type": "code",
   "execution_count": 15,
   "id": "d90e0c89-074e-44dd-8c00-92396812a8fd",
   "metadata": {},
   "outputs": [],
   "source": [
    "def f10(gift, menu=\"밥\"):\n",
    "    print(gift, menu)"
   ]
  },
  {
   "cell_type": "code",
   "execution_count": 16,
   "id": "e27c8878-b12f-4f9f-97f9-1821c91fee62",
   "metadata": {},
   "outputs": [
    {
     "name": "stdout",
     "output_type": "stream",
     "text": [
      "초콜렛 밥\n"
     ]
    }
   ],
   "source": [
    "f10(\"초콜렛\")"
   ]
  },
  {
   "cell_type": "code",
   "execution_count": 17,
   "id": "df03fcf2-a3bc-49c8-9e5e-5b3c10e411c2",
   "metadata": {},
   "outputs": [
    {
     "ename": "SyntaxError",
     "evalue": "parameter without a default follows parameter with a default (3632984412.py, line 1)",
     "output_type": "error",
     "traceback": [
      "\u001b[1;36m  Cell \u001b[1;32mIn[17], line 1\u001b[1;36m\u001b[0m\n\u001b[1;33m    def f11(menu=\"밥\", gift):\u001b[0m\n\u001b[1;37m                      ^\u001b[0m\n\u001b[1;31mSyntaxError\u001b[0m\u001b[1;31m:\u001b[0m parameter without a default follows parameter with a default\n"
     ]
    }
   ],
   "source": [
    "# def f11(menu=\"밥\", gift):\n",
    "#     print(menu, gift)"
   ]
  },
  {
   "cell_type": "code",
   "execution_count": 18,
   "id": "df4cf88f-c228-4faf-b474-2a9ecc139037",
   "metadata": {},
   "outputs": [],
   "source": [
    "def f12(*values, menu=\"밥\"):\n",
    "    print(values, menu)"
   ]
  },
  {
   "cell_type": "code",
   "execution_count": 19,
   "id": "f52d2cbd-ec34-4767-b011-bf3f571d9f2e",
   "metadata": {},
   "outputs": [
    {
     "name": "stdout",
     "output_type": "stream",
     "text": [
      "() 밥\n"
     ]
    }
   ],
   "source": [
    "f12()"
   ]
  },
  {
   "cell_type": "code",
   "execution_count": 22,
   "id": "2917ab2a-7dda-4f40-932a-728c012d819a",
   "metadata": {},
   "outputs": [
    {
     "name": "stdout",
     "output_type": "stream",
     "text": [
      "('삼겹살',) 밥\n"
     ]
    }
   ],
   "source": [
    "f12(\"삼겹살\")"
   ]
  },
  {
   "cell_type": "code",
   "execution_count": 23,
   "id": "4aa2ec27-4f91-4935-8439-f2192401f9c9",
   "metadata": {},
   "outputs": [
    {
     "name": "stdout",
     "output_type": "stream",
     "text": [
      "('삼겹살', '상추') 밥\n"
     ]
    }
   ],
   "source": [
    "f12(\"삼겹살\", \"상추\")"
   ]
  },
  {
   "cell_type": "code",
   "execution_count": 24,
   "id": "9ff3f5f9-c630-48b7-90f8-2ab38e6e2435",
   "metadata": {},
   "outputs": [
    {
     "name": "stdout",
     "output_type": "stream",
     "text": [
      "('삼겹살', '상추') 냉면\n"
     ]
    }
   ],
   "source": [
    "f12(\"삼겹살\", \"상추\", menu=\"냉면\")"
   ]
  },
  {
   "cell_type": "code",
   "execution_count": 28,
   "id": "45c5a93a-6319-4a66-b317-a92091fc0cec",
   "metadata": {},
   "outputs": [],
   "source": [
    "def f13(menu=\"밥\", *values):\n",
    "    print(menu, values)"
   ]
  },
  {
   "cell_type": "code",
   "execution_count": 30,
   "id": "20cbe97d-956d-46a2-9d6f-a2a872c3067c",
   "metadata": {},
   "outputs": [
    {
     "name": "stdout",
     "output_type": "stream",
     "text": [
      "밥 ()\n"
     ]
    }
   ],
   "source": [
    "f13()"
   ]
  },
  {
   "cell_type": "code",
   "execution_count": 29,
   "id": "21ef310e-e1ab-49f3-9746-f88f19a2d159",
   "metadata": {},
   "outputs": [
    {
     "name": "stdout",
     "output_type": "stream",
     "text": [
      "삼겹살 ()\n"
     ]
    }
   ],
   "source": [
    "f13(\"삼겹살\")"
   ]
  },
  {
   "cell_type": "code",
   "execution_count": 31,
   "id": "a6d8d974-1d97-402a-a2a5-11ad0d557c66",
   "metadata": {},
   "outputs": [
    {
     "name": "stdout",
     "output_type": "stream",
     "text": [
      "삼겹살 ('냉면',)\n"
     ]
    }
   ],
   "source": [
    "f13(\"삼겹살\", \"냉면\")"
   ]
  },
  {
   "cell_type": "code",
   "execution_count": 32,
   "id": "deee68f1-5d7d-4ae8-8e5d-1d810cf0aad4",
   "metadata": {},
   "outputs": [
    {
     "name": "stdout",
     "output_type": "stream",
     "text": [
      "삼겹살 ('냉면', '된장')\n"
     ]
    }
   ],
   "source": [
    "f13(\"삼겹살\", \"냉면\", \"된장\")"
   ]
  },
  {
   "cell_type": "code",
   "execution_count": null,
   "id": "e42b26af-4399-489c-b7bc-c0594f622d60",
   "metadata": {},
   "outputs": [],
   "source": [
    "# 매개변수 앞에 *는 튜플, **는 딕셔너리"
   ]
  },
  {
   "cell_type": "code",
   "execution_count": 34,
   "id": "a0a317cf-92a3-4ad3-9789-3e692ec59947",
   "metadata": {},
   "outputs": [],
   "source": [
    "def f14(**values):\n",
    "    print(values)"
   ]
  },
  {
   "cell_type": "code",
   "execution_count": 35,
   "id": "d7466bf2-5503-4585-80e6-a6a60b49c171",
   "metadata": {},
   "outputs": [
    {
     "name": "stdout",
     "output_type": "stream",
     "text": [
      "{}\n"
     ]
    }
   ],
   "source": [
    "f14()"
   ]
  },
  {
   "cell_type": "code",
   "execution_count": null,
   "id": "6e27b5ec-d044-4d98-8e8e-144262938dad",
   "metadata": {},
   "outputs": [],
   "source": [
    "# 집합 set(), 집합은 순서 없고, 중복을 제거"
   ]
  },
  {
   "cell_type": "code",
   "execution_count": 36,
   "id": "66632f85-28b2-4b2e-906e-ea2fbc4018d2",
   "metadata": {},
   "outputs": [
    {
     "data": {
      "text/plain": [
       "set"
      ]
     },
     "execution_count": 36,
     "metadata": {},
     "output_type": "execute_result"
    }
   ],
   "source": [
    "type({1,2,3})"
   ]
  },
  {
   "cell_type": "code",
   "execution_count": null,
   "id": "94500449-6f7f-44fc-9906-f69aa4f8f77c",
   "metadata": {},
   "outputs": [],
   "source": []
  }
 ],
 "metadata": {
  "kernelspec": {
   "display_name": "Python 3 (ipykernel)",
   "language": "python",
   "name": "python3"
  },
  "language_info": {
   "codemirror_mode": {
    "name": "ipython",
    "version": 3
   },
   "file_extension": ".py",
   "mimetype": "text/x-python",
   "name": "python",
   "nbconvert_exporter": "python",
   "pygments_lexer": "ipython3",
   "version": "3.12.4"
  }
 },
 "nbformat": 4,
 "nbformat_minor": 5
}
