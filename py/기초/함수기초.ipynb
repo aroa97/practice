{
 "cells": [
  {
   "cell_type": "code",
   "execution_count": 1,
   "id": "961e229c-62a8-41c2-9608-0bb36c903549",
   "metadata": {},
   "outputs": [],
   "source": [
    "def f6(gift, *val):\n",
    "    print(gift, val)"
   ]
  },
  {
   "cell_type": "code",
   "execution_count": 2,
   "id": "0c73842b-311e-4f11-a65b-255419412ed7",
   "metadata": {},
   "outputs": [
    {
     "name": "stdout",
     "output_type": "stream",
     "text": [
      "수박 ()\n"
     ]
    }
   ],
   "source": [
    "f6(\"수박\")"
   ]
  },
  {
   "cell_type": "code",
   "execution_count": 3,
   "id": "d2a12382-c48b-4c02-a932-a127d8ffb4ee",
   "metadata": {},
   "outputs": [
    {
     "name": "stdout",
     "output_type": "stream",
     "text": [
      "수박 (1,)\n"
     ]
    }
   ],
   "source": [
    "f6(\"수박\", 1)"
   ]
  },
  {
   "cell_type": "code",
   "execution_count": 5,
   "id": "51af42e6-ee0a-4018-bad2-674d7d0b41ff",
   "metadata": {},
   "outputs": [],
   "source": [
    "def f7(*val, gift):\n",
    "    pass"
   ]
  },
  {
   "cell_type": "markdown",
   "id": "67fcc8a4-2949-4607-aa53-8154ceb43ab6",
   "metadata": {},
   "source": [
    "## 제약  \n",
    "매개변수뒤에는 일반 매개변수 올 수 없음  \n",
    "가변 매개변수는 하나만 사용할 수 있음"
   ]
  },
  {
   "cell_type": "code",
   "execution_count": 6,
   "id": "ffa9edac-58d8-45c1-a299-89b3fd94406b",
   "metadata": {},
   "outputs": [],
   "source": [
    "def f7(*val, gift):\n",
    "    print(val, gift)"
   ]
  },
  {
   "cell_type": "code",
   "execution_count": 7,
   "id": "f70826c9-358c-4f3a-8406-447550459e38",
   "metadata": {},
   "outputs": [
    {
     "name": "stdout",
     "output_type": "stream",
     "text": [
      "() 빵\n"
     ]
    }
   ],
   "source": [
    "f7(gift=\"빵\")"
   ]
  },
  {
   "cell_type": "code",
   "execution_count": 8,
   "id": "687e8c8e-6299-4d6b-a2f1-41be5fbf76fb",
   "metadata": {},
   "outputs": [
    {
     "ename": "SyntaxError",
     "evalue": "* argument may appear only once (320327475.py, line 1)",
     "output_type": "error",
     "traceback": [
      "\u001b[1;36m  Cell \u001b[1;32mIn[8], line 1\u001b[1;36m\u001b[0m\n\u001b[1;33m    def f8(*val, *val2):\u001b[0m\n\u001b[1;37m                 ^\u001b[0m\n\u001b[1;31mSyntaxError\u001b[0m\u001b[1;31m:\u001b[0m * argument may appear only once\n"
     ]
    }
   ],
   "source": [
    "# def f8(*val, *val2):\n",
    "#     pass"
   ]
  },
  {
   "cell_type": "code",
   "execution_count": 12,
   "id": "3483feb3-fb36-4a2d-a701-46c8be0b7c91",
   "metadata": {},
   "outputs": [],
   "source": [
    "# 기본 매개변수는 기본값이 있는 매개변수 이므로 그 해당되는 매개변수 자리에 실제값을 넣어도 에러가 안나고\n",
    "# 기본값이 출력된다."
   ]
  },
  {
   "cell_type": "code",
   "execution_count": 9,
   "id": "437b677e-e6f4-4b8c-811e-4527ec129418",
   "metadata": {},
   "outputs": [],
   "source": [
    "def f9(menu=\"빵\"):\n",
    "    print(menu)"
   ]
  },
  {
   "cell_type": "code",
   "execution_count": 10,
   "id": "15b05e5e-06d5-49e2-b4fd-3f6f659de7bd",
   "metadata": {},
   "outputs": [
    {
     "name": "stdout",
     "output_type": "stream",
     "text": [
      "빵\n"
     ]
    }
   ],
   "source": [
    "f9()"
   ]
  },
  {
   "cell_type": "code",
   "execution_count": 13,
   "id": "f6b34c5b-40dd-410c-b5e3-c20c7a01ef6a",
   "metadata": {},
   "outputs": [
    {
     "name": "stdout",
     "output_type": "stream",
     "text": [
      "밥\n"
     ]
    }
   ],
   "source": [
    "f9(\"밥\")"
   ]
  },
  {
   "cell_type": "code",
   "execution_count": 14,
   "id": "fb44165c-bb6b-4c02-8541-9580a494bd2b",
   "metadata": {},
   "outputs": [
    {
     "name": "stdout",
     "output_type": "stream",
     "text": [
      "비빔밥\n"
     ]
    }
   ],
   "source": [
    "f9(menu=\"비빔밥\")"
   ]
  },
  {
   "cell_type": "code",
   "execution_count": 15,
   "id": "d90e0c89-074e-44dd-8c00-92396812a8fd",
   "metadata": {},
   "outputs": [],
   "source": [
    "def f10(gift, menu=\"밥\"):\n",
    "    print(gift, menu)"
   ]
  },
  {
   "cell_type": "code",
   "execution_count": 16,
   "id": "e27c8878-b12f-4f9f-97f9-1821c91fee62",
   "metadata": {},
   "outputs": [
    {
     "name": "stdout",
     "output_type": "stream",
     "text": [
      "초콜렛 밥\n"
     ]
    }
   ],
   "source": [
    "f10(\"초콜렛\")"
   ]
  },
  {
   "cell_type": "code",
   "execution_count": 17,
   "id": "df03fcf2-a3bc-49c8-9e5e-5b3c10e411c2",
   "metadata": {},
   "outputs": [
    {
     "ename": "SyntaxError",
     "evalue": "parameter without a default follows parameter with a default (3632984412.py, line 1)",
     "output_type": "error",
     "traceback": [
      "\u001b[1;36m  Cell \u001b[1;32mIn[17], line 1\u001b[1;36m\u001b[0m\n\u001b[1;33m    def f11(menu=\"밥\", gift):\u001b[0m\n\u001b[1;37m                      ^\u001b[0m\n\u001b[1;31mSyntaxError\u001b[0m\u001b[1;31m:\u001b[0m parameter without a default follows parameter with a default\n"
     ]
    }
   ],
   "source": [
    "# def f11(menu=\"밥\", gift):\n",
    "#     print(menu, gift)"
   ]
  },
  {
   "cell_type": "code",
   "execution_count": 18,
   "id": "df4cf88f-c228-4faf-b474-2a9ecc139037",
   "metadata": {},
   "outputs": [],
   "source": [
    "def f12(*values, menu=\"밥\"):\n",
    "    print(values, menu)"
   ]
  },
  {
   "cell_type": "code",
   "execution_count": 19,
   "id": "f52d2cbd-ec34-4767-b011-bf3f571d9f2e",
   "metadata": {},
   "outputs": [
    {
     "name": "stdout",
     "output_type": "stream",
     "text": [
      "() 밥\n"
     ]
    }
   ],
   "source": [
    "f12()"
   ]
  },
  {
   "cell_type": "code",
   "execution_count": 22,
   "id": "2917ab2a-7dda-4f40-932a-728c012d819a",
   "metadata": {},
   "outputs": [
    {
     "name": "stdout",
     "output_type": "stream",
     "text": [
      "('삼겹살',) 밥\n"
     ]
    }
   ],
   "source": [
    "f12(\"삼겹살\")"
   ]
  },
  {
   "cell_type": "code",
   "execution_count": 23,
   "id": "4aa2ec27-4f91-4935-8439-f2192401f9c9",
   "metadata": {},
   "outputs": [
    {
     "name": "stdout",
     "output_type": "stream",
     "text": [
      "('삼겹살', '상추') 밥\n"
     ]
    }
   ],
   "source": [
    "f12(\"삼겹살\", \"상추\")"
   ]
  },
  {
   "cell_type": "code",
   "execution_count": 24,
   "id": "9ff3f5f9-c630-48b7-90f8-2ab38e6e2435",
   "metadata": {},
   "outputs": [
    {
     "name": "stdout",
     "output_type": "stream",
     "text": [
      "('삼겹살', '상추') 냉면\n"
     ]
    }
   ],
   "source": [
    "f12(\"삼겹살\", \"상추\", menu=\"냉면\")"
   ]
  },
  {
   "cell_type": "code",
   "execution_count": 28,
   "id": "45c5a93a-6319-4a66-b317-a92091fc0cec",
   "metadata": {},
   "outputs": [],
   "source": [
    "def f13(menu=\"밥\", *values):\n",
    "    print(menu, values)"
   ]
  },
  {
   "cell_type": "code",
   "execution_count": 30,
   "id": "20cbe97d-956d-46a2-9d6f-a2a872c3067c",
   "metadata": {},
   "outputs": [
    {
     "name": "stdout",
     "output_type": "stream",
     "text": [
      "밥 ()\n"
     ]
    }
   ],
   "source": [
    "f13()"
   ]
  },
  {
   "cell_type": "code",
   "execution_count": 29,
   "id": "21ef310e-e1ab-49f3-9746-f88f19a2d159",
   "metadata": {},
   "outputs": [
    {
     "name": "stdout",
     "output_type": "stream",
     "text": [
      "삼겹살 ()\n"
     ]
    }
   ],
   "source": [
    "f13(\"삼겹살\")"
   ]
  },
  {
   "cell_type": "code",
   "execution_count": 31,
   "id": "a6d8d974-1d97-402a-a2a5-11ad0d557c66",
   "metadata": {},
   "outputs": [
    {
     "name": "stdout",
     "output_type": "stream",
     "text": [
      "삼겹살 ('냉면',)\n"
     ]
    }
   ],
   "source": [
    "f13(\"삼겹살\", \"냉면\")"
   ]
  },
  {
   "cell_type": "code",
   "execution_count": 32,
   "id": "deee68f1-5d7d-4ae8-8e5d-1d810cf0aad4",
   "metadata": {},
   "outputs": [
    {
     "name": "stdout",
     "output_type": "stream",
     "text": [
      "삼겹살 ('냉면', '된장')\n"
     ]
    }
   ],
   "source": [
    "f13(\"삼겹살\", \"냉면\", \"된장\")"
   ]
  },
  {
   "cell_type": "code",
   "execution_count": null,
   "id": "e42b26af-4399-489c-b7bc-c0594f622d60",
   "metadata": {},
   "outputs": [],
   "source": [
    "# 매개변수 앞에 *는 튜플, **는 딕셔너리"
   ]
  },
  {
   "cell_type": "code",
   "execution_count": 34,
   "id": "a0a317cf-92a3-4ad3-9789-3e692ec59947",
   "metadata": {},
   "outputs": [],
   "source": [
    "def f14(**values):\n",
    "    print(values)"
   ]
  },
  {
   "cell_type": "code",
   "execution_count": 35,
   "id": "d7466bf2-5503-4585-80e6-a6a60b49c171",
   "metadata": {},
   "outputs": [
    {
     "name": "stdout",
     "output_type": "stream",
     "text": [
      "{}\n"
     ]
    }
   ],
   "source": [
    "f14()"
   ]
  },
  {
   "cell_type": "code",
   "execution_count": null,
   "id": "6e27b5ec-d044-4d98-8e8e-144262938dad",
   "metadata": {},
   "outputs": [],
   "source": [
    "# 집합 set(), 집합은 순서 없고, 중복을 제거"
   ]
  },
  {
   "cell_type": "code",
   "execution_count": 36,
   "id": "66632f85-28b2-4b2e-906e-ea2fbc4018d2",
   "metadata": {},
   "outputs": [
    {
     "data": {
      "text/plain": [
       "set"
      ]
     },
     "execution_count": 36,
     "metadata": {},
     "output_type": "execute_result"
    }
   ],
   "source": [
    "type({1,2,3})"
   ]
  },
  {
   "cell_type": "code",
   "execution_count": 37,
   "id": "94500449-6f7f-44fc-9906-f69aa4f8f77c",
   "metadata": {},
   "outputs": [
    {
     "data": {
      "text/plain": [
       "{1, 2, 3}"
      ]
     },
     "execution_count": 37,
     "metadata": {},
     "output_type": "execute_result"
    }
   ],
   "source": [
    "{1,2,3,3,3,3,3,3,3}"
   ]
  },
  {
   "cell_type": "code",
   "execution_count": 38,
   "id": "a304800d-51c0-484c-b5ff-93b1ee7698de",
   "metadata": {},
   "outputs": [
    {
     "ename": "TypeError",
     "evalue": "unhashable type: 'list'",
     "output_type": "error",
     "traceback": [
      "\u001b[1;31m---------------------------------------------------------------------------\u001b[0m",
      "\u001b[1;31mTypeError\u001b[0m                                 Traceback (most recent call last)",
      "Cell \u001b[1;32mIn[38], line 1\u001b[0m\n\u001b[1;32m----> 1\u001b[0m {\u001b[38;5;241m1\u001b[39m,\u001b[38;5;241m2\u001b[39m,\u001b[38;5;241m3\u001b[39m,[\u001b[38;5;241m1\u001b[39m,\u001b[38;5;241m2\u001b[39m,\u001b[38;5;241m3\u001b[39m]}\n",
      "\u001b[1;31mTypeError\u001b[0m: unhashable type: 'list'"
     ]
    }
   ],
   "source": [
    "{1,2,3,[1,2,3]}"
   ]
  },
  {
   "cell_type": "code",
   "execution_count": 39,
   "id": "fd039d6a-0ad4-4d45-a414-530d46bfc917",
   "metadata": {},
   "outputs": [
    {
     "ename": "TypeError",
     "evalue": "unhashable type: 'dict'",
     "output_type": "error",
     "traceback": [
      "\u001b[1;31m---------------------------------------------------------------------------\u001b[0m",
      "\u001b[1;31mTypeError\u001b[0m                                 Traceback (most recent call last)",
      "Cell \u001b[1;32mIn[39], line 1\u001b[0m\n\u001b[1;32m----> 1\u001b[0m {\u001b[38;5;241m1\u001b[39m,\u001b[38;5;241m2\u001b[39m,\u001b[38;5;241m3\u001b[39m,{}}\n",
      "\u001b[1;31mTypeError\u001b[0m: unhashable type: 'dict'"
     ]
    }
   ],
   "source": [
    "{1,2,3,{}}"
   ]
  },
  {
   "cell_type": "code",
   "execution_count": 40,
   "id": "f5d6f4e9-a441-4a3e-939f-6c039e3473fa",
   "metadata": {},
   "outputs": [
    {
     "ename": "TypeError",
     "evalue": "unhashable type: 'dict'",
     "output_type": "error",
     "traceback": [
      "\u001b[1;31m---------------------------------------------------------------------------\u001b[0m",
      "\u001b[1;31mTypeError\u001b[0m                                 Traceback (most recent call last)",
      "Cell \u001b[1;32mIn[40], line 1\u001b[0m\n\u001b[1;32m----> 1\u001b[0m {\u001b[38;5;241m1\u001b[39m,\u001b[38;5;241m2\u001b[39m,\u001b[38;5;241m3\u001b[39m,{\u001b[38;5;124m\"\u001b[39m\u001b[38;5;124ma\u001b[39m\u001b[38;5;124m\"\u001b[39m: \u001b[38;5;241m1\u001b[39m}}\n",
      "\u001b[1;31mTypeError\u001b[0m: unhashable type: 'dict'"
     ]
    }
   ],
   "source": [
    "{1,2,3,{\"a\": 1}}"
   ]
  },
  {
   "cell_type": "code",
   "execution_count": 42,
   "id": "bb167034-5f21-47ae-993a-40a444a58293",
   "metadata": {},
   "outputs": [
    {
     "name": "stdout",
     "output_type": "stream",
     "text": [
      "1\n",
      "2\n",
      "3\n"
     ]
    }
   ],
   "source": [
    "for i in {1,2,3,3,3,3,3,3}:\n",
    "    print(i)"
   ]
  },
  {
   "cell_type": "code",
   "execution_count": 43,
   "id": "6d057f3a-0a15-47df-a828-45c44572ffb4",
   "metadata": {},
   "outputs": [
    {
     "name": "stdout",
     "output_type": "stream",
     "text": [
      "{}\n"
     ]
    }
   ],
   "source": [
    "f14()"
   ]
  },
  {
   "cell_type": "code",
   "execution_count": 48,
   "id": "8a97aa39-e8af-4152-98c5-17a72f3e36b0",
   "metadata": {},
   "outputs": [
    {
     "data": {
      "text/plain": [
       "dict"
      ]
     },
     "execution_count": 48,
     "metadata": {},
     "output_type": "execute_result"
    }
   ],
   "source": [
    "type({})"
   ]
  },
  {
   "cell_type": "code",
   "execution_count": 53,
   "id": "8b91211c-ee6f-4f21-9856-f2895c85daa8",
   "metadata": {},
   "outputs": [],
   "source": [
    "def f14(**values):\n",
    "    print(values)"
   ]
  },
  {
   "cell_type": "code",
   "execution_count": 57,
   "id": "88c1978c-bfb9-4453-b4ab-c38d87dd1a10",
   "metadata": {},
   "outputs": [
    {
     "name": "stdout",
     "output_type": "stream",
     "text": [
      "{'a': 1}\n"
     ]
    }
   ],
   "source": [
    "f14(a=1)"
   ]
  },
  {
   "cell_type": "code",
   "execution_count": 58,
   "id": "4d568910-c10f-4ce8-9946-40ba0b5d5854",
   "metadata": {},
   "outputs": [
    {
     "name": "stdout",
     "output_type": "stream",
     "text": [
      "{'a': 1, 'b': 2}\n"
     ]
    }
   ],
   "source": [
    "f14(a=1, b=2)"
   ]
  },
  {
   "cell_type": "code",
   "execution_count": 62,
   "id": "b0585afd-3617-4356-b23e-5fa9f8600ddd",
   "metadata": {},
   "outputs": [],
   "source": [
    "def f16(gift, **dic):\n",
    "    print(gift, dic)"
   ]
  },
  {
   "cell_type": "code",
   "execution_count": 63,
   "id": "2ef99aaf-7e87-4a62-9903-214613d55c63",
   "metadata": {},
   "outputs": [
    {
     "name": "stdout",
     "output_type": "stream",
     "text": [
      "홍삼 {}\n"
     ]
    }
   ],
   "source": [
    "f16(\"홍삼\")"
   ]
  },
  {
   "cell_type": "code",
   "execution_count": 64,
   "id": "2fd4869f-54a2-4603-a245-ee15dff3e9f6",
   "metadata": {},
   "outputs": [
    {
     "ename": "SyntaxError",
     "evalue": "arguments cannot follow var-keyword argument (390194584.py, line 1)",
     "output_type": "error",
     "traceback": [
      "\u001b[1;36m  Cell \u001b[1;32mIn[64], line 1\u001b[1;36m\u001b[0m\n\u001b[1;33m    def f17(**dic, gift):\u001b[0m\n\u001b[1;37m                   ^\u001b[0m\n\u001b[1;31mSyntaxError\u001b[0m\u001b[1;31m:\u001b[0m arguments cannot follow var-keyword argument\n"
     ]
    }
   ],
   "source": [
    "def f17(**dic, gift):\n",
    "    print(dic, gift)"
   ]
  },
  {
   "cell_type": "code",
   "execution_count": 65,
   "id": "de2d9d73-32d9-4c32-89ac-e7bcd18221e5",
   "metadata": {},
   "outputs": [],
   "source": [
    "def f18(menu=\"밥\", **dic):\n",
    "    print(menu, dic)"
   ]
  },
  {
   "cell_type": "code",
   "execution_count": 66,
   "id": "38f291ba-01fa-4eed-abe3-9ca8861ba833",
   "metadata": {},
   "outputs": [
    {
     "name": "stdout",
     "output_type": "stream",
     "text": [
      "밥 {}\n"
     ]
    }
   ],
   "source": [
    "f18()"
   ]
  },
  {
   "cell_type": "code",
   "execution_count": 67,
   "id": "76252310-5c1c-4c30-80c8-73a936907544",
   "metadata": {},
   "outputs": [
    {
     "name": "stdout",
     "output_type": "stream",
     "text": [
      "면 {}\n"
     ]
    }
   ],
   "source": [
    "f18(\"면\")"
   ]
  },
  {
   "cell_type": "code",
   "execution_count": 69,
   "id": "f72e5fbd-f2e1-4cef-9616-13699b20983d",
   "metadata": {},
   "outputs": [
    {
     "ename": "TypeError",
     "evalue": "f18() takes from 0 to 1 positional arguments but 2 were given",
     "output_type": "error",
     "traceback": [
      "\u001b[1;31m---------------------------------------------------------------------------\u001b[0m",
      "\u001b[1;31mTypeError\u001b[0m                                 Traceback (most recent call last)",
      "Cell \u001b[1;32mIn[69], line 1\u001b[0m\n\u001b[1;32m----> 1\u001b[0m f18(\u001b[38;5;124m\"\u001b[39m\u001b[38;5;124m면\u001b[39m\u001b[38;5;124m\"\u001b[39m,\u001b[38;5;124m\"\u001b[39m\u001b[38;5;124m탕수육\u001b[39m\u001b[38;5;124m\"\u001b[39m)\n",
      "\u001b[1;31mTypeError\u001b[0m: f18() takes from 0 to 1 positional arguments but 2 were given"
     ]
    }
   ],
   "source": [
    "f18(\"면\",\"탕수육\")"
   ]
  },
  {
   "cell_type": "code",
   "execution_count": 70,
   "id": "48329701-bfb5-487f-b5a3-06d1610d4c5e",
   "metadata": {},
   "outputs": [
    {
     "name": "stdout",
     "output_type": "stream",
     "text": [
      "면 {'sub': '탕수육', 'source': '간장'}\n"
     ]
    }
   ],
   "source": [
    "f18(\"면\", sub=\"탕수육\", source=\"간장\")"
   ]
  },
  {
   "cell_type": "code",
   "execution_count": 72,
   "id": "ab44e4aa-51e5-41da-844f-319d652b0d3b",
   "metadata": {},
   "outputs": [
    {
     "name": "stdout",
     "output_type": "stream",
     "text": [
      "면 {'sub': '탕수육', 'source': '간장'}\n"
     ]
    }
   ],
   "source": [
    "f18(menu=\"면\", sub=\"탕수육\", source=\"간장\")"
   ]
  },
  {
   "cell_type": "code",
   "execution_count": 73,
   "id": "5a1d94a6-09c8-4adf-8cc1-094c40a97a5d",
   "metadata": {},
   "outputs": [],
   "source": [
    "def f19(gift, menu=\"밥\", **dic):\n",
    "    print(gift, menu, dic)"
   ]
  },
  {
   "cell_type": "code",
   "execution_count": 74,
   "id": "ef4628c5-0cab-4efd-bfdf-f110f6ff651b",
   "metadata": {},
   "outputs": [
    {
     "name": "stdout",
     "output_type": "stream",
     "text": [
      "파인애플 밥 {}\n"
     ]
    }
   ],
   "source": [
    "f19(\"파인애플\")"
   ]
  },
  {
   "cell_type": "code",
   "execution_count": 75,
   "id": "0bb1de6e-fe36-4632-a649-73082eaab8da",
   "metadata": {},
   "outputs": [
    {
     "name": "stdout",
     "output_type": "stream",
     "text": [
      "파인애플 면 {}\n"
     ]
    }
   ],
   "source": [
    "f19(\"파인애플\", \"면\")"
   ]
  },
  {
   "cell_type": "code",
   "execution_count": 76,
   "id": "44ce76eb-ad92-4a4e-83dd-499be24ac90f",
   "metadata": {},
   "outputs": [
    {
     "ename": "TypeError",
     "evalue": "f19() takes from 1 to 2 positional arguments but 3 were given",
     "output_type": "error",
     "traceback": [
      "\u001b[1;31m---------------------------------------------------------------------------\u001b[0m",
      "\u001b[1;31mTypeError\u001b[0m                                 Traceback (most recent call last)",
      "Cell \u001b[1;32mIn[76], line 1\u001b[0m\n\u001b[1;32m----> 1\u001b[0m f19(\u001b[38;5;124m\"\u001b[39m\u001b[38;5;124m파인애플\u001b[39m\u001b[38;5;124m\"\u001b[39m, \u001b[38;5;124m\"\u001b[39m\u001b[38;5;124m면\u001b[39m\u001b[38;5;124m\"\u001b[39m, \u001b[38;5;124m\"\u001b[39m\u001b[38;5;124m짬\u001b[39m\u001b[38;5;124m\"\u001b[39m)\n",
      "\u001b[1;31mTypeError\u001b[0m: f19() takes from 1 to 2 positional arguments but 3 were given"
     ]
    }
   ],
   "source": [
    "f19(\"파인애플\", \"면\", \"짬\")"
   ]
  },
  {
   "cell_type": "code",
   "execution_count": 77,
   "id": "12ca6ca7-af09-4244-8bec-360a8ab448c3",
   "metadata": {},
   "outputs": [
    {
     "name": "stdout",
     "output_type": "stream",
     "text": [
      "파인애플 면 {'plus': '짬'}\n"
     ]
    }
   ],
   "source": [
    "f19(\"파인애플\", \"면\", plus=\"짬\")"
   ]
  },
  {
   "cell_type": "code",
   "execution_count": 79,
   "id": "0ea7e0b5-5508-426e-87bf-5ff33d9e8fa8",
   "metadata": {},
   "outputs": [],
   "source": [
    "def f20(gift, menu=\"밥\", *values, **dic):\n",
    "    print(gift, menu, values, dic)"
   ]
  },
  {
   "cell_type": "code",
   "execution_count": 80,
   "id": "47223a03-d4a0-442e-b9b0-391bca0639a5",
   "metadata": {},
   "outputs": [
    {
     "ename": "TypeError",
     "evalue": "f20() missing 1 required positional argument: 'gift'",
     "output_type": "error",
     "traceback": [
      "\u001b[1;31m---------------------------------------------------------------------------\u001b[0m",
      "\u001b[1;31mTypeError\u001b[0m                                 Traceback (most recent call last)",
      "Cell \u001b[1;32mIn[80], line 1\u001b[0m\n\u001b[1;32m----> 1\u001b[0m f20()\n",
      "\u001b[1;31mTypeError\u001b[0m: f20() missing 1 required positional argument: 'gift'"
     ]
    }
   ],
   "source": [
    "f20()"
   ]
  },
  {
   "cell_type": "code",
   "execution_count": 81,
   "id": "95f5f18f-a1f8-4dc0-961b-481ac096ab5e",
   "metadata": {},
   "outputs": [
    {
     "name": "stdout",
     "output_type": "stream",
     "text": [
      "꽃 밥 () {}\n"
     ]
    }
   ],
   "source": [
    "f20(\"꽃\")"
   ]
  },
  {
   "cell_type": "code",
   "execution_count": 82,
   "id": "f932f65d-cc29-4e9b-b04a-0dcd7f1a6b23",
   "metadata": {},
   "outputs": [
    {
     "name": "stdout",
     "output_type": "stream",
     "text": [
      "꽃 면 () {}\n"
     ]
    }
   ],
   "source": [
    "f20(\"꽃\", \"면\")"
   ]
  },
  {
   "cell_type": "code",
   "execution_count": 83,
   "id": "dc883296-9c64-40b7-8c1f-8240b2694d7b",
   "metadata": {},
   "outputs": [
    {
     "name": "stdout",
     "output_type": "stream",
     "text": [
      "꽃 면 (1, 2, 3) {}\n"
     ]
    }
   ],
   "source": [
    "f20(\"꽃\", \"면\", 1,2,3)"
   ]
  },
  {
   "cell_type": "code",
   "execution_count": 84,
   "id": "86d80af9-5278-4146-b9ce-eea7380a93a6",
   "metadata": {},
   "outputs": [
    {
     "name": "stdout",
     "output_type": "stream",
     "text": [
      "꽃 면 (1, 2, 3) {'a': 'apple'}\n"
     ]
    }
   ],
   "source": [
    "f20(\"꽃\", \"면\", 1,2,3, a=\"apple\")"
   ]
  },
  {
   "cell_type": "code",
   "execution_count": 85,
   "id": "1b2b1855-04eb-4f9f-bf4a-aba4986f5da5",
   "metadata": {},
   "outputs": [
    {
     "name": "stdout",
     "output_type": "stream",
     "text": [
      "꽃 면 (1, 2, 3) {'a': 'apple', 'b': 'banana'}\n"
     ]
    }
   ],
   "source": [
    "f20(\"꽃\", \"면\", 1,2,3, a=\"apple\", b='banana')"
   ]
  }
 ],
 "metadata": {
  "kernelspec": {
   "display_name": "Python 3 (ipykernel)",
   "language": "python",
   "name": "python3"
  },
  "language_info": {
   "codemirror_mode": {
    "name": "ipython",
    "version": 3
   },
   "file_extension": ".py",
   "mimetype": "text/x-python",
   "name": "python",
   "nbconvert_exporter": "python",
   "pygments_lexer": "ipython3",
   "version": "3.12.4"
  }
 },
 "nbformat": 4,
 "nbformat_minor": 5
}
