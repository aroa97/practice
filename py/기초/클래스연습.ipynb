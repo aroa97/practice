{
 "cells": [
  {
   "cell_type": "code",
   "execution_count": 1,
   "id": "5b2f68f9-1bdc-4c09-99a7-1278089a58b9",
   "metadata": {},
   "outputs": [],
   "source": [
    "class Car:\n",
    "    pass"
   ]
  },
  {
   "cell_type": "code",
   "execution_count": 2,
   "id": "fe11ff68-0652-4b7a-be5e-b72c98036b6c",
   "metadata": {},
   "outputs": [],
   "source": [
    "my_car_obj1=Car()  # Car() 생성자(constructor)"
   ]
  },
  {
   "cell_type": "code",
   "execution_count": 3,
   "id": "c6d2e232-b68d-4131-bb9a-ba6a5d14cd2a",
   "metadata": {},
   "outputs": [],
   "source": [
    "my_car_obj2=Car()"
   ]
  },
  {
   "cell_type": "code",
   "execution_count": 4,
   "id": "c704ac5a-389b-4fba-b41a-9dd8a39abe6b",
   "metadata": {},
   "outputs": [
    {
     "data": {
      "text/plain": [
       "1944545445600"
      ]
     },
     "execution_count": 4,
     "metadata": {},
     "output_type": "execute_result"
    }
   ],
   "source": [
    "id(my_car_obj1)"
   ]
  },
  {
   "cell_type": "code",
   "execution_count": 5,
   "id": "844d5d27-d677-47cc-a8e1-49aa73a39f59",
   "metadata": {},
   "outputs": [
    {
     "data": {
      "text/plain": [
       "1944545684912"
      ]
     },
     "execution_count": 5,
     "metadata": {},
     "output_type": "execute_result"
    }
   ],
   "source": [
    "id(my_car_obj2)"
   ]
  },
  {
   "cell_type": "code",
   "execution_count": 6,
   "id": "d79e206f-f9d6-46a9-aee6-c37fc3b242d1",
   "metadata": {},
   "outputs": [],
   "source": [
    "# 계산기 만드는 클래스"
   ]
  },
  {
   "cell_type": "code",
   "execution_count": null,
   "id": "f8bc5325-a887-46a1-980f-f149ec6745b5",
   "metadata": {},
   "outputs": [],
   "source": [
    "# 클래스는 틀이자 설계도이다."
   ]
  },
  {
   "cell_type": "code",
   "execution_count": 30,
   "id": "e2d6dcd3-00b8-4a26-8297-4592893c00f1",
   "metadata": {},
   "outputs": [],
   "source": [
    "class Caculator:\n",
    "    def __init__(self):\n",
    "        self.num1 = 0    # 인스턴스 변수\n",
    "        self.num2 = 0\n",
    "    def add(self, num1, num2):\n",
    "        self.num1 = num1\n",
    "        self.num2 = num2\n",
    "        return self.num1 + self.num2"
   ]
  },
  {
   "cell_type": "code",
   "execution_count": 31,
   "id": "6d256f93-f380-4628-ac62-31fdf9572a33",
   "metadata": {},
   "outputs": [],
   "source": [
    "mycalc = Caculator()  # Caculator()"
   ]
  },
  {
   "cell_type": "code",
   "execution_count": 32,
   "id": "1943ccbe-dd26-47c2-aa3e-9db0f59d2709",
   "metadata": {},
   "outputs": [
    {
     "data": {
      "text/plain": [
       "0"
      ]
     },
     "execution_count": 32,
     "metadata": {},
     "output_type": "execute_result"
    }
   ],
   "source": [
    "mycalc.num1"
   ]
  },
  {
   "cell_type": "code",
   "execution_count": 33,
   "id": "c9d1f409-c28a-4d4b-a605-acfe6172be4b",
   "metadata": {},
   "outputs": [
    {
     "data": {
      "text/plain": [
       "0"
      ]
     },
     "execution_count": 33,
     "metadata": {},
     "output_type": "execute_result"
    }
   ],
   "source": [
    "mycalc.num2"
   ]
  },
  {
   "cell_type": "code",
   "execution_count": 41,
   "id": "3608f98b-e2dd-41bf-8f0b-bc50f3b1285f",
   "metadata": {},
   "outputs": [],
   "source": [
    "result = mycalc.add(7,3)"
   ]
  },
  {
   "cell_type": "code",
   "execution_count": 42,
   "id": "dbf446c9-5527-4cb5-b0e7-d0b15bef1c9b",
   "metadata": {},
   "outputs": [
    {
     "data": {
      "text/plain": [
       "7"
      ]
     },
     "execution_count": 42,
     "metadata": {},
     "output_type": "execute_result"
    }
   ],
   "source": [
    "mycalc.num1"
   ]
  },
  {
   "cell_type": "code",
   "execution_count": 43,
   "id": "6b17311f-7c50-4717-b4e0-e1e4ec1dcebd",
   "metadata": {},
   "outputs": [
    {
     "data": {
      "text/plain": [
       "3"
      ]
     },
     "execution_count": 43,
     "metadata": {},
     "output_type": "execute_result"
    }
   ],
   "source": [
    "mycalc.num2"
   ]
  },
  {
   "cell_type": "code",
   "execution_count": 44,
   "id": "2cefbd26-3d9c-4695-a4b8-574082652a1f",
   "metadata": {},
   "outputs": [
    {
     "data": {
      "text/plain": [
       "10"
      ]
     },
     "execution_count": 44,
     "metadata": {},
     "output_type": "execute_result"
    }
   ],
   "source": [
    "result"
   ]
  },
  {
   "cell_type": "code",
   "execution_count": 45,
   "id": "c2a6cb3f-d55e-40c5-82a0-1d95db719ad3",
   "metadata": {},
   "outputs": [],
   "source": [
    "# 클래스간에는 3가지 관계(사용, 포함, 상속)가 있다."
   ]
  },
  {
   "cell_type": "code",
   "execution_count": 46,
   "id": "25fc5640-03f2-4ed3-8543-36917ec2a4d5",
   "metadata": {},
   "outputs": [],
   "source": [
    "# 1) 사용 관계\n",
    "# 홍길동이라는 회사원이 결산 보고서 문서를 프린터를 사용해서 출력한다."
   ]
  },
  {
   "cell_type": "code",
   "execution_count": 47,
   "id": "279d5ee1-725a-44d5-b3aa-ce2dde9a4396",
   "metadata": {},
   "outputs": [],
   "source": [
    "# 회사원이라는 틀에서 홍길동 객체를 찍어내보자.\n",
    "# 프린터라는 틀에서 레이저 프린터를 생성(만들어보자 찍어내보자)해보자"
   ]
  },
  {
   "cell_type": "code",
   "execution_count": 71,
   "id": "0fa88c76-ff6a-4ce4-90be-df342528fd0e",
   "metadata": {},
   "outputs": [],
   "source": [
    "class OfficeWorker:\n",
    "    def __init__(self, name):\n",
    "        self.name = name\n",
    "    def work(self):\n",
    "        print(f\"{self.name}이/가 일한다.\")\n",
    "    def use_printer(self, printer):\n",
    "        print(\"프린트를 사용해서 문서를 출력한다.\")"
   ]
  },
  {
   "cell_type": "code",
   "execution_count": 72,
   "id": "79fe752b-2936-4643-9402-b8f703d97625",
   "metadata": {},
   "outputs": [],
   "source": [
    "class Printer:\n",
    "    def print_document(self, document):\n",
    "        print(f\"{document}를 인쇄한다.\")"
   ]
  },
  {
   "cell_type": "code",
   "execution_count": 73,
   "id": "91a6abbd-0765-444e-a46f-25aaa7887733",
   "metadata": {},
   "outputs": [],
   "source": [
    "hong=OfficeWorker(\"홍길동\")"
   ]
  },
  {
   "cell_type": "code",
   "execution_count": 74,
   "id": "a114a0b3-b7b5-443d-ac92-b6d004d48ef9",
   "metadata": {},
   "outputs": [
    {
     "data": {
      "text/plain": [
       "'홍길동'"
      ]
     },
     "execution_count": 74,
     "metadata": {},
     "output_type": "execute_result"
    }
   ],
   "source": [
    "hong.name"
   ]
  },
  {
   "cell_type": "code",
   "execution_count": 75,
   "id": "b768b6ac-b258-4aef-ac58-a3903f887113",
   "metadata": {},
   "outputs": [
    {
     "name": "stdout",
     "output_type": "stream",
     "text": [
      "홍길동이/가 일한다.\n"
     ]
    }
   ],
   "source": [
    "hong.work()"
   ]
  },
  {
   "cell_type": "code",
   "execution_count": 76,
   "id": "2b891167-8934-4d59-b88f-637b533f1c15",
   "metadata": {},
   "outputs": [],
   "source": [
    "laser_print=Printer()"
   ]
  },
  {
   "cell_type": "code",
   "execution_count": 77,
   "id": "af3fabaf-ba23-4bda-b9eb-cedd7a87550d",
   "metadata": {},
   "outputs": [
    {
     "name": "stdout",
     "output_type": "stream",
     "text": [
      "결산 보고서를 인쇄한다.\n"
     ]
    }
   ],
   "source": [
    "laser_print.print_document(\"결산 보고서\")"
   ]
  },
  {
   "cell_type": "code",
   "execution_count": 78,
   "id": "e54fd36a-d942-4e3a-b1c5-d61df62077b8",
   "metadata": {},
   "outputs": [
    {
     "name": "stdout",
     "output_type": "stream",
     "text": [
      "프린트를 사용해서 문서를 출력한다.\n"
     ]
    }
   ],
   "source": [
    "hong.use_printer(laser_print)"
   ]
  },
  {
   "cell_type": "code",
   "execution_count": 79,
   "id": "a510883a-56d8-46d1-8c67-dac6e0fc29d6",
   "metadata": {},
   "outputs": [],
   "source": [
    "# 2) 포함 관계 클래스 연습"
   ]
  },
  {
   "cell_type": "code",
   "execution_count": 80,
   "id": "6f49c575-3ff4-44fa-9e6a-b521e5ca6499",
   "metadata": {},
   "outputs": [],
   "source": [
    "# 차와 엔진의 관계"
   ]
  },
  {
   "cell_type": "code",
   "execution_count": null,
   "id": "510d253e-d227-4287-ad36-c39c9416e147",
   "metadata": {},
   "outputs": [],
   "source": [
    "# 차가 만들어질 때(생성될 때) 엔진이 초기화 되어야 함"
   ]
  },
  {
   "cell_type": "code",
   "execution_count": 95,
   "id": "a952c5ba-d105-438b-9016-06d0ec2509f1",
   "metadata": {},
   "outputs": [],
   "source": [
    "class Car():\n",
    "    def __init__(self):\n",
    "        self.engine=Engine()\n",
    "        \n",
    "    def drive(self):\n",
    "        print(\"차가 달린다.\")"
   ]
  },
  {
   "cell_type": "code",
   "execution_count": 88,
   "id": "8520cb05-ed03-46ba-a15c-87ae69ffc2ec",
   "metadata": {},
   "outputs": [],
   "source": [
    "class Engine():\n",
    "    def start(self):\n",
    "        print(\"엔진이 시작함\")"
   ]
  },
  {
   "cell_type": "code",
   "execution_count": 96,
   "id": "bf0cdd61-c869-4b39-91b4-11c3870c870f",
   "metadata": {},
   "outputs": [],
   "source": [
    "mycar=Car()"
   ]
  },
  {
   "cell_type": "code",
   "execution_count": 97,
   "id": "d6b10562-a059-4a52-ab1f-5c86ee5661d6",
   "metadata": {},
   "outputs": [
    {
     "data": {
      "text/plain": [
       "<__main__.Engine at 0x1c4c040ae40>"
      ]
     },
     "execution_count": 97,
     "metadata": {},
     "output_type": "execute_result"
    }
   ],
   "source": [
    "mycar.engine"
   ]
  },
  {
   "cell_type": "code",
   "execution_count": 90,
   "id": "52838b5e-56dc-448b-abe3-61f1ee46618f",
   "metadata": {},
   "outputs": [
    {
     "name": "stdout",
     "output_type": "stream",
     "text": [
      "차가 달린다.\n"
     ]
    }
   ],
   "source": [
    "mycar.drive()"
   ]
  },
  {
   "cell_type": "code",
   "execution_count": 91,
   "id": "c4322da9-10c1-4ad7-b632-b1cf265e2537",
   "metadata": {},
   "outputs": [],
   "source": [
    "four_engine=Engine()"
   ]
  },
  {
   "cell_type": "code",
   "execution_count": 92,
   "id": "15448eea-7049-44ac-b743-b20e437fcbef",
   "metadata": {},
   "outputs": [
    {
     "name": "stdout",
     "output_type": "stream",
     "text": [
      "엔진이 시작함\n"
     ]
    }
   ],
   "source": [
    "four_engine.start()"
   ]
  },
  {
   "cell_type": "code",
   "execution_count": 98,
   "id": "959a8cfd-4684-4166-97b1-255af22e45e3",
   "metadata": {},
   "outputs": [
    {
     "name": "stdout",
     "output_type": "stream",
     "text": [
      "엔진이 시작함\n"
     ]
    }
   ],
   "source": [
    "mycar.engine.start()"
   ]
  },
  {
   "cell_type": "code",
   "execution_count": 99,
   "id": "d1d2a238-d292-47ca-ad66-486c93d1aba2",
   "metadata": {},
   "outputs": [],
   "source": [
    "# 연필이 있는 필통"
   ]
  },
  {
   "cell_type": "code",
   "execution_count": 100,
   "id": "e985f577-0012-4169-b601-f1672da93d8d",
   "metadata": {},
   "outputs": [],
   "source": [
    "class Pencil:\n",
    "    def draw(self):\n",
    "        print(\"연필로 그리다.\")"
   ]
  },
  {
   "cell_type": "code",
   "execution_count": 104,
   "id": "0de4273d-36a2-4af3-9ff4-6e61dc1bae71",
   "metadata": {},
   "outputs": [],
   "source": [
    "class PencilCase:\n",
    "    def __init__(self):\n",
    "        self.pencil = Pencil()\n",
    "    def open(self):\n",
    "        print(\"필통을 열다.\")"
   ]
  },
  {
   "cell_type": "code",
   "execution_count": 105,
   "id": "e2eb2237-d212-4e68-a88b-3ead8347edb2",
   "metadata": {},
   "outputs": [],
   "source": [
    "my_pencil_case=PencilCase()"
   ]
  },
  {
   "cell_type": "code",
   "execution_count": 106,
   "id": "cc11561d-3851-4777-8b65-8fd50f76d497",
   "metadata": {},
   "outputs": [
    {
     "name": "stdout",
     "output_type": "stream",
     "text": [
      "필통을 열다.\n"
     ]
    }
   ],
   "source": [
    "my_pencil_case.open()"
   ]
  },
  {
   "cell_type": "code",
   "execution_count": 107,
   "id": "06e363f4-2f09-43a2-b36a-2ed991456f3b",
   "metadata": {},
   "outputs": [
    {
     "name": "stdout",
     "output_type": "stream",
     "text": [
      "연필로 그리다.\n"
     ]
    }
   ],
   "source": [
    "my_pencil_case.pencil.draw()"
   ]
  },
  {
   "cell_type": "code",
   "execution_count": 112,
   "id": "3a48e593-a9cb-4a55-8d5e-d81d486ec2c7",
   "metadata": {},
   "outputs": [],
   "source": [
    "# 3) 상속 관계 (is 관계), 자식클래스는 부모클래스이다."
   ]
  },
  {
   "cell_type": "code",
   "execution_count": 113,
   "id": "9cad2ba7-46dc-44e5-977b-5713e032fa42",
   "metadata": {},
   "outputs": [],
   "source": [
    "# 부모(상위) 클래스\n",
    "# 자식(하위) 클래스"
   ]
  },
  {
   "cell_type": "code",
   "execution_count": 114,
   "id": "db9c9b8d-50d0-42d6-85bc-caf2e4859ebb",
   "metadata": {},
   "outputs": [],
   "source": [
    "# 고양이는 동물이다."
   ]
  },
  {
   "cell_type": "code",
   "execution_count": 115,
   "id": "109bedba-64aa-401a-b9b6-1e6fae283c4f",
   "metadata": {},
   "outputs": [],
   "source": [
    "# 강아지는 동물이다."
   ]
  },
  {
   "cell_type": "code",
   "execution_count": 129,
   "id": "f290ac39-3baa-4be2-abb6-5be0709ab2ca",
   "metadata": {},
   "outputs": [],
   "source": [
    "class Animal:\n",
    "    def __init__(self, color):\n",
    "        self.color = color\n",
    "    def breathe(self):\n",
    "        print(\"숨쉰다.\")"
   ]
  },
  {
   "cell_type": "code",
   "execution_count": 130,
   "id": "ee8f0eee-d3a4-4474-b36e-6d567ed9b161",
   "metadata": {},
   "outputs": [],
   "source": [
    "class Cat(Animal):\n",
    "    pass"
   ]
  },
  {
   "cell_type": "code",
   "execution_count": 131,
   "id": "3c13a4a7-6121-48d2-93ee-95ab4730428f",
   "metadata": {},
   "outputs": [],
   "source": [
    "class Dog(Animal):\n",
    "    pass"
   ]
  },
  {
   "cell_type": "code",
   "execution_count": 132,
   "id": "eec9ebd6-d0b9-4ad0-bd70-1e577f8748d5",
   "metadata": {},
   "outputs": [
    {
     "data": {
      "text/plain": [
       "<__main__.Cat at 0x1c4c040a2d0>"
      ]
     },
     "execution_count": 132,
     "metadata": {},
     "output_type": "execute_result"
    }
   ],
   "source": [
    "Cat(\"흰색\")"
   ]
  },
  {
   "cell_type": "code",
   "execution_count": 134,
   "id": "25169b1c-ca01-413f-9d1d-c7283ea974d4",
   "metadata": {},
   "outputs": [],
   "source": [
    "per_cat = Cat(\"흰색\")"
   ]
  },
  {
   "cell_type": "code",
   "execution_count": 138,
   "id": "8414cc6d-e65d-4e65-b0fc-b4bfbfe7710e",
   "metadata": {},
   "outputs": [
    {
     "name": "stdout",
     "output_type": "stream",
     "text": [
      "숨쉰다.\n"
     ]
    }
   ],
   "source": [
    "per_cat.breathe()"
   ]
  },
  {
   "cell_type": "code",
   "execution_count": 139,
   "id": "44d4c06f-ab35-4982-9add-5f7f16ddd0c5",
   "metadata": {},
   "outputs": [
    {
     "data": {
      "text/plain": [
       "'흰색'"
      ]
     },
     "execution_count": 139,
     "metadata": {},
     "output_type": "execute_result"
    }
   ],
   "source": [
    "per_cat.color"
   ]
  },
  {
   "cell_type": "code",
   "execution_count": 136,
   "id": "cde888d9-a71e-4488-9103-07a3226401a7",
   "metadata": {},
   "outputs": [],
   "source": [
    "chiwawa=Dog(\"검정\")"
   ]
  },
  {
   "cell_type": "code",
   "execution_count": 137,
   "id": "fcccd387-8b27-472c-809e-164c214b0c87",
   "metadata": {},
   "outputs": [
    {
     "name": "stdout",
     "output_type": "stream",
     "text": [
      "숨쉰다.\n"
     ]
    }
   ],
   "source": [
    "chiwawa.breathe()"
   ]
  },
  {
   "cell_type": "code",
   "execution_count": null,
   "id": "fbf2238b-c636-4e49-bbbb-f891e37bad0a",
   "metadata": {},
   "outputs": [],
   "source": []
  }
 ],
 "metadata": {
  "kernelspec": {
   "display_name": "Python 3 (ipykernel)",
   "language": "python",
   "name": "python3"
  },
  "language_info": {
   "codemirror_mode": {
    "name": "ipython",
    "version": 3
   },
   "file_extension": ".py",
   "mimetype": "text/x-python",
   "name": "python",
   "nbconvert_exporter": "python",
   "pygments_lexer": "ipython3",
   "version": "3.12.4"
  }
 },
 "nbformat": 4,
 "nbformat_minor": 5
}
