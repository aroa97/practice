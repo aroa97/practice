{
 "cells": [
  {
   "cell_type": "code",
   "execution_count": 1,
   "id": "2cb14a69-cc0c-4874-b923-113725d9e824",
   "metadata": {},
   "outputs": [
    {
     "name": "stdout",
     "output_type": "stream",
     "text": [
      "21\n"
     ]
    }
   ],
   "source": [
    "# 확인문제1_1\n",
    "def f(x):\n",
    "    return 2 * x + 1\n",
    "print(f(10))"
   ]
  },
  {
   "cell_type": "code",
   "execution_count": 3,
   "id": "b69d907e-28a5-4f9a-bb44-c15d0a32f36c",
   "metadata": {},
   "outputs": [
    {
     "name": "stdout",
     "output_type": "stream",
     "text": [
      "121\n"
     ]
    }
   ],
   "source": [
    "# 확인문제1_2\n",
    "def f(x):\n",
    "    return x**2 + 2 * x + 1\n",
    "print(f(10))"
   ]
  },
  {
   "cell_type": "code",
   "execution_count": 4,
   "id": "6fe76fec-173a-497b-b54a-cc7b2347fac7",
   "metadata": {},
   "outputs": [
    {
     "name": "stdout",
     "output_type": "stream",
     "text": [
      "3150\n"
     ]
    }
   ],
   "source": [
    "# 확인문제2\n",
    "def mul(*values):\n",
    "    res = 1\n",
    "    for i in values:\n",
    "        res *= i\n",
    "    return res\n",
    "\n",
    "print(mul(5, 7, 9, 10))"
   ]
  },
  {
   "cell_type": "code",
   "execution_count": 6,
   "id": "c205bed0-198e-40c1-9bbf-aaf2191edf14",
   "metadata": {},
   "outputs": [],
   "source": [
    "# 확인문제3\n",
    "# 1"
   ]
  }
 ],
 "metadata": {
  "kernelspec": {
   "display_name": "Python 3 (ipykernel)",
   "language": "python",
   "name": "python3"
  },
  "language_info": {
   "codemirror_mode": {
    "name": "ipython",
    "version": 3
   },
   "file_extension": ".py",
   "mimetype": "text/x-python",
   "name": "python",
   "nbconvert_exporter": "python",
   "pygments_lexer": "ipython3",
   "version": "3.12.4"
  }
 },
 "nbformat": 4,
 "nbformat_minor": 5
}
