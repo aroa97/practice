{
 "cells": [
  {
   "cell_type": "code",
   "execution_count": 1,
   "id": "ead692c8-2457-4385-a4d3-3808ffbee60c",
   "metadata": {},
   "outputs": [],
   "source": [
    "class Student:\n",
    "    def __init__(self, name, age):\n",
    "        self.name = name\n",
    "        self.age = age\n",
    "    def study(self):\n",
    "        print(f\"이름이 {self.name}(이)고 나이가 {self.age}살인 학생이 공부를 한다.\")\n",
    "    def eat(self, menu):\n",
    "        print(f\"{self.name}이(가) {menu}을(를) 먹는다.\")"
   ]
  },
  {
   "cell_type": "code",
   "execution_count": 2,
   "id": "3775ba77-c43c-4ed3-a5af-714fe084a13e",
   "metadata": {},
   "outputs": [],
   "source": [
    "class Restaurant:\n",
    "    def __init__(self, menu):\n",
    "        self.menu = menu"
   ]
  },
  {
   "cell_type": "code",
   "execution_count": 3,
   "id": "f9b65ff2-392e-412a-adfc-c97ce31a5a8d",
   "metadata": {},
   "outputs": [],
   "source": [
    "hong=Student(\"홍길동\", 20)"
   ]
  },
  {
   "cell_type": "code",
   "execution_count": 4,
   "id": "5e729c4a-2b23-490a-b559-cbea354f9c54",
   "metadata": {},
   "outputs": [],
   "source": [
    "chinese_rest=Restaurant(\"짜장면\")"
   ]
  },
  {
   "cell_type": "code",
   "execution_count": 5,
   "id": "3bbc9832-aa4c-49a7-9bd4-d6e56f93a683",
   "metadata": {},
   "outputs": [
    {
     "data": {
      "text/plain": [
       "'짜장면'"
      ]
     },
     "execution_count": 5,
     "metadata": {},
     "output_type": "execute_result"
    }
   ],
   "source": [
    "chinese_rest.menu"
   ]
  },
  {
   "cell_type": "code",
   "execution_count": 6,
   "id": "05b0d13c-0f9f-4b16-87d9-893644ec3ee6",
   "metadata": {},
   "outputs": [
    {
     "name": "stdout",
     "output_type": "stream",
     "text": [
      "홍길동이(가) 짜장면을(를) 먹는다.\n"
     ]
    }
   ],
   "source": [
    "hong.eat(chinese_rest.menu)"
   ]
  },
  {
   "cell_type": "code",
   "execution_count": 7,
   "id": "177e2350-81e9-47b1-acbc-3ba6540a91b9",
   "metadata": {},
   "outputs": [],
   "source": [
    "class Person:\n",
    "    def __init__(self, name, age):\n",
    "        self.name = name\n",
    "        self.age = age"
   ]
  },
  {
   "cell_type": "code",
   "execution_count": 24,
   "id": "b2a719af-2a01-42ec-995d-5332624c74b4",
   "metadata": {},
   "outputs": [],
   "source": [
    "class Rides:\n",
    "    def viking(self, name, age):\n",
    "        Min = 15\n",
    "        if age >= Min:\n",
    "            print(f\"{name}은(는) 탑승가능합니다.\")\n",
    "        else:\n",
    "            print(f\"{name}은(는) 탑승이 불가능합니다.\")"
   ]
  },
  {
   "cell_type": "code",
   "execution_count": 25,
   "id": "ebf833f8-1aa3-4017-92ef-1fb770eadecd",
   "metadata": {},
   "outputs": [],
   "source": [
    "kim=Person(\"김어른\", 50)\n",
    "song=Person(\"송어린\", 10)"
   ]
  },
  {
   "cell_type": "code",
   "execution_count": 26,
   "id": "06502d90-ce11-4536-9a96-18b5fc450609",
   "metadata": {},
   "outputs": [],
   "source": [
    "vk = Rides()"
   ]
  },
  {
   "cell_type": "code",
   "execution_count": 27,
   "id": "9338af80-08da-47ec-b9d2-905a887476b5",
   "metadata": {},
   "outputs": [
    {
     "name": "stdout",
     "output_type": "stream",
     "text": [
      "김어른은(는) 탑승가능합니다.\n",
      "송어린은(는) 탑승이 불가능합니다.\n"
     ]
    }
   ],
   "source": [
    "vk.viking(kim.name, kim.age)\n",
    "vk.viking(song.name, song.age)"
   ]
  },
  {
   "cell_type": "code",
   "execution_count": 45,
   "id": "adca1d1e-9c08-4d5c-8193-0bd71b5a528e",
   "metadata": {},
   "outputs": [],
   "source": [
    "class Caculator:\n",
    "    def __init__(self):\n",
    "        self.num1 = 0    # 인스턴스 변수\n",
    "        self.num2 = 0\n",
    "    def add(self, num1, num2):\n",
    "        self.num1 = num1\n",
    "        self.num2 = num2\n",
    "        return self.num1 + self.num2\n",
    "    def minus(self, num1, num2):\n",
    "        self.num1 = num1\n",
    "        self.num2 = num2\n",
    "        return self.num1 - self.num2\n",
    "    def multi(self, num1, num2):\n",
    "        self.num1 = num1\n",
    "        self.num2 = num2\n",
    "        return self.num1 * self.num2\n",
    "    def divide(self, num1, num2):\n",
    "        self.num1 = num1\n",
    "        self.num2 = num2\n",
    "        if num2 == 0: print(\"0을 넣지 마시오\")\n",
    "        return self.num1 / self.num2"
   ]
  },
  {
   "cell_type": "code",
   "execution_count": 46,
   "id": "eaee565c-f47b-4069-b42d-c3dedc2262ab",
   "metadata": {},
   "outputs": [],
   "source": [
    "cacul = Caculator()"
   ]
  },
  {
   "cell_type": "code",
   "execution_count": 47,
   "id": "7977cc4f-9e18-4a70-905f-17ce89634212",
   "metadata": {},
   "outputs": [
    {
     "name": "stdout",
     "output_type": "stream",
     "text": [
      "10\n",
      "2\n",
      "24\n",
      "1.5\n"
     ]
    }
   ],
   "source": [
    "print(cacul.add(6, 4))\n",
    "print(cacul.minus(6, 4))\n",
    "print(cacul.multi(6, 4))\n",
    "print(cacul.divide(6, 4))"
   ]
  },
  {
   "cell_type": "code",
   "execution_count": 55,
   "id": "038bbcfd-a556-4a9d-beda-6d90907f6416",
   "metadata": {},
   "outputs": [],
   "source": [
    "class Caculator:\n",
    "    def add(self, num1, num2):\n",
    "        return num1 + num2\n",
    "        \n",
    "    def minus(self, num1, num2):\n",
    "        return num1 - num2\n",
    "        \n",
    "    def multi(self, num1, num2):\n",
    "        return num1 * num2\n",
    "        \n",
    "    def divide(self, num1, num2):\n",
    "        return num1 / num2"
   ]
  },
  {
   "cell_type": "code",
   "execution_count": 56,
   "id": "e72415b4-f1ab-4b45-9905-3fa3d1a2caf3",
   "metadata": {},
   "outputs": [],
   "source": [
    "cacul = Caculator()"
   ]
  },
  {
   "cell_type": "code",
   "execution_count": 57,
   "id": "a6a62ddf-8322-4af4-9544-619cd244bc28",
   "metadata": {},
   "outputs": [
    {
     "name": "stdout",
     "output_type": "stream",
     "text": [
      "10\n",
      "2\n",
      "24\n",
      "1.5\n"
     ]
    }
   ],
   "source": [
    "print(cacul.add(6, 4))\n",
    "print(cacul.minus(6, 4))\n",
    "print(cacul.multi(6, 4))\n",
    "print(cacul.divide(6, 4))"
   ]
  },
  {
   "cell_type": "code",
   "execution_count": null,
   "id": "0f57fd58-07cc-4446-8cfd-b07d1859d5c2",
   "metadata": {},
   "outputs": [],
   "source": [
    "# 부모가 정의한 divide()를 재정의(override) 해야하는 상황"
   ]
  },
  {
   "cell_type": "code",
   "execution_count": 72,
   "id": "ca6b49cb-a735-4c98-82c4-9693d44f5c2b",
   "metadata": {},
   "outputs": [],
   "source": [
    "class SafeCaculator(Caculator):\n",
    "    def divide(self, num1, num2):\n",
    "        if num2 == 0:\n",
    "            print(\"0으로 나누지 마세요\")\n",
    "        else:\n",
    "            return num1 / num2"
   ]
  },
  {
   "cell_type": "code",
   "execution_count": 73,
   "id": "7700422a-3f57-4c18-a94d-9e8944b49bde",
   "metadata": {},
   "outputs": [],
   "source": [
    "my_safe_calc = SafeCaculator()"
   ]
  },
  {
   "cell_type": "code",
   "execution_count": 74,
   "id": "e3196d79-58cb-414e-b52e-d7c9775fd0e6",
   "metadata": {},
   "outputs": [
    {
     "data": {
      "text/plain": [
       "3"
      ]
     },
     "execution_count": 74,
     "metadata": {},
     "output_type": "execute_result"
    }
   ],
   "source": [
    "my_safe_calc.add(3, 0)"
   ]
  },
  {
   "cell_type": "code",
   "execution_count": 75,
   "id": "1f31f07d-52e2-407d-9c33-66a326f55b78",
   "metadata": {},
   "outputs": [
    {
     "data": {
      "text/plain": [
       "3"
      ]
     },
     "execution_count": 75,
     "metadata": {},
     "output_type": "execute_result"
    }
   ],
   "source": [
    "my_safe_calc.minus(3, 0)"
   ]
  },
  {
   "cell_type": "code",
   "execution_count": 76,
   "id": "2f4c50b9-1c61-4d69-9774-4a403f999c60",
   "metadata": {},
   "outputs": [
    {
     "data": {
      "text/plain": [
       "0"
      ]
     },
     "execution_count": 76,
     "metadata": {},
     "output_type": "execute_result"
    }
   ],
   "source": [
    "my_safe_calc.multi(3, 0)"
   ]
  },
  {
   "cell_type": "code",
   "execution_count": 77,
   "id": "4613cfd1-1e9c-401b-a1c5-9a37098ffb5e",
   "metadata": {},
   "outputs": [
    {
     "name": "stdout",
     "output_type": "stream",
     "text": [
      "0으로 나누지 마세요\n"
     ]
    }
   ],
   "source": [
    "my_safe_calc.divide(3, 0)"
   ]
  },
  {
   "cell_type": "code",
   "execution_count": 96,
   "id": "96344272-0642-4de5-9346-41053e94309c",
   "metadata": {},
   "outputs": [
    {
     "data": {
      "text/plain": [
       "dict_values([1, 82, 86, 81])"
      ]
     },
     "execution_count": 96,
     "metadata": {},
     "output_type": "execute_result"
    }
   ],
   "source": [
    "country_code={\"America\":1,\"Korea\":82,\"China\":86,\"Japan\":81}\n",
    "country_code.values()"
   ]
  },
  {
   "cell_type": "code",
   "execution_count": 100,
   "id": "7fcfb95b-7da6-4e67-94ab-4977c4f499dd",
   "metadata": {},
   "outputs": [
    {
     "name": "stdout",
     "output_type": "stream",
     "text": [
      "{'my': 5, 'dog': 6, 'has': 2, 'brown': 3, 'eyes,': 4, 'is': 7, 'cute': 8}\n"
     ]
    }
   ],
   "source": [
    "dog_song = \"my dog has brown eyes, my dog is cute\"\n",
    "print({i:j for j,i in enumerate(dog_song.split())})"
   ]
  },
  {
   "cell_type": "code",
   "execution_count": null,
   "id": "38127a4e-8abf-4c10-895e-b1ce1b344ce8",
   "metadata": {},
   "outputs": [],
   "source": []
  },
  {
   "cell_type": "code",
   "execution_count": null,
   "id": "b0fce57d-cc74-422d-98ef-591f16759dca",
   "metadata": {},
   "outputs": [],
   "source": []
  }
 ],
 "metadata": {
  "kernelspec": {
   "display_name": "Python 3 (ipykernel)",
   "language": "python",
   "name": "python3"
  },
  "language_info": {
   "codemirror_mode": {
    "name": "ipython",
    "version": 3
   },
   "file_extension": ".py",
   "mimetype": "text/x-python",
   "name": "python",
   "nbconvert_exporter": "python",
   "pygments_lexer": "ipython3",
   "version": "3.12.4"
  }
 },
 "nbformat": 4,
 "nbformat_minor": 5
}
