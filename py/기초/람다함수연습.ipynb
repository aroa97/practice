{
 "cells": [
  {
   "cell_type": "code",
   "execution_count": 2,
   "id": "d4ce0e28-77b2-47a7-ad3e-0e4ce4d53b30",
   "metadata": {},
   "outputs": [],
   "source": [
    "# 함수 기본"
   ]
  },
  {
   "cell_type": "code",
   "execution_count": 3,
   "id": "5f106795-1775-4ef9-b500-6cbd818ec1dc",
   "metadata": {},
   "outputs": [],
   "source": [
    "def f1():\n",
    "    print(\"hi\")\n",
    "\n",
    "def f2(gift):\n",
    "    print(gift)\n",
    "\n",
    "def f3():\n",
    "    return \"과자\"\n",
    "\n",
    "def f1(gift):\n",
    "    print(gift)\n",
    "    return \"사탕\""
   ]
  },
  {
   "cell_type": "code",
   "execution_count": 1,
   "id": "9158dca5-235c-49fb-af23-8760244eaddf",
   "metadata": {},
   "outputs": [],
   "source": [
    "# 람다 함수"
   ]
  },
  {
   "cell_type": "code",
   "execution_count": 6,
   "id": "017d585b-f05d-4653-84b1-5298a3980ff7",
   "metadata": {},
   "outputs": [],
   "source": [
    "def f1():\n",
    "    print(\"hi\")"
   ]
  },
  {
   "cell_type": "code",
   "execution_count": 7,
   "id": "c0a46f47-0124-450d-a933-e26646ba0065",
   "metadata": {},
   "outputs": [
    {
     "data": {
      "text/plain": [
       "<map at 0x22739df09a0>"
      ]
     },
     "execution_count": 7,
     "metadata": {},
     "output_type": "execute_result"
    }
   ],
   "source": [
    "map(f1, [1,2,3])"
   ]
  },
  {
   "cell_type": "code",
   "execution_count": 8,
   "id": "786834b4-f9f0-4433-853c-69e2386f663a",
   "metadata": {},
   "outputs": [
    {
     "data": {
      "text/plain": [
       "map"
      ]
     },
     "execution_count": 8,
     "metadata": {},
     "output_type": "execute_result"
    }
   ],
   "source": [
    "type(map(f1, [1,2,3]))"
   ]
  },
  {
   "cell_type": "code",
   "execution_count": 9,
   "id": "2819be27-cbf3-4069-bebe-2eb2dce578d1",
   "metadata": {},
   "outputs": [],
   "source": [
    "def f1(num):\n",
    "    return num + 1"
   ]
  },
  {
   "cell_type": "code",
   "execution_count": 10,
   "id": "c6fab814-6a4d-45c2-8d8b-2c5b9e3a3fba",
   "metadata": {},
   "outputs": [
    {
     "data": {
      "text/plain": [
       "<map at 0x22739df3190>"
      ]
     },
     "execution_count": 10,
     "metadata": {},
     "output_type": "execute_result"
    }
   ],
   "source": [
    "map(f1, [1,2,3])"
   ]
  },
  {
   "cell_type": "code",
   "execution_count": 11,
   "id": "dcbf098b-53cd-4da1-94c0-19133367e430",
   "metadata": {},
   "outputs": [
    {
     "data": {
      "text/plain": [
       "[2, 3, 4]"
      ]
     },
     "execution_count": 11,
     "metadata": {},
     "output_type": "execute_result"
    }
   ],
   "source": [
    "list(map(f1, [1,2,3]))"
   ]
  },
  {
   "cell_type": "code",
   "execution_count": 13,
   "id": "f0b82bbd-61e1-4426-a50f-60981804a549",
   "metadata": {},
   "outputs": [],
   "source": [
    "f2 = lambda num: num + 1"
   ]
  },
  {
   "cell_type": "code",
   "execution_count": 14,
   "id": "b30c0ba3-27c4-438f-93fa-93fa38772fdd",
   "metadata": {},
   "outputs": [
    {
     "data": {
      "text/plain": [
       "<map at 0x22739df1300>"
      ]
     },
     "execution_count": 14,
     "metadata": {},
     "output_type": "execute_result"
    }
   ],
   "source": [
    "map(f2, [1,2,3])"
   ]
  },
  {
   "cell_type": "code",
   "execution_count": 15,
   "id": "453fe897-d5f4-4d2b-9789-0553f1185870",
   "metadata": {},
   "outputs": [
    {
     "data": {
      "text/plain": [
       "[2, 3, 4]"
      ]
     },
     "execution_count": 15,
     "metadata": {},
     "output_type": "execute_result"
    }
   ],
   "source": [
    "list(map(f2, [1,2,3]))"
   ]
  },
  {
   "cell_type": "code",
   "execution_count": 16,
   "id": "a30fe177-1c17-4496-90f4-c6292ade1880",
   "metadata": {},
   "outputs": [
    {
     "data": {
      "text/plain": [
       "[1, 4, 9]"
      ]
     },
     "execution_count": 16,
     "metadata": {},
     "output_type": "execute_result"
    }
   ],
   "source": [
    "list(map(lambda x: x**2, [1,2,3]))"
   ]
  },
  {
   "cell_type": "code",
   "execution_count": 17,
   "id": "23cc4a77-44a2-4b5e-814e-acc3f05b0c4c",
   "metadata": {},
   "outputs": [],
   "source": [
    "# return 반환하고 종료한다."
   ]
  },
  {
   "cell_type": "code",
   "execution_count": 18,
   "id": "12d850bb-7487-443c-834f-1001304bca38",
   "metadata": {},
   "outputs": [],
   "source": [
    "def return_func():\n",
    "    return"
   ]
  },
  {
   "cell_type": "code",
   "execution_count": 19,
   "id": "22eab951-9a3d-4147-83e5-742a316dfa43",
   "metadata": {},
   "outputs": [],
   "source": [
    "result=return_func()"
   ]
  },
  {
   "cell_type": "code",
   "execution_count": 20,
   "id": "75dc96b0-2527-4c15-b141-92c03f62ba82",
   "metadata": {},
   "outputs": [
    {
     "name": "stdout",
     "output_type": "stream",
     "text": [
      "None\n"
     ]
    }
   ],
   "source": [
    "print(result)"
   ]
  },
  {
   "cell_type": "code",
   "execution_count": 21,
   "id": "86d9e715-8a1a-4185-87f2-11c9c6ad3693",
   "metadata": {},
   "outputs": [],
   "source": [
    "def return_func(x):\n",
    "    return x\n",
    "    return \"hi\""
   ]
  },
  {
   "cell_type": "code",
   "execution_count": 22,
   "id": "ea5f0951-83e6-4ab5-89d4-58bfe0bad904",
   "metadata": {},
   "outputs": [
    {
     "data": {
      "text/plain": [
       "5"
      ]
     },
     "execution_count": 22,
     "metadata": {},
     "output_type": "execute_result"
    }
   ],
   "source": [
    "return_func(5)"
   ]
  },
  {
   "cell_type": "code",
   "execution_count": 24,
   "id": "32d81a12-fd47-484c-aea5-c55eea3a6af9",
   "metadata": {},
   "outputs": [],
   "source": [
    "def return_func2(x):\n",
    "    print(\"###1###\")\n",
    "    yield x\n",
    "    print(\"###2###\")\n",
    "    x += 1\n",
    "    yield x\n",
    "    print(\"###3###\")\n",
    "    x += 1\n",
    "    yield x"
   ]
  },
  {
   "cell_type": "code",
   "execution_count": 25,
   "id": "c6eeace9-c7a5-4304-a529-bb94dceb520f",
   "metadata": {},
   "outputs": [
    {
     "data": {
      "text/plain": [
       "<generator object return_func2 at 0x0000022739901B40>"
      ]
     },
     "execution_count": 25,
     "metadata": {},
     "output_type": "execute_result"
    }
   ],
   "source": [
    "return_func2(1)"
   ]
  },
  {
   "cell_type": "code",
   "execution_count": 26,
   "id": "b056e89c-4eb8-4f6d-8801-80ca9c95a1ab",
   "metadata": {},
   "outputs": [
    {
     "name": "stdout",
     "output_type": "stream",
     "text": [
      "###1###\n",
      "1\n",
      "###2###\n",
      "2\n",
      "###3###\n",
      "3\n"
     ]
    }
   ],
   "source": [
    "for i in return_func2(1):\n",
    "    print(i)"
   ]
  },
  {
   "cell_type": "code",
   "execution_count": 27,
   "id": "982fa496-1316-4ed2-a61c-ba3c05cb0a18",
   "metadata": {},
   "outputs": [
    {
     "name": "stdout",
     "output_type": "stream",
     "text": [
      "Help on class map in module builtins:\n",
      "\n",
      "class map(object)\n",
      " |  map(func, *iterables) --> map object\n",
      " |\n",
      " |  Make an iterator that computes the function using arguments from\n",
      " |  each of the iterables.  Stops when the shortest iterable is exhausted.\n",
      " |\n",
      " |  Methods defined here:\n",
      " |\n",
      " |  __getattribute__(self, name, /)\n",
      " |      Return getattr(self, name).\n",
      " |\n",
      " |  __iter__(self, /)\n",
      " |      Implement iter(self).\n",
      " |\n",
      " |  __next__(self, /)\n",
      " |      Implement next(self).\n",
      " |\n",
      " |  __reduce__(...)\n",
      " |      Return state information for pickling.\n",
      " |\n",
      " |  ----------------------------------------------------------------------\n",
      " |  Static methods defined here:\n",
      " |\n",
      " |  __new__(*args, **kwargs)\n",
      " |      Create and return a new object.  See help(type) for accurate signature.\n",
      "\n"
     ]
    }
   ],
   "source": [
    "help(map)"
   ]
  },
  {
   "cell_type": "code",
   "execution_count": 28,
   "id": "965c043c-f4c5-4979-8306-9c78ea5b7c7e",
   "metadata": {},
   "outputs": [
    {
     "data": {
      "text/plain": [
       "(1, 2, 3, 2, 6, 8)"
      ]
     },
     "execution_count": 28,
     "metadata": {},
     "output_type": "execute_result"
    }
   ],
   "source": [
    "(1,2,3) + (2,6,8)"
   ]
  },
  {
   "cell_type": "code",
   "execution_count": 29,
   "id": "94f65f50-8316-4452-aed4-f47351fc7167",
   "metadata": {},
   "outputs": [
    {
     "data": {
      "text/plain": [
       "[3, 8, 11]"
      ]
     },
     "execution_count": 29,
     "metadata": {},
     "output_type": "execute_result"
    }
   ],
   "source": [
    "list(map(lambda tu1, tu2: tu1 + tu2, (1,2,3),(2,6,8)))"
   ]
  },
  {
   "cell_type": "code",
   "execution_count": 30,
   "id": "7a9c0cf7-9d18-40a3-96ad-3f959d7d3097",
   "metadata": {},
   "outputs": [
    {
     "data": {
      "text/plain": [
       "[3, 8, 11]"
      ]
     },
     "execution_count": 30,
     "metadata": {},
     "output_type": "execute_result"
    }
   ],
   "source": [
    "list(map(lambda li1, li2: li1 + li2, [1,2,3],[2,6,8]))"
   ]
  },
  {
   "cell_type": "code",
   "execution_count": 32,
   "id": "f168f80d-7eb1-40dc-8985-33fa4b25b96b",
   "metadata": {},
   "outputs": [
    {
     "name": "stdout",
     "output_type": "stream",
     "text": [
      "Help on class filter in module builtins:\n",
      "\n",
      "class filter(object)\n",
      " |  filter(function or None, iterable) --> filter object\n",
      " |\n",
      " |  Return an iterator yielding those items of iterable for which function(item)\n",
      " |  is true. If function is None, return the items that are true.\n",
      " |\n",
      " |  Methods defined here:\n",
      " |\n",
      " |  __getattribute__(self, name, /)\n",
      " |      Return getattr(self, name).\n",
      " |\n",
      " |  __iter__(self, /)\n",
      " |      Implement iter(self).\n",
      " |\n",
      " |  __next__(self, /)\n",
      " |      Implement next(self).\n",
      " |\n",
      " |  __reduce__(...)\n",
      " |      Return state information for pickling.\n",
      " |\n",
      " |  ----------------------------------------------------------------------\n",
      " |  Static methods defined here:\n",
      " |\n",
      " |  __new__(*args, **kwargs)\n",
      " |      Create and return a new object.  See help(type) for accurate signature.\n",
      "\n"
     ]
    }
   ],
   "source": [
    "help(filter)"
   ]
  },
  {
   "cell_type": "code",
   "execution_count": 33,
   "id": "5b7508c6-1458-412c-aeee-e020a57d43aa",
   "metadata": {},
   "outputs": [],
   "source": [
    "def f5():\n",
    "    return True"
   ]
  },
  {
   "cell_type": "code",
   "execution_count": 34,
   "id": "7ea26dda-0b86-423d-ad9b-f69419890e2b",
   "metadata": {},
   "outputs": [
    {
     "data": {
      "text/plain": [
       "True"
      ]
     },
     "execution_count": 34,
     "metadata": {},
     "output_type": "execute_result"
    }
   ],
   "source": [
    "f5()"
   ]
  },
  {
   "cell_type": "code",
   "execution_count": 36,
   "id": "73d39de8-854c-408d-95f9-947d46b3176a",
   "metadata": {},
   "outputs": [
    {
     "data": {
      "text/plain": [
       "[1, 2, 3]"
      ]
     },
     "execution_count": 36,
     "metadata": {},
     "output_type": "execute_result"
    }
   ],
   "source": [
    "[i for i in [-3,-2,-1,0,1,2,3] if i > 0]"
   ]
  },
  {
   "cell_type": "code",
   "execution_count": 37,
   "id": "7557d4e4-a049-4dde-89f8-9ff3ce58553e",
   "metadata": {},
   "outputs": [
    {
     "data": {
      "text/plain": [
       "[1, 2, 3]"
      ]
     },
     "execution_count": 37,
     "metadata": {},
     "output_type": "execute_result"
    }
   ],
   "source": [
    "list(filter(lambda li: li > 0, [-3,-2,-1,0,1,2,3]))"
   ]
  },
  {
   "cell_type": "code",
   "execution_count": 41,
   "id": "e4bfab4e-ff9d-401d-a7eb-4182add8acaa",
   "metadata": {},
   "outputs": [
    {
     "name": "stdout",
     "output_type": "stream",
     "text": [
      "Help on class zip in module builtins:\n",
      "\n",
      "class zip(object)\n",
      " |  zip(*iterables, strict=False) --> Yield tuples until an input is exhausted.\n",
      " |\n",
      " |     >>> list(zip('abcdefg', range(3), range(4)))\n",
      " |     [('a', 0, 0), ('b', 1, 1), ('c', 2, 2)]\n",
      " |\n",
      " |  The zip object yields n-length tuples, where n is the number of iterables\n",
      " |  passed as positional arguments to zip().  The i-th element in every tuple\n",
      " |  comes from the i-th iterable argument to zip().  This continues until the\n",
      " |  shortest argument is exhausted.\n",
      " |\n",
      " |  If strict is true and one of the arguments is exhausted before the others,\n",
      " |  raise a ValueError.\n",
      " |\n",
      " |  Methods defined here:\n",
      " |\n",
      " |  __getattribute__(self, name, /)\n",
      " |      Return getattr(self, name).\n",
      " |\n",
      " |  __iter__(self, /)\n",
      " |      Implement iter(self).\n",
      " |\n",
      " |  __next__(self, /)\n",
      " |      Implement next(self).\n",
      " |\n",
      " |  __reduce__(...)\n",
      " |      Return state information for pickling.\n",
      " |\n",
      " |  __setstate__(...)\n",
      " |      Set state information for unpickling.\n",
      " |\n",
      " |  ----------------------------------------------------------------------\n",
      " |  Static methods defined here:\n",
      " |\n",
      " |  __new__(*args, **kwargs)\n",
      " |      Create and return a new object.  See help(type) for accurate signature.\n",
      "\n"
     ]
    }
   ],
   "source": [
    "# help(zip) zip(*iterables, strict=False)"
   ]
  },
  {
   "cell_type": "code",
   "execution_count": 42,
   "id": "4f281b1e-7ba2-4b36-93cf-4bfb8d04dddf",
   "metadata": {},
   "outputs": [
    {
     "data": {
      "text/plain": [
       "<zip at 0x2273a0ca080>"
      ]
     },
     "execution_count": 42,
     "metadata": {},
     "output_type": "execute_result"
    }
   ],
   "source": [
    "zip([1,2,3], [4,5,6])"
   ]
  },
  {
   "cell_type": "code",
   "execution_count": 44,
   "id": "aabe33e9-6a59-4bf6-834d-91ca5e24b238",
   "metadata": {},
   "outputs": [
    {
     "data": {
      "text/plain": [
       "[(1, 4), (2, 5), (3, 6)]"
      ]
     },
     "execution_count": 44,
     "metadata": {},
     "output_type": "execute_result"
    }
   ],
   "source": [
    "list(zip([1,2,3], [4,5,6]))"
   ]
  },
  {
   "cell_type": "code",
   "execution_count": 45,
   "id": "9fb05944-bcd6-47f8-8518-7520d29ce34f",
   "metadata": {},
   "outputs": [
    {
     "data": {
      "text/plain": [
       "[('봄', '벚꽃'), ('여름', '장미')]"
      ]
     },
     "execution_count": 45,
     "metadata": {},
     "output_type": "execute_result"
    }
   ],
   "source": [
    "list(zip([\"봄\",\"여름\"], [\"벚꽃\",\"장미\"]))"
   ]
  },
  {
   "cell_type": "code",
   "execution_count": 46,
   "id": "8b0d8fd8-86c9-4a39-9a14-94b21fc99e91",
   "metadata": {},
   "outputs": [
    {
     "data": {
      "text/plain": [
       "[('봄', '벚꽃'), ('여름', '장미')]"
      ]
     },
     "execution_count": 46,
     "metadata": {},
     "output_type": "execute_result"
    }
   ],
   "source": [
    "list(zip([\"봄\",\"여름\"], [\"벚꽃\",\"장미\",\"국화\"]))"
   ]
  },
  {
   "cell_type": "code",
   "execution_count": 47,
   "id": "b9a93456-bff6-4ec6-b713-52675492a378",
   "metadata": {},
   "outputs": [
    {
     "data": {
      "text/plain": [
       "[('봄', '벚꽃'), ('여름', '장미')]"
      ]
     },
     "execution_count": 47,
     "metadata": {},
     "output_type": "execute_result"
    }
   ],
   "source": [
    "list(zip([\"봄\",\"여름\",\"가을\"], [\"벚꽃\",\"장미\"]))"
   ]
  },
  {
   "cell_type": "code",
   "execution_count": 48,
   "id": "53aa1d58-d655-42f9-92ca-b55c4044994c",
   "metadata": {},
   "outputs": [
    {
     "name": "stdout",
     "output_type": "stream",
     "text": [
      "봄에는 벚꽃가 핀다.\n",
      "여름에는 장미가 핀다.\n"
     ]
    }
   ],
   "source": [
    "for season, flower in list(zip([\"봄\",\"여름\"], [\"벚꽃\",\"장미\"])):\n",
    "    print(f\"{season}에는 {flower}가 핀다.\")"
   ]
  },
  {
   "cell_type": "code",
   "execution_count": null,
   "id": "11d98a38-b319-4907-96bd-fdd8fe1e2004",
   "metadata": {},
   "outputs": [],
   "source": []
  }
 ],
 "metadata": {
  "kernelspec": {
   "display_name": "Python 3 (ipykernel)",
   "language": "python",
   "name": "python3"
  },
  "language_info": {
   "codemirror_mode": {
    "name": "ipython",
    "version": 3
   },
   "file_extension": ".py",
   "mimetype": "text/x-python",
   "name": "python",
   "nbconvert_exporter": "python",
   "pygments_lexer": "ipython3",
   "version": "3.12.4"
  }
 },
 "nbformat": 4,
 "nbformat_minor": 5
}
