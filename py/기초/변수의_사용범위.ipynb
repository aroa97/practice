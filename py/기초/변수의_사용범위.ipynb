{
 "cells": [
  {
   "cell_type": "code",
   "execution_count": 1,
   "id": "12c028b3-e807-49c6-8d3b-74ec8eac922e",
   "metadata": {},
   "outputs": [],
   "source": [
    "def f1():\n",
    "    num1 = 5 # num1은 지역 변수\n",
    "    print(num1)"
   ]
  },
  {
   "cell_type": "code",
   "execution_count": 2,
   "id": "7e41c4dd-96b0-4f62-9104-212f126219e0",
   "metadata": {},
   "outputs": [
    {
     "name": "stdout",
     "output_type": "stream",
     "text": [
      "5\n"
     ]
    }
   ],
   "source": [
    "f1()"
   ]
  },
  {
   "cell_type": "code",
   "execution_count": 3,
   "id": "5891ffe5-bb8a-4f6d-ad80-a6e365d04c8e",
   "metadata": {},
   "outputs": [],
   "source": [
    "a = 3\n",
    "def f1():\n",
    "    num1 = 5 # num1은 지역 변수\n",
    "    print(num1)"
   ]
  },
  {
   "cell_type": "code",
   "execution_count": 4,
   "id": "88437838-0cb5-4b7e-88c4-24ffee9b629e",
   "metadata": {},
   "outputs": [
    {
     "data": {
      "text/plain": [
       "3"
      ]
     },
     "execution_count": 4,
     "metadata": {},
     "output_type": "execute_result"
    }
   ],
   "source": [
    "a"
   ]
  },
  {
   "cell_type": "code",
   "execution_count": 5,
   "id": "1baea8d0-f8f6-4bbc-a142-765ce4b9b37a",
   "metadata": {},
   "outputs": [
    {
     "name": "stdout",
     "output_type": "stream",
     "text": [
      "5\n"
     ]
    }
   ],
   "source": [
    "f1()"
   ]
  },
  {
   "cell_type": "code",
   "execution_count": 6,
   "id": "5ca382c0-bb27-4471-82d0-cb5e916b61f3",
   "metadata": {},
   "outputs": [],
   "source": [
    "a = 3\n",
    "def f1():\n",
    "    num1 = 8 # num1은 지역 변수\n",
    "    print(num1)"
   ]
  },
  {
   "cell_type": "code",
   "execution_count": 7,
   "id": "5fd450e1-3582-41bc-a3b3-26ac42c72aa1",
   "metadata": {},
   "outputs": [
    {
     "name": "stdout",
     "output_type": "stream",
     "text": [
      "8\n"
     ]
    }
   ],
   "source": [
    "f1()"
   ]
  },
  {
   "cell_type": "code",
   "execution_count": 8,
   "id": "fe43e718-ccc5-4547-9522-cd6f115b8fd2",
   "metadata": {},
   "outputs": [
    {
     "name": "stdout",
     "output_type": "stream",
     "text": [
      "3\n"
     ]
    }
   ],
   "source": [
    "a = 3\n",
    "def f1():\n",
    "    print(a)\n",
    "f1()"
   ]
  },
  {
   "cell_type": "code",
   "execution_count": null,
   "id": "0bfbaec3-9e4b-4a7c-82cd-cb2a847cfc13",
   "metadata": {},
   "outputs": [],
   "source": []
  }
 ],
 "metadata": {
  "kernelspec": {
   "display_name": "Python 3 (ipykernel)",
   "language": "python",
   "name": "python3"
  },
  "language_info": {
   "codemirror_mode": {
    "name": "ipython",
    "version": 3
   },
   "file_extension": ".py",
   "mimetype": "text/x-python",
   "name": "python",
   "nbconvert_exporter": "python",
   "pygments_lexer": "ipython3",
   "version": "3.12.4"
  }
 },
 "nbformat": 4,
 "nbformat_minor": 5
}
