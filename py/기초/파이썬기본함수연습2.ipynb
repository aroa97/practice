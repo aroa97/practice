{
 "cells": [
  {
   "cell_type": "code",
   "execution_count": 2,
   "id": "5e66b37b-eb0f-4f21-a54d-0171601993cb",
   "metadata": {},
   "outputs": [],
   "source": [
    "li=[1,2,10,60,70,80,40]"
   ]
  },
  {
   "cell_type": "code",
   "execution_count": 3,
   "id": "41aa749b-6bf1-4c52-9423-eb2d01e71050",
   "metadata": {},
   "outputs": [
    {
     "name": "stdout",
     "output_type": "stream",
     "text": [
      "[1, 2, 10, 60, 70, 80, 40]\n"
     ]
    }
   ],
   "source": [
    "print(li)"
   ]
  },
  {
   "cell_type": "code",
   "execution_count": 4,
   "id": "0b3b37cc-d595-42fc-86dc-aaa43a4a8b2d",
   "metadata": {},
   "outputs": [
    {
     "data": {
      "text/plain": [
       "1"
      ]
     },
     "execution_count": 4,
     "metadata": {},
     "output_type": "execute_result"
    }
   ],
   "source": [
    "min(li)"
   ]
  },
  {
   "cell_type": "code",
   "execution_count": 5,
   "id": "195ef2ab-5329-4682-ada0-8b8073372a0d",
   "metadata": {},
   "outputs": [
    {
     "data": {
      "text/plain": [
       "80"
      ]
     },
     "execution_count": 5,
     "metadata": {},
     "output_type": "execute_result"
    }
   ],
   "source": [
    "max(li)"
   ]
  },
  {
   "cell_type": "code",
   "execution_count": 6,
   "id": "b4221abe-3cae-4788-b690-6d6a507f3bac",
   "metadata": {},
   "outputs": [
    {
     "data": {
      "text/plain": [
       "263"
      ]
     },
     "execution_count": 6,
     "metadata": {},
     "output_type": "execute_result"
    }
   ],
   "source": [
    "sum(li)"
   ]
  },
  {
   "cell_type": "code",
   "execution_count": 7,
   "id": "74d420f8-1da3-46c6-a9ae-d9b36b20d9ce",
   "metadata": {},
   "outputs": [
    {
     "data": {
      "text/plain": [
       "[1, 2, 10, 40, 60, 70, 80]"
      ]
     },
     "execution_count": 7,
     "metadata": {},
     "output_type": "execute_result"
    }
   ],
   "source": [
    "list(sorted(li))"
   ]
  },
  {
   "cell_type": "code",
   "execution_count": 8,
   "id": "79aa0174-e8fe-4d62-947b-f60e76b0672a",
   "metadata": {},
   "outputs": [
    {
     "data": {
      "text/plain": [
       "[40, 80, 70, 60, 10, 2, 1]"
      ]
     },
     "execution_count": 8,
     "metadata": {},
     "output_type": "execute_result"
    }
   ],
   "source": [
    "list(reversed(li))"
   ]
  },
  {
   "cell_type": "code",
   "execution_count": 12,
   "id": "ddb7e119-0486-4c49-98b0-32aceba2e1a4",
   "metadata": {},
   "outputs": [
    {
     "name": "stdout",
     "output_type": "stream",
     "text": [
      "(0, 1)\n",
      "(1, 2)\n",
      "(2, 10)\n",
      "(3, 60)\n",
      "(4, 70)\n",
      "(5, 80)\n",
      "(6, 40)\n"
     ]
    }
   ],
   "source": [
    "for i in enumerate(li):\n",
    "    print(i)"
   ]
  },
  {
   "cell_type": "code",
   "execution_count": 19,
   "id": "8609995c-570f-4b8b-9834-281f2ca6b834",
   "metadata": {},
   "outputs": [
    {
     "data": {
      "text/plain": [
       "[1, 2, 10, 40, 60, 70, 80]"
      ]
     },
     "execution_count": 19,
     "metadata": {},
     "output_type": "execute_result"
    }
   ],
   "source": [
    "sorted(li)"
   ]
  },
  {
   "cell_type": "code",
   "execution_count": 21,
   "id": "0a942a97-5795-4763-92d1-5287ce1cbe2e",
   "metadata": {},
   "outputs": [
    {
     "data": {
      "text/plain": [
       "[40, 80, 70, 60, 10, 2, 1]"
      ]
     },
     "execution_count": 21,
     "metadata": {},
     "output_type": "execute_result"
    }
   ],
   "source": [
    "list(reversed(li))"
   ]
  },
  {
   "cell_type": "code",
   "execution_count": 22,
   "id": "2e5f4c1f-cb9d-4e36-9fc9-5ea6685c1afd",
   "metadata": {},
   "outputs": [],
   "source": [
    "rev=reversed([1,2,3,4,5])"
   ]
  },
  {
   "cell_type": "code",
   "execution_count": 23,
   "id": "788bdc1e-dbc1-4ba2-b881-5d56c09a35e2",
   "metadata": {},
   "outputs": [
    {
     "data": {
      "text/plain": [
       "5"
      ]
     },
     "execution_count": 23,
     "metadata": {},
     "output_type": "execute_result"
    }
   ],
   "source": [
    "next(rev)"
   ]
  },
  {
   "cell_type": "code",
   "execution_count": 24,
   "id": "0b6c409c-0765-4aea-b8af-32849031afa8",
   "metadata": {},
   "outputs": [],
   "source": [
    "# 리스트 내포 : 한줄에 리스트로 표현해라"
   ]
  },
  {
   "cell_type": "code",
   "execution_count": null,
   "id": "03c482dc-6ed9-4d31-9a16-872c07d731f9",
   "metadata": {},
   "outputs": [],
   "source": [
    "# iterable : 문자열, 리스트, 튜플, 딕셔너리"
   ]
  },
  {
   "cell_type": "code",
   "execution_count": null,
   "id": "a61743fd-869f-4213-87ce-62c539793a1e",
   "metadata": {},
   "outputs": [],
   "source": [
    "# [i 표현형태 for i in iterable]"
   ]
  },
  {
   "cell_type": "code",
   "execution_count": 25,
   "id": "13f7aff6-db06-44c4-9677-2f121633e94a",
   "metadata": {},
   "outputs": [],
   "source": [
    "# 반복문 한줄에 쳐야할 때"
   ]
  },
  {
   "cell_type": "code",
   "execution_count": 26,
   "id": "9a053230-5d00-4f10-a171-73ab62cc5c4a",
   "metadata": {},
   "outputs": [
    {
     "name": "stdout",
     "output_type": "stream",
     "text": [
      "1\n",
      "2\n",
      "3\n"
     ]
    }
   ],
   "source": [
    "for i in [1,2,3]: print(i)"
   ]
  },
  {
   "cell_type": "code",
   "execution_count": 27,
   "id": "20593018-23de-49b9-a024-9feda90a4917",
   "metadata": {},
   "outputs": [
    {
     "data": {
      "text/plain": [
       "[1, 2, 3]"
      ]
     },
     "execution_count": 27,
     "metadata": {},
     "output_type": "execute_result"
    }
   ],
   "source": [
    "[i for i in [1,2,3]]"
   ]
  },
  {
   "cell_type": "code",
   "execution_count": 28,
   "id": "76c34d14-80f2-41df-85d9-abf6d32d22a3",
   "metadata": {},
   "outputs": [
    {
     "data": {
      "text/plain": [
       "[2, 4, 6]"
      ]
     },
     "execution_count": 28,
     "metadata": {},
     "output_type": "execute_result"
    }
   ],
   "source": [
    "[i * 2 for i in [1,2,3]]"
   ]
  },
  {
   "cell_type": "code",
   "execution_count": 29,
   "id": "91de2717-f03b-4158-8eb5-16eeb9af5a37",
   "metadata": {},
   "outputs": [
    {
     "data": {
      "text/plain": [
       "[0.5, 1.0, 1.5]"
      ]
     },
     "execution_count": 29,
     "metadata": {},
     "output_type": "execute_result"
    }
   ],
   "source": [
    "[i / 2 for i in [1,2,3]]"
   ]
  },
  {
   "cell_type": "code",
   "execution_count": 30,
   "id": "4f1ce708-1c77-433f-8e83-0cffa1cf6c95",
   "metadata": {},
   "outputs": [
    {
     "name": "stdout",
     "output_type": "stream",
     "text": [
      "2\n",
      "4\n",
      "6\n",
      "8\n",
      "10\n"
     ]
    }
   ],
   "source": [
    "for i in range(1, 10 + 1):\n",
    "    if i % 2 == 0: \n",
    "        print(i)"
   ]
  },
  {
   "cell_type": "code",
   "execution_count": 34,
   "id": "49e0760f-84e8-4daf-afb1-28f1502184bb",
   "metadata": {},
   "outputs": [
    {
     "data": {
      "text/plain": [
       "[4, 16, 36, 64, 100]"
      ]
     },
     "execution_count": 34,
     "metadata": {},
     "output_type": "execute_result"
    }
   ],
   "source": [
    "[i**2 for i in range(1, 10 + 1) if i % 2 == 0]"
   ]
  },
  {
   "cell_type": "code",
   "execution_count": 35,
   "id": "7ac8ce7d-e8ca-4293-b1cb-538023dbfa4e",
   "metadata": {},
   "outputs": [],
   "source": [
    "# 문자열 함수"
   ]
  },
  {
   "cell_type": "code",
   "execution_count": 39,
   "id": "c9824bcb-4193-4895-906b-2d7e6fb5f4d7",
   "metadata": {},
   "outputs": [
    {
     "name": "stdout",
     "output_type": "stream",
     "text": [
      "안녕\n",
      "점심\n",
      "맛있게\n",
      "드셨습니까\n"
     ]
    }
   ],
   "source": [
    "for i in \"안녕 점심 맛있게 드셨습니까\".split():\n",
    "    print(i)"
   ]
  },
  {
   "cell_type": "code",
   "execution_count": 40,
   "id": "0c3d2311-d6dc-42af-8251-e8d151936dfc",
   "metadata": {},
   "outputs": [
    {
     "name": "stdout",
     "output_type": "stream",
     "text": [
      "안녕\n",
      "점심\n",
      "맛있게\n",
      "드셨습니까\n"
     ]
    }
   ],
   "source": [
    "for i in \"안녕,점심,맛있게,드셨습니까\".split(\",\"):\n",
    "    print(i)"
   ]
  },
  {
   "cell_type": "code",
   "execution_count": 41,
   "id": "464a8cd8-1947-416f-b206-7c2780a9391c",
   "metadata": {},
   "outputs": [
    {
     "name": "stdout",
     "output_type": "stream",
     "text": [
      "안녕\n",
      "점심\n",
      "맛있게\n",
      "드셨습니까\n"
     ]
    }
   ],
   "source": [
    "for i in \"안녕/점심/맛있게/드셨습니까\".split(\"/\"):\n",
    "    print(i)"
   ]
  },
  {
   "cell_type": "code",
   "execution_count": 44,
   "id": "9320fb6b-01f2-48d7-b994-1f35bb020a1d",
   "metadata": {},
   "outputs": [],
   "source": [
    "li5 = [i for i in \"안녕/점심/맛있게/드셨습니까\".split(\"/\")]"
   ]
  },
  {
   "cell_type": "code",
   "execution_count": 43,
   "id": "0bb549dc-60a6-41fe-8adb-f7d151ccba34",
   "metadata": {},
   "outputs": [],
   "source": [
    "# 안녕*점심*맛있게*드셨습니까"
   ]
  },
  {
   "cell_type": "code",
   "execution_count": 45,
   "id": "0dcfae36-696a-491f-bab8-731b934b8bf2",
   "metadata": {},
   "outputs": [
    {
     "data": {
      "text/plain": [
       "'안녕점심맛있게드셨습니까'"
      ]
     },
     "execution_count": 45,
     "metadata": {},
     "output_type": "execute_result"
    }
   ],
   "source": [
    "\"\".join(li5)"
   ]
  },
  {
   "cell_type": "code",
   "execution_count": 46,
   "id": "b87465be-1331-4492-a285-09dadbc4b52c",
   "metadata": {},
   "outputs": [
    {
     "data": {
      "text/plain": [
       "'안녕 점심 맛있게 드셨습니까'"
      ]
     },
     "execution_count": 46,
     "metadata": {},
     "output_type": "execute_result"
    }
   ],
   "source": [
    "\" \".join(li5)"
   ]
  },
  {
   "cell_type": "code",
   "execution_count": 47,
   "id": "809a49b7-640a-4619-b5ed-56690aa7a380",
   "metadata": {},
   "outputs": [],
   "source": [
    "s1 = \"안녕하세요 반갑습니다 저는 윤선준입니다 잘부탁드립니다\""
   ]
  },
  {
   "cell_type": "code",
   "execution_count": 49,
   "id": "2baf076b-846e-4a8e-b40a-b19b6edf8964",
   "metadata": {},
   "outputs": [],
   "source": [
    "s2 = list(s1.split())"
   ]
  },
  {
   "cell_type": "code",
   "execution_count": 50,
   "id": "f2df3d05-9f34-4806-96ff-91a404be0abe",
   "metadata": {},
   "outputs": [
    {
     "data": {
      "text/plain": [
       "'안녕하세요/반갑습니다/저는/윤선준입니다/잘부탁드립니다'"
      ]
     },
     "execution_count": 50,
     "metadata": {},
     "output_type": "execute_result"
    }
   ],
   "source": [
    "\"/\".join(s2)"
   ]
  },
  {
   "cell_type": "code",
   "execution_count": null,
   "id": "157e3f71-6474-4e9e-847c-2a572fcc0db4",
   "metadata": {},
   "outputs": [],
   "source": []
  }
 ],
 "metadata": {
  "kernelspec": {
   "display_name": "Python 3 (ipykernel)",
   "language": "python",
   "name": "python3"
  },
  "language_info": {
   "codemirror_mode": {
    "name": "ipython",
    "version": 3
   },
   "file_extension": ".py",
   "mimetype": "text/x-python",
   "name": "python",
   "nbconvert_exporter": "python",
   "pygments_lexer": "ipython3",
   "version": "3.12.4"
  }
 },
 "nbformat": 4,
 "nbformat_minor": 5
}
