{
 "cells": [
  {
   "cell_type": "code",
   "execution_count": 1,
   "id": "20a348da-6691-45f7-9249-f7a5c65b4263",
   "metadata": {},
   "outputs": [],
   "source": [
    "# 재귀(recursion) 함수"
   ]
  },
  {
   "cell_type": "code",
   "execution_count": 2,
   "id": "b4999c27-fa5e-41ea-8cfc-454f1f7f0453",
   "metadata": {},
   "outputs": [],
   "source": [
    "def f1():\n",
    "    print(\"hi\")\n",
    "    f1()"
   ]
  },
  {
   "cell_type": "code",
   "execution_count": 3,
   "id": "3eabdd5e-4710-49f4-9eab-0d5f1ade6f0b",
   "metadata": {},
   "outputs": [],
   "source": [
    "# 팩토리얼 함수 정의"
   ]
  },
  {
   "cell_type": "code",
   "execution_count": 4,
   "id": "b4d9a740-2b71-4c09-b6ea-ee6f25136534",
   "metadata": {},
   "outputs": [],
   "source": [
    "def factorial(n):\n",
    "    if n == 1: \n",
    "        return 1\n",
    "    return n * factorial(n - 1)"
   ]
  },
  {
   "cell_type": "code",
   "execution_count": 8,
   "id": "9096be3e-d4fb-4b8f-a358-f7f9a42212b8",
   "metadata": {},
   "outputs": [
    {
     "data": {
      "text/plain": [
       "2"
      ]
     },
     "execution_count": 8,
     "metadata": {},
     "output_type": "execute_result"
    }
   ],
   "source": [
    "factorial(2)"
   ]
  },
  {
   "cell_type": "code",
   "execution_count": 9,
   "id": "db714550-0010-4cc3-8dd2-2aeb62900929",
   "metadata": {},
   "outputs": [
    {
     "data": {
      "text/plain": [
       "6"
      ]
     },
     "execution_count": 9,
     "metadata": {},
     "output_type": "execute_result"
    }
   ],
   "source": [
    "factorial(3)"
   ]
  },
  {
   "cell_type": "code",
   "execution_count": 10,
   "id": "e46b27e0-1611-45c6-b1a5-cec18069d320",
   "metadata": {},
   "outputs": [
    {
     "data": {
      "text/plain": [
       "24"
      ]
     },
     "execution_count": 10,
     "metadata": {},
     "output_type": "execute_result"
    }
   ],
   "source": [
    "factorial(4)"
   ]
  },
  {
   "cell_type": "code",
   "execution_count": 11,
   "id": "0e0596c1-b910-4485-890e-7db929e7529e",
   "metadata": {},
   "outputs": [],
   "source": [
    "# 피보나치 : 첫째 및 둘째 항이 1이며 그 뒤의 모든 항은 바로 앞 두 항의 합인 수열"
   ]
  },
  {
   "cell_type": "code",
   "execution_count": 14,
   "id": "244f9c28-2a77-4d0d-b6bd-5de13b774207",
   "metadata": {},
   "outputs": [],
   "source": [
    "def fibonacci(n):\n",
    "    if n == 1:\n",
    "        return 1\n",
    "    if n == 2:\n",
    "        return 1\n",
    "    return fibonacci(n - 1) + fibonacci(n - 2)"
   ]
  },
  {
   "cell_type": "code",
   "execution_count": 15,
   "id": "80e05ff2-d148-4546-8918-20350b4817eb",
   "metadata": {},
   "outputs": [
    {
     "data": {
      "text/plain": [
       "1"
      ]
     },
     "execution_count": 15,
     "metadata": {},
     "output_type": "execute_result"
    }
   ],
   "source": [
    "fibonacci(1)"
   ]
  },
  {
   "cell_type": "code",
   "execution_count": 16,
   "id": "b46c6a30-0b51-4344-b693-db7a92198a15",
   "metadata": {},
   "outputs": [],
   "source": [
    "# 메모화"
   ]
  },
  {
   "cell_type": "code",
   "execution_count": 18,
   "id": "0c8b0e28-d682-417f-b1f6-d5d547e1a5fd",
   "metadata": {},
   "outputs": [],
   "source": [
    "dictionary = {\n",
    "    1:1,\n",
    "    2:1\n",
    "}"
   ]
  },
  {
   "cell_type": "code",
   "execution_count": 25,
   "id": "a060c5e0-135a-4822-8056-a88aabde17e5",
   "metadata": {},
   "outputs": [],
   "source": [
    "def fibonacci(n):\n",
    "    if n in dictionary:\n",
    "        return dictionary[n]\n",
    "    dictionary[n] = fibonacci(n - 1) + fibonacci(n - 2)\n",
    "    return dictionary[n]"
   ]
  },
  {
   "cell_type": "code",
   "execution_count": 28,
   "id": "733d00ec-279b-4b9a-87d3-7f69805d041a",
   "metadata": {},
   "outputs": [
    {
     "data": {
      "text/plain": [
       "8"
      ]
     },
     "execution_count": 28,
     "metadata": {},
     "output_type": "execute_result"
    }
   ],
   "source": [
    "fibonacci(6)"
   ]
  },
  {
   "cell_type": "code",
   "execution_count": null,
   "id": "a626c88d-4b3e-4c09-a652-e582f06b26fc",
   "metadata": {},
   "outputs": [],
   "source": []
  }
 ],
 "metadata": {
  "kernelspec": {
   "display_name": "Python 3 (ipykernel)",
   "language": "python",
   "name": "python3"
  },
  "language_info": {
   "codemirror_mode": {
    "name": "ipython",
    "version": 3
   },
   "file_extension": ".py",
   "mimetype": "text/x-python",
   "name": "python",
   "nbconvert_exporter": "python",
   "pygments_lexer": "ipython3",
   "version": "3.12.4"
  }
 },
 "nbformat": 4,
 "nbformat_minor": 5
}
