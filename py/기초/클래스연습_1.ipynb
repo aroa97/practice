{
 "cells": [
  {
   "cell_type": "code",
   "execution_count": 1,
   "id": "bc3f1d49-54d3-4815-ac36-e39ef4688bc0",
   "metadata": {},
   "outputs": [],
   "source": [
    "class Caculator:\n",
    "    def __init__(self):\n",
    "        self.num1 = 0\n",
    "        self.num2 = 0\n",
    "    def add(self, num1, num2):\n",
    "        self.num1 = num1\n",
    "        self.num2 = num2\n",
    "        return self.num1 + self.num2"
   ]
  },
  {
   "cell_type": "code",
   "execution_count": 2,
   "id": "b6ad178c-3d17-4826-9079-51d42b461565",
   "metadata": {},
   "outputs": [],
   "source": [
    "caculator1 = Caculator()"
   ]
  },
  {
   "cell_type": "code",
   "execution_count": 4,
   "id": "dc86634f-a08f-4afc-aed2-818caaa766ee",
   "metadata": {},
   "outputs": [],
   "source": [
    "result = caculator1.add(3,5)"
   ]
  },
  {
   "cell_type": "code",
   "execution_count": 5,
   "id": "1e00dbd3-7ec4-4777-a051-db1d1dab4109",
   "metadata": {},
   "outputs": [
    {
     "data": {
      "text/plain": [
       "3"
      ]
     },
     "execution_count": 5,
     "metadata": {},
     "output_type": "execute_result"
    }
   ],
   "source": [
    "caculator1.num1"
   ]
  },
  {
   "cell_type": "code",
   "execution_count": 6,
   "id": "97898ea9-e129-4d93-b2e6-6387fc48fec8",
   "metadata": {},
   "outputs": [
    {
     "data": {
      "text/plain": [
       "5"
      ]
     },
     "execution_count": 6,
     "metadata": {},
     "output_type": "execute_result"
    }
   ],
   "source": [
    "caculator1.num2"
   ]
  },
  {
   "cell_type": "code",
   "execution_count": 7,
   "id": "13eccd12-9067-4222-af9e-0b0c1a4adbba",
   "metadata": {},
   "outputs": [
    {
     "data": {
      "text/plain": [
       "8"
      ]
     },
     "execution_count": 7,
     "metadata": {},
     "output_type": "execute_result"
    }
   ],
   "source": [
    "result"
   ]
  },
  {
   "cell_type": "code",
   "execution_count": 9,
   "id": "c81f2125-15b7-49cc-b9ea-c002c4d2e2bb",
   "metadata": {},
   "outputs": [
    {
     "name": "stdout",
     "output_type": "stream",
     "text": [
      "Help on class Caculator in module __main__:\n",
      "\n",
      "class Caculator(builtins.object)\n",
      " |  Methods defined here:\n",
      " |\n",
      " |  __init__(self)\n",
      " |      Initialize self.  See help(type(self)) for accurate signature.\n",
      " |\n",
      " |  add(self, num1, num2)\n",
      " |\n",
      " |  ----------------------------------------------------------------------\n",
      " |  Data descriptors defined here:\n",
      " |\n",
      " |  __dict__\n",
      " |      dictionary for instance variables\n",
      " |\n",
      " |  __weakref__\n",
      " |      list of weak references to the object\n",
      "\n"
     ]
    }
   ],
   "source": [
    "help(Caculator)"
   ]
  },
  {
   "cell_type": "code",
   "execution_count": 13,
   "id": "e79ba16d-fa8f-48d4-906b-6898b55ce2bb",
   "metadata": {},
   "outputs": [],
   "source": [
    "class Student:\n",
    "    def __init__(self, name, age):\n",
    "        self.name = name\n",
    "        self.age = age\n",
    "    def study(self):\n",
    "        print(f\"이름이 {self.name}(이)고 나이가 {self.age}살인 학생이 공부를 한다.\")"
   ]
  },
  {
   "cell_type": "code",
   "execution_count": 15,
   "id": "6d7df40d-a5d9-4c77-9d8d-0297cf6ea160",
   "metadata": {},
   "outputs": [],
   "source": [
    "student1 = Student(\"홍길동\", 17)"
   ]
  },
  {
   "cell_type": "code",
   "execution_count": 17,
   "id": "f1343dc1-cadc-4af8-b569-33b54de79ba6",
   "metadata": {},
   "outputs": [
    {
     "data": {
      "text/plain": [
       "'홍길동'"
      ]
     },
     "execution_count": 17,
     "metadata": {},
     "output_type": "execute_result"
    }
   ],
   "source": [
    "student1.name"
   ]
  },
  {
   "cell_type": "code",
   "execution_count": 18,
   "id": "c34cc9b7-d87a-4758-ac89-6c47bd1c266f",
   "metadata": {},
   "outputs": [
    {
     "data": {
      "text/plain": [
       "17"
      ]
     },
     "execution_count": 18,
     "metadata": {},
     "output_type": "execute_result"
    }
   ],
   "source": [
    "student1.age"
   ]
  },
  {
   "cell_type": "code",
   "execution_count": 16,
   "id": "9b78c84f-edcd-4efd-abf4-e610570072bb",
   "metadata": {},
   "outputs": [
    {
     "name": "stdout",
     "output_type": "stream",
     "text": [
      "이름이 홍길동(이)고 나이가 17살인 학생이 공부를 한다.\n"
     ]
    }
   ],
   "source": [
    "student1.study()"
   ]
  },
  {
   "cell_type": "code",
   "execution_count": null,
   "id": "2f4f463e-9fe1-49f8-9861-985b8fadce5d",
   "metadata": {},
   "outputs": [],
   "source": []
  }
 ],
 "metadata": {
  "kernelspec": {
   "display_name": "Python 3 (ipykernel)",
   "language": "python",
   "name": "python3"
  },
  "language_info": {
   "codemirror_mode": {
    "name": "ipython",
    "version": 3
   },
   "file_extension": ".py",
   "mimetype": "text/x-python",
   "name": "python",
   "nbconvert_exporter": "python",
   "pygments_lexer": "ipython3",
   "version": "3.12.4"
  }
 },
 "nbformat": 4,
 "nbformat_minor": 5
}
