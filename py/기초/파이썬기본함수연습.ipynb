{
 "cells": [
  {
   "cell_type": "code",
   "execution_count": 1,
   "id": "10860778-afdc-41f7-8523-ae3f1482c816",
   "metadata": {},
   "outputs": [
    {
     "data": {
      "text/plain": [
       "1"
      ]
     },
     "execution_count": 1,
     "metadata": {},
     "output_type": "execute_result"
    }
   ],
   "source": [
    "min([50,1,100,300,2,7,55])"
   ]
  },
  {
   "cell_type": "code",
   "execution_count": 2,
   "id": "8a510780-42da-4fa0-942a-2f424aae4b5d",
   "metadata": {},
   "outputs": [
    {
     "data": {
      "text/plain": [
       "300"
      ]
     },
     "execution_count": 2,
     "metadata": {},
     "output_type": "execute_result"
    }
   ],
   "source": [
    "max([50,1,100,300,2,7,55])"
   ]
  },
  {
   "cell_type": "code",
   "execution_count": 3,
   "id": "b9b2ae86-6459-4ddd-a873-1e3ccf7e5258",
   "metadata": {},
   "outputs": [
    {
     "data": {
      "text/plain": [
       "14"
      ]
     },
     "execution_count": 3,
     "metadata": {},
     "output_type": "execute_result"
    }
   ],
   "source": [
    "sum([3,4,7])"
   ]
  },
  {
   "cell_type": "code",
   "execution_count": 4,
   "id": "10cc51c3-e54c-435f-a327-c12833c8933b",
   "metadata": {},
   "outputs": [
    {
     "data": {
      "text/plain": [
       "[1, 2, 7, 50, 55, 100, 300]"
      ]
     },
     "execution_count": 4,
     "metadata": {},
     "output_type": "execute_result"
    }
   ],
   "source": [
    "sorted([50,1,100,300,2,7,55])"
   ]
  },
  {
   "cell_type": "code",
   "execution_count": 6,
   "id": "3fd8f410-8e2d-4b38-b6ee-7ee7ac0c3109",
   "metadata": {},
   "outputs": [],
   "source": [
    "li1=[50,1,100,300,2,7,55]"
   ]
  },
  {
   "cell_type": "code",
   "execution_count": 7,
   "id": "e310df38-be43-4e40-9c7a-b5b93e77b089",
   "metadata": {},
   "outputs": [
    {
     "data": {
      "text/plain": [
       "list"
      ]
     },
     "execution_count": 7,
     "metadata": {},
     "output_type": "execute_result"
    }
   ],
   "source": [
    "type(li1)"
   ]
  },
  {
   "cell_type": "code",
   "execution_count": 8,
   "id": "b4dc392b-c179-44cd-82ac-91724c1ca643",
   "metadata": {},
   "outputs": [
    {
     "data": {
      "text/plain": [
       "[50, 1, 100, 300, 2, 7, 55]"
      ]
     },
     "execution_count": 8,
     "metadata": {},
     "output_type": "execute_result"
    }
   ],
   "source": [
    "li1"
   ]
  },
  {
   "cell_type": "code",
   "execution_count": 13,
   "id": "d33c2365-0b5f-45b4-930b-b10d2090cf85",
   "metadata": {},
   "outputs": [
    {
     "data": {
      "text/plain": [
       "[55, 7, 2, 300, 100, 1, 50]"
      ]
     },
     "execution_count": 13,
     "metadata": {},
     "output_type": "execute_result"
    }
   ],
   "source": [
    "list(reversed(li1))"
   ]
  },
  {
   "cell_type": "code",
   "execution_count": 14,
   "id": "061463ae-9f5e-4606-a53a-5227c6223916",
   "metadata": {},
   "outputs": [
    {
     "data": {
      "text/plain": [
       "[5, 4, 3, 2, 1]"
      ]
     },
     "execution_count": 14,
     "metadata": {},
     "output_type": "execute_result"
    }
   ],
   "source": [
    "list(reversed([1,2,3,4,5]))"
   ]
  },
  {
   "cell_type": "code",
   "execution_count": 16,
   "id": "b3870ba4-6b04-454f-8da0-5323db2460ba",
   "metadata": {},
   "outputs": [],
   "source": [
    "li2=list(reversed([1,2,3,4,5]))"
   ]
  },
  {
   "cell_type": "code",
   "execution_count": 17,
   "id": "1cd77526-39b9-470e-8afc-3a52d689528d",
   "metadata": {},
   "outputs": [
    {
     "name": "stdout",
     "output_type": "stream",
     "text": [
      "5\n",
      "4\n",
      "3\n",
      "2\n",
      "1\n"
     ]
    }
   ],
   "source": [
    "for i in li2:\n",
    "    print(i)"
   ]
  },
  {
   "cell_type": "code",
   "execution_count": null,
   "id": "1883870a-4c51-4af1-b8b8-7b941c2894f2",
   "metadata": {},
   "outputs": [],
   "source": [
    "# enumerate 열거하다, 열거하면 순서(index) 개념이 생김"
   ]
  },
  {
   "cell_type": "code",
   "execution_count": 18,
   "id": "2703e42e-b868-4726-852a-d218c5781e4f",
   "metadata": {},
   "outputs": [
    {
     "data": {
      "text/plain": [
       "<enumerate at 0x20080ee1120>"
      ]
     },
     "execution_count": 18,
     "metadata": {},
     "output_type": "execute_result"
    }
   ],
   "source": [
    "enumerate([\"apple\",\"banana\",\"candy\"])"
   ]
  },
  {
   "cell_type": "code",
   "execution_count": 19,
   "id": "83e5418d-69a7-4ed2-b5b7-49c58aa39350",
   "metadata": {},
   "outputs": [
    {
     "data": {
      "text/plain": [
       "[(0, 'apple'), (1, 'banana'), (2, 'candy')]"
      ]
     },
     "execution_count": 19,
     "metadata": {},
     "output_type": "execute_result"
    }
   ],
   "source": [
    "list(enumerate([\"apple\",\"banana\",\"candy\"]))"
   ]
  },
  {
   "cell_type": "code",
   "execution_count": 20,
   "id": "d54dace1-1069-474e-9d78-b39e14bcf0ce",
   "metadata": {},
   "outputs": [
    {
     "data": {
      "text/plain": [
       "enumerate"
      ]
     },
     "execution_count": 20,
     "metadata": {},
     "output_type": "execute_result"
    }
   ],
   "source": [
    "type(enumerate([\"apple\",\"banana\",\"candy\"]))"
   ]
  },
  {
   "cell_type": "code",
   "execution_count": 21,
   "id": "ac17cbbc-ec4a-4c1a-a5fe-30d7dc70dd7c",
   "metadata": {},
   "outputs": [
    {
     "name": "stdout",
     "output_type": "stream",
     "text": [
      "(0, 'apple')\n",
      "(1, 'banana')\n",
      "(2, 'candy')\n"
     ]
    }
   ],
   "source": [
    "for i in enumerate([\"apple\",\"banana\",\"candy\"]):\n",
    "    print(i)"
   ]
  },
  {
   "cell_type": "code",
   "execution_count": 22,
   "id": "31e2fd07-5007-426b-b189-f4cb32ca3351",
   "metadata": {},
   "outputs": [
    {
     "name": "stdout",
     "output_type": "stream",
     "text": [
      "0 apple\n",
      "1 banana\n",
      "2 candy\n"
     ]
    }
   ],
   "source": [
    "for index, value in enumerate([\"apple\",\"banana\",\"candy\"]):\n",
    "    print(index, value)"
   ]
  },
  {
   "cell_type": "code",
   "execution_count": 23,
   "id": "c6b433bf-32dc-43a7-a8a2-cb7f8613d30c",
   "metadata": {},
   "outputs": [
    {
     "name": "stdout",
     "output_type": "stream",
     "text": [
      "0번째 값이 apple(이)다.\n",
      "1번째 값이 banana(이)다.\n",
      "2번째 값이 candy(이)다.\n"
     ]
    }
   ],
   "source": [
    "for index, value in enumerate([\"apple\",\"banana\",\"candy\"]):\n",
    "    print(f\"{index}번째 값이 {value}(이)다.\")"
   ]
  },
  {
   "cell_type": "code",
   "execution_count": null,
   "id": "d1189146-63d7-4c5d-aa96-24295179df36",
   "metadata": {},
   "outputs": [],
   "source": []
  }
 ],
 "metadata": {
  "kernelspec": {
   "display_name": "Python 3 (ipykernel)",
   "language": "python",
   "name": "python3"
  },
  "language_info": {
   "codemirror_mode": {
    "name": "ipython",
    "version": 3
   },
   "file_extension": ".py",
   "mimetype": "text/x-python",
   "name": "python",
   "nbconvert_exporter": "python",
   "pygments_lexer": "ipython3",
   "version": "3.12.4"
  }
 },
 "nbformat": 4,
 "nbformat_minor": 5
}
