{
 "cells": [
  {
   "cell_type": "code",
   "execution_count": 3,
   "metadata": {},
   "outputs": [],
   "source": [
    "import numpy as np\n",
    "from matplotlib import font_manager, rc"
   ]
  },
  {
   "cell_type": "code",
   "execution_count": 5,
   "metadata": {},
   "outputs": [],
   "source": [
    "import matplotlib.pyplot as plt\n",
    "import matplotlib.font_manager as fm"
   ]
  },
  {
   "cell_type": "code",
   "execution_count": 6,
   "metadata": {},
   "outputs": [],
   "source": [
    "x=np.array(['1사분기','2사분기','3사분기','4사분기'])\n",
    "y=np.array([234, 254.7, 144.6, 317.6])"
   ]
  },
  {
   "cell_type": "code",
   "execution_count": 8,
   "metadata": {},
   "outputs": [
    {
     "data": {
      "image/png": "[encoded data removed]",
      "text/plain": [
       "<Figure size 640x480 with 1 Axes>"
      ]
     },
     "metadata": {},
     "output_type": "display_data"
    }
   ],
   "source": [
    "plt.rcParams['font.family'] = 'Malgun Gothic'\n",
    "plt.bar(x, y)\n",
    "plt.show()"
   ]
  },
  {
   "cell_type": "code",
   "execution_count": 5,
   "metadata": {},
   "outputs": [],
   "source": [
    "import numpy as np\n",
    "import matplotlib.pyplot as plt"
   ]
  },
  {
   "cell_type": "code",
   "execution_count": 6,
   "metadata": {},
   "outputs": [],
   "source": [
    "x = np.linspace(0,10,100)\n",
    "y = np.sin(x)\n",
    "z = np.cos(x)"
   ]
  },
  {
   "cell_type": "code",
   "execution_count": 7,
   "metadata": {},
   "outputs": [
    {
     "data": {
      "text/plain": [
       "<Figure size 640x480 with 0 Axes>"
      ]
     },
     "metadata": {},
     "output_type": "display_data"
    }
   ],
   "source": [
    "fig0=plt.figure()"
   ]
  },
  {
   "cell_type": "code",
   "execution_count": 9,
   "metadata": {},
   "outputs": [
    {
     "name": "stdout",
     "output_type": "stream",
     "text": [
      "Help on method add_axes in module matplotlib.figure:\n",
      "\n",
      "add_axes(*args, **kwargs) method of matplotlib.figure.Figure instance\n",
      "    Add an `~.axes.Axes` to the figure.\n",
      "\n",
      "    Call signatures::\n",
      "\n",
      "        add_axes(rect, projection=None, polar=False, **kwargs)\n",
      "        add_axes(ax)\n",
      "\n",
      "    Parameters\n",
      "    ----------\n",
      "    rect : tuple (left, bottom, width, height)\n",
      "        The dimensions (left, bottom, width, height) of the new\n",
      "        `~.axes.Axes`. All quantities are in fractions of figure width and\n",
      "        height.\n",
      "\n",
      "    projection : {None, 'aitoff', 'hammer', 'lambert', 'mollweide', 'polar', 'rectilinear', str}, optional\n",
      "        The projection type of the `~.axes.Axes`. *str* is the name of\n",
      "        a custom projection, see `~matplotlib.projections`. The default\n",
      "        None results in a 'rectilinear' projection.\n",
      "\n",
      "    polar : bool, default: False\n",
      "        If True, equivalent to projection='polar'.\n",
      "\n",
      "    axes_class : subclass type of `~.axes.Axes`, optional\n",
      "        The `.axes.Axes` subclass that is instantiated.  This parameter\n",
      "        is incompatible with *projection* and *polar*.  See\n",
      "        :ref:`axisartist_users-guide-index` for examples.\n",
      "\n",
      "    sharex, sharey : `~matplotlib.axes.Axes`, optional\n",
      "        Share the x or y `~matplotlib.axis` with sharex and/or sharey.\n",
      "        The axis will have the same limits, ticks, and scale as the axis\n",
      "        of the shared axes.\n",
      "\n",
      "    label : str\n",
      "        A label for the returned Axes.\n",
      "\n",
      "    Returns\n",
      "    -------\n",
      "    `~.axes.Axes`, or a subclass of `~.axes.Axes`\n",
      "        The returned axes class depends on the projection used. It is\n",
      "        `~.axes.Axes` if rectilinear projection is used and\n",
      "        `.projections.polar.PolarAxes` if polar projection is used.\n",
      "\n",
      "    Other Parameters\n",
      "    ----------------\n",
      "    **kwargs\n",
      "        This method also takes the keyword arguments for\n",
      "        the returned Axes class. The keyword arguments for the\n",
      "        rectilinear Axes class `~.axes.Axes` can be found in\n",
      "        the following table but there might also be other keyword\n",
      "        arguments if another projection is used, see the actual Axes\n",
      "        class.\n",
      "\n",
      "        Properties:\n",
      "        adjustable: {'box', 'datalim'}\n",
      "        agg_filter: a filter function, which takes a (m, n, 3) float array and a dpi value, and returns a (m, n, 3) array and two offsets from the bottom left corner of the image\n",
      "        alpha: scalar or None\n",
      "        anchor: (float, float) or {'C', 'SW', 'S', 'SE', 'E', 'NE', ...}\n",
      "        animated: bool\n",
      "        aspect: {'auto', 'equal'} or float\n",
      "        autoscale_on: bool\n",
      "        autoscalex_on: unknown\n",
      "        autoscaley_on: unknown\n",
      "        axes_locator: Callable[[Axes, Renderer], Bbox]\n",
      "        axisbelow: bool or 'line'\n",
      "        box_aspect: float or None\n",
      "        clip_box: `~matplotlib.transforms.BboxBase` or None\n",
      "        clip_on: bool\n",
      "        clip_path: Patch or (Path, Transform) or None\n",
      "        facecolor or fc: color\n",
      "        figure: `~matplotlib.figure.Figure`\n",
      "        frame_on: bool\n",
      "        gid: str\n",
      "        in_layout: bool\n",
      "        label: object\n",
      "        mouseover: bool\n",
      "        navigate: bool\n",
      "        navigate_mode: unknown\n",
      "        path_effects: list of `.AbstractPathEffect`\n",
      "        picker: None or bool or float or callable\n",
      "        position: [left, bottom, width, height] or `~matplotlib.transforms.Bbox`\n",
      "        prop_cycle: `~cycler.Cycler`\n",
      "        rasterization_zorder: float or None\n",
      "        rasterized: bool\n",
      "        sketch_params: (scale: float, length: float, randomness: float)\n",
      "        snap: bool or None\n",
      "        subplotspec: unknown\n",
      "        title: str\n",
      "        transform: `~matplotlib.transforms.Transform`\n",
      "        url: str\n",
      "        visible: bool\n",
      "        xbound: (lower: float, upper: float)\n",
      "        xlabel: str\n",
      "        xlim: (left: float, right: float)\n",
      "        xmargin: float greater than -0.5\n",
      "        xscale: unknown\n",
      "        xticklabels: unknown\n",
      "        xticks: unknown\n",
      "        ybound: (lower: float, upper: float)\n",
      "        ylabel: str\n",
      "        ylim: (bottom: float, top: float)\n",
      "        ymargin: float greater than -0.5\n",
      "        yscale: unknown\n",
      "        yticklabels: unknown\n",
      "        yticks: unknown\n",
      "        zorder: float\n",
      "\n",
      "    Notes\n",
      "    -----\n",
      "    In rare circumstances, `.add_axes` may be called with a single\n",
      "    argument, an Axes instance already created in the present figure but\n",
      "    not in the figure's list of Axes.\n",
      "\n",
      "    See Also\n",
      "    --------\n",
      "    .Figure.add_subplot\n",
      "    .pyplot.subplot\n",
      "    .pyplot.axes\n",
      "    .Figure.subplots\n",
      "    .pyplot.subplots\n",
      "\n",
      "    Examples\n",
      "    --------\n",
      "    Some simple examples::\n",
      "\n",
      "        rect = l, b, w, h\n",
      "        fig = plt.figure()\n",
      "        fig.add_axes(rect)\n",
      "        fig.add_axes(rect, frameon=False, facecolor='g')\n",
      "        fig.add_axes(rect, polar=True)\n",
      "        ax = fig.add_axes(rect, projection='polar')\n",
      "        fig.delaxes(ax)\n",
      "        fig.add_axes(ax)\n",
      "\n"
     ]
    }
   ],
   "source": [
    "help(fig0.add_axes)"
   ]
  },
  {
   "cell_type": "code",
   "execution_count": 10,
   "metadata": {},
   "outputs": [],
   "source": [
    "axes0 = fig0.add_axes([0,0,1,1])"
   ]
  },
  {
   "cell_type": "code",
   "execution_count": 13,
   "metadata": {},
   "outputs": [
    {
     "data": {
      "image/png": "[encoded data removed]",
      "text/plain": [
       "<Figure size 640x480 with 1 Axes>"
      ]
     },
     "metadata": {},
     "output_type": "display_data"
    }
   ],
   "source": [
    "x = np.linspace(0,10,100)\n",
    "y = np.sin(x)\n",
    "z = np.cos(x)\n",
    "fig0=plt.figure()\n",
    "axes0 = fig0.add_axes([0,0,1,1])\n",
    "axes0.plot(x,y)\n",
    "plt.show()"
   ]
  },
  {
   "cell_type": "code",
   "execution_count": null,
   "metadata": {},
   "outputs": [],
   "source": []
  }
 ],
 "metadata": {
  "kernelspec": {
   "display_name": "base",
   "language": "python",
   "name": "python3"
  },
  "language_info": {
   "codemirror_mode": {
    "name": "ipython",
    "version": 3
   },
   "file_extension": ".py",
   "mimetype": "text/x-python",
   "name": "python",
   "nbconvert_exporter": "python",
   "pygments_lexer": "ipython3",
   "version": "3.12.4"
  }
 },
 "nbformat": 4,
 "nbformat_minor": 2
}
