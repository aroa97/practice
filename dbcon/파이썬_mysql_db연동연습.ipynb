{
 "cells": [
  {
   "cell_type": "code",
   "execution_count": 2,
   "metadata": {},
   "outputs": [
    {
     "name": "stdout",
     "output_type": "stream",
     "text": [
      "Collecting mysql-connector-python\n",
      "  Downloading mysql_connector_python-9.0.0-cp39-cp39-win_amd64.whl.metadata (2.0 kB)\n",
      "Downloading mysql_connector_python-9.0.0-cp39-cp39-win_amd64.whl (14.3 MB)\n",
      "   ---------------------------------------- 0.0/14.3 MB ? eta -:--:--\n",
      "   -------------------- ------------------- 7.3/14.3 MB 64.3 MB/s eta 0:00:01\n",
      "   ----------------------------------- ---- 12.6/14.3 MB 31.5 MB/s eta 0:00:01\n",
      "   ---------------------------------------- 14.3/14.3 MB 29.0 MB/s eta 0:00:00\n",
      "Installing collected packages: mysql-connector-python\n",
      "Successfully installed mysql-connector-python-9.0.0\n"
     ]
    }
   ],
   "source": [
    "!pip install mysql-connector-python"
   ]
  },
  {
   "cell_type": "code",
   "execution_count": 4,
   "metadata": {},
   "outputs": [],
   "source": [
    "import mysql.connector"
   ]
  },
  {
   "cell_type": "code",
   "execution_count": 6,
   "metadata": {},
   "outputs": [
    {
     "name": "stdout",
     "output_type": "stream",
     "text": [
      "Help on function connect in module mysql.connector.pooling:\n",
      "\n",
      "connect(*args: 'Any', **kwargs: 'Any') -> 'Union[PooledMySQLConnection, MySQLConnectionAbstract]'\n",
      "    Creates or gets a MySQL connection object.\n",
      "    \n",
      "    In its simpliest form, `connect()` will open a connection to a\n",
      "    MySQL server and return a `MySQLConnectionAbstract` subclass\n",
      "    object such as `MySQLConnection` or `CMySQLConnection`.\n",
      "    \n",
      "    When any connection pooling arguments are given, for example `pool_name`\n",
      "    or `pool_size`, a pool is created or a previously one is used to return\n",
      "    a `PooledMySQLConnection`.\n",
      "    \n",
      "    Args:\n",
      "        *args: N/A.\n",
      "        **kwargs: For a complete list of possible arguments, see [1]. If no arguments\n",
      "                  are given, it uses the already configured or default values.\n",
      "    \n",
      "    Returns:\n",
      "        A `MySQLConnectionAbstract` subclass instance (such as `MySQLConnection` or\n",
      "        `CMySQLConnection`) or a `PooledMySQLConnection` instance.\n",
      "    \n",
      "    Examples:\n",
      "        A connection with the MySQL server can be established using either the\n",
      "        `mysql.connector.connect()` method or a `MySQLConnectionAbstract` subclass:\n",
      "        ```\n",
      "        >>> from mysql.connector import MySQLConnection, HAVE_CEXT\n",
      "        >>>\n",
      "        >>> cnx1 = mysql.connector.connect(user='joe', database='test')\n",
      "        >>> cnx2 = MySQLConnection(user='joe', database='test')\n",
      "        >>>\n",
      "        >>> cnx3 = None\n",
      "        >>> if HAVE_CEXT:\n",
      "        >>>     from mysql.connector import CMySQLConnection\n",
      "        >>>     cnx3 = CMySQLConnection(user='joe', database='test')\n",
      "        ```\n",
      "    \n",
      "    References:\n",
      "        [1]: https://dev.mysql.com/doc/connector-python/en/connector-python-connectargs.html\n",
      "\n"
     ]
    }
   ],
   "source": [
    "help(mysql.connector.connect)"
   ]
  },
  {
   "cell_type": "code",
   "execution_count": 14,
   "metadata": {},
   "outputs": [],
   "source": [
    "db_conn=mysql.connector.connect(host='localhost', user='root', password='12341234', database='mysql')"
   ]
  },
  {
   "cell_type": "code",
   "execution_count": 15,
   "metadata": {},
   "outputs": [],
   "source": [
    "cursor = db_conn.cursor()"
   ]
  },
  {
   "cell_type": "code",
   "execution_count": 16,
   "metadata": {},
   "outputs": [],
   "source": [
    "cursor.execute('select * from test1')"
   ]
  },
  {
   "cell_type": "code",
   "execution_count": 10,
   "metadata": {},
   "outputs": [
    {
     "data": {
      "text/plain": [
       "[(1, 'hong')]"
      ]
     },
     "execution_count": 10,
     "metadata": {},
     "output_type": "execute_result"
    }
   ],
   "source": [
    "cursor.fetchall()"
   ]
  },
  {
   "cell_type": "code",
   "execution_count": 11,
   "metadata": {},
   "outputs": [],
   "source": [
    "cursor.execute('select * from test1')"
   ]
  },
  {
   "cell_type": "code",
   "execution_count": 12,
   "metadata": {},
   "outputs": [
    {
     "data": {
      "text/plain": [
       "[(1, 'hong')]"
      ]
     },
     "execution_count": 12,
     "metadata": {},
     "output_type": "execute_result"
    }
   ],
   "source": [
    "cursor.fetchall()"
   ]
  },
  {
   "cell_type": "code",
   "execution_count": 17,
   "metadata": {},
   "outputs": [
    {
     "name": "stdout",
     "output_type": "stream",
     "text": [
      "(1, 'hong')\n",
      "(2, 'kim')\n"
     ]
    }
   ],
   "source": [
    "result = cursor.fetchall()\n",
    "for i in result:\n",
    "    print(i)"
   ]
  },
  {
   "cell_type": "code",
   "execution_count": null,
   "metadata": {},
   "outputs": [],
   "source": []
  }
 ],
 "metadata": {
  "kernelspec": {
   "display_name": "dbcon",
   "language": "python",
   "name": "python3"
  },
  "language_info": {
   "codemirror_mode": {
    "name": "ipython",
    "version": 3
   },
   "file_extension": ".py",
   "mimetype": "text/x-python",
   "name": "python",
   "nbconvert_exporter": "python",
   "pygments_lexer": "ipython3",
   "version": "3.9.19"
  }
 },
 "nbformat": 4,
 "nbformat_minor": 2
}
